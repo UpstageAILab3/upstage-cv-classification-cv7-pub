{
 "cells": [
  {
   "cell_type": "markdown",
   "metadata": {},
   "source": [
    "# EfficientNet\n",
    "- 데이터를 불러올 때 augraphy 수행"
   ]
  },
  {
   "cell_type": "code",
   "execution_count": 1,
   "metadata": {},
   "outputs": [],
   "source": [
    "import pandas as pd\n",
    "import numpy as np\n",
    "import os\n",
    "import time\n",
    "import random\n",
    "from PIL import Image\n",
    "from tqdm.notebook import tqdm\n",
    "import matplotlib.pyplot as plt\n",
    "\n",
    "import timm\n",
    "import torch\n",
    "import albumentations as A\n",
    "import torch.nn as nn\n",
    "from albumentations.pytorch import ToTensorV2\n",
    "from torch.optim import Adam\n",
    "from torchvision import transforms\n",
    "import torchvision.transforms as T\n",
    "from torch.utils.data import Dataset, DataLoader\n",
    "from albumentations.core.transforms_interface import ImageOnlyTransform\n",
    "from augraphy import *\n",
    "\n",
    "from sklearn.metrics import accuracy_score, f1_score\n",
    "\n",
    "import wandb"
   ]
  },
  {
   "cell_type": "code",
   "execution_count": 2,
   "metadata": {},
   "outputs": [
    {
     "name": "stderr",
     "output_type": "stream",
     "text": [
      "Failed to detect the name of this notebook, you can set it manually with the WANDB_NOTEBOOK_NAME environment variable to enable code saving.\n",
      "\u001b[34m\u001b[1mwandb\u001b[0m: Currently logged in as: \u001b[33mgreedjar74\u001b[0m (\u001b[33mgreedjar7498\u001b[0m). Use \u001b[1m`wandb login --relogin`\u001b[0m to force relogin\n"
     ]
    },
    {
     "data": {
      "text/html": [
       "wandb version 0.17.6 is available!  To upgrade, please run:\n",
       " $ pip install wandb --upgrade"
      ],
      "text/plain": [
       "<IPython.core.display.HTML object>"
      ]
     },
     "metadata": {},
     "output_type": "display_data"
    },
    {
     "data": {
      "text/html": [
       "Tracking run with wandb version 0.17.5"
      ],
      "text/plain": [
       "<IPython.core.display.HTML object>"
      ]
     },
     "metadata": {},
     "output_type": "display_data"
    },
    {
     "data": {
      "text/html": [
       "Run data is saved locally in <code>/data/ephemeral/home/model/model maker/wandb/run-20240808_120452-bi4hl22j</code>"
      ],
      "text/plain": [
       "<IPython.core.display.HTML object>"
      ]
     },
     "metadata": {},
     "output_type": "display_data"
    },
    {
     "data": {
      "text/html": [
       "Syncing run <strong><a href='https://wandb.ai/greedjar7498/CV_contest_V13/runs/bi4hl22j' target=\"_blank\">training</a></strong> to <a href='https://wandb.ai/greedjar7498/CV_contest_V13' target=\"_blank\">Weights & Biases</a> (<a href='https://wandb.me/run' target=\"_blank\">docs</a>)<br/>"
      ],
      "text/plain": [
       "<IPython.core.display.HTML object>"
      ]
     },
     "metadata": {},
     "output_type": "display_data"
    },
    {
     "data": {
      "text/html": [
       " View project at <a href='https://wandb.ai/greedjar7498/CV_contest_V13' target=\"_blank\">https://wandb.ai/greedjar7498/CV_contest_V13</a>"
      ],
      "text/plain": [
       "<IPython.core.display.HTML object>"
      ]
     },
     "metadata": {},
     "output_type": "display_data"
    },
    {
     "data": {
      "text/html": [
       " View run at <a href='https://wandb.ai/greedjar7498/CV_contest_V13/runs/bi4hl22j' target=\"_blank\">https://wandb.ai/greedjar7498/CV_contest_V13/runs/bi4hl22j</a>"
      ],
      "text/plain": [
       "<IPython.core.display.HTML object>"
      ]
     },
     "metadata": {},
     "output_type": "display_data"
    }
   ],
   "source": [
    "wandb.login(key='')\n",
    "run = wandb.init(project='CV_contest_V13', name='training')"
   ]
  },
  {
   "cell_type": "code",
   "execution_count": 2,
   "metadata": {},
   "outputs": [],
   "source": [
    "# 시드를 고정합니다.\n",
    "SEED = 42\n",
    "os.environ['PYTHONHASHSEED'] = str(SEED)\n",
    "random.seed(SEED)\n",
    "np.random.seed(SEED)\n",
    "torch.manual_seed(SEED)\n",
    "torch.cuda.manual_seed(SEED)\n",
    "torch.cuda.manual_seed_all(SEED)\n",
    "torch.backends.cudnn.benchmark = True"
   ]
  },
  {
   "cell_type": "code",
   "execution_count": 3,
   "metadata": {},
   "outputs": [],
   "source": [
    "device = torch.device('cuda' if torch.cuda.is_available() else 'cpu')"
   ]
  },
  {
   "cell_type": "code",
   "execution_count": 4,
   "metadata": {},
   "outputs": [
    {
     "data": {
      "text/plain": [
       "device(type='cuda')"
      ]
     },
     "execution_count": 4,
     "metadata": {},
     "output_type": "execute_result"
    }
   ],
   "source": [
    "device"
   ]
  },
  {
   "cell_type": "markdown",
   "metadata": {},
   "source": [
    "# CustomDataset"
   ]
  },
  {
   "cell_type": "code",
   "execution_count": 12,
   "metadata": {},
   "outputs": [],
   "source": [
    "class customdataset(torch.utils.data.Dataset):\n",
    "    def __init__(self, csv, path, transforms, pipeline):\n",
    "        super().__init__()\n",
    "        self.df = pd.read_csv(csv).values\n",
    "        self.path = path\n",
    "        self.transforms = transforms\n",
    "        self.pipeline = pipeline\n",
    "\n",
    "    def __len__(self):\n",
    "        return len(self.df)\n",
    "    \n",
    "    def __getitem__(self, idx):\n",
    "        name, target = self.df[idx]\n",
    "        img = np.array(Image.open(os.path.join(self.path, name)))\n",
    "        img = self.pipeline(img)\n",
    "        img = self.transforms(img)\n",
    "    \n",
    "        return img, target"
   ]
  },
  {
   "cell_type": "code",
   "execution_count": 13,
   "metadata": {},
   "outputs": [],
   "source": [
    "class RandomPadding:\n",
    "    def __init__(self, padding_range=(0, 50), fill=0):\n",
    "        self.padding_range = padding_range\n",
    "        self.fill = fill\n",
    "\n",
    "    def __call__(self, image):\n",
    "        # 각 방향에 대해 랜덤한 패딩 값 생성\n",
    "        pad_top = random.randint(*self.padding_range)\n",
    "        pad_bottom = random.randint(*self.padding_range)\n",
    "        pad_left = random.randint(*self.padding_range)\n",
    "        pad_right = random.randint(*self.padding_range)\n",
    "        \n",
    "        # 패딩 추가\n",
    "        padding = (pad_left, pad_top, pad_right, pad_bottom)\n",
    "        return T.functional.pad(image, padding, fill=self.fill)"
   ]
  },
  {
   "cell_type": "code",
   "execution_count": 25,
   "metadata": {},
   "outputs": [],
   "source": [
    "augmentations = [\n",
    "    NoiseTexturize(sigma_range=(6, 10),\n",
    "                  turbulence_range=(5, 10),\n",
    "                  texture_width_range=(50, 500),\n",
    "                  texture_height_range=(50, 500)),\n",
    "    BrightnessTexturize(texturize_range=(0.9, 0.99), deviation=0.2),\n",
    "    ReflectedLight(reflected_light_smoothness = 0.8,\n",
    "                   reflected_light_internal_radius_range=(0.0, 0.2),\n",
    "                   reflected_light_external_radius_range=(0.1, 0.8),\n",
    "                   reflected_light_minor_major_ratio_range = (0.9, 1.0),\n",
    "                   reflected_light_color = tuple(np.random.randint(0, 256, size=3)),\n",
    "                   reflected_light_internal_max_brightness_range=(0.9,1.0),\n",
    "                   reflected_light_external_max_brightness_range=(0.9,0.9),\n",
    "                   reflected_light_location = \"random\",\n",
    "                   reflected_light_ellipse_angle_range = (0, 360),\n",
    "                   reflected_light_gaussian_kernel_size_range = (5,10)),\n",
    "    Folding(fold_count=2,\n",
    "            fold_noise=0.0,\n",
    "            fold_angle_range = (-180,180),\n",
    "            gradient_width=(0.01, 0.05),\n",
    "            gradient_height=(0.01, 0.05),\n",
    "            backdrop_color = (0,0,0))\n",
    "]\n",
    "\n",
    "aug_transforms = T.Compose([\n",
    "    T.ToTensor(),\n",
    "    T.RandomRotation(180),\n",
    "    T.RandomHorizontalFlip(p=0.5),\n",
    "    T.RandomVerticalFlip(p=0.5),\n",
    "    RandomPadding(padding_range=(10, 20), fill=50),  # 랜덤 패딩 추가\n",
    "    T.RandomResizedCrop(size=(380,380), scale=(0.5, 1.0)),\n",
    "])\n",
    "\n",
    "simple_transforms = T.Compose([\n",
    "    T.ToTensor(),\n",
    "    T.RandomRotation(180),\n",
    "    T.RandomHorizontalFlip(p=0.5),\n",
    "    T.RandomVerticalFlip(p=0.5),\n",
    "    T.Resize((380, 380))\n",
    "])\n",
    "\n",
    "origin_transforms = T.Compose([\n",
    "    T.ToTensor(),\n",
    "    T.Resize((380, 380))\n",
    "    ])\n",
    "\n",
    "pipeline = AugraphyPipeline(augmentations)\n",
    "pipeline2 = AugraphyPipeline()\n",
    "\n",
    "aug_dataset_1 = customdataset('/data/ephemeral/home/data/train.csv', '/data/ephemeral/home/data/train/', transforms=aug_transforms, pipeline=pipeline)\n",
    "\n",
    "simple_aug_dataset_1 = customdataset('/data/ephemeral/home/data/train.csv', '/data/ephemeral/home/data/train/', transforms=simple_transforms, pipeline=pipeline2)\n",
    "\n",
    "origin_dataset_1 = customdataset('/data/ephemeral/home/data/train.csv', '/data/ephemeral/home/data/train/', transforms=origin_transforms, pipeline=pipeline2)"
   ]
  },
  {
   "cell_type": "code",
   "execution_count": 26,
   "metadata": {},
   "outputs": [],
   "source": [
    "train_dataset = torch.utils.data.ConcatDataset([aug_dataset_1,\n",
    "\n",
    "                                                simple_aug_dataset_1, \n",
    "\n",
    "                                                origin_dataset_1])"
   ]
  },
  {
   "cell_type": "code",
   "execution_count": 34,
   "metadata": {},
   "outputs": [
    {
     "name": "stderr",
     "output_type": "stream",
     "text": [
      "Clipping input data to the valid range for imshow with RGB data ([0..1] for floats or [0..255] for integers). Got range [0.0..50.0].\n"
     ]
    },
    {
     "data": {
      "image/png": "[encoded data removed]",
      "text/plain": [
       "<Figure size 300x300 with 1 Axes>"
      ]
     },
     "metadata": {},
     "output_type": "display_data"
    }
   ],
   "source": [
    "plt.figure(figsize=(3, 3))\n",
    "plt.imshow(train_dataset[10][0].permute(1, 2, 0))\n",
    "plt.show()"
   ]
  },
  {
   "cell_type": "code",
   "execution_count": 36,
   "metadata": {},
   "outputs": [],
   "source": [
    "valid_transforms = T.Compose([\n",
    "    T.ToTensor(),\n",
    "    T.Resize((380, 380))\n",
    "])\n",
    "\n",
    "valid_dataset = customdataset('/data/ephemeral/home/preds/calibrated_preds.csv', '/data/ephemeral/home/data/test/', transforms=valid_transforms, pipeline=pipeline2) # valid dataset"
   ]
  },
  {
   "cell_type": "code",
   "execution_count": 37,
   "metadata": {},
   "outputs": [
    {
     "data": {
      "text/plain": [
       "3140"
      ]
     },
     "execution_count": 37,
     "metadata": {},
     "output_type": "execute_result"
    }
   ],
   "source": [
    "len(valid_dataset)"
   ]
  },
  {
   "cell_type": "code",
   "execution_count": 38,
   "metadata": {},
   "outputs": [
    {
     "data": {
      "image/png": "[encoded data removed]",
      "text/plain": [
       "<Figure size 300x300 with 1 Axes>"
      ]
     },
     "metadata": {},
     "output_type": "display_data"
    }
   ],
   "source": [
    "plt.figure(figsize=(3, 3))\n",
    "plt.imshow(valid_dataset[0][0].permute(1, 2, 0))\n",
    "plt.title(valid_dataset[0][1])\n",
    "plt.show()"
   ]
  },
  {
   "cell_type": "code",
   "execution_count": 39,
   "metadata": {},
   "outputs": [
    {
     "name": "stdout",
     "output_type": "stream",
     "text": [
      "4710\n",
      "3140\n"
     ]
    }
   ],
   "source": [
    "print(len(train_dataset))\n",
    "print(len(valid_dataset))"
   ]
  },
  {
   "cell_type": "code",
   "execution_count": 40,
   "metadata": {},
   "outputs": [],
   "source": [
    "batch_size = 16\n",
    "\n",
    "train_dataloader = torch.utils.data.DataLoader(train_dataset, batch_size, shuffle=True, num_workers=8)\n",
    "valid_dataloader = torch.utils.data.DataLoader(valid_dataset, batch_size, shuffle=False, num_workers=8)"
   ]
  },
  {
   "cell_type": "markdown",
   "metadata": {},
   "source": [
    "# 학습"
   ]
  },
  {
   "cell_type": "code",
   "execution_count": 41,
   "metadata": {},
   "outputs": [],
   "source": [
    "def training(model, train_dataloader, train_dataset, criterion, optimizer, epoch, num_epochs):\n",
    "    model.train()\n",
    "    train_loss = 0.0\n",
    "    train_accuracy = 0\n",
    "\n",
    "    tbar = tqdm(train_dataloader)\n",
    "    for images, labels in tbar:\n",
    "        images, labels = images.to(device), labels.to(device)\n",
    "        outputs = model(images)\n",
    "        loss = criterion(outputs, labels)\n",
    "\n",
    "        optimizer.zero_grad()\n",
    "        loss.backward()\n",
    "        optimizer.step()\n",
    "\n",
    "        train_loss += loss.item()\n",
    "        max_prob, predicted = torch.max(outputs, 1)\n",
    "        train_accuracy += (predicted == labels).sum().item()\n",
    "\n",
    "        tbar.set_description(f'Epoch/Epochs [{epoch+1}/{num_epochs}], Train Loss: {loss.item():.4f}')\n",
    "\n",
    "    train_loss = train_loss / len(train_dataloader)\n",
    "    train_accuracy = train_accuracy / len(train_dataset)\n",
    "\n",
    "    return model, train_loss, train_accuracy\n",
    "\n",
    "def evalutaion(model, valid_dataloader, valid_accuracy, criterion, epoch, num_epochs):\n",
    "    model.eval()\n",
    "    valid_loss = 0.0\n",
    "    valid_accuracy = 0\n",
    "\n",
    "    with torch.no_grad():\n",
    "        tbar = tqdm(valid_dataloader)\n",
    "        for images, labels in tbar:\n",
    "            images, labels = images.to(device), labels.to(device)\n",
    "            outputs = model(images)\n",
    "            loss = criterion(outputs, labels)\n",
    "\n",
    "            valid_loss += loss.item()\n",
    "            max_prob, predicted = torch.max(outputs, 1)\n",
    "            valid_accuracy += (predicted == labels).sum().item()\n",
    "\n",
    "            tbar.set_description(f'Epoch/Epochs [{epoch+1}/{num_epochs}], Valid Loss: {loss.item():.4f}')\n",
    "\n",
    "    valid_loss = valid_loss / len(valid_dataloader)\n",
    "    valid_accuracy = valid_accuracy / len(valid_dataset)\n",
    "\n",
    "    return model, valid_loss, valid_accuracy\n",
    "\n",
    "def training_loop(model, train_dataloader, train_dataset, valid_dataloader, valid_dataset, criterion, optimizer, num_epochs):\n",
    "    best_valid_loss = float('inf')\n",
    "    early_stop_cnt = 0\n",
    "    valid_max_accuracy = -1\n",
    "\n",
    "    for epoch in range(num_epochs):\n",
    "        model, train_loss, train_accuracy = training(model, train_dataloader, train_dataset, criterion, optimizer, epoch, num_epochs)\n",
    "        model, valid_loss, valid_accuracy = evalutaion(model, valid_dataloader, valid_dataset, criterion, epoch, num_epochs)\n",
    "\n",
    "        monitoring_values = {'Train Loss': train_loss, 'Valid Loss': valid_loss, 'Train Accuracy': train_accuracy, 'Valid Accuracy': valid_accuracy}\n",
    "        run.log(monitoring_values, step=epoch)\n",
    "\n",
    "        if valid_accuracy > valid_max_accuracy:\n",
    "            valid_max_accuracy = valid_accuracy\n",
    "\n",
    "        if valid_loss < best_valid_loss:\n",
    "            torch.save(model.state_dict(), f\"/data/ephemeral/home/model/models/model_v13_best.pt\")\n",
    "            best_valid_loss = valid_loss\n",
    "            early_stop_cnt = 0\n",
    "\n",
    "        else :\n",
    "            early_stop_cnt += 1\n",
    "\n",
    "        print(f\"Epoch [{epoch + 1}/{num_epochs}], Train Loss: {train_loss:.4f}, Train Accuracy: {train_accuracy:.4f} Valid Loss: {valid_loss:.4f}, Valid Accuracy: {valid_accuracy:.4f}\")\n",
    "\n",
    "        if early_stop_cnt >= 50:\n",
    "            torch.save(model.state_dict(), f\"/data/ephemeral/home/model/models/model_v13_last.pt\")\n",
    "            print('Early Stopping')\n",
    "            break\n",
    "\n",
    "    return model"
   ]
  },
  {
   "cell_type": "code",
   "execution_count": 42,
   "metadata": {},
   "outputs": [],
   "source": [
    "model = timm.create_model(\n",
    "    'efficientnet_b4',\n",
    "    pretrained=True,\n",
    "    num_classes=17\n",
    ").to(device)\n",
    "\n",
    "criterion = torch.nn.CrossEntropyLoss()\n",
    "optimizer = torch.optim.Adam(model.parameters(), lr=0.001)"
   ]
  },
  {
   "cell_type": "code",
   "execution_count": 43,
   "metadata": {},
   "outputs": [
    {
     "data": {
      "application/vnd.jupyter.widget-view+json": {
       "model_id": "b89743f2d34f41408fa22fb91cd16f0d",
       "version_major": 2,
       "version_minor": 0
      },
      "text/plain": [
       "  0%|          | 0/295 [00:00<?, ?it/s]"
      ]
     },
     "metadata": {},
     "output_type": "display_data"
    },
    {
     "data": {
      "application/vnd.jupyter.widget-view+json": {
       "model_id": "4da7b039d53f488ba68bfb2ed4ed76ad",
       "version_major": 2,
       "version_minor": 0
      },
      "text/plain": [
       "  0%|          | 0/197 [00:00<?, ?it/s]"
      ]
     },
     "metadata": {},
     "output_type": "display_data"
    },
    {
     "name": "stdout",
     "output_type": "stream",
     "text": [
      "Epoch [1/500], Train Loss: 0.7034, Train Accuracy: 0.7618 Valid Loss: 0.5750, Valid Accuracy: 0.8006\n"
     ]
    },
    {
     "data": {
      "application/vnd.jupyter.widget-view+json": {
       "model_id": "d61a3da4b3e94d85849a7e33924cb310",
       "version_major": 2,
       "version_minor": 0
      },
      "text/plain": [
       "  0%|          | 0/295 [00:00<?, ?it/s]"
      ]
     },
     "metadata": {},
     "output_type": "display_data"
    },
    {
     "data": {
      "application/vnd.jupyter.widget-view+json": {
       "model_id": "d8a1b61c5e6442a28ed8750ba98bec83",
       "version_major": 2,
       "version_minor": 0
      },
      "text/plain": [
       "  0%|          | 0/197 [00:00<?, ?it/s]"
      ]
     },
     "metadata": {},
     "output_type": "display_data"
    },
    {
     "name": "stdout",
     "output_type": "stream",
     "text": [
      "Epoch [2/500], Train Loss: 0.3103, Train Accuracy: 0.8909 Valid Loss: 0.4545, Valid Accuracy: 0.8525\n"
     ]
    },
    {
     "data": {
      "application/vnd.jupyter.widget-view+json": {
       "model_id": "55fc7a4c98f34726b5c745c46bfc7e8b",
       "version_major": 2,
       "version_minor": 0
      },
      "text/plain": [
       "  0%|          | 0/295 [00:00<?, ?it/s]"
      ]
     },
     "metadata": {},
     "output_type": "display_data"
    },
    {
     "data": {
      "application/vnd.jupyter.widget-view+json": {
       "model_id": "d79570bd45164c93bbe770ca9218ce80",
       "version_major": 2,
       "version_minor": 0
      },
      "text/plain": [
       "  0%|          | 0/197 [00:00<?, ?it/s]"
      ]
     },
     "metadata": {},
     "output_type": "display_data"
    },
    {
     "name": "stdout",
     "output_type": "stream",
     "text": [
      "Epoch [3/500], Train Loss: 0.2094, Train Accuracy: 0.9248 Valid Loss: 0.3749, Valid Accuracy: 0.8697\n"
     ]
    },
    {
     "data": {
      "application/vnd.jupyter.widget-view+json": {
       "model_id": "092616bdecbe48e18d132779bcc192ab",
       "version_major": 2,
       "version_minor": 0
      },
      "text/plain": [
       "  0%|          | 0/295 [00:00<?, ?it/s]"
      ]
     },
     "metadata": {},
     "output_type": "display_data"
    },
    {
     "data": {
      "application/vnd.jupyter.widget-view+json": {
       "model_id": "f5a8664cf3204a418d2c0b908f8f24ed",
       "version_major": 2,
       "version_minor": 0
      },
      "text/plain": [
       "  0%|          | 0/197 [00:00<?, ?it/s]"
      ]
     },
     "metadata": {},
     "output_type": "display_data"
    },
    {
     "name": "stdout",
     "output_type": "stream",
     "text": [
      "Epoch [4/500], Train Loss: 0.1628, Train Accuracy: 0.9435 Valid Loss: 0.4482, Valid Accuracy: 0.8634\n"
     ]
    },
    {
     "data": {
      "application/vnd.jupyter.widget-view+json": {
       "model_id": "c559cfe6003c469bb9570e3a4d4aac64",
       "version_major": 2,
       "version_minor": 0
      },
      "text/plain": [
       "  0%|          | 0/295 [00:00<?, ?it/s]"
      ]
     },
     "metadata": {},
     "output_type": "display_data"
    },
    {
     "data": {
      "application/vnd.jupyter.widget-view+json": {
       "model_id": "b2f753994122457986b7e6245042a06d",
       "version_major": 2,
       "version_minor": 0
      },
      "text/plain": [
       "  0%|          | 0/197 [00:00<?, ?it/s]"
      ]
     },
     "metadata": {},
     "output_type": "display_data"
    },
    {
     "name": "stdout",
     "output_type": "stream",
     "text": [
      "Epoch [5/500], Train Loss: 0.1546, Train Accuracy: 0.9467 Valid Loss: 0.4131, Valid Accuracy: 0.8666\n"
     ]
    },
    {
     "data": {
      "application/vnd.jupyter.widget-view+json": {
       "model_id": "24037deb52eb4a38b074e5edee73c9a9",
       "version_major": 2,
       "version_minor": 0
      },
      "text/plain": [
       "  0%|          | 0/295 [00:00<?, ?it/s]"
      ]
     },
     "metadata": {},
     "output_type": "display_data"
    },
    {
     "data": {
      "application/vnd.jupyter.widget-view+json": {
       "model_id": "9de5434a8eda4d458b6efb3c902b61b7",
       "version_major": 2,
       "version_minor": 0
      },
      "text/plain": [
       "  0%|          | 0/197 [00:00<?, ?it/s]"
      ]
     },
     "metadata": {},
     "output_type": "display_data"
    },
    {
     "name": "stdout",
     "output_type": "stream",
     "text": [
      "Epoch [6/500], Train Loss: 0.1470, Train Accuracy: 0.9469 Valid Loss: 0.4279, Valid Accuracy: 0.8646\n"
     ]
    },
    {
     "data": {
      "application/vnd.jupyter.widget-view+json": {
       "model_id": "d86efc2b0d7d4072878cbac04bcc61b2",
       "version_major": 2,
       "version_minor": 0
      },
      "text/plain": [
       "  0%|          | 0/295 [00:00<?, ?it/s]"
      ]
     },
     "metadata": {},
     "output_type": "display_data"
    },
    {
     "data": {
      "application/vnd.jupyter.widget-view+json": {
       "model_id": "4caad22aef9c43d99c2342115009b345",
       "version_major": 2,
       "version_minor": 0
      },
      "text/plain": [
       "  0%|          | 0/197 [00:00<?, ?it/s]"
      ]
     },
     "metadata": {},
     "output_type": "display_data"
    },
    {
     "name": "stdout",
     "output_type": "stream",
     "text": [
      "Epoch [7/500], Train Loss: 0.1331, Train Accuracy: 0.9535 Valid Loss: 0.4890, Valid Accuracy: 0.8430\n"
     ]
    },
    {
     "data": {
      "application/vnd.jupyter.widget-view+json": {
       "model_id": "ced83b715f3f41109b2d841cb2a0c100",
       "version_major": 2,
       "version_minor": 0
      },
      "text/plain": [
       "  0%|          | 0/295 [00:00<?, ?it/s]"
      ]
     },
     "metadata": {},
     "output_type": "display_data"
    },
    {
     "data": {
      "application/vnd.jupyter.widget-view+json": {
       "model_id": "e92624aaaaef4af086538165f900177a",
       "version_major": 2,
       "version_minor": 0
      },
      "text/plain": [
       "  0%|          | 0/197 [00:00<?, ?it/s]"
      ]
     },
     "metadata": {},
     "output_type": "display_data"
    },
    {
     "name": "stdout",
     "output_type": "stream",
     "text": [
      "Epoch [8/500], Train Loss: 0.1269, Train Accuracy: 0.9550 Valid Loss: 0.3698, Valid Accuracy: 0.8854\n"
     ]
    },
    {
     "data": {
      "application/vnd.jupyter.widget-view+json": {
       "model_id": "c9692e7f1d9542fe89ee4a6ee79d9c40",
       "version_major": 2,
       "version_minor": 0
      },
      "text/plain": [
       "  0%|          | 0/295 [00:00<?, ?it/s]"
      ]
     },
     "metadata": {},
     "output_type": "display_data"
    },
    {
     "data": {
      "application/vnd.jupyter.widget-view+json": {
       "model_id": "e49e9d9aa3924f30bdc6777e5cd29cc9",
       "version_major": 2,
       "version_minor": 0
      },
      "text/plain": [
       "  0%|          | 0/197 [00:00<?, ?it/s]"
      ]
     },
     "metadata": {},
     "output_type": "display_data"
    },
    {
     "name": "stdout",
     "output_type": "stream",
     "text": [
      "Epoch [9/500], Train Loss: 0.1036, Train Accuracy: 0.9628 Valid Loss: 0.3553, Valid Accuracy: 0.8857\n"
     ]
    },
    {
     "data": {
      "application/vnd.jupyter.widget-view+json": {
       "model_id": "208dbcd1a2c84a87ace4d0114d1893f8",
       "version_major": 2,
       "version_minor": 0
      },
      "text/plain": [
       "  0%|          | 0/295 [00:00<?, ?it/s]"
      ]
     },
     "metadata": {},
     "output_type": "display_data"
    },
    {
     "data": {
      "application/vnd.jupyter.widget-view+json": {
       "model_id": "fe0f170d7a0a4624ab8c62f49853d05b",
       "version_major": 2,
       "version_minor": 0
      },
      "text/plain": [
       "  0%|          | 0/197 [00:00<?, ?it/s]"
      ]
     },
     "metadata": {},
     "output_type": "display_data"
    },
    {
     "name": "stdout",
     "output_type": "stream",
     "text": [
      "Epoch [10/500], Train Loss: 0.1013, Train Accuracy: 0.9637 Valid Loss: 0.5345, Valid Accuracy: 0.8599\n"
     ]
    },
    {
     "data": {
      "application/vnd.jupyter.widget-view+json": {
       "model_id": "49b560970c0b4749b91b2f4d12a8c9c2",
       "version_major": 2,
       "version_minor": 0
      },
      "text/plain": [
       "  0%|          | 0/295 [00:00<?, ?it/s]"
      ]
     },
     "metadata": {},
     "output_type": "display_data"
    },
    {
     "data": {
      "application/vnd.jupyter.widget-view+json": {
       "model_id": "7f4616108dbb4dd2ad08676ceacfd20b",
       "version_major": 2,
       "version_minor": 0
      },
      "text/plain": [
       "  0%|          | 0/197 [00:00<?, ?it/s]"
      ]
     },
     "metadata": {},
     "output_type": "display_data"
    },
    {
     "name": "stdout",
     "output_type": "stream",
     "text": [
      "Epoch [11/500], Train Loss: 0.0890, Train Accuracy: 0.9690 Valid Loss: 0.4171, Valid Accuracy: 0.8713\n"
     ]
    },
    {
     "data": {
      "application/vnd.jupyter.widget-view+json": {
       "model_id": "2c22159b3a8b40e8a33d91ddf9d3f146",
       "version_major": 2,
       "version_minor": 0
      },
      "text/plain": [
       "  0%|          | 0/295 [00:00<?, ?it/s]"
      ]
     },
     "metadata": {},
     "output_type": "display_data"
    },
    {
     "data": {
      "application/vnd.jupyter.widget-view+json": {
       "model_id": "35e7010a7f0a4e3baf7ed9d7b92887a4",
       "version_major": 2,
       "version_minor": 0
      },
      "text/plain": [
       "  0%|          | 0/197 [00:00<?, ?it/s]"
      ]
     },
     "metadata": {},
     "output_type": "display_data"
    },
    {
     "name": "stdout",
     "output_type": "stream",
     "text": [
      "Epoch [12/500], Train Loss: 0.0876, Train Accuracy: 0.9694 Valid Loss: 0.5738, Valid Accuracy: 0.8481\n"
     ]
    },
    {
     "data": {
      "application/vnd.jupyter.widget-view+json": {
       "model_id": "59a3654864b642ab9e766c014daba3e1",
       "version_major": 2,
       "version_minor": 0
      },
      "text/plain": [
       "  0%|          | 0/295 [00:00<?, ?it/s]"
      ]
     },
     "metadata": {},
     "output_type": "display_data"
    },
    {
     "data": {
      "application/vnd.jupyter.widget-view+json": {
       "model_id": "f654f4a9f74b473bb2d1430808efb167",
       "version_major": 2,
       "version_minor": 0
      },
      "text/plain": [
       "  0%|          | 0/197 [00:00<?, ?it/s]"
      ]
     },
     "metadata": {},
     "output_type": "display_data"
    },
    {
     "name": "stdout",
     "output_type": "stream",
     "text": [
      "Epoch [13/500], Train Loss: 0.1090, Train Accuracy: 0.9624 Valid Loss: 0.5468, Valid Accuracy: 0.8596\n"
     ]
    },
    {
     "data": {
      "application/vnd.jupyter.widget-view+json": {
       "model_id": "7bdb19fc43af4fcc8466f49ec80c502b",
       "version_major": 2,
       "version_minor": 0
      },
      "text/plain": [
       "  0%|          | 0/295 [00:00<?, ?it/s]"
      ]
     },
     "metadata": {},
     "output_type": "display_data"
    },
    {
     "data": {
      "application/vnd.jupyter.widget-view+json": {
       "model_id": "17158ac99f8c4d9badf51a4c31bda40c",
       "version_major": 2,
       "version_minor": 0
      },
      "text/plain": [
       "  0%|          | 0/197 [00:00<?, ?it/s]"
      ]
     },
     "metadata": {},
     "output_type": "display_data"
    },
    {
     "name": "stdout",
     "output_type": "stream",
     "text": [
      "Epoch [14/500], Train Loss: 0.0796, Train Accuracy: 0.9739 Valid Loss: 0.4876, Valid Accuracy: 0.8701\n"
     ]
    },
    {
     "data": {
      "application/vnd.jupyter.widget-view+json": {
       "model_id": "c31c237b68c340238f29d2b946d28397",
       "version_major": 2,
       "version_minor": 0
      },
      "text/plain": [
       "  0%|          | 0/295 [00:00<?, ?it/s]"
      ]
     },
     "metadata": {},
     "output_type": "display_data"
    },
    {
     "data": {
      "application/vnd.jupyter.widget-view+json": {
       "model_id": "c57e96403d3a4c9a8a90e0d96cba9c86",
       "version_major": 2,
       "version_minor": 0
      },
      "text/plain": [
       "  0%|          | 0/197 [00:00<?, ?it/s]"
      ]
     },
     "metadata": {},
     "output_type": "display_data"
    },
    {
     "name": "stdout",
     "output_type": "stream",
     "text": [
      "Epoch [15/500], Train Loss: 0.0664, Train Accuracy: 0.9783 Valid Loss: 0.4752, Valid Accuracy: 0.8707\n"
     ]
    },
    {
     "data": {
      "application/vnd.jupyter.widget-view+json": {
       "model_id": "1d292bb658f94931b3b05677b3fc15ab",
       "version_major": 2,
       "version_minor": 0
      },
      "text/plain": [
       "  0%|          | 0/295 [00:00<?, ?it/s]"
      ]
     },
     "metadata": {},
     "output_type": "display_data"
    },
    {
     "data": {
      "application/vnd.jupyter.widget-view+json": {
       "model_id": "17a46162db964a71902365380516f08c",
       "version_major": 2,
       "version_minor": 0
      },
      "text/plain": [
       "  0%|          | 0/197 [00:00<?, ?it/s]"
      ]
     },
     "metadata": {},
     "output_type": "display_data"
    },
    {
     "name": "stdout",
     "output_type": "stream",
     "text": [
      "Epoch [16/500], Train Loss: 0.0711, Train Accuracy: 0.9781 Valid Loss: 0.3509, Valid Accuracy: 0.8952\n"
     ]
    },
    {
     "data": {
      "application/vnd.jupyter.widget-view+json": {
       "model_id": "08b04098e2cc446aad9cfe17f9d07677",
       "version_major": 2,
       "version_minor": 0
      },
      "text/plain": [
       "  0%|          | 0/295 [00:00<?, ?it/s]"
      ]
     },
     "metadata": {},
     "output_type": "display_data"
    },
    {
     "data": {
      "application/vnd.jupyter.widget-view+json": {
       "model_id": "c33936bd5f354ac3b8c48c130ec20161",
       "version_major": 2,
       "version_minor": 0
      },
      "text/plain": [
       "  0%|          | 0/197 [00:00<?, ?it/s]"
      ]
     },
     "metadata": {},
     "output_type": "display_data"
    },
    {
     "name": "stdout",
     "output_type": "stream",
     "text": [
      "Epoch [17/500], Train Loss: 0.0712, Train Accuracy: 0.9739 Valid Loss: 0.5133, Valid Accuracy: 0.8717\n"
     ]
    },
    {
     "data": {
      "application/vnd.jupyter.widget-view+json": {
       "model_id": "be3dcaa58cdf417a8e87e08561c51bf3",
       "version_major": 2,
       "version_minor": 0
      },
      "text/plain": [
       "  0%|          | 0/295 [00:00<?, ?it/s]"
      ]
     },
     "metadata": {},
     "output_type": "display_data"
    },
    {
     "data": {
      "application/vnd.jupyter.widget-view+json": {
       "model_id": "e4c3496033cb41dfa039927599ab56d0",
       "version_major": 2,
       "version_minor": 0
      },
      "text/plain": [
       "  0%|          | 0/197 [00:00<?, ?it/s]"
      ]
     },
     "metadata": {},
     "output_type": "display_data"
    },
    {
     "name": "stdout",
     "output_type": "stream",
     "text": [
      "Epoch [18/500], Train Loss: 0.0704, Train Accuracy: 0.9754 Valid Loss: 0.3894, Valid Accuracy: 0.8943\n"
     ]
    },
    {
     "data": {
      "application/vnd.jupyter.widget-view+json": {
       "model_id": "f954a1725d0f44d6bc0a6e50540d9387",
       "version_major": 2,
       "version_minor": 0
      },
      "text/plain": [
       "  0%|          | 0/295 [00:00<?, ?it/s]"
      ]
     },
     "metadata": {},
     "output_type": "display_data"
    },
    {
     "data": {
      "application/vnd.jupyter.widget-view+json": {
       "model_id": "bb9dc6e44e7f4842afbfe47408c96233",
       "version_major": 2,
       "version_minor": 0
      },
      "text/plain": [
       "  0%|          | 0/197 [00:00<?, ?it/s]"
      ]
     },
     "metadata": {},
     "output_type": "display_data"
    },
    {
     "name": "stdout",
     "output_type": "stream",
     "text": [
      "Epoch [19/500], Train Loss: 0.0664, Train Accuracy: 0.9777 Valid Loss: 0.4419, Valid Accuracy: 0.8764\n"
     ]
    },
    {
     "data": {
      "application/vnd.jupyter.widget-view+json": {
       "model_id": "34c60c64afae43668ca69760e59129e3",
       "version_major": 2,
       "version_minor": 0
      },
      "text/plain": [
       "  0%|          | 0/295 [00:00<?, ?it/s]"
      ]
     },
     "metadata": {},
     "output_type": "display_data"
    },
    {
     "data": {
      "application/vnd.jupyter.widget-view+json": {
       "model_id": "f2b387b6b55e49ef8d3b712bd1d9c77b",
       "version_major": 2,
       "version_minor": 0
      },
      "text/plain": [
       "  0%|          | 0/197 [00:00<?, ?it/s]"
      ]
     },
     "metadata": {},
     "output_type": "display_data"
    },
    {
     "name": "stdout",
     "output_type": "stream",
     "text": [
      "Epoch [20/500], Train Loss: 0.0568, Train Accuracy: 0.9794 Valid Loss: 0.5297, Valid Accuracy: 0.8768\n"
     ]
    },
    {
     "data": {
      "application/vnd.jupyter.widget-view+json": {
       "model_id": "a16859d5e4724e34b9e69dec4c0edc65",
       "version_major": 2,
       "version_minor": 0
      },
      "text/plain": [
       "  0%|          | 0/295 [00:00<?, ?it/s]"
      ]
     },
     "metadata": {},
     "output_type": "display_data"
    },
    {
     "data": {
      "application/vnd.jupyter.widget-view+json": {
       "model_id": "891e2a7a9982440699778b73bd2dae96",
       "version_major": 2,
       "version_minor": 0
      },
      "text/plain": [
       "  0%|          | 0/197 [00:00<?, ?it/s]"
      ]
     },
     "metadata": {},
     "output_type": "display_data"
    },
    {
     "name": "stdout",
     "output_type": "stream",
     "text": [
      "Epoch [21/500], Train Loss: 0.0511, Train Accuracy: 0.9843 Valid Loss: 0.4813, Valid Accuracy: 0.8783\n"
     ]
    },
    {
     "data": {
      "application/vnd.jupyter.widget-view+json": {
       "model_id": "2bbac2f4f9da4fcf8984cf2325d20cdf",
       "version_major": 2,
       "version_minor": 0
      },
      "text/plain": [
       "  0%|          | 0/295 [00:00<?, ?it/s]"
      ]
     },
     "metadata": {},
     "output_type": "display_data"
    },
    {
     "data": {
      "application/vnd.jupyter.widget-view+json": {
       "model_id": "741244cbbdee4cbb928cee9ab0fa7977",
       "version_major": 2,
       "version_minor": 0
      },
      "text/plain": [
       "  0%|          | 0/197 [00:00<?, ?it/s]"
      ]
     },
     "metadata": {},
     "output_type": "display_data"
    },
    {
     "name": "stdout",
     "output_type": "stream",
     "text": [
      "Epoch [22/500], Train Loss: 0.0494, Train Accuracy: 0.9845 Valid Loss: 0.5100, Valid Accuracy: 0.8710\n"
     ]
    },
    {
     "data": {
      "application/vnd.jupyter.widget-view+json": {
       "model_id": "9a19fa8505d84145b005b1cfbca187f4",
       "version_major": 2,
       "version_minor": 0
      },
      "text/plain": [
       "  0%|          | 0/295 [00:00<?, ?it/s]"
      ]
     },
     "metadata": {},
     "output_type": "display_data"
    },
    {
     "data": {
      "application/vnd.jupyter.widget-view+json": {
       "model_id": "682daacd1da246f1bc219d9c20a82990",
       "version_major": 2,
       "version_minor": 0
      },
      "text/plain": [
       "  0%|          | 0/197 [00:00<?, ?it/s]"
      ]
     },
     "metadata": {},
     "output_type": "display_data"
    },
    {
     "name": "stdout",
     "output_type": "stream",
     "text": [
      "Epoch [23/500], Train Loss: 0.0906, Train Accuracy: 0.9699 Valid Loss: 0.5614, Valid Accuracy: 0.8561\n"
     ]
    },
    {
     "data": {
      "application/vnd.jupyter.widget-view+json": {
       "model_id": "2db27a07033c4952a832fc1fb46dbe75",
       "version_major": 2,
       "version_minor": 0
      },
      "text/plain": [
       "  0%|          | 0/295 [00:00<?, ?it/s]"
      ]
     },
     "metadata": {},
     "output_type": "display_data"
    },
    {
     "data": {
      "application/vnd.jupyter.widget-view+json": {
       "model_id": "dd7d07daeafe4d1a8bbafbb49e0a0fff",
       "version_major": 2,
       "version_minor": 0
      },
      "text/plain": [
       "  0%|          | 0/197 [00:00<?, ?it/s]"
      ]
     },
     "metadata": {},
     "output_type": "display_data"
    },
    {
     "name": "stdout",
     "output_type": "stream",
     "text": [
      "Epoch [24/500], Train Loss: 0.0518, Train Accuracy: 0.9811 Valid Loss: 0.4279, Valid Accuracy: 0.8873\n"
     ]
    },
    {
     "data": {
      "application/vnd.jupyter.widget-view+json": {
       "model_id": "92b2399a618c42ff81bd57d79f174848",
       "version_major": 2,
       "version_minor": 0
      },
      "text/plain": [
       "  0%|          | 0/295 [00:00<?, ?it/s]"
      ]
     },
     "metadata": {},
     "output_type": "display_data"
    },
    {
     "data": {
      "application/vnd.jupyter.widget-view+json": {
       "model_id": "e1366d817d7f48ada43e2c13fdd3eed6",
       "version_major": 2,
       "version_minor": 0
      },
      "text/plain": [
       "  0%|          | 0/197 [00:00<?, ?it/s]"
      ]
     },
     "metadata": {},
     "output_type": "display_data"
    },
    {
     "name": "stdout",
     "output_type": "stream",
     "text": [
      "Epoch [25/500], Train Loss: 0.0583, Train Accuracy: 0.9815 Valid Loss: 0.4388, Valid Accuracy: 0.8831\n"
     ]
    },
    {
     "data": {
      "application/vnd.jupyter.widget-view+json": {
       "model_id": "5bd424157ed944f58edf7fae74d05e99",
       "version_major": 2,
       "version_minor": 0
      },
      "text/plain": [
       "  0%|          | 0/295 [00:00<?, ?it/s]"
      ]
     },
     "metadata": {},
     "output_type": "display_data"
    },
    {
     "data": {
      "application/vnd.jupyter.widget-view+json": {
       "model_id": "a9849a15320d4d61b2f8ca07ed9982e5",
       "version_major": 2,
       "version_minor": 0
      },
      "text/plain": [
       "  0%|          | 0/197 [00:00<?, ?it/s]"
      ]
     },
     "metadata": {},
     "output_type": "display_data"
    },
    {
     "name": "stdout",
     "output_type": "stream",
     "text": [
      "Epoch [26/500], Train Loss: 0.0617, Train Accuracy: 0.9779 Valid Loss: 0.7159, Valid Accuracy: 0.8513\n"
     ]
    },
    {
     "data": {
      "application/vnd.jupyter.widget-view+json": {
       "model_id": "ccb13c302a6b4a64b81420ecc45da46e",
       "version_major": 2,
       "version_minor": 0
      },
      "text/plain": [
       "  0%|          | 0/295 [00:00<?, ?it/s]"
      ]
     },
     "metadata": {},
     "output_type": "display_data"
    },
    {
     "data": {
      "application/vnd.jupyter.widget-view+json": {
       "model_id": "e6bea1580c2e41fcb056e520828433c9",
       "version_major": 2,
       "version_minor": 0
      },
      "text/plain": [
       "  0%|          | 0/197 [00:00<?, ?it/s]"
      ]
     },
     "metadata": {},
     "output_type": "display_data"
    },
    {
     "name": "stdout",
     "output_type": "stream",
     "text": [
      "Epoch [27/500], Train Loss: 0.0388, Train Accuracy: 0.9866 Valid Loss: 0.5057, Valid Accuracy: 0.8707\n"
     ]
    },
    {
     "data": {
      "application/vnd.jupyter.widget-view+json": {
       "model_id": "23dc0c3c898742adabacf8710dd615d3",
       "version_major": 2,
       "version_minor": 0
      },
      "text/plain": [
       "  0%|          | 0/295 [00:00<?, ?it/s]"
      ]
     },
     "metadata": {},
     "output_type": "display_data"
    },
    {
     "data": {
      "application/vnd.jupyter.widget-view+json": {
       "model_id": "b7ed05ef4a5c4199a9ef8487446023f1",
       "version_major": 2,
       "version_minor": 0
      },
      "text/plain": [
       "  0%|          | 0/197 [00:00<?, ?it/s]"
      ]
     },
     "metadata": {},
     "output_type": "display_data"
    },
    {
     "name": "stdout",
     "output_type": "stream",
     "text": [
      "Epoch [28/500], Train Loss: 0.0408, Train Accuracy: 0.9866 Valid Loss: 0.6273, Valid Accuracy: 0.8592\n"
     ]
    },
    {
     "data": {
      "application/vnd.jupyter.widget-view+json": {
       "model_id": "77540ae399374905943d6c3f175da646",
       "version_major": 2,
       "version_minor": 0
      },
      "text/plain": [
       "  0%|          | 0/295 [00:00<?, ?it/s]"
      ]
     },
     "metadata": {},
     "output_type": "display_data"
    },
    {
     "data": {
      "application/vnd.jupyter.widget-view+json": {
       "model_id": "7a0cd2f6d8f143aa8b1d9447d36f198a",
       "version_major": 2,
       "version_minor": 0
      },
      "text/plain": [
       "  0%|          | 0/197 [00:00<?, ?it/s]"
      ]
     },
     "metadata": {},
     "output_type": "display_data"
    },
    {
     "name": "stdout",
     "output_type": "stream",
     "text": [
      "Epoch [29/500], Train Loss: 0.0665, Train Accuracy: 0.9800 Valid Loss: 0.5299, Valid Accuracy: 0.8653\n"
     ]
    },
    {
     "data": {
      "application/vnd.jupyter.widget-view+json": {
       "model_id": "64481290ede84afb8322c53afb5cf006",
       "version_major": 2,
       "version_minor": 0
      },
      "text/plain": [
       "  0%|          | 0/295 [00:00<?, ?it/s]"
      ]
     },
     "metadata": {},
     "output_type": "display_data"
    },
    {
     "data": {
      "application/vnd.jupyter.widget-view+json": {
       "model_id": "c2610f07b0cd441490235873dc042ac4",
       "version_major": 2,
       "version_minor": 0
      },
      "text/plain": [
       "  0%|          | 0/197 [00:00<?, ?it/s]"
      ]
     },
     "metadata": {},
     "output_type": "display_data"
    },
    {
     "name": "stdout",
     "output_type": "stream",
     "text": [
      "Epoch [30/500], Train Loss: 0.0582, Train Accuracy: 0.9805 Valid Loss: 0.5885, Valid Accuracy: 0.8637\n"
     ]
    },
    {
     "data": {
      "application/vnd.jupyter.widget-view+json": {
       "model_id": "7cf0fe2fe72846059c385be04ce118cb",
       "version_major": 2,
       "version_minor": 0
      },
      "text/plain": [
       "  0%|          | 0/295 [00:00<?, ?it/s]"
      ]
     },
     "metadata": {},
     "output_type": "display_data"
    },
    {
     "data": {
      "application/vnd.jupyter.widget-view+json": {
       "model_id": "b9a0de0d02d7471e83c91558068ebf44",
       "version_major": 2,
       "version_minor": 0
      },
      "text/plain": [
       "  0%|          | 0/197 [00:00<?, ?it/s]"
      ]
     },
     "metadata": {},
     "output_type": "display_data"
    },
    {
     "name": "stdout",
     "output_type": "stream",
     "text": [
      "Epoch [31/500], Train Loss: 0.0403, Train Accuracy: 0.9860 Valid Loss: 0.7261, Valid Accuracy: 0.8621\n"
     ]
    },
    {
     "data": {
      "application/vnd.jupyter.widget-view+json": {
       "model_id": "b72f2ce7730c479da52724a3314d620b",
       "version_major": 2,
       "version_minor": 0
      },
      "text/plain": [
       "  0%|          | 0/295 [00:00<?, ?it/s]"
      ]
     },
     "metadata": {},
     "output_type": "display_data"
    },
    {
     "data": {
      "application/vnd.jupyter.widget-view+json": {
       "model_id": "b8c6810c3ba0453f909aa38220fbad02",
       "version_major": 2,
       "version_minor": 0
      },
      "text/plain": [
       "  0%|          | 0/197 [00:00<?, ?it/s]"
      ]
     },
     "metadata": {},
     "output_type": "display_data"
    },
    {
     "name": "stdout",
     "output_type": "stream",
     "text": [
      "Epoch [32/500], Train Loss: 0.0409, Train Accuracy: 0.9877 Valid Loss: 0.8096, Valid Accuracy: 0.8471\n"
     ]
    },
    {
     "data": {
      "application/vnd.jupyter.widget-view+json": {
       "model_id": "a4c46844fc25474b84ee9fac66b07bd3",
       "version_major": 2,
       "version_minor": 0
      },
      "text/plain": [
       "  0%|          | 0/295 [00:00<?, ?it/s]"
      ]
     },
     "metadata": {},
     "output_type": "display_data"
    },
    {
     "data": {
      "application/vnd.jupyter.widget-view+json": {
       "model_id": "a605c5ab93254f1f912c7c4afe8faaa1",
       "version_major": 2,
       "version_minor": 0
      },
      "text/plain": [
       "  0%|          | 0/197 [00:00<?, ?it/s]"
      ]
     },
     "metadata": {},
     "output_type": "display_data"
    },
    {
     "name": "stdout",
     "output_type": "stream",
     "text": [
      "Epoch [33/500], Train Loss: 0.0437, Train Accuracy: 0.9862 Valid Loss: 0.7097, Valid Accuracy: 0.8532\n"
     ]
    },
    {
     "data": {
      "application/vnd.jupyter.widget-view+json": {
       "model_id": "c32369425f964baea4944dff903fab94",
       "version_major": 2,
       "version_minor": 0
      },
      "text/plain": [
       "  0%|          | 0/295 [00:00<?, ?it/s]"
      ]
     },
     "metadata": {},
     "output_type": "display_data"
    },
    {
     "data": {
      "application/vnd.jupyter.widget-view+json": {
       "model_id": "8e032c62c4be401a93be9a925f8068e1",
       "version_major": 2,
       "version_minor": 0
      },
      "text/plain": [
       "  0%|          | 0/197 [00:00<?, ?it/s]"
      ]
     },
     "metadata": {},
     "output_type": "display_data"
    },
    {
     "name": "stdout",
     "output_type": "stream",
     "text": [
      "Epoch [34/500], Train Loss: 0.0475, Train Accuracy: 0.9858 Valid Loss: 0.6863, Valid Accuracy: 0.8548\n"
     ]
    },
    {
     "data": {
      "application/vnd.jupyter.widget-view+json": {
       "model_id": "8290a6eb036a4b1fbe143294451cf574",
       "version_major": 2,
       "version_minor": 0
      },
      "text/plain": [
       "  0%|          | 0/295 [00:00<?, ?it/s]"
      ]
     },
     "metadata": {},
     "output_type": "display_data"
    },
    {
     "data": {
      "application/vnd.jupyter.widget-view+json": {
       "model_id": "ce49851b90e84213a8cab2e6aecc9e5d",
       "version_major": 2,
       "version_minor": 0
      },
      "text/plain": [
       "  0%|          | 0/197 [00:00<?, ?it/s]"
      ]
     },
     "metadata": {},
     "output_type": "display_data"
    },
    {
     "name": "stdout",
     "output_type": "stream",
     "text": [
      "Epoch [35/500], Train Loss: 0.0450, Train Accuracy: 0.9858 Valid Loss: 0.5117, Valid Accuracy: 0.8831\n"
     ]
    },
    {
     "data": {
      "application/vnd.jupyter.widget-view+json": {
       "model_id": "131f5e23fce04978bdc53f44d9f0c4e9",
       "version_major": 2,
       "version_minor": 0
      },
      "text/plain": [
       "  0%|          | 0/295 [00:00<?, ?it/s]"
      ]
     },
     "metadata": {},
     "output_type": "display_data"
    },
    {
     "data": {
      "application/vnd.jupyter.widget-view+json": {
       "model_id": "c1014761ad434e21af2d4417c57f50c4",
       "version_major": 2,
       "version_minor": 0
      },
      "text/plain": [
       "  0%|          | 0/197 [00:00<?, ?it/s]"
      ]
     },
     "metadata": {},
     "output_type": "display_data"
    },
    {
     "name": "stdout",
     "output_type": "stream",
     "text": [
      "Epoch [36/500], Train Loss: 0.0402, Train Accuracy: 0.9870 Valid Loss: 0.6605, Valid Accuracy: 0.8481\n"
     ]
    },
    {
     "data": {
      "application/vnd.jupyter.widget-view+json": {
       "model_id": "7b080b9a80f34a358e0ff25dbda0a33d",
       "version_major": 2,
       "version_minor": 0
      },
      "text/plain": [
       "  0%|          | 0/295 [00:00<?, ?it/s]"
      ]
     },
     "metadata": {},
     "output_type": "display_data"
    },
    {
     "data": {
      "application/vnd.jupyter.widget-view+json": {
       "model_id": "ba4f59725ff3413ca2621ee6a2f56dbf",
       "version_major": 2,
       "version_minor": 0
      },
      "text/plain": [
       "  0%|          | 0/197 [00:00<?, ?it/s]"
      ]
     },
     "metadata": {},
     "output_type": "display_data"
    },
    {
     "name": "stdout",
     "output_type": "stream",
     "text": [
      "Epoch [37/500], Train Loss: 0.0470, Train Accuracy: 0.9847 Valid Loss: 0.5252, Valid Accuracy: 0.8643\n"
     ]
    },
    {
     "data": {
      "application/vnd.jupyter.widget-view+json": {
       "model_id": "f48c59c6bb9f4fefa261ee6f1c7365ca",
       "version_major": 2,
       "version_minor": 0
      },
      "text/plain": [
       "  0%|          | 0/295 [00:00<?, ?it/s]"
      ]
     },
     "metadata": {},
     "output_type": "display_data"
    },
    {
     "data": {
      "application/vnd.jupyter.widget-view+json": {
       "model_id": "7b1db9da8d7d4911a5c4d988831eacba",
       "version_major": 2,
       "version_minor": 0
      },
      "text/plain": [
       "  0%|          | 0/197 [00:00<?, ?it/s]"
      ]
     },
     "metadata": {},
     "output_type": "display_data"
    },
    {
     "name": "stdout",
     "output_type": "stream",
     "text": [
      "Epoch [38/500], Train Loss: 0.0623, Train Accuracy: 0.9813 Valid Loss: 0.7493, Valid Accuracy: 0.8478\n"
     ]
    },
    {
     "data": {
      "application/vnd.jupyter.widget-view+json": {
       "model_id": "bff97e16ea4145eab8f6416c7dc450d6",
       "version_major": 2,
       "version_minor": 0
      },
      "text/plain": [
       "  0%|          | 0/295 [00:00<?, ?it/s]"
      ]
     },
     "metadata": {},
     "output_type": "display_data"
    },
    {
     "data": {
      "application/vnd.jupyter.widget-view+json": {
       "model_id": "20d33e7ad4874f07b1f8e04f770e477b",
       "version_major": 2,
       "version_minor": 0
      },
      "text/plain": [
       "  0%|          | 0/197 [00:00<?, ?it/s]"
      ]
     },
     "metadata": {},
     "output_type": "display_data"
    },
    {
     "name": "stdout",
     "output_type": "stream",
     "text": [
      "Epoch [39/500], Train Loss: 0.0487, Train Accuracy: 0.9830 Valid Loss: 0.5110, Valid Accuracy: 0.8809\n"
     ]
    },
    {
     "data": {
      "application/vnd.jupyter.widget-view+json": {
       "model_id": "8cea12f6252440deb1e039c67245405e",
       "version_major": 2,
       "version_minor": 0
      },
      "text/plain": [
       "  0%|          | 0/295 [00:00<?, ?it/s]"
      ]
     },
     "metadata": {},
     "output_type": "display_data"
    },
    {
     "data": {
      "application/vnd.jupyter.widget-view+json": {
       "model_id": "99d1699de3164a349d09ba6263bbec21",
       "version_major": 2,
       "version_minor": 0
      },
      "text/plain": [
       "  0%|          | 0/197 [00:00<?, ?it/s]"
      ]
     },
     "metadata": {},
     "output_type": "display_data"
    },
    {
     "name": "stdout",
     "output_type": "stream",
     "text": [
      "Epoch [40/500], Train Loss: 0.0604, Train Accuracy: 0.9820 Valid Loss: 0.6890, Valid Accuracy: 0.8608\n"
     ]
    },
    {
     "data": {
      "application/vnd.jupyter.widget-view+json": {
       "model_id": "dfd7b4860ad34888b7197dad80469002",
       "version_major": 2,
       "version_minor": 0
      },
      "text/plain": [
       "  0%|          | 0/295 [00:00<?, ?it/s]"
      ]
     },
     "metadata": {},
     "output_type": "display_data"
    },
    {
     "data": {
      "application/vnd.jupyter.widget-view+json": {
       "model_id": "1d107a0849a140a1af54db096b7fae6c",
       "version_major": 2,
       "version_minor": 0
      },
      "text/plain": [
       "  0%|          | 0/197 [00:00<?, ?it/s]"
      ]
     },
     "metadata": {},
     "output_type": "display_data"
    },
    {
     "name": "stdout",
     "output_type": "stream",
     "text": [
      "Epoch [41/500], Train Loss: 0.0347, Train Accuracy: 0.9875 Valid Loss: 0.4664, Valid Accuracy: 0.8904\n"
     ]
    },
    {
     "data": {
      "application/vnd.jupyter.widget-view+json": {
       "model_id": "cf0007f5212045da9c648dddd89a0d37",
       "version_major": 2,
       "version_minor": 0
      },
      "text/plain": [
       "  0%|          | 0/295 [00:00<?, ?it/s]"
      ]
     },
     "metadata": {},
     "output_type": "display_data"
    },
    {
     "data": {
      "application/vnd.jupyter.widget-view+json": {
       "model_id": "e772984d08524efbae1f114a8c8a2beb",
       "version_major": 2,
       "version_minor": 0
      },
      "text/plain": [
       "  0%|          | 0/197 [00:00<?, ?it/s]"
      ]
     },
     "metadata": {},
     "output_type": "display_data"
    },
    {
     "name": "stdout",
     "output_type": "stream",
     "text": [
      "Epoch [42/500], Train Loss: 0.0276, Train Accuracy: 0.9907 Valid Loss: 0.5596, Valid Accuracy: 0.8729\n"
     ]
    },
    {
     "data": {
      "application/vnd.jupyter.widget-view+json": {
       "model_id": "76e64d737ddc46608411556107c8572c",
       "version_major": 2,
       "version_minor": 0
      },
      "text/plain": [
       "  0%|          | 0/295 [00:00<?, ?it/s]"
      ]
     },
     "metadata": {},
     "output_type": "display_data"
    },
    {
     "data": {
      "application/vnd.jupyter.widget-view+json": {
       "model_id": "86ee89956bc84fb3880cf593d0e7cfb0",
       "version_major": 2,
       "version_minor": 0
      },
      "text/plain": [
       "  0%|          | 0/197 [00:00<?, ?it/s]"
      ]
     },
     "metadata": {},
     "output_type": "display_data"
    },
    {
     "name": "stdout",
     "output_type": "stream",
     "text": [
      "Epoch [43/500], Train Loss: 0.0352, Train Accuracy: 0.9881 Valid Loss: 0.5419, Valid Accuracy: 0.8831\n"
     ]
    },
    {
     "data": {
      "application/vnd.jupyter.widget-view+json": {
       "model_id": "815ba44e75974c46a7d6c83ba1296c4f",
       "version_major": 2,
       "version_minor": 0
      },
      "text/plain": [
       "  0%|          | 0/295 [00:00<?, ?it/s]"
      ]
     },
     "metadata": {},
     "output_type": "display_data"
    },
    {
     "data": {
      "application/vnd.jupyter.widget-view+json": {
       "model_id": "f900afd5114e45ad868c17272022f498",
       "version_major": 2,
       "version_minor": 0
      },
      "text/plain": [
       "  0%|          | 0/197 [00:00<?, ?it/s]"
      ]
     },
     "metadata": {},
     "output_type": "display_data"
    },
    {
     "name": "stdout",
     "output_type": "stream",
     "text": [
      "Epoch [44/500], Train Loss: 0.0286, Train Accuracy: 0.9890 Valid Loss: 0.6382, Valid Accuracy: 0.8777\n"
     ]
    },
    {
     "data": {
      "application/vnd.jupyter.widget-view+json": {
       "model_id": "915ef9ec0a994e8f929cfcbeea1fa923",
       "version_major": 2,
       "version_minor": 0
      },
      "text/plain": [
       "  0%|          | 0/295 [00:00<?, ?it/s]"
      ]
     },
     "metadata": {},
     "output_type": "display_data"
    },
    {
     "data": {
      "application/vnd.jupyter.widget-view+json": {
       "model_id": "050f9251988c40f393c672d856ec9046",
       "version_major": 2,
       "version_minor": 0
      },
      "text/plain": [
       "  0%|          | 0/197 [00:00<?, ?it/s]"
      ]
     },
     "metadata": {},
     "output_type": "display_data"
    },
    {
     "name": "stdout",
     "output_type": "stream",
     "text": [
      "Epoch [45/500], Train Loss: 0.0585, Train Accuracy: 0.9809 Valid Loss: 0.6066, Valid Accuracy: 0.8678\n"
     ]
    },
    {
     "data": {
      "application/vnd.jupyter.widget-view+json": {
       "model_id": "8d78a8fcacdc4f5f82c4db7319de9af8",
       "version_major": 2,
       "version_minor": 0
      },
      "text/plain": [
       "  0%|          | 0/295 [00:00<?, ?it/s]"
      ]
     },
     "metadata": {},
     "output_type": "display_data"
    },
    {
     "data": {
      "application/vnd.jupyter.widget-view+json": {
       "model_id": "209de58ee6624257ac4491c9772d5f5a",
       "version_major": 2,
       "version_minor": 0
      },
      "text/plain": [
       "  0%|          | 0/197 [00:00<?, ?it/s]"
      ]
     },
     "metadata": {},
     "output_type": "display_data"
    },
    {
     "name": "stdout",
     "output_type": "stream",
     "text": [
      "Epoch [46/500], Train Loss: 0.0472, Train Accuracy: 0.9854 Valid Loss: 0.6926, Valid Accuracy: 0.8232\n"
     ]
    },
    {
     "data": {
      "application/vnd.jupyter.widget-view+json": {
       "model_id": "19bf6aeffa504ea890ed605e5a59f4f3",
       "version_major": 2,
       "version_minor": 0
      },
      "text/plain": [
       "  0%|          | 0/295 [00:00<?, ?it/s]"
      ]
     },
     "metadata": {},
     "output_type": "display_data"
    },
    {
     "data": {
      "application/vnd.jupyter.widget-view+json": {
       "model_id": "0d0a775622464df6a2e927c9ee2082d5",
       "version_major": 2,
       "version_minor": 0
      },
      "text/plain": [
       "  0%|          | 0/197 [00:00<?, ?it/s]"
      ]
     },
     "metadata": {},
     "output_type": "display_data"
    },
    {
     "name": "stdout",
     "output_type": "stream",
     "text": [
      "Epoch [47/500], Train Loss: 0.0346, Train Accuracy: 0.9890 Valid Loss: 0.5249, Valid Accuracy: 0.8694\n"
     ]
    },
    {
     "data": {
      "application/vnd.jupyter.widget-view+json": {
       "model_id": "4d93bb0a2e8f48cc8f6335a6c8135ed4",
       "version_major": 2,
       "version_minor": 0
      },
      "text/plain": [
       "  0%|          | 0/295 [00:00<?, ?it/s]"
      ]
     },
     "metadata": {},
     "output_type": "display_data"
    },
    {
     "data": {
      "application/vnd.jupyter.widget-view+json": {
       "model_id": "c83c920c503546c4b1aced15494a797d",
       "version_major": 2,
       "version_minor": 0
      },
      "text/plain": [
       "  0%|          | 0/197 [00:00<?, ?it/s]"
      ]
     },
     "metadata": {},
     "output_type": "display_data"
    },
    {
     "name": "stdout",
     "output_type": "stream",
     "text": [
      "Epoch [48/500], Train Loss: 0.0238, Train Accuracy: 0.9915 Valid Loss: 0.5878, Valid Accuracy: 0.8675\n"
     ]
    },
    {
     "data": {
      "application/vnd.jupyter.widget-view+json": {
       "model_id": "d3d87e6c8e774d7bb9d5c61d3e6dcb06",
       "version_major": 2,
       "version_minor": 0
      },
      "text/plain": [
       "  0%|          | 0/295 [00:00<?, ?it/s]"
      ]
     },
     "metadata": {},
     "output_type": "display_data"
    },
    {
     "data": {
      "application/vnd.jupyter.widget-view+json": {
       "model_id": "6b6f6c41abb14fb8b90c4e76384d31d4",
       "version_major": 2,
       "version_minor": 0
      },
      "text/plain": [
       "  0%|          | 0/197 [00:00<?, ?it/s]"
      ]
     },
     "metadata": {},
     "output_type": "display_data"
    },
    {
     "name": "stdout",
     "output_type": "stream",
     "text": [
      "Epoch [49/500], Train Loss: 0.0385, Train Accuracy: 0.9870 Valid Loss: 0.5852, Valid Accuracy: 0.8602\n"
     ]
    },
    {
     "data": {
      "application/vnd.jupyter.widget-view+json": {
       "model_id": "cd06a025889b437bb0514cf079533cfd",
       "version_major": 2,
       "version_minor": 0
      },
      "text/plain": [
       "  0%|          | 0/295 [00:00<?, ?it/s]"
      ]
     },
     "metadata": {},
     "output_type": "display_data"
    },
    {
     "data": {
      "application/vnd.jupyter.widget-view+json": {
       "model_id": "5741cecc9ee74874956e680e5a0db9c6",
       "version_major": 2,
       "version_minor": 0
      },
      "text/plain": [
       "  0%|          | 0/197 [00:00<?, ?it/s]"
      ]
     },
     "metadata": {},
     "output_type": "display_data"
    },
    {
     "name": "stdout",
     "output_type": "stream",
     "text": [
      "Epoch [50/500], Train Loss: 0.0363, Train Accuracy: 0.9879 Valid Loss: 0.4968, Valid Accuracy: 0.8904\n"
     ]
    },
    {
     "data": {
      "application/vnd.jupyter.widget-view+json": {
       "model_id": "b10e8543993d42519f427f04d70a0059",
       "version_major": 2,
       "version_minor": 0
      },
      "text/plain": [
       "  0%|          | 0/295 [00:00<?, ?it/s]"
      ]
     },
     "metadata": {},
     "output_type": "display_data"
    },
    {
     "data": {
      "application/vnd.jupyter.widget-view+json": {
       "model_id": "08ab1497f7304625a75777c4446d503a",
       "version_major": 2,
       "version_minor": 0
      },
      "text/plain": [
       "  0%|          | 0/197 [00:00<?, ?it/s]"
      ]
     },
     "metadata": {},
     "output_type": "display_data"
    },
    {
     "name": "stdout",
     "output_type": "stream",
     "text": [
      "Epoch [51/500], Train Loss: 0.0398, Train Accuracy: 0.9881 Valid Loss: 0.6994, Valid Accuracy: 0.8487\n"
     ]
    },
    {
     "data": {
      "application/vnd.jupyter.widget-view+json": {
       "model_id": "27b466a0376441488dede65b96f9cb93",
       "version_major": 2,
       "version_minor": 0
      },
      "text/plain": [
       "  0%|          | 0/295 [00:00<?, ?it/s]"
      ]
     },
     "metadata": {},
     "output_type": "display_data"
    },
    {
     "data": {
      "application/vnd.jupyter.widget-view+json": {
       "model_id": "6445f184db6445dbb5acc536435a09ef",
       "version_major": 2,
       "version_minor": 0
      },
      "text/plain": [
       "  0%|          | 0/197 [00:00<?, ?it/s]"
      ]
     },
     "metadata": {},
     "output_type": "display_data"
    },
    {
     "name": "stdout",
     "output_type": "stream",
     "text": [
      "Epoch [52/500], Train Loss: 0.0327, Train Accuracy: 0.9898 Valid Loss: 0.5889, Valid Accuracy: 0.8799\n"
     ]
    },
    {
     "data": {
      "application/vnd.jupyter.widget-view+json": {
       "model_id": "8da916d9576644de885760ed1409a862",
       "version_major": 2,
       "version_minor": 0
      },
      "text/plain": [
       "  0%|          | 0/295 [00:00<?, ?it/s]"
      ]
     },
     "metadata": {},
     "output_type": "display_data"
    },
    {
     "data": {
      "application/vnd.jupyter.widget-view+json": {
       "model_id": "b3c60e6d0fc74c11835db23e14785f7c",
       "version_major": 2,
       "version_minor": 0
      },
      "text/plain": [
       "  0%|          | 0/197 [00:00<?, ?it/s]"
      ]
     },
     "metadata": {},
     "output_type": "display_data"
    },
    {
     "name": "stdout",
     "output_type": "stream",
     "text": [
      "Epoch [53/500], Train Loss: 0.0352, Train Accuracy: 0.9890 Valid Loss: 0.5548, Valid Accuracy: 0.8621\n"
     ]
    },
    {
     "data": {
      "application/vnd.jupyter.widget-view+json": {
       "model_id": "90e2af51b2464f19a17c8a7dbe873e6a",
       "version_major": 2,
       "version_minor": 0
      },
      "text/plain": [
       "  0%|          | 0/295 [00:00<?, ?it/s]"
      ]
     },
     "metadata": {},
     "output_type": "display_data"
    },
    {
     "data": {
      "application/vnd.jupyter.widget-view+json": {
       "model_id": "dbcb6e266820428094559eea5959c105",
       "version_major": 2,
       "version_minor": 0
      },
      "text/plain": [
       "  0%|          | 0/197 [00:00<?, ?it/s]"
      ]
     },
     "metadata": {},
     "output_type": "display_data"
    },
    {
     "name": "stdout",
     "output_type": "stream",
     "text": [
      "Epoch [54/500], Train Loss: 0.0276, Train Accuracy: 0.9902 Valid Loss: 0.5072, Valid Accuracy: 0.8850\n"
     ]
    },
    {
     "data": {
      "application/vnd.jupyter.widget-view+json": {
       "model_id": "44a3ae4568704113bf9bdf15eaea3ff4",
       "version_major": 2,
       "version_minor": 0
      },
      "text/plain": [
       "  0%|          | 0/295 [00:00<?, ?it/s]"
      ]
     },
     "metadata": {},
     "output_type": "display_data"
    },
    {
     "data": {
      "application/vnd.jupyter.widget-view+json": {
       "model_id": "853929defc224b88a0b505e17dbf4ffe",
       "version_major": 2,
       "version_minor": 0
      },
      "text/plain": [
       "  0%|          | 0/197 [00:00<?, ?it/s]"
      ]
     },
     "metadata": {},
     "output_type": "display_data"
    },
    {
     "name": "stdout",
     "output_type": "stream",
     "text": [
      "Epoch [55/500], Train Loss: 0.0363, Train Accuracy: 0.9890 Valid Loss: 0.7525, Valid Accuracy: 0.8309\n"
     ]
    },
    {
     "data": {
      "application/vnd.jupyter.widget-view+json": {
       "model_id": "c9ed9fb4ee134cb3b5d6048e88cf304a",
       "version_major": 2,
       "version_minor": 0
      },
      "text/plain": [
       "  0%|          | 0/295 [00:00<?, ?it/s]"
      ]
     },
     "metadata": {},
     "output_type": "display_data"
    },
    {
     "data": {
      "application/vnd.jupyter.widget-view+json": {
       "model_id": "babb05e77843405dbb6b3fc8407be5f8",
       "version_major": 2,
       "version_minor": 0
      },
      "text/plain": [
       "  0%|          | 0/197 [00:00<?, ?it/s]"
      ]
     },
     "metadata": {},
     "output_type": "display_data"
    },
    {
     "name": "stdout",
     "output_type": "stream",
     "text": [
      "Epoch [56/500], Train Loss: 0.0370, Train Accuracy: 0.9887 Valid Loss: 0.5626, Valid Accuracy: 0.8605\n"
     ]
    },
    {
     "data": {
      "application/vnd.jupyter.widget-view+json": {
       "model_id": "c2d9e04efa3549fd91b186785eb4eef8",
       "version_major": 2,
       "version_minor": 0
      },
      "text/plain": [
       "  0%|          | 0/295 [00:00<?, ?it/s]"
      ]
     },
     "metadata": {},
     "output_type": "display_data"
    },
    {
     "data": {
      "application/vnd.jupyter.widget-view+json": {
       "model_id": "5b24734d7ead47139f78fa1a80558391",
       "version_major": 2,
       "version_minor": 0
      },
      "text/plain": [
       "  0%|          | 0/197 [00:00<?, ?it/s]"
      ]
     },
     "metadata": {},
     "output_type": "display_data"
    },
    {
     "name": "stdout",
     "output_type": "stream",
     "text": [
      "Epoch [57/500], Train Loss: 0.0451, Train Accuracy: 0.9851 Valid Loss: 0.5722, Valid Accuracy: 0.8589\n"
     ]
    },
    {
     "data": {
      "application/vnd.jupyter.widget-view+json": {
       "model_id": "37d3b26f8c1d46dc8866f84163425efe",
       "version_major": 2,
       "version_minor": 0
      },
      "text/plain": [
       "  0%|          | 0/295 [00:00<?, ?it/s]"
      ]
     },
     "metadata": {},
     "output_type": "display_data"
    },
    {
     "data": {
      "application/vnd.jupyter.widget-view+json": {
       "model_id": "47dbca1128bd4708b1edc7a4e41cc02f",
       "version_major": 2,
       "version_minor": 0
      },
      "text/plain": [
       "  0%|          | 0/197 [00:00<?, ?it/s]"
      ]
     },
     "metadata": {},
     "output_type": "display_data"
    },
    {
     "name": "stdout",
     "output_type": "stream",
     "text": [
      "Epoch [58/500], Train Loss: 0.0249, Train Accuracy: 0.9913 Valid Loss: 0.5606, Valid Accuracy: 0.8825\n"
     ]
    },
    {
     "data": {
      "application/vnd.jupyter.widget-view+json": {
       "model_id": "a7db33986e0b46708903425be7e4a28b",
       "version_major": 2,
       "version_minor": 0
      },
      "text/plain": [
       "  0%|          | 0/295 [00:00<?, ?it/s]"
      ]
     },
     "metadata": {},
     "output_type": "display_data"
    },
    {
     "data": {
      "application/vnd.jupyter.widget-view+json": {
       "model_id": "799880046d124017b35d005dbb687e99",
       "version_major": 2,
       "version_minor": 0
      },
      "text/plain": [
       "  0%|          | 0/197 [00:00<?, ?it/s]"
      ]
     },
     "metadata": {},
     "output_type": "display_data"
    },
    {
     "name": "stdout",
     "output_type": "stream",
     "text": [
      "Epoch [59/500], Train Loss: 0.0336, Train Accuracy: 0.9900 Valid Loss: 0.7340, Valid Accuracy: 0.8500\n"
     ]
    },
    {
     "data": {
      "application/vnd.jupyter.widget-view+json": {
       "model_id": "e5aee94ae57849158102048b0a0d0fa8",
       "version_major": 2,
       "version_minor": 0
      },
      "text/plain": [
       "  0%|          | 0/295 [00:00<?, ?it/s]"
      ]
     },
     "metadata": {},
     "output_type": "display_data"
    },
    {
     "data": {
      "application/vnd.jupyter.widget-view+json": {
       "model_id": "05af65849964408c8d8dad3cd7263be5",
       "version_major": 2,
       "version_minor": 0
      },
      "text/plain": [
       "  0%|          | 0/197 [00:00<?, ?it/s]"
      ]
     },
     "metadata": {},
     "output_type": "display_data"
    },
    {
     "name": "stdout",
     "output_type": "stream",
     "text": [
      "Epoch [60/500], Train Loss: 0.0300, Train Accuracy: 0.9902 Valid Loss: 0.7351, Valid Accuracy: 0.8506\n"
     ]
    },
    {
     "data": {
      "application/vnd.jupyter.widget-view+json": {
       "model_id": "bc6cfc6b8e754d1dadcd8d8e5c2ef568",
       "version_major": 2,
       "version_minor": 0
      },
      "text/plain": [
       "  0%|          | 0/295 [00:00<?, ?it/s]"
      ]
     },
     "metadata": {},
     "output_type": "display_data"
    },
    {
     "data": {
      "application/vnd.jupyter.widget-view+json": {
       "model_id": "9cf0908c5ce147848bf0d0b9a01ca5dc",
       "version_major": 2,
       "version_minor": 0
      },
      "text/plain": [
       "  0%|          | 0/197 [00:00<?, ?it/s]"
      ]
     },
     "metadata": {},
     "output_type": "display_data"
    },
    {
     "name": "stdout",
     "output_type": "stream",
     "text": [
      "Epoch [61/500], Train Loss: 0.0383, Train Accuracy: 0.9862 Valid Loss: 0.9306, Valid Accuracy: 0.7876\n"
     ]
    },
    {
     "data": {
      "application/vnd.jupyter.widget-view+json": {
       "model_id": "c0a7b15460de43c9bf99c3890b0284d0",
       "version_major": 2,
       "version_minor": 0
      },
      "text/plain": [
       "  0%|          | 0/295 [00:00<?, ?it/s]"
      ]
     },
     "metadata": {},
     "output_type": "display_data"
    },
    {
     "data": {
      "application/vnd.jupyter.widget-view+json": {
       "model_id": "6346aff98d0c456baf9f6bb924832557",
       "version_major": 2,
       "version_minor": 0
      },
      "text/plain": [
       "  0%|          | 0/197 [00:00<?, ?it/s]"
      ]
     },
     "metadata": {},
     "output_type": "display_data"
    },
    {
     "name": "stdout",
     "output_type": "stream",
     "text": [
      "Epoch [62/500], Train Loss: 0.0479, Train Accuracy: 0.9830 Valid Loss: 0.6604, Valid Accuracy: 0.8624\n"
     ]
    },
    {
     "data": {
      "application/vnd.jupyter.widget-view+json": {
       "model_id": "2c73f902ca95496b9b696f243468e741",
       "version_major": 2,
       "version_minor": 0
      },
      "text/plain": [
       "  0%|          | 0/295 [00:00<?, ?it/s]"
      ]
     },
     "metadata": {},
     "output_type": "display_data"
    },
    {
     "data": {
      "application/vnd.jupyter.widget-view+json": {
       "model_id": "c568c8022390422d9bf968e797c7f118",
       "version_major": 2,
       "version_minor": 0
      },
      "text/plain": [
       "  0%|          | 0/197 [00:00<?, ?it/s]"
      ]
     },
     "metadata": {},
     "output_type": "display_data"
    },
    {
     "name": "stdout",
     "output_type": "stream",
     "text": [
      "Epoch [63/500], Train Loss: 0.0243, Train Accuracy: 0.9913 Valid Loss: 0.6775, Valid Accuracy: 0.8494\n"
     ]
    },
    {
     "data": {
      "application/vnd.jupyter.widget-view+json": {
       "model_id": "4ded796a6f3d4ef7acbea74a5a01e54f",
       "version_major": 2,
       "version_minor": 0
      },
      "text/plain": [
       "  0%|          | 0/295 [00:00<?, ?it/s]"
      ]
     },
     "metadata": {},
     "output_type": "display_data"
    },
    {
     "data": {
      "application/vnd.jupyter.widget-view+json": {
       "model_id": "39c07be4697a4a0ca2c497f616bdbd97",
       "version_major": 2,
       "version_minor": 0
      },
      "text/plain": [
       "  0%|          | 0/197 [00:00<?, ?it/s]"
      ]
     },
     "metadata": {},
     "output_type": "display_data"
    },
    {
     "name": "stdout",
     "output_type": "stream",
     "text": [
      "Epoch [64/500], Train Loss: 0.0310, Train Accuracy: 0.9898 Valid Loss: 0.5721, Valid Accuracy: 0.8812\n"
     ]
    },
    {
     "data": {
      "application/vnd.jupyter.widget-view+json": {
       "model_id": "0e55b53618664d4d8cbb247b6282b36c",
       "version_major": 2,
       "version_minor": 0
      },
      "text/plain": [
       "  0%|          | 0/295 [00:00<?, ?it/s]"
      ]
     },
     "metadata": {},
     "output_type": "display_data"
    },
    {
     "data": {
      "application/vnd.jupyter.widget-view+json": {
       "model_id": "59f12de6160b427aacf55cd2eb95c6d2",
       "version_major": 2,
       "version_minor": 0
      },
      "text/plain": [
       "  0%|          | 0/197 [00:00<?, ?it/s]"
      ]
     },
     "metadata": {},
     "output_type": "display_data"
    },
    {
     "name": "stdout",
     "output_type": "stream",
     "text": [
      "Epoch [65/500], Train Loss: 0.0356, Train Accuracy: 0.9883 Valid Loss: 0.5321, Valid Accuracy: 0.8930\n"
     ]
    },
    {
     "data": {
      "application/vnd.jupyter.widget-view+json": {
       "model_id": "be17002ded64481d923348c82b7e3d0f",
       "version_major": 2,
       "version_minor": 0
      },
      "text/plain": [
       "  0%|          | 0/295 [00:00<?, ?it/s]"
      ]
     },
     "metadata": {},
     "output_type": "display_data"
    },
    {
     "data": {
      "application/vnd.jupyter.widget-view+json": {
       "model_id": "7480213995864c66a999a6cb4ca8a7dd",
       "version_major": 2,
       "version_minor": 0
      },
      "text/plain": [
       "  0%|          | 0/197 [00:00<?, ?it/s]"
      ]
     },
     "metadata": {},
     "output_type": "display_data"
    },
    {
     "name": "stdout",
     "output_type": "stream",
     "text": [
      "Epoch [66/500], Train Loss: 0.0312, Train Accuracy: 0.9900 Valid Loss: 0.5072, Valid Accuracy: 0.8834\n",
      "Early Stopping\n"
     ]
    }
   ],
   "source": [
    "model = training_loop(model, train_dataloader, train_dataset, valid_dataloader, valid_dataset, criterion, optimizer, 500)"
   ]
  },
  {
   "cell_type": "code",
   "execution_count": 44,
   "metadata": {},
   "outputs": [
    {
     "data": {
      "application/vnd.jupyter.widget-view+json": {
       "model_id": "7d362ad82b844bd6a510c85d72490036",
       "version_major": 2,
       "version_minor": 0
      },
      "text/plain": [
       "VBox(children=(Label(value='0.006 MB of 0.006 MB uploaded\\r'), FloatProgress(value=1.0, max=1.0)))"
      ]
     },
     "metadata": {},
     "output_type": "display_data"
    },
    {
     "data": {
      "text/html": [
       "<style>\n",
       "    table.wandb td:nth-child(1) { padding: 0 10px; text-align: left ; width: auto;} td:nth-child(2) {text-align: left ; width: 100%}\n",
       "    .wandb-row { display: flex; flex-direction: row; flex-wrap: wrap; justify-content: flex-start; width: 100% }\n",
       "    .wandb-col { display: flex; flex-direction: column; flex-basis: 100%; flex: 1; padding: 10px; }\n",
       "    </style>\n",
       "<div class=\"wandb-row\"><div class=\"wandb-col\"><h3>Run history:</h3><br/><table class=\"wandb\"><tr><td>Train Accuracy</td><td>▁▅▇▇▇▇▇▇▇█▇█████████████████████████████</td></tr><tr><td>Train Loss</td><td>█▄▂▂▂▂▂▂▂▁▁▁▁▁▁▁▁▁▁▁▁▁▁▁▁▁▁▁▁▁▁▁▁▁▁▁▁▁▁▁</td></tr><tr><td>Valid Accuracy</td><td>▂▅▆▆▅▇▆▅▆█▆▇▇▆▇▅▆▆▆▅▅▅▆▇█▇▇▃▆▆▅▇▇▆▆▅▁▆▇▇</td></tr><tr><td>Valid Loss</td><td>▄▂▂▂▃▁▂▄▃▁▃▂▃▃▂▅▃▃▆▇▅▅▃▃▂▄▄▅▃▄▅▄▃▄▄▆█▅▄▃</td></tr></table><br/></div><div class=\"wandb-col\"><h3>Run summary:</h3><br/><table class=\"wandb\"><tr><td>Train Accuracy</td><td>0.99002</td></tr><tr><td>Train Loss</td><td>0.0312</td></tr><tr><td>Valid Accuracy</td><td>0.88344</td></tr><tr><td>Valid Loss</td><td>0.50715</td></tr></table><br/></div></div>"
      ],
      "text/plain": [
       "<IPython.core.display.HTML object>"
      ]
     },
     "metadata": {},
     "output_type": "display_data"
    },
    {
     "data": {
      "text/html": [
       " View run <strong style=\"color:#cdcd00\">training</strong> at: <a href='https://wandb.ai/greedjar7498/CV_contest_V13/runs/bi4hl22j' target=\"_blank\">https://wandb.ai/greedjar7498/CV_contest_V13/runs/bi4hl22j</a><br/> View project at: <a href='https://wandb.ai/greedjar7498/CV_contest_V13' target=\"_blank\">https://wandb.ai/greedjar7498/CV_contest_V13</a><br/>Synced 6 W&B file(s), 0 media file(s), 0 artifact file(s) and 0 other file(s)"
      ],
      "text/plain": [
       "<IPython.core.display.HTML object>"
      ]
     },
     "metadata": {},
     "output_type": "display_data"
    },
    {
     "data": {
      "text/html": [
       "Find logs at: <code>./wandb/run-20240808_120452-bi4hl22j/logs</code>"
      ],
      "text/plain": [
       "<IPython.core.display.HTML object>"
      ]
     },
     "metadata": {},
     "output_type": "display_data"
    },
    {
     "data": {
      "text/html": [
       "The new W&B backend becomes opt-out in version 0.18.0; try it out with `wandb.require(\"core\")`! See https://wandb.me/wandb-core for more information."
      ],
      "text/plain": [
       "<IPython.core.display.HTML object>"
      ]
     },
     "metadata": {},
     "output_type": "display_data"
    }
   ],
   "source": [
    "wandb.finish()"
   ]
  },
  {
   "cell_type": "markdown",
   "metadata": {},
   "source": [
    "# Submission"
   ]
  },
  {
   "cell_type": "code",
   "execution_count": 5,
   "metadata": {},
   "outputs": [],
   "source": [
    "model = timm.create_model(\n",
    "    'efficientnet_b4',\n",
    "    pretrained=True,\n",
    "    num_classes=17\n",
    ").to(device)\n",
    "model.load_state_dict(torch.load('/data/ephemeral/home/model/models/model_v13_last.pt'))\n",
    "criterion = torch.nn.CrossEntropyLoss()"
   ]
  },
  {
   "cell_type": "code",
   "execution_count": 6,
   "metadata": {},
   "outputs": [],
   "source": [
    "class sub_customdataset(torch.utils.data.Dataset):\n",
    "    def __init__(self, csv, path, transforms):\n",
    "        super().__init__()\n",
    "        self.df = pd.read_csv(csv).values\n",
    "        self.path = path\n",
    "        self.transforms = transforms\n",
    "\n",
    "    def __len__(self):\n",
    "        return len(self.df)\n",
    "    \n",
    "    def __getitem__(self, idx):\n",
    "        name, target = self.df[idx]\n",
    "        img = np.array(Image.open(os.path.join(self.path, name)))\n",
    "        img = self.transforms(img)\n",
    "    \n",
    "        return img, target"
   ]
  },
  {
   "cell_type": "code",
   "execution_count": 7,
   "metadata": {},
   "outputs": [],
   "source": [
    "transforms = T.Compose([\n",
    "    T.ToTensor(),\n",
    "    T.Resize((480, 480))\n",
    "])\n",
    "\n",
    "sub_dataset = sub_customdataset('/data/ephemeral/home/data/sample_submission.csv', '/data/ephemeral/home/data/test/', transforms=transforms)"
   ]
  },
  {
   "cell_type": "code",
   "execution_count": 8,
   "metadata": {},
   "outputs": [],
   "source": [
    "batch_size = 16\n",
    "\n",
    "sub_dataloader = torch.utils.data.DataLoader(sub_dataset, batch_size=batch_size, shuffle=False, num_workers=16)"
   ]
  },
  {
   "cell_type": "code",
   "execution_count": 9,
   "metadata": {},
   "outputs": [
    {
     "data": {
      "application/vnd.jupyter.widget-view+json": {
       "model_id": "7e391b7ed0d24ae195d8a80075a07c45",
       "version_major": 2,
       "version_minor": 0
      },
      "text/plain": [
       "  0%|          | 0/197 [00:00<?, ?it/s]"
      ]
     },
     "metadata": {},
     "output_type": "display_data"
    }
   ],
   "source": [
    "model.eval()\n",
    "\n",
    "all_preds = []\n",
    "all_labels = []\n",
    "all_images = []\n",
    "\n",
    "with torch.no_grad():\n",
    "    tbar = tqdm(sub_dataloader)\n",
    "    for images, labels in tbar:\n",
    "        images, labels = images.to(device), labels.to(device)\n",
    "        outputs = model(images)\n",
    "\n",
    "        max_prob, predicted = torch.max(outputs, 1)\n",
    "\n",
    "        all_preds.extend(predicted)\n",
    "        all_labels.extend(labels)\n",
    "        all_images.extend(images)\n"
   ]
  },
  {
   "cell_type": "code",
   "execution_count": 10,
   "metadata": {},
   "outputs": [
    {
     "data": {
      "text/plain": [
       "[tensor(2, device='cuda:0'),\n",
       " tensor(6, device='cuda:0'),\n",
       " tensor(5, device='cuda:0'),\n",
       " tensor(12, device='cuda:0'),\n",
       " tensor(2, device='cuda:0'),\n",
       " tensor(15, device='cuda:0'),\n",
       " tensor(0, device='cuda:0'),\n",
       " tensor(0, device='cuda:0'),\n",
       " tensor(15, device='cuda:0'),\n",
       " tensor(11, device='cuda:0'),\n",
       " tensor(5, device='cuda:0'),\n",
       " tensor(7, device='cuda:0'),\n",
       " tensor(16, device='cuda:0'),\n",
       " tensor(9, device='cuda:0'),\n",
       " tensor(15, device='cuda:0'),\n",
       " tensor(7, device='cuda:0'),\n",
       " tensor(3, device='cuda:0'),\n",
       " tensor(5, device='cuda:0'),\n",
       " tensor(13, device='cuda:0'),\n",
       " tensor(11, device='cuda:0'),\n",
       " tensor(12, device='cuda:0'),\n",
       " tensor(12, device='cuda:0'),\n",
       " tensor(1, device='cuda:0'),\n",
       " tensor(6, device='cuda:0'),\n",
       " tensor(3, device='cuda:0'),\n",
       " tensor(0, device='cuda:0'),\n",
       " tensor(14, device='cuda:0'),\n",
       " tensor(16, device='cuda:0'),\n",
       " tensor(0, device='cuda:0'),\n",
       " tensor(6, device='cuda:0'),\n",
       " tensor(3, device='cuda:0'),\n",
       " tensor(0, device='cuda:0'),\n",
       " tensor(13, device='cuda:0'),\n",
       " tensor(2, device='cuda:0'),\n",
       " tensor(5, device='cuda:0'),\n",
       " tensor(16, device='cuda:0'),\n",
       " tensor(13, device='cuda:0'),\n",
       " tensor(14, device='cuda:0'),\n",
       " tensor(15, device='cuda:0'),\n",
       " tensor(0, device='cuda:0'),\n",
       " tensor(0, device='cuda:0'),\n",
       " tensor(9, device='cuda:0'),\n",
       " tensor(12, device='cuda:0'),\n",
       " tensor(9, device='cuda:0'),\n",
       " tensor(0, device='cuda:0'),\n",
       " tensor(8, device='cuda:0'),\n",
       " tensor(5, device='cuda:0'),\n",
       " tensor(0, device='cuda:0'),\n",
       " tensor(11, device='cuda:0'),\n",
       " tensor(7, device='cuda:0'),\n",
       " tensor(10, device='cuda:0'),\n",
       " tensor(10, device='cuda:0'),\n",
       " tensor(10, device='cuda:0'),\n",
       " tensor(6, device='cuda:0'),\n",
       " tensor(7, device='cuda:0'),\n",
       " tensor(12, device='cuda:0'),\n",
       " tensor(9, device='cuda:0'),\n",
       " tensor(5, device='cuda:0'),\n",
       " tensor(13, device='cuda:0'),\n",
       " tensor(13, device='cuda:0'),\n",
       " tensor(12, device='cuda:0'),\n",
       " tensor(4, device='cuda:0'),\n",
       " tensor(5, device='cuda:0'),\n",
       " tensor(5, device='cuda:0'),\n",
       " tensor(6, device='cuda:0'),\n",
       " tensor(10, device='cuda:0'),\n",
       " tensor(5, device='cuda:0'),\n",
       " tensor(7, device='cuda:0'),\n",
       " tensor(10, device='cuda:0'),\n",
       " tensor(6, device='cuda:0'),\n",
       " tensor(11, device='cuda:0'),\n",
       " tensor(10, device='cuda:0'),\n",
       " tensor(8, device='cuda:0'),\n",
       " tensor(15, device='cuda:0'),\n",
       " tensor(11, device='cuda:0'),\n",
       " tensor(15, device='cuda:0'),\n",
       " tensor(6, device='cuda:0'),\n",
       " tensor(12, device='cuda:0'),\n",
       " tensor(12, device='cuda:0'),\n",
       " tensor(13, device='cuda:0'),\n",
       " tensor(8, device='cuda:0'),\n",
       " tensor(9, device='cuda:0'),\n",
       " tensor(9, device='cuda:0'),\n",
       " tensor(11, device='cuda:0'),\n",
       " tensor(10, device='cuda:0'),\n",
       " tensor(10, device='cuda:0'),\n",
       " tensor(5, device='cuda:0'),\n",
       " tensor(13, device='cuda:0'),\n",
       " tensor(10, device='cuda:0'),\n",
       " tensor(0, device='cuda:0'),\n",
       " tensor(10, device='cuda:0'),\n",
       " tensor(8, device='cuda:0'),\n",
       " tensor(5, device='cuda:0'),\n",
       " tensor(15, device='cuda:0'),\n",
       " tensor(7, device='cuda:0'),\n",
       " tensor(16, device='cuda:0'),\n",
       " tensor(11, device='cuda:0'),\n",
       " tensor(11, device='cuda:0'),\n",
       " tensor(14, device='cuda:0'),\n",
       " tensor(11, device='cuda:0'),\n",
       " tensor(7, device='cuda:0'),\n",
       " tensor(7, device='cuda:0'),\n",
       " tensor(13, device='cuda:0'),\n",
       " tensor(1, device='cuda:0'),\n",
       " tensor(15, device='cuda:0'),\n",
       " tensor(11, device='cuda:0'),\n",
       " tensor(2, device='cuda:0'),\n",
       " tensor(12, device='cuda:0'),\n",
       " tensor(16, device='cuda:0'),\n",
       " tensor(8, device='cuda:0'),\n",
       " tensor(6, device='cuda:0'),\n",
       " tensor(2, device='cuda:0'),\n",
       " tensor(0, device='cuda:0'),\n",
       " tensor(4, device='cuda:0'),\n",
       " tensor(12, device='cuda:0'),\n",
       " tensor(16, device='cuda:0'),\n",
       " tensor(2, device='cuda:0'),\n",
       " tensor(7, device='cuda:0'),\n",
       " tensor(11, device='cuda:0'),\n",
       " tensor(4, device='cuda:0'),\n",
       " tensor(2, device='cuda:0'),\n",
       " tensor(6, device='cuda:0'),\n",
       " tensor(5, device='cuda:0'),\n",
       " tensor(8, device='cuda:0'),\n",
       " tensor(10, device='cuda:0'),\n",
       " tensor(6, device='cuda:0'),\n",
       " tensor(4, device='cuda:0'),\n",
       " tensor(4, device='cuda:0'),\n",
       " tensor(3, device='cuda:0'),\n",
       " tensor(6, device='cuda:0'),\n",
       " tensor(5, device='cuda:0'),\n",
       " tensor(7, device='cuda:0'),\n",
       " tensor(15, device='cuda:0'),\n",
       " tensor(10, device='cuda:0'),\n",
       " tensor(16, device='cuda:0'),\n",
       " tensor(16, device='cuda:0'),\n",
       " tensor(7, device='cuda:0'),\n",
       " tensor(6, device='cuda:0'),\n",
       " tensor(6, device='cuda:0'),\n",
       " tensor(8, device='cuda:0'),\n",
       " tensor(4, device='cuda:0'),\n",
       " tensor(8, device='cuda:0'),\n",
       " tensor(14, device='cuda:0'),\n",
       " tensor(2, device='cuda:0'),\n",
       " tensor(12, device='cuda:0'),\n",
       " tensor(8, device='cuda:0'),\n",
       " tensor(3, device='cuda:0'),\n",
       " tensor(5, device='cuda:0'),\n",
       " tensor(9, device='cuda:0'),\n",
       " tensor(8, device='cuda:0'),\n",
       " tensor(6, device='cuda:0'),\n",
       " tensor(8, device='cuda:0'),\n",
       " tensor(16, device='cuda:0'),\n",
       " tensor(12, device='cuda:0'),\n",
       " tensor(11, device='cuda:0'),\n",
       " tensor(16, device='cuda:0'),\n",
       " tensor(9, device='cuda:0'),\n",
       " tensor(15, device='cuda:0'),\n",
       " tensor(6, device='cuda:0'),\n",
       " tensor(8, device='cuda:0'),\n",
       " tensor(5, device='cuda:0'),\n",
       " tensor(5, device='cuda:0'),\n",
       " tensor(10, device='cuda:0'),\n",
       " tensor(10, device='cuda:0'),\n",
       " tensor(16, device='cuda:0'),\n",
       " tensor(15, device='cuda:0'),\n",
       " tensor(11, device='cuda:0'),\n",
       " tensor(12, device='cuda:0'),\n",
       " tensor(16, device='cuda:0'),\n",
       " tensor(5, device='cuda:0'),\n",
       " tensor(2, device='cuda:0'),\n",
       " tensor(8, device='cuda:0'),\n",
       " tensor(0, device='cuda:0'),\n",
       " tensor(16, device='cuda:0'),\n",
       " tensor(9, device='cuda:0'),\n",
       " tensor(8, device='cuda:0'),\n",
       " tensor(16, device='cuda:0'),\n",
       " tensor(16, device='cuda:0'),\n",
       " tensor(7, device='cuda:0'),\n",
       " tensor(4, device='cuda:0'),\n",
       " tensor(11, device='cuda:0'),\n",
       " tensor(15, device='cuda:0'),\n",
       " tensor(9, device='cuda:0'),\n",
       " tensor(9, device='cuda:0'),\n",
       " tensor(2, device='cuda:0'),\n",
       " tensor(7, device='cuda:0'),\n",
       " tensor(11, device='cuda:0'),\n",
       " tensor(10, device='cuda:0'),\n",
       " tensor(9, device='cuda:0'),\n",
       " tensor(0, device='cuda:0'),\n",
       " tensor(4, device='cuda:0'),\n",
       " tensor(0, device='cuda:0'),\n",
       " tensor(16, device='cuda:0'),\n",
       " tensor(5, device='cuda:0'),\n",
       " tensor(14, device='cuda:0'),\n",
       " tensor(15, device='cuda:0'),\n",
       " tensor(0, device='cuda:0'),\n",
       " tensor(12, device='cuda:0'),\n",
       " tensor(0, device='cuda:0'),\n",
       " tensor(7, device='cuda:0'),\n",
       " tensor(13, device='cuda:0'),\n",
       " tensor(2, device='cuda:0'),\n",
       " tensor(6, device='cuda:0'),\n",
       " tensor(16, device='cuda:0'),\n",
       " tensor(16, device='cuda:0'),\n",
       " tensor(12, device='cuda:0'),\n",
       " tensor(8, device='cuda:0'),\n",
       " tensor(9, device='cuda:0'),\n",
       " tensor(0, device='cuda:0'),\n",
       " tensor(10, device='cuda:0'),\n",
       " tensor(5, device='cuda:0'),\n",
       " tensor(12, device='cuda:0'),\n",
       " tensor(14, device='cuda:0'),\n",
       " tensor(14, device='cuda:0'),\n",
       " tensor(11, device='cuda:0'),\n",
       " tensor(2, device='cuda:0'),\n",
       " tensor(0, device='cuda:0'),\n",
       " tensor(7, device='cuda:0'),\n",
       " tensor(0, device='cuda:0'),\n",
       " tensor(13, device='cuda:0'),\n",
       " tensor(12, device='cuda:0'),\n",
       " tensor(0, device='cuda:0'),\n",
       " tensor(16, device='cuda:0'),\n",
       " tensor(7, device='cuda:0'),\n",
       " tensor(12, device='cuda:0'),\n",
       " tensor(5, device='cuda:0'),\n",
       " tensor(3, device='cuda:0'),\n",
       " tensor(0, device='cuda:0'),\n",
       " tensor(7, device='cuda:0'),\n",
       " tensor(6, device='cuda:0'),\n",
       " tensor(0, device='cuda:0'),\n",
       " tensor(7, device='cuda:0'),\n",
       " tensor(12, device='cuda:0'),\n",
       " tensor(12, device='cuda:0'),\n",
       " tensor(9, device='cuda:0'),\n",
       " tensor(7, device='cuda:0'),\n",
       " tensor(9, device='cuda:0'),\n",
       " tensor(10, device='cuda:0'),\n",
       " tensor(9, device='cuda:0'),\n",
       " tensor(15, device='cuda:0'),\n",
       " tensor(10, device='cuda:0'),\n",
       " tensor(7, device='cuda:0'),\n",
       " tensor(9, device='cuda:0'),\n",
       " tensor(11, device='cuda:0'),\n",
       " tensor(12, device='cuda:0'),\n",
       " tensor(0, device='cuda:0'),\n",
       " tensor(1, device='cuda:0'),\n",
       " tensor(11, device='cuda:0'),\n",
       " tensor(12, device='cuda:0'),\n",
       " tensor(6, device='cuda:0'),\n",
       " tensor(3, device='cuda:0'),\n",
       " tensor(7, device='cuda:0'),\n",
       " tensor(4, device='cuda:0'),\n",
       " tensor(4, device='cuda:0'),\n",
       " tensor(14, device='cuda:0'),\n",
       " tensor(15, device='cuda:0'),\n",
       " tensor(4, device='cuda:0'),\n",
       " tensor(12, device='cuda:0'),\n",
       " tensor(4, device='cuda:0'),\n",
       " tensor(4, device='cuda:0'),\n",
       " tensor(0, device='cuda:0'),\n",
       " tensor(15, device='cuda:0'),\n",
       " tensor(13, device='cuda:0'),\n",
       " tensor(11, device='cuda:0'),\n",
       " tensor(6, device='cuda:0'),\n",
       " tensor(12, device='cuda:0'),\n",
       " tensor(8, device='cuda:0'),\n",
       " tensor(7, device='cuda:0'),\n",
       " tensor(9, device='cuda:0'),\n",
       " tensor(0, device='cuda:0'),\n",
       " tensor(0, device='cuda:0'),\n",
       " tensor(7, device='cuda:0'),\n",
       " tensor(4, device='cuda:0'),\n",
       " tensor(5, device='cuda:0'),\n",
       " tensor(0, device='cuda:0'),\n",
       " tensor(0, device='cuda:0'),\n",
       " tensor(4, device='cuda:0'),\n",
       " tensor(0, device='cuda:0'),\n",
       " tensor(9, device='cuda:0'),\n",
       " tensor(12, device='cuda:0'),\n",
       " tensor(1, device='cuda:0'),\n",
       " tensor(7, device='cuda:0'),\n",
       " tensor(4, device='cuda:0'),\n",
       " tensor(8, device='cuda:0'),\n",
       " tensor(12, device='cuda:0'),\n",
       " tensor(4, device='cuda:0'),\n",
       " tensor(15, device='cuda:0'),\n",
       " tensor(9, device='cuda:0'),\n",
       " tensor(15, device='cuda:0'),\n",
       " tensor(15, device='cuda:0'),\n",
       " tensor(9, device='cuda:0'),\n",
       " tensor(4, device='cuda:0'),\n",
       " tensor(8, device='cuda:0'),\n",
       " tensor(7, device='cuda:0'),\n",
       " tensor(15, device='cuda:0'),\n",
       " tensor(1, device='cuda:0'),\n",
       " tensor(9, device='cuda:0'),\n",
       " tensor(7, device='cuda:0'),\n",
       " tensor(8, device='cuda:0'),\n",
       " tensor(11, device='cuda:0'),\n",
       " tensor(14, device='cuda:0'),\n",
       " tensor(11, device='cuda:0'),\n",
       " tensor(6, device='cuda:0'),\n",
       " tensor(5, device='cuda:0'),\n",
       " tensor(13, device='cuda:0'),\n",
       " tensor(16, device='cuda:0'),\n",
       " tensor(13, device='cuda:0'),\n",
       " tensor(15, device='cuda:0'),\n",
       " tensor(5, device='cuda:0'),\n",
       " tensor(9, device='cuda:0'),\n",
       " tensor(7, device='cuda:0'),\n",
       " tensor(6, device='cuda:0'),\n",
       " tensor(2, device='cuda:0'),\n",
       " tensor(16, device='cuda:0'),\n",
       " tensor(7, device='cuda:0'),\n",
       " tensor(14, device='cuda:0'),\n",
       " tensor(7, device='cuda:0'),\n",
       " tensor(15, device='cuda:0'),\n",
       " tensor(8, device='cuda:0'),\n",
       " tensor(15, device='cuda:0'),\n",
       " tensor(13, device='cuda:0'),\n",
       " tensor(15, device='cuda:0'),\n",
       " tensor(11, device='cuda:0'),\n",
       " tensor(10, device='cuda:0'),\n",
       " tensor(2, device='cuda:0'),\n",
       " tensor(12, device='cuda:0'),\n",
       " tensor(16, device='cuda:0'),\n",
       " tensor(6, device='cuda:0'),\n",
       " tensor(5, device='cuda:0'),\n",
       " tensor(9, device='cuda:0'),\n",
       " tensor(16, device='cuda:0'),\n",
       " tensor(7, device='cuda:0'),\n",
       " tensor(16, device='cuda:0'),\n",
       " tensor(0, device='cuda:0'),\n",
       " tensor(16, device='cuda:0'),\n",
       " tensor(9, device='cuda:0'),\n",
       " tensor(15, device='cuda:0'),\n",
       " tensor(10, device='cuda:0'),\n",
       " tensor(6, device='cuda:0'),\n",
       " tensor(6, device='cuda:0'),\n",
       " tensor(1, device='cuda:0'),\n",
       " tensor(15, device='cuda:0'),\n",
       " tensor(1, device='cuda:0'),\n",
       " tensor(5, device='cuda:0'),\n",
       " tensor(5, device='cuda:0'),\n",
       " tensor(3, device='cuda:0'),\n",
       " tensor(4, device='cuda:0'),\n",
       " tensor(13, device='cuda:0'),\n",
       " tensor(3, device='cuda:0'),\n",
       " tensor(1, device='cuda:0'),\n",
       " tensor(16, device='cuda:0'),\n",
       " tensor(10, device='cuda:0'),\n",
       " tensor(4, device='cuda:0'),\n",
       " tensor(7, device='cuda:0'),\n",
       " tensor(5, device='cuda:0'),\n",
       " tensor(3, device='cuda:0'),\n",
       " tensor(12, device='cuda:0'),\n",
       " tensor(7, device='cuda:0'),\n",
       " tensor(7, device='cuda:0'),\n",
       " tensor(6, device='cuda:0'),\n",
       " tensor(11, device='cuda:0'),\n",
       " tensor(3, device='cuda:0'),\n",
       " tensor(7, device='cuda:0'),\n",
       " tensor(10, device='cuda:0'),\n",
       " tensor(3, device='cuda:0'),\n",
       " tensor(7, device='cuda:0'),\n",
       " tensor(12, device='cuda:0'),\n",
       " tensor(10, device='cuda:0'),\n",
       " tensor(5, device='cuda:0'),\n",
       " tensor(9, device='cuda:0'),\n",
       " tensor(15, device='cuda:0'),\n",
       " tensor(13, device='cuda:0'),\n",
       " tensor(11, device='cuda:0'),\n",
       " tensor(3, device='cuda:0'),\n",
       " tensor(9, device='cuda:0'),\n",
       " tensor(1, device='cuda:0'),\n",
       " tensor(8, device='cuda:0'),\n",
       " tensor(3, device='cuda:0'),\n",
       " tensor(4, device='cuda:0'),\n",
       " tensor(16, device='cuda:0'),\n",
       " tensor(6, device='cuda:0'),\n",
       " tensor(0, device='cuda:0'),\n",
       " tensor(6, device='cuda:0'),\n",
       " tensor(7, device='cuda:0'),\n",
       " tensor(16, device='cuda:0'),\n",
       " tensor(10, device='cuda:0'),\n",
       " tensor(4, device='cuda:0'),\n",
       " tensor(9, device='cuda:0'),\n",
       " tensor(0, device='cuda:0'),\n",
       " tensor(13, device='cuda:0'),\n",
       " tensor(9, device='cuda:0'),\n",
       " tensor(2, device='cuda:0'),\n",
       " tensor(13, device='cuda:0'),\n",
       " tensor(0, device='cuda:0'),\n",
       " tensor(8, device='cuda:0'),\n",
       " tensor(7, device='cuda:0'),\n",
       " tensor(0, device='cuda:0'),\n",
       " tensor(2, device='cuda:0'),\n",
       " tensor(4, device='cuda:0'),\n",
       " tensor(12, device='cuda:0'),\n",
       " tensor(16, device='cuda:0'),\n",
       " tensor(0, device='cuda:0'),\n",
       " tensor(15, device='cuda:0'),\n",
       " tensor(0, device='cuda:0'),\n",
       " tensor(9, device='cuda:0'),\n",
       " tensor(12, device='cuda:0'),\n",
       " tensor(11, device='cuda:0'),\n",
       " tensor(10, device='cuda:0'),\n",
       " tensor(5, device='cuda:0'),\n",
       " tensor(8, device='cuda:0'),\n",
       " tensor(16, device='cuda:0'),\n",
       " tensor(7, device='cuda:0'),\n",
       " tensor(10, device='cuda:0'),\n",
       " tensor(2, device='cuda:0'),\n",
       " tensor(10, device='cuda:0'),\n",
       " tensor(16, device='cuda:0'),\n",
       " tensor(7, device='cuda:0'),\n",
       " tensor(7, device='cuda:0'),\n",
       " tensor(11, device='cuda:0'),\n",
       " tensor(11, device='cuda:0'),\n",
       " tensor(10, device='cuda:0'),\n",
       " tensor(5, device='cuda:0'),\n",
       " tensor(13, device='cuda:0'),\n",
       " tensor(10, device='cuda:0'),\n",
       " tensor(10, device='cuda:0'),\n",
       " tensor(11, device='cuda:0'),\n",
       " tensor(5, device='cuda:0'),\n",
       " tensor(7, device='cuda:0'),\n",
       " tensor(4, device='cuda:0'),\n",
       " tensor(9, device='cuda:0'),\n",
       " tensor(14, device='cuda:0'),\n",
       " tensor(7, device='cuda:0'),\n",
       " tensor(8, device='cuda:0'),\n",
       " tensor(9, device='cuda:0'),\n",
       " tensor(7, device='cuda:0'),\n",
       " tensor(8, device='cuda:0'),\n",
       " tensor(11, device='cuda:0'),\n",
       " tensor(16, device='cuda:0'),\n",
       " tensor(7, device='cuda:0'),\n",
       " tensor(5, device='cuda:0'),\n",
       " tensor(16, device='cuda:0'),\n",
       " tensor(11, device='cuda:0'),\n",
       " tensor(3, device='cuda:0'),\n",
       " tensor(1, device='cuda:0'),\n",
       " tensor(0, device='cuda:0'),\n",
       " tensor(12, device='cuda:0'),\n",
       " tensor(0, device='cuda:0'),\n",
       " tensor(0, device='cuda:0'),\n",
       " tensor(9, device='cuda:0'),\n",
       " tensor(11, device='cuda:0'),\n",
       " tensor(15, device='cuda:0'),\n",
       " tensor(4, device='cuda:0'),\n",
       " tensor(12, device='cuda:0'),\n",
       " tensor(2, device='cuda:0'),\n",
       " tensor(11, device='cuda:0'),\n",
       " tensor(7, device='cuda:0'),\n",
       " tensor(6, device='cuda:0'),\n",
       " tensor(11, device='cuda:0'),\n",
       " tensor(7, device='cuda:0'),\n",
       " tensor(2, device='cuda:0'),\n",
       " tensor(7, device='cuda:0'),\n",
       " tensor(4, device='cuda:0'),\n",
       " tensor(6, device='cuda:0'),\n",
       " tensor(2, device='cuda:0'),\n",
       " tensor(9, device='cuda:0'),\n",
       " tensor(2, device='cuda:0'),\n",
       " tensor(9, device='cuda:0'),\n",
       " tensor(2, device='cuda:0'),\n",
       " tensor(10, device='cuda:0'),\n",
       " tensor(5, device='cuda:0'),\n",
       " tensor(12, device='cuda:0'),\n",
       " tensor(6, device='cuda:0'),\n",
       " tensor(15, device='cuda:0'),\n",
       " tensor(7, device='cuda:0'),\n",
       " tensor(8, device='cuda:0'),\n",
       " tensor(0, device='cuda:0'),\n",
       " tensor(16, device='cuda:0'),\n",
       " tensor(10, device='cuda:0'),\n",
       " tensor(9, device='cuda:0'),\n",
       " tensor(15, device='cuda:0'),\n",
       " tensor(10, device='cuda:0'),\n",
       " tensor(6, device='cuda:0'),\n",
       " tensor(0, device='cuda:0'),\n",
       " tensor(8, device='cuda:0'),\n",
       " tensor(13, device='cuda:0'),\n",
       " tensor(3, device='cuda:0'),\n",
       " tensor(15, device='cuda:0'),\n",
       " tensor(6, device='cuda:0'),\n",
       " tensor(10, device='cuda:0'),\n",
       " tensor(10, device='cuda:0'),\n",
       " tensor(0, device='cuda:0'),\n",
       " tensor(3, device='cuda:0'),\n",
       " tensor(16, device='cuda:0'),\n",
       " tensor(3, device='cuda:0'),\n",
       " tensor(7, device='cuda:0'),\n",
       " tensor(6, device='cuda:0'),\n",
       " tensor(9, device='cuda:0'),\n",
       " tensor(10, device='cuda:0'),\n",
       " tensor(0, device='cuda:0'),\n",
       " tensor(16, device='cuda:0'),\n",
       " tensor(6, device='cuda:0'),\n",
       " tensor(0, device='cuda:0'),\n",
       " tensor(12, device='cuda:0'),\n",
       " tensor(0, device='cuda:0'),\n",
       " tensor(7, device='cuda:0'),\n",
       " tensor(0, device='cuda:0'),\n",
       " tensor(7, device='cuda:0'),\n",
       " tensor(8, device='cuda:0'),\n",
       " tensor(6, device='cuda:0'),\n",
       " tensor(12, device='cuda:0'),\n",
       " tensor(13, device='cuda:0'),\n",
       " tensor(2, device='cuda:0'),\n",
       " tensor(8, device='cuda:0'),\n",
       " tensor(6, device='cuda:0'),\n",
       " tensor(15, device='cuda:0'),\n",
       " tensor(13, device='cuda:0'),\n",
       " tensor(3, device='cuda:0'),\n",
       " tensor(15, device='cuda:0'),\n",
       " tensor(10, device='cuda:0'),\n",
       " tensor(16, device='cuda:0'),\n",
       " tensor(11, device='cuda:0'),\n",
       " tensor(8, device='cuda:0'),\n",
       " tensor(12, device='cuda:0'),\n",
       " tensor(0, device='cuda:0'),\n",
       " tensor(15, device='cuda:0'),\n",
       " tensor(12, device='cuda:0'),\n",
       " tensor(1, device='cuda:0'),\n",
       " tensor(2, device='cuda:0'),\n",
       " tensor(13, device='cuda:0'),\n",
       " tensor(5, device='cuda:0'),\n",
       " tensor(0, device='cuda:0'),\n",
       " tensor(4, device='cuda:0'),\n",
       " tensor(9, device='cuda:0'),\n",
       " tensor(16, device='cuda:0'),\n",
       " tensor(10, device='cuda:0'),\n",
       " tensor(0, device='cuda:0'),\n",
       " tensor(7, device='cuda:0'),\n",
       " tensor(10, device='cuda:0'),\n",
       " tensor(4, device='cuda:0'),\n",
       " tensor(4, device='cuda:0'),\n",
       " tensor(11, device='cuda:0'),\n",
       " tensor(6, device='cuda:0'),\n",
       " tensor(2, device='cuda:0'),\n",
       " tensor(12, device='cuda:0'),\n",
       " tensor(12, device='cuda:0'),\n",
       " tensor(15, device='cuda:0'),\n",
       " tensor(11, device='cuda:0'),\n",
       " tensor(7, device='cuda:0'),\n",
       " tensor(5, device='cuda:0'),\n",
       " tensor(2, device='cuda:0'),\n",
       " tensor(13, device='cuda:0'),\n",
       " tensor(16, device='cuda:0'),\n",
       " tensor(13, device='cuda:0'),\n",
       " tensor(15, device='cuda:0'),\n",
       " tensor(5, device='cuda:0'),\n",
       " tensor(2, device='cuda:0'),\n",
       " tensor(8, device='cuda:0'),\n",
       " tensor(11, device='cuda:0'),\n",
       " tensor(2, device='cuda:0'),\n",
       " tensor(7, device='cuda:0'),\n",
       " tensor(15, device='cuda:0'),\n",
       " tensor(9, device='cuda:0'),\n",
       " tensor(14, device='cuda:0'),\n",
       " tensor(10, device='cuda:0'),\n",
       " tensor(9, device='cuda:0'),\n",
       " tensor(9, device='cuda:0'),\n",
       " tensor(13, device='cuda:0'),\n",
       " tensor(10, device='cuda:0'),\n",
       " tensor(12, device='cuda:0'),\n",
       " tensor(15, device='cuda:0'),\n",
       " tensor(7, device='cuda:0'),\n",
       " tensor(7, device='cuda:0'),\n",
       " tensor(7, device='cuda:0'),\n",
       " tensor(9, device='cuda:0'),\n",
       " tensor(8, device='cuda:0'),\n",
       " tensor(16, device='cuda:0'),\n",
       " tensor(11, device='cuda:0'),\n",
       " tensor(5, device='cuda:0'),\n",
       " tensor(6, device='cuda:0'),\n",
       " tensor(14, device='cuda:0'),\n",
       " tensor(7, device='cuda:0'),\n",
       " tensor(10, device='cuda:0'),\n",
       " tensor(2, device='cuda:0'),\n",
       " tensor(5, device='cuda:0'),\n",
       " tensor(0, device='cuda:0'),\n",
       " tensor(10, device='cuda:0'),\n",
       " tensor(3, device='cuda:0'),\n",
       " tensor(7, device='cuda:0'),\n",
       " tensor(15, device='cuda:0'),\n",
       " tensor(11, device='cuda:0'),\n",
       " tensor(7, device='cuda:0'),\n",
       " tensor(3, device='cuda:0'),\n",
       " tensor(13, device='cuda:0'),\n",
       " tensor(9, device='cuda:0'),\n",
       " tensor(7, device='cuda:0'),\n",
       " tensor(11, device='cuda:0'),\n",
       " tensor(13, device='cuda:0'),\n",
       " tensor(9, device='cuda:0'),\n",
       " tensor(2, device='cuda:0'),\n",
       " tensor(0, device='cuda:0'),\n",
       " tensor(5, device='cuda:0'),\n",
       " tensor(15, device='cuda:0'),\n",
       " tensor(7, device='cuda:0'),\n",
       " tensor(10, device='cuda:0'),\n",
       " tensor(7, device='cuda:0'),\n",
       " tensor(7, device='cuda:0'),\n",
       " tensor(2, device='cuda:0'),\n",
       " tensor(6, device='cuda:0'),\n",
       " tensor(7, device='cuda:0'),\n",
       " tensor(0, device='cuda:0'),\n",
       " tensor(6, device='cuda:0'),\n",
       " tensor(2, device='cuda:0'),\n",
       " tensor(5, device='cuda:0'),\n",
       " tensor(13, device='cuda:0'),\n",
       " tensor(7, device='cuda:0'),\n",
       " tensor(14, device='cuda:0'),\n",
       " tensor(5, device='cuda:0'),\n",
       " tensor(10, device='cuda:0'),\n",
       " tensor(16, device='cuda:0'),\n",
       " tensor(15, device='cuda:0'),\n",
       " tensor(5, device='cuda:0'),\n",
       " tensor(10, device='cuda:0'),\n",
       " tensor(13, device='cuda:0'),\n",
       " tensor(7, device='cuda:0'),\n",
       " tensor(6, device='cuda:0'),\n",
       " tensor(4, device='cuda:0'),\n",
       " tensor(8, device='cuda:0'),\n",
       " tensor(16, device='cuda:0'),\n",
       " tensor(16, device='cuda:0'),\n",
       " tensor(7, device='cuda:0'),\n",
       " tensor(10, device='cuda:0'),\n",
       " tensor(0, device='cuda:0'),\n",
       " tensor(15, device='cuda:0'),\n",
       " tensor(7, device='cuda:0'),\n",
       " tensor(10, device='cuda:0'),\n",
       " tensor(14, device='cuda:0'),\n",
       " tensor(7, device='cuda:0'),\n",
       " tensor(4, device='cuda:0'),\n",
       " tensor(8, device='cuda:0'),\n",
       " tensor(12, device='cuda:0'),\n",
       " tensor(7, device='cuda:0'),\n",
       " tensor(12, device='cuda:0'),\n",
       " tensor(11, device='cuda:0'),\n",
       " tensor(7, device='cuda:0'),\n",
       " tensor(4, device='cuda:0'),\n",
       " tensor(12, device='cuda:0'),\n",
       " tensor(2, device='cuda:0'),\n",
       " tensor(14, device='cuda:0'),\n",
       " tensor(2, device='cuda:0'),\n",
       " tensor(6, device='cuda:0'),\n",
       " tensor(4, device='cuda:0'),\n",
       " tensor(10, device='cuda:0'),\n",
       " tensor(16, device='cuda:0'),\n",
       " tensor(5, device='cuda:0'),\n",
       " tensor(16, device='cuda:0'),\n",
       " tensor(2, device='cuda:0'),\n",
       " tensor(12, device='cuda:0'),\n",
       " tensor(2, device='cuda:0'),\n",
       " tensor(9, device='cuda:0'),\n",
       " tensor(10, device='cuda:0'),\n",
       " tensor(16, device='cuda:0'),\n",
       " tensor(16, device='cuda:0'),\n",
       " tensor(15, device='cuda:0'),\n",
       " tensor(12, device='cuda:0'),\n",
       " tensor(10, device='cuda:0'),\n",
       " tensor(9, device='cuda:0'),\n",
       " tensor(4, device='cuda:0'),\n",
       " tensor(2, device='cuda:0'),\n",
       " tensor(11, device='cuda:0'),\n",
       " tensor(4, device='cuda:0'),\n",
       " tensor(13, device='cuda:0'),\n",
       " tensor(16, device='cuda:0'),\n",
       " tensor(4, device='cuda:0'),\n",
       " tensor(7, device='cuda:0'),\n",
       " tensor(9, device='cuda:0'),\n",
       " tensor(0, device='cuda:0'),\n",
       " tensor(7, device='cuda:0'),\n",
       " tensor(7, device='cuda:0'),\n",
       " tensor(11, device='cuda:0'),\n",
       " tensor(7, device='cuda:0'),\n",
       " tensor(6, device='cuda:0'),\n",
       " tensor(3, device='cuda:0'),\n",
       " tensor(0, device='cuda:0'),\n",
       " tensor(9, device='cuda:0'),\n",
       " tensor(7, device='cuda:0'),\n",
       " tensor(2, device='cuda:0'),\n",
       " tensor(3, device='cuda:0'),\n",
       " tensor(2, device='cuda:0'),\n",
       " tensor(15, device='cuda:0'),\n",
       " tensor(7, device='cuda:0'),\n",
       " tensor(12, device='cuda:0'),\n",
       " tensor(1, device='cuda:0'),\n",
       " tensor(13, device='cuda:0'),\n",
       " tensor(16, device='cuda:0'),\n",
       " tensor(5, device='cuda:0'),\n",
       " tensor(2, device='cuda:0'),\n",
       " tensor(13, device='cuda:0'),\n",
       " tensor(7, device='cuda:0'),\n",
       " tensor(2, device='cuda:0'),\n",
       " tensor(15, device='cuda:0'),\n",
       " tensor(8, device='cuda:0'),\n",
       " tensor(11, device='cuda:0'),\n",
       " tensor(6, device='cuda:0'),\n",
       " tensor(12, device='cuda:0'),\n",
       " tensor(14, device='cuda:0'),\n",
       " tensor(5, device='cuda:0'),\n",
       " tensor(0, device='cuda:0'),\n",
       " tensor(2, device='cuda:0'),\n",
       " tensor(7, device='cuda:0'),\n",
       " tensor(6, device='cuda:0'),\n",
       " tensor(0, device='cuda:0'),\n",
       " tensor(4, device='cuda:0'),\n",
       " tensor(14, device='cuda:0'),\n",
       " tensor(6, device='cuda:0'),\n",
       " tensor(5, device='cuda:0'),\n",
       " tensor(8, device='cuda:0'),\n",
       " tensor(4, device='cuda:0'),\n",
       " tensor(2, device='cuda:0'),\n",
       " tensor(9, device='cuda:0'),\n",
       " tensor(14, device='cuda:0'),\n",
       " tensor(10, device='cuda:0'),\n",
       " tensor(4, device='cuda:0'),\n",
       " tensor(16, device='cuda:0'),\n",
       " tensor(2, device='cuda:0'),\n",
       " tensor(14, device='cuda:0'),\n",
       " tensor(1, device='cuda:0'),\n",
       " tensor(5, device='cuda:0'),\n",
       " tensor(12, device='cuda:0'),\n",
       " tensor(10, device='cuda:0'),\n",
       " tensor(9, device='cuda:0'),\n",
       " tensor(0, device='cuda:0'),\n",
       " tensor(6, device='cuda:0'),\n",
       " tensor(2, device='cuda:0'),\n",
       " tensor(5, device='cuda:0'),\n",
       " tensor(10, device='cuda:0'),\n",
       " tensor(11, device='cuda:0'),\n",
       " tensor(9, device='cuda:0'),\n",
       " tensor(4, device='cuda:0'),\n",
       " tensor(9, device='cuda:0'),\n",
       " tensor(5, device='cuda:0'),\n",
       " tensor(4, device='cuda:0'),\n",
       " tensor(8, device='cuda:0'),\n",
       " tensor(7, device='cuda:0'),\n",
       " tensor(13, device='cuda:0'),\n",
       " tensor(2, device='cuda:0'),\n",
       " tensor(5, device='cuda:0'),\n",
       " tensor(11, device='cuda:0'),\n",
       " tensor(14, device='cuda:0'),\n",
       " tensor(3, device='cuda:0'),\n",
       " tensor(12, device='cuda:0'),\n",
       " tensor(0, device='cuda:0'),\n",
       " tensor(1, device='cuda:0'),\n",
       " tensor(12, device='cuda:0'),\n",
       " tensor(5, device='cuda:0'),\n",
       " tensor(0, device='cuda:0'),\n",
       " tensor(5, device='cuda:0'),\n",
       " tensor(3, device='cuda:0'),\n",
       " tensor(8, device='cuda:0'),\n",
       " tensor(10, device='cuda:0'),\n",
       " tensor(11, device='cuda:0'),\n",
       " tensor(9, device='cuda:0'),\n",
       " tensor(4, device='cuda:0'),\n",
       " tensor(7, device='cuda:0'),\n",
       " tensor(3, device='cuda:0'),\n",
       " tensor(4, device='cuda:0'),\n",
       " tensor(9, device='cuda:0'),\n",
       " tensor(0, device='cuda:0'),\n",
       " tensor(9, device='cuda:0'),\n",
       " tensor(8, device='cuda:0'),\n",
       " tensor(16, device='cuda:0'),\n",
       " tensor(4, device='cuda:0'),\n",
       " tensor(1, device='cuda:0'),\n",
       " tensor(16, device='cuda:0'),\n",
       " tensor(4, device='cuda:0'),\n",
       " tensor(13, device='cuda:0'),\n",
       " tensor(5, device='cuda:0'),\n",
       " tensor(10, device='cuda:0'),\n",
       " tensor(7, device='cuda:0'),\n",
       " tensor(10, device='cuda:0'),\n",
       " tensor(6, device='cuda:0'),\n",
       " tensor(7, device='cuda:0'),\n",
       " tensor(16, device='cuda:0'),\n",
       " tensor(0, device='cuda:0'),\n",
       " tensor(8, device='cuda:0'),\n",
       " tensor(11, device='cuda:0'),\n",
       " tensor(10, device='cuda:0'),\n",
       " tensor(8, device='cuda:0'),\n",
       " tensor(8, device='cuda:0'),\n",
       " tensor(8, device='cuda:0'),\n",
       " tensor(7, device='cuda:0'),\n",
       " tensor(0, device='cuda:0'),\n",
       " tensor(12, device='cuda:0'),\n",
       " tensor(3, device='cuda:0'),\n",
       " tensor(12, device='cuda:0'),\n",
       " tensor(7, device='cuda:0'),\n",
       " tensor(9, device='cuda:0'),\n",
       " tensor(14, device='cuda:0'),\n",
       " tensor(2, device='cuda:0'),\n",
       " tensor(2, device='cuda:0'),\n",
       " tensor(7, device='cuda:0'),\n",
       " tensor(5, device='cuda:0'),\n",
       " tensor(1, device='cuda:0'),\n",
       " tensor(12, device='cuda:0'),\n",
       " tensor(2, device='cuda:0'),\n",
       " tensor(12, device='cuda:0'),\n",
       " tensor(7, device='cuda:0'),\n",
       " tensor(9, device='cuda:0'),\n",
       " tensor(4, device='cuda:0'),\n",
       " tensor(7, device='cuda:0'),\n",
       " tensor(9, device='cuda:0'),\n",
       " tensor(0, device='cuda:0'),\n",
       " tensor(13, device='cuda:0'),\n",
       " tensor(12, device='cuda:0'),\n",
       " tensor(10, device='cuda:0'),\n",
       " tensor(4, device='cuda:0'),\n",
       " tensor(0, device='cuda:0'),\n",
       " tensor(6, device='cuda:0'),\n",
       " tensor(13, device='cuda:0'),\n",
       " tensor(4, device='cuda:0'),\n",
       " tensor(6, device='cuda:0'),\n",
       " tensor(3, device='cuda:0'),\n",
       " tensor(2, device='cuda:0'),\n",
       " tensor(15, device='cuda:0'),\n",
       " tensor(15, device='cuda:0'),\n",
       " tensor(8, device='cuda:0'),\n",
       " tensor(7, device='cuda:0'),\n",
       " tensor(4, device='cuda:0'),\n",
       " tensor(12, device='cuda:0'),\n",
       " tensor(0, device='cuda:0'),\n",
       " tensor(13, device='cuda:0'),\n",
       " tensor(5, device='cuda:0'),\n",
       " tensor(3, device='cuda:0'),\n",
       " tensor(0, device='cuda:0'),\n",
       " tensor(10, device='cuda:0'),\n",
       " tensor(10, device='cuda:0'),\n",
       " tensor(13, device='cuda:0'),\n",
       " tensor(16, device='cuda:0'),\n",
       " tensor(10, device='cuda:0'),\n",
       " tensor(10, device='cuda:0'),\n",
       " tensor(6, device='cuda:0'),\n",
       " tensor(1, device='cuda:0'),\n",
       " tensor(16, device='cuda:0'),\n",
       " tensor(8, device='cuda:0'),\n",
       " tensor(3, device='cuda:0'),\n",
       " tensor(7, device='cuda:0'),\n",
       " tensor(4, device='cuda:0'),\n",
       " tensor(15, device='cuda:0'),\n",
       " tensor(1, device='cuda:0'),\n",
       " tensor(4, device='cuda:0'),\n",
       " tensor(9, device='cuda:0'),\n",
       " tensor(11, device='cuda:0'),\n",
       " tensor(10, device='cuda:0'),\n",
       " tensor(4, device='cuda:0'),\n",
       " tensor(8, device='cuda:0'),\n",
       " tensor(10, device='cuda:0'),\n",
       " tensor(16, device='cuda:0'),\n",
       " tensor(9, device='cuda:0'),\n",
       " tensor(15, device='cuda:0'),\n",
       " tensor(15, device='cuda:0'),\n",
       " tensor(7, device='cuda:0'),\n",
       " tensor(12, device='cuda:0'),\n",
       " tensor(11, device='cuda:0'),\n",
       " tensor(0, device='cuda:0'),\n",
       " tensor(0, device='cuda:0'),\n",
       " tensor(10, device='cuda:0'),\n",
       " tensor(7, device='cuda:0'),\n",
       " tensor(2, device='cuda:0'),\n",
       " tensor(8, device='cuda:0'),\n",
       " tensor(11, device='cuda:0'),\n",
       " tensor(16, device='cuda:0'),\n",
       " tensor(16, device='cuda:0'),\n",
       " tensor(1, device='cuda:0'),\n",
       " tensor(7, device='cuda:0'),\n",
       " tensor(9, device='cuda:0'),\n",
       " tensor(15, device='cuda:0'),\n",
       " tensor(11, device='cuda:0'),\n",
       " tensor(5, device='cuda:0'),\n",
       " tensor(15, device='cuda:0'),\n",
       " tensor(2, device='cuda:0'),\n",
       " tensor(0, device='cuda:0'),\n",
       " tensor(10, device='cuda:0'),\n",
       " tensor(1, device='cuda:0'),\n",
       " tensor(15, device='cuda:0'),\n",
       " tensor(1, device='cuda:0'),\n",
       " tensor(8, device='cuda:0'),\n",
       " tensor(11, device='cuda:0'),\n",
       " tensor(16, device='cuda:0'),\n",
       " tensor(11, device='cuda:0'),\n",
       " tensor(9, device='cuda:0'),\n",
       " tensor(8, device='cuda:0'),\n",
       " tensor(4, device='cuda:0'),\n",
       " tensor(1, device='cuda:0'),\n",
       " tensor(12, device='cuda:0'),\n",
       " tensor(10, device='cuda:0'),\n",
       " tensor(9, device='cuda:0'),\n",
       " tensor(7, device='cuda:0'),\n",
       " tensor(12, device='cuda:0'),\n",
       " tensor(7, device='cuda:0'),\n",
       " tensor(2, device='cuda:0'),\n",
       " tensor(15, device='cuda:0'),\n",
       " tensor(12, device='cuda:0'),\n",
       " tensor(11, device='cuda:0'),\n",
       " tensor(12, device='cuda:0'),\n",
       " tensor(12, device='cuda:0'),\n",
       " tensor(13, device='cuda:0'),\n",
       " tensor(13, device='cuda:0'),\n",
       " tensor(16, device='cuda:0'),\n",
       " tensor(16, device='cuda:0'),\n",
       " tensor(5, device='cuda:0'),\n",
       " tensor(8, device='cuda:0'),\n",
       " tensor(1, device='cuda:0'),\n",
       " tensor(11, device='cuda:0'),\n",
       " tensor(9, device='cuda:0'),\n",
       " tensor(12, device='cuda:0'),\n",
       " tensor(6, device='cuda:0'),\n",
       " tensor(15, device='cuda:0'),\n",
       " tensor(4, device='cuda:0'),\n",
       " tensor(8, device='cuda:0'),\n",
       " tensor(9, device='cuda:0'),\n",
       " tensor(16, device='cuda:0'),\n",
       " tensor(12, device='cuda:0'),\n",
       " tensor(6, device='cuda:0'),\n",
       " tensor(14, device='cuda:0'),\n",
       " tensor(10, device='cuda:0'),\n",
       " tensor(11, device='cuda:0'),\n",
       " tensor(16, device='cuda:0'),\n",
       " tensor(0, device='cuda:0'),\n",
       " tensor(12, device='cuda:0'),\n",
       " tensor(14, device='cuda:0'),\n",
       " tensor(14, device='cuda:0'),\n",
       " tensor(11, device='cuda:0'),\n",
       " tensor(10, device='cuda:0'),\n",
       " tensor(3, device='cuda:0'),\n",
       " tensor(11, device='cuda:0'),\n",
       " tensor(9, device='cuda:0'),\n",
       " tensor(0, device='cuda:0'),\n",
       " tensor(5, device='cuda:0'),\n",
       " tensor(11, device='cuda:0'),\n",
       " tensor(3, device='cuda:0'),\n",
       " tensor(13, device='cuda:0'),\n",
       " tensor(8, device='cuda:0'),\n",
       " tensor(10, device='cuda:0'),\n",
       " tensor(0, device='cuda:0'),\n",
       " tensor(2, device='cuda:0'),\n",
       " tensor(2, device='cuda:0'),\n",
       " tensor(7, device='cuda:0'),\n",
       " tensor(7, device='cuda:0'),\n",
       " tensor(15, device='cuda:0'),\n",
       " tensor(9, device='cuda:0'),\n",
       " tensor(4, device='cuda:0'),\n",
       " tensor(4, device='cuda:0'),\n",
       " tensor(8, device='cuda:0'),\n",
       " tensor(9, device='cuda:0'),\n",
       " tensor(9, device='cuda:0'),\n",
       " tensor(15, device='cuda:0'),\n",
       " tensor(4, device='cuda:0'),\n",
       " tensor(7, device='cuda:0'),\n",
       " tensor(7, device='cuda:0'),\n",
       " tensor(2, device='cuda:0'),\n",
       " tensor(0, device='cuda:0'),\n",
       " tensor(3, device='cuda:0'),\n",
       " tensor(16, device='cuda:0'),\n",
       " tensor(11, device='cuda:0'),\n",
       " tensor(15, device='cuda:0'),\n",
       " tensor(6, device='cuda:0'),\n",
       " tensor(1, device='cuda:0'),\n",
       " tensor(2, device='cuda:0'),\n",
       " tensor(16, device='cuda:0'),\n",
       " tensor(2, device='cuda:0'),\n",
       " tensor(0, device='cuda:0'),\n",
       " tensor(0, device='cuda:0'),\n",
       " tensor(10, device='cuda:0'),\n",
       " tensor(0, device='cuda:0'),\n",
       " tensor(11, device='cuda:0'),\n",
       " tensor(10, device='cuda:0'),\n",
       " tensor(16, device='cuda:0'),\n",
       " tensor(5, device='cuda:0'),\n",
       " tensor(6, device='cuda:0'),\n",
       " tensor(0, device='cuda:0'),\n",
       " tensor(6, device='cuda:0'),\n",
       " tensor(9, device='cuda:0'),\n",
       " tensor(5, device='cuda:0'),\n",
       " tensor(15, device='cuda:0'),\n",
       " tensor(16, device='cuda:0'),\n",
       " tensor(10, device='cuda:0'),\n",
       " tensor(10, device='cuda:0'),\n",
       " tensor(16, device='cuda:0'),\n",
       " tensor(11, device='cuda:0'),\n",
       " tensor(7, device='cuda:0'),\n",
       " tensor(13, device='cuda:0'),\n",
       " tensor(10, device='cuda:0'),\n",
       " tensor(11, device='cuda:0'),\n",
       " tensor(4, device='cuda:0'),\n",
       " tensor(6, device='cuda:0'),\n",
       " tensor(14, device='cuda:0'),\n",
       " tensor(0, device='cuda:0'),\n",
       " tensor(0, device='cuda:0'),\n",
       " tensor(7, device='cuda:0'),\n",
       " tensor(15, device='cuda:0'),\n",
       " tensor(11, device='cuda:0'),\n",
       " ...]"
      ]
     },
     "execution_count": 10,
     "metadata": {},
     "output_type": "execute_result"
    }
   ],
   "source": [
    "all_preds"
   ]
  },
  {
   "cell_type": "code",
   "execution_count": 11,
   "metadata": {},
   "outputs": [
    {
     "data": {
      "text/html": [
       "<div>\n",
       "<style scoped>\n",
       "    .dataframe tbody tr th:only-of-type {\n",
       "        vertical-align: middle;\n",
       "    }\n",
       "\n",
       "    .dataframe tbody tr th {\n",
       "        vertical-align: top;\n",
       "    }\n",
       "\n",
       "    .dataframe thead th {\n",
       "        text-align: right;\n",
       "    }\n",
       "</style>\n",
       "<table border=\"1\" class=\"dataframe\">\n",
       "  <thead>\n",
       "    <tr style=\"text-align: right;\">\n",
       "      <th></th>\n",
       "      <th>ID</th>\n",
       "      <th>target</th>\n",
       "    </tr>\n",
       "  </thead>\n",
       "  <tbody>\n",
       "    <tr>\n",
       "      <th>0</th>\n",
       "      <td>0008fdb22ddce0ce.jpg</td>\n",
       "      <td>0</td>\n",
       "    </tr>\n",
       "    <tr>\n",
       "      <th>1</th>\n",
       "      <td>00091bffdffd83de.jpg</td>\n",
       "      <td>0</td>\n",
       "    </tr>\n",
       "    <tr>\n",
       "      <th>2</th>\n",
       "      <td>00396fbc1f6cc21d.jpg</td>\n",
       "      <td>0</td>\n",
       "    </tr>\n",
       "    <tr>\n",
       "      <th>3</th>\n",
       "      <td>00471f8038d9c4b6.jpg</td>\n",
       "      <td>0</td>\n",
       "    </tr>\n",
       "    <tr>\n",
       "      <th>4</th>\n",
       "      <td>00901f504008d884.jpg</td>\n",
       "      <td>0</td>\n",
       "    </tr>\n",
       "    <tr>\n",
       "      <th>...</th>\n",
       "      <td>...</td>\n",
       "      <td>...</td>\n",
       "    </tr>\n",
       "    <tr>\n",
       "      <th>3135</th>\n",
       "      <td>ffb4b6f619fb60ea.jpg</td>\n",
       "      <td>0</td>\n",
       "    </tr>\n",
       "    <tr>\n",
       "      <th>3136</th>\n",
       "      <td>ffb54299b1ad4159.jpg</td>\n",
       "      <td>0</td>\n",
       "    </tr>\n",
       "    <tr>\n",
       "      <th>3137</th>\n",
       "      <td>ffc2c91dff8cf2c0.jpg</td>\n",
       "      <td>0</td>\n",
       "    </tr>\n",
       "    <tr>\n",
       "      <th>3138</th>\n",
       "      <td>ffc4e330a5353a2a.jpg</td>\n",
       "      <td>0</td>\n",
       "    </tr>\n",
       "    <tr>\n",
       "      <th>3139</th>\n",
       "      <td>ffc71fed753d90c1.jpg</td>\n",
       "      <td>0</td>\n",
       "    </tr>\n",
       "  </tbody>\n",
       "</table>\n",
       "<p>3140 rows × 2 columns</p>\n",
       "</div>"
      ],
      "text/plain": [
       "                        ID  target\n",
       "0     0008fdb22ddce0ce.jpg       0\n",
       "1     00091bffdffd83de.jpg       0\n",
       "2     00396fbc1f6cc21d.jpg       0\n",
       "3     00471f8038d9c4b6.jpg       0\n",
       "4     00901f504008d884.jpg       0\n",
       "...                    ...     ...\n",
       "3135  ffb4b6f619fb60ea.jpg       0\n",
       "3136  ffb54299b1ad4159.jpg       0\n",
       "3137  ffc2c91dff8cf2c0.jpg       0\n",
       "3138  ffc4e330a5353a2a.jpg       0\n",
       "3139  ffc71fed753d90c1.jpg       0\n",
       "\n",
       "[3140 rows x 2 columns]"
      ]
     },
     "execution_count": 11,
     "metadata": {},
     "output_type": "execute_result"
    }
   ],
   "source": [
    "sub_df = pd.read_csv('/data/ephemeral/home/data/sample_submission.csv')\n",
    "sub_df"
   ]
  },
  {
   "cell_type": "code",
   "execution_count": 12,
   "metadata": {},
   "outputs": [],
   "source": [
    "for i in range(3140):\n",
    "    sub_df.iloc[i, 1] = int(all_preds[i].cpu())"
   ]
  },
  {
   "cell_type": "code",
   "execution_count": 13,
   "metadata": {},
   "outputs": [
    {
     "data": {
      "text/plain": [
       "[278,\n",
       " 83,\n",
       " 209,\n",
       " 101,\n",
       " 168,\n",
       " 185,\n",
       " 173,\n",
       " 294,\n",
       " 175,\n",
       " 189,\n",
       " 258,\n",
       " 220,\n",
       " 188,\n",
       " 146,\n",
       " 83,\n",
       " 198,\n",
       " 192]"
      ]
     },
     "execution_count": 13,
     "metadata": {},
     "output_type": "execute_result"
    }
   ],
   "source": [
    "cnt_list = []\n",
    "for i in range(17):\n",
    "    cnt_list.append(sub_df[sub_df['target']==i].shape[0])\n",
    "\n",
    "cnt_list"
   ]
  },
  {
   "cell_type": "code",
   "execution_count": 14,
   "metadata": {},
   "outputs": [],
   "source": [
    "sub_df.to_csv('/data/ephemeral/home/preds/v13_last_preds.csv', index=False)"
   ]
  }
 ],
 "metadata": {
  "kernelspec": {
   "display_name": "base",
   "language": "python",
   "name": "python3"
  },
  "language_info": {
   "codemirror_mode": {
    "name": "ipython",
    "version": 3
   },
   "file_extension": ".py",
   "mimetype": "text/x-python",
   "name": "python",
   "nbconvert_exporter": "python",
   "pygments_lexer": "ipython3",
   "version": "3.10.13"
  }
 },
 "nbformat": 4,
 "nbformat_minor": 2
}
