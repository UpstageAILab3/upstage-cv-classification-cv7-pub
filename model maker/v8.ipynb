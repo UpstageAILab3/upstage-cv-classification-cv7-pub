{
 "cells": [
  {
   "cell_type": "markdown",
   "metadata": {},
   "source": [
    "# V.8\n",
    "\n",
    "- efficientnet_b5 사용\n",
    "- 이미지 상단 제목 데이터 추가"
   ]
  },
  {
   "cell_type": "code",
   "execution_count": 1,
   "metadata": {},
   "outputs": [],
   "source": [
    "import pandas as pd\n",
    "import numpy as np\n",
    "import os\n",
    "import time\n",
    "import random\n",
    "from PIL import Image\n",
    "from tqdm.notebook import tqdm\n",
    "import matplotlib.pyplot as plt\n",
    "\n",
    "import timm\n",
    "import torch\n",
    "import albumentations as A\n",
    "import torch.nn as nn\n",
    "from albumentations.pytorch import ToTensorV2\n",
    "from torch.optim import Adam\n",
    "from torchvision import transforms\n",
    "import torchvision.transforms as T\n",
    "from torch.utils.data import Dataset, DataLoader\n",
    "\n",
    "from augraphy import *\n",
    "\n",
    "from sklearn.metrics import accuracy_score, f1_score\n",
    "\n",
    "import wandb\n",
    "\n",
    "import warnings\n",
    "warnings.filterwarnings(\"ignore\")"
   ]
  },
  {
   "cell_type": "code",
   "execution_count": 2,
   "metadata": {},
   "outputs": [
    {
     "name": "stderr",
     "output_type": "stream",
     "text": [
      "Failed to detect the name of this notebook, you can set it manually with the WANDB_NOTEBOOK_NAME environment variable to enable code saving.\n",
      "\u001b[34m\u001b[1mwandb\u001b[0m: Currently logged in as: \u001b[33mgreedjar74\u001b[0m (\u001b[33mgreedjar7498\u001b[0m). Use \u001b[1m`wandb login --relogin`\u001b[0m to force relogin\n",
      "\u001b[34m\u001b[1mwandb\u001b[0m: \u001b[33mWARNING\u001b[0m If you're specifying your api key in code, ensure this code is not shared publicly.\n",
      "\u001b[34m\u001b[1mwandb\u001b[0m: \u001b[33mWARNING\u001b[0m Consider setting the WANDB_API_KEY environment variable, or running `wandb login` from the command line.\n",
      "\u001b[34m\u001b[1mwandb\u001b[0m: Appending key for api.wandb.ai to your netrc file: /data/ephemeral/home/.netrc\n"
     ]
    },
    {
     "data": {
      "text/html": [
       "Tracking run with wandb version 0.17.5"
      ],
      "text/plain": [
       "<IPython.core.display.HTML object>"
      ]
     },
     "metadata": {},
     "output_type": "display_data"
    },
    {
     "data": {
      "text/html": [
       "Run data is saved locally in <code>/data/ephemeral/home/model/model maker/wandb/run-20240807_113822-m0hxd020</code>"
      ],
      "text/plain": [
       "<IPython.core.display.HTML object>"
      ]
     },
     "metadata": {},
     "output_type": "display_data"
    },
    {
     "data": {
      "text/html": [
       "Syncing run <strong><a href='https://wandb.ai/greedjar7498/CV_contest_V8/runs/m0hxd020' target=\"_blank\">training</a></strong> to <a href='https://wandb.ai/greedjar7498/CV_contest_V8' target=\"_blank\">Weights & Biases</a> (<a href='https://wandb.me/run' target=\"_blank\">docs</a>)<br/>"
      ],
      "text/plain": [
       "<IPython.core.display.HTML object>"
      ]
     },
     "metadata": {},
     "output_type": "display_data"
    },
    {
     "data": {
      "text/html": [
       " View project at <a href='https://wandb.ai/greedjar7498/CV_contest_V8' target=\"_blank\">https://wandb.ai/greedjar7498/CV_contest_V8</a>"
      ],
      "text/plain": [
       "<IPython.core.display.HTML object>"
      ]
     },
     "metadata": {},
     "output_type": "display_data"
    },
    {
     "data": {
      "text/html": [
       " View run at <a href='https://wandb.ai/greedjar7498/CV_contest_V8/runs/m0hxd020' target=\"_blank\">https://wandb.ai/greedjar7498/CV_contest_V8/runs/m0hxd020</a>"
      ],
      "text/plain": [
       "<IPython.core.display.HTML object>"
      ]
     },
     "metadata": {},
     "output_type": "display_data"
    }
   ],
   "source": [
    "wandb.login(key='2a6ed9b82b10f4c201952cf2948e01f8a0b197ab')\n",
    "run = wandb.init(project='CV_contest_V8', name='training')"
   ]
  },
  {
   "cell_type": "code",
   "execution_count": 3,
   "metadata": {},
   "outputs": [],
   "source": [
    "# 시드를 고정합니다.\n",
    "SEED = 42\n",
    "os.environ['PYTHONHASHSEED'] = str(SEED)\n",
    "random.seed(SEED)\n",
    "np.random.seed(SEED)\n",
    "torch.manual_seed(SEED)\n",
    "torch.cuda.manual_seed(SEED)\n",
    "torch.cuda.manual_seed_all(SEED)\n",
    "torch.backends.cudnn.benchmark = True"
   ]
  },
  {
   "cell_type": "code",
   "execution_count": 4,
   "metadata": {},
   "outputs": [],
   "source": [
    "device = torch.device('cuda' if torch.cuda.is_available() else 'cpu')"
   ]
  },
  {
   "cell_type": "code",
   "execution_count": 5,
   "metadata": {},
   "outputs": [
    {
     "data": {
      "text/plain": [
       "device(type='cuda')"
      ]
     },
     "execution_count": 5,
     "metadata": {},
     "output_type": "execute_result"
    }
   ],
   "source": [
    "device"
   ]
  },
  {
   "cell_type": "markdown",
   "metadata": {},
   "source": [
    "# CustomDataset"
   ]
  },
  {
   "cell_type": "code",
   "execution_count": 6,
   "metadata": {},
   "outputs": [],
   "source": [
    "class customdataset(torch.utils.data.Dataset):\n",
    "    def __init__(self, csv, path, transforms, pipeline):\n",
    "        super().__init__()\n",
    "        self.df = pd.read_csv(csv).values\n",
    "        self.path = path\n",
    "        self.transforms = transforms\n",
    "        self.pipeline = pipeline\n",
    "\n",
    "    def __len__(self):\n",
    "        return len(self.df)\n",
    "    \n",
    "    def __getitem__(self, idx):\n",
    "        name, target = self.df[idx]\n",
    "        img = np.array(Image.open(os.path.join(self.path, name)))\n",
    "        img = self.pipeline(img)\n",
    "        img = self.transforms(img)\n",
    "    \n",
    "        return img, target"
   ]
  },
  {
   "cell_type": "code",
   "execution_count": 7,
   "metadata": {},
   "outputs": [],
   "source": [
    "class RandomPadding:\n",
    "    def __init__(self, padding_range=(0, 50), fill=0):\n",
    "        self.padding_range = padding_range\n",
    "        self.fill = fill\n",
    "\n",
    "    def __call__(self, image):\n",
    "        # 각 방향에 대해 랜덤한 패딩 값 생성\n",
    "        pad_top = random.randint(*self.padding_range)\n",
    "        pad_bottom = random.randint(*self.padding_range)\n",
    "        pad_left = random.randint(*self.padding_range)\n",
    "        pad_right = random.randint(*self.padding_range)\n",
    "        \n",
    "        # 패딩 추가\n",
    "        padding = (pad_left, pad_top, pad_right, pad_bottom)\n",
    "        return T.functional.pad(image, padding, fill=self.fill)"
   ]
  },
  {
   "cell_type": "code",
   "execution_count": 8,
   "metadata": {},
   "outputs": [],
   "source": [
    "aug_transforms = T.Compose([\n",
    "    T.ToTensor(),\n",
    "    T.RandomRotation(180),\n",
    "    T.RandomHorizontalFlip(p=0.5),\n",
    "    RandomPadding(padding_range=(10, 20), fill=50),  # 랜덤 패딩 추가\n",
    "    T.RandomResizedCrop(size=(550,550), scale=(0.5, 1.0)),\n",
    "    T.Resize((500, 500))\n",
    "])\n",
    "\n",
    "augmentations = [\n",
    "    NoiseTexturize(sigma_range=(6, 10),\n",
    "                  turbulence_range=(5, 10),\n",
    "                  texture_width_range=(50, 500),\n",
    "                  texture_height_range=(50, 500)),\n",
    "    BrightnessTexturize(texturize_range=(0.9, 0.99), deviation=0.2),\n",
    "    Folding(fold_count=2,\n",
    "            fold_noise=0.0,\n",
    "            fold_angle_range = (-180,180),\n",
    "            gradient_width=(0.01, 0.05),\n",
    "            gradient_height=(0.01, 0.05),\n",
    "            backdrop_color = (0,0,0)),\n",
    "    BadPhotoCopy(\n",
    "        noise_type=-1,\n",
    "        noise_side=\"random\",\n",
    "        noise_iteration=(1, 2),\n",
    "        noise_size=(1, 3),\n",
    "        noise_value=(128, 196),\n",
    "        noise_sparsity=(0.3, 0.6),\n",
    "        noise_concentration=(0.1, 0.6),\n",
    "        blur_noise=random.choice([True, False]),\n",
    "        blur_noise_kernel=random.choice([(3, 3), (5, 5), (7, 7)]),\n",
    "        wave_pattern=random.choice([True, False]),\n",
    "        edge_effect=random.choice([True, False]),\n",
    "        p=0.33,\n",
    "    ),    \n",
    "]\n",
    "\n",
    "pipeline = AugraphyPipeline(augmentations)\n",
    "\n",
    "train_dataset = customdataset('/data/ephemeral/home/data/modified_train.csv', '/data/ephemeral/home/data/train', transforms=aug_transforms, pipeline=pipeline)"
   ]
  },
  {
   "cell_type": "code",
   "execution_count": 9,
   "metadata": {},
   "outputs": [
    {
     "data": {
      "text/plain": [
       "1570"
      ]
     },
     "execution_count": 9,
     "metadata": {},
     "output_type": "execute_result"
    }
   ],
   "source": [
    "len(train_dataset)"
   ]
  },
  {
   "cell_type": "code",
   "execution_count": 10,
   "metadata": {},
   "outputs": [
    {
     "name": "stderr",
     "output_type": "stream",
     "text": [
      "Clipping input data to the valid range for imshow with RGB data ([0..1] for floats or [0..255] for integers). Got range [0.0..50.0].\n"
     ]
    },
    {
     "data": {
      "text/plain": [
       "<matplotlib.image.AxesImage at 0x7fad3ae85ff0>"
      ]
     },
     "execution_count": 10,
     "metadata": {},
     "output_type": "execute_result"
    },
    {
     "data": {
      "image/png": "[encoded data removed]",
      "text/plain": [
       "<Figure size 640x480 with 1 Axes>"
      ]
     },
     "metadata": {},
     "output_type": "display_data"
    }
   ],
   "source": [
    "plt.imshow(train_dataset[1][0].permute(1, 2, 0))"
   ]
  },
  {
   "cell_type": "markdown",
   "metadata": {},
   "source": [
    "# valid dataset"
   ]
  },
  {
   "cell_type": "markdown",
   "metadata": {},
   "source": [
    "## 민준형 최고 점수 결과 사용"
   ]
  },
  {
   "cell_type": "code",
   "execution_count": 11,
   "metadata": {},
   "outputs": [],
   "source": [
    "valid_transforms = T.Compose([\n",
    "    T.ToTensor(),\n",
    "    T.Resize((500, 500))\n",
    "])\n",
    "\n",
    "pipeline = AugraphyPipeline()\n",
    "\n",
    "valid_dataset = customdataset('/data/ephemeral/home/preds/minjun_best_score_3.csv', '/data/ephemeral/home/data/test/', transforms=valid_transforms, pipeline=pipeline) # valid dataset"
   ]
  },
  {
   "cell_type": "code",
   "execution_count": 12,
   "metadata": {},
   "outputs": [
    {
     "data": {
      "text/plain": [
       "3140"
      ]
     },
     "execution_count": 12,
     "metadata": {},
     "output_type": "execute_result"
    }
   ],
   "source": [
    "len(valid_dataset)"
   ]
  },
  {
   "cell_type": "code",
   "execution_count": 13,
   "metadata": {},
   "outputs": [
    {
     "data": {
      "image/png": "[encoded data removed]",
      "text/plain": [
       "<Figure size 300x300 with 1 Axes>"
      ]
     },
     "metadata": {},
     "output_type": "display_data"
    }
   ],
   "source": [
    "plt.figure(figsize=(3, 3))\n",
    "plt.imshow(valid_dataset[0][0].permute(1, 2, 0))\n",
    "plt.title(valid_dataset[0][1])\n",
    "plt.show()"
   ]
  },
  {
   "cell_type": "code",
   "execution_count": 14,
   "metadata": {},
   "outputs": [],
   "source": [
    "batch_size = 8\n",
    "\n",
    "train_dataloader = torch.utils.data.DataLoader(train_dataset, batch_size, shuffle=True, num_workers=16)\n",
    "valid_dataloader = torch.utils.data.DataLoader(valid_dataset, batch_size, shuffle=False, num_workers=16)"
   ]
  },
  {
   "cell_type": "markdown",
   "metadata": {},
   "source": [
    "# 학습"
   ]
  },
  {
   "cell_type": "markdown",
   "metadata": {},
   "source": [
    "### 학습전 모델 이름 바꿔주기!!"
   ]
  },
  {
   "cell_type": "code",
   "execution_count": 15,
   "metadata": {},
   "outputs": [],
   "source": [
    "def training(model, train_dataloader, train_dataset, criterion, optimizer, epoch, num_epochs):\n",
    "    model.train()\n",
    "    train_loss = 0.0\n",
    "    train_accuracy = 0\n",
    "\n",
    "    tbar = tqdm(train_dataloader)\n",
    "    for images, labels in tbar:\n",
    "        images, labels = images.to(device), labels.to(device)\n",
    "        outputs = model(images)\n",
    "        loss = criterion(outputs, labels)\n",
    "\n",
    "        optimizer.zero_grad()\n",
    "        loss.backward()\n",
    "        optimizer.step()\n",
    "\n",
    "        train_loss += loss.item()\n",
    "        max_prob, predicted = torch.max(outputs, 1)\n",
    "        train_accuracy += (predicted == labels).sum().item()\n",
    "\n",
    "        tbar.set_description(f'Epoch/Epochs [{epoch+1}/{num_epochs}], Train Loss: {loss.item():.4f}')\n",
    "\n",
    "    train_loss = train_loss / len(train_dataloader)\n",
    "    train_accuracy = train_accuracy / len(train_dataset)\n",
    "\n",
    "    return model, train_loss, train_accuracy\n",
    "\n",
    "def evalutaion(model, valid_dataloader, valid_accuracy, criterion, epoch, num_epochs):\n",
    "    model.eval()\n",
    "    valid_loss = 0.0\n",
    "    valid_accuracy = 0\n",
    "\n",
    "    with torch.no_grad():\n",
    "        tbar = tqdm(valid_dataloader)\n",
    "        for images, labels in tbar:\n",
    "            images, labels = images.to(device), labels.to(device)\n",
    "            outputs = model(images)\n",
    "            loss = criterion(outputs, labels)\n",
    "\n",
    "            valid_loss += loss.item()\n",
    "            max_prob, predicted = torch.max(outputs, 1)\n",
    "            valid_accuracy += (predicted == labels).sum().item()\n",
    "\n",
    "            tbar.set_description(f'Epoch/Epochs [{epoch+1}/{num_epochs}], Valid Loss: {loss.item():.4f}')\n",
    "\n",
    "    valid_loss = valid_loss / len(valid_dataloader)\n",
    "    valid_accuracy = valid_accuracy / len(valid_dataset)\n",
    "\n",
    "    return model, valid_loss, valid_accuracy\n",
    "\n",
    "def training_loop(model, train_dataloader, train_dataset, valid_dataloader, valid_dataset, criterion, optimizer, num_epochs):\n",
    "    best_valid_loss = float('inf')\n",
    "    early_stop_cnt = 0\n",
    "    valid_max_accuracy = -1\n",
    "\n",
    "    for epoch in range(num_epochs):\n",
    "        model, train_loss, train_accuracy = training(model, train_dataloader, train_dataset, criterion, optimizer, epoch, num_epochs)\n",
    "        model, valid_loss, valid_accuracy = evalutaion(model, valid_dataloader, valid_dataset, criterion, epoch, num_epochs)\n",
    "\n",
    "        monitoring_values = {'Train Loss': train_loss, 'Valid Loss': valid_loss, 'Train Accuracy': train_accuracy, 'Valid Accuracy': valid_accuracy}\n",
    "        run.log(monitoring_values, step=epoch)\n",
    "\n",
    "        if valid_accuracy > valid_max_accuracy:\n",
    "            valid_max_accuracy = valid_accuracy\n",
    "\n",
    "        if valid_loss < best_valid_loss:\n",
    "            torch.save(model.state_dict(), f\"/data/ephemeral/home/model/models/model_v8_best.pt\")\n",
    "            best_valid_loss = valid_loss\n",
    "            early_stop_cnt = 0\n",
    "\n",
    "        else :\n",
    "            early_stop_cnt += 1\n",
    "\n",
    "        print(f\"Epoch [{epoch + 1}/{num_epochs}], Train Loss: {train_loss:.4f}, Train Accuracy: {train_accuracy:.4f} Valid Loss: {valid_loss:.4f}, Valid Accuracy: {valid_accuracy:.4f}\")\n",
    "\n",
    "        if early_stop_cnt >= 50:\n",
    "            torch.save(model.state_dict(), f\"/data/ephemeral/home/model/models/model_v8_last.pt\")\n",
    "            print('Early Stopping')\n",
    "            break\n",
    "\n",
    "    return model"
   ]
  },
  {
   "cell_type": "code",
   "execution_count": 16,
   "metadata": {},
   "outputs": [],
   "source": [
    "model = timm.create_model(\n",
    "    'efficientnet_b5',\n",
    "    pretrained=True,\n",
    "    num_classes=17\n",
    ").to(device)\n",
    "\n",
    "criterion = torch.nn.CrossEntropyLoss()\n",
    "optimizer = torch.optim.Adam(model.parameters(), lr=0.001)"
   ]
  },
  {
   "cell_type": "code",
   "execution_count": 17,
   "metadata": {},
   "outputs": [
    {
     "data": {
      "application/vnd.jupyter.widget-view+json": {
       "model_id": "ed1bd3316db04c6a87b5ea7e5b4b8886",
       "version_major": 2,
       "version_minor": 0
      },
      "text/plain": [
       "  0%|          | 0/197 [00:00<?, ?it/s]"
      ]
     },
     "metadata": {},
     "output_type": "display_data"
    },
    {
     "data": {
      "application/vnd.jupyter.widget-view+json": {
       "model_id": "c1a1edc123a74f59a3a89848f0181603",
       "version_major": 2,
       "version_minor": 0
      },
      "text/plain": [
       "  0%|          | 0/393 [00:00<?, ?it/s]"
      ]
     },
     "metadata": {},
     "output_type": "display_data"
    },
    {
     "name": "stdout",
     "output_type": "stream",
     "text": [
      "Epoch [1/500], Train Loss: 2.3743, Train Accuracy: 0.2516 Valid Loss: 2.5924, Valid Accuracy: 0.2465\n"
     ]
    },
    {
     "data": {
      "application/vnd.jupyter.widget-view+json": {
       "model_id": "c76837338af84e8390eb21ee96746231",
       "version_major": 2,
       "version_minor": 0
      },
      "text/plain": [
       "  0%|          | 0/197 [00:00<?, ?it/s]"
      ]
     },
     "metadata": {},
     "output_type": "display_data"
    },
    {
     "data": {
      "application/vnd.jupyter.widget-view+json": {
       "model_id": "14b66000542d473caababb0974143989",
       "version_major": 2,
       "version_minor": 0
      },
      "text/plain": [
       "  0%|          | 0/393 [00:00<?, ?it/s]"
      ]
     },
     "metadata": {},
     "output_type": "display_data"
    },
    {
     "name": "stdout",
     "output_type": "stream",
     "text": [
      "Epoch [2/500], Train Loss: 1.7274, Train Accuracy: 0.4344 Valid Loss: 3.1294, Valid Accuracy: 0.2981\n"
     ]
    },
    {
     "data": {
      "application/vnd.jupyter.widget-view+json": {
       "model_id": "13ac3fd4ecd94a519c72068f396b485e",
       "version_major": 2,
       "version_minor": 0
      },
      "text/plain": [
       "  0%|          | 0/197 [00:00<?, ?it/s]"
      ]
     },
     "metadata": {},
     "output_type": "display_data"
    },
    {
     "data": {
      "application/vnd.jupyter.widget-view+json": {
       "model_id": "318a19e15922402da5dc46eafa88078f",
       "version_major": 2,
       "version_minor": 0
      },
      "text/plain": [
       "  0%|          | 0/393 [00:00<?, ?it/s]"
      ]
     },
     "metadata": {},
     "output_type": "display_data"
    },
    {
     "name": "stdout",
     "output_type": "stream",
     "text": [
      "Epoch [3/500], Train Loss: 1.3937, Train Accuracy: 0.5299 Valid Loss: 3.0453, Valid Accuracy: 0.3599\n"
     ]
    },
    {
     "data": {
      "application/vnd.jupyter.widget-view+json": {
       "model_id": "1133e21a89974896a7e5e41d2f4f5bd1",
       "version_major": 2,
       "version_minor": 0
      },
      "text/plain": [
       "  0%|          | 0/197 [00:00<?, ?it/s]"
      ]
     },
     "metadata": {},
     "output_type": "display_data"
    },
    {
     "data": {
      "application/vnd.jupyter.widget-view+json": {
       "model_id": "7d606a2647124d8e89c846e036e059f5",
       "version_major": 2,
       "version_minor": 0
      },
      "text/plain": [
       "  0%|          | 0/393 [00:00<?, ?it/s]"
      ]
     },
     "metadata": {},
     "output_type": "display_data"
    },
    {
     "name": "stdout",
     "output_type": "stream",
     "text": [
      "Epoch [4/500], Train Loss: 1.3146, Train Accuracy: 0.5529 Valid Loss: 2.4173, Valid Accuracy: 0.3889\n"
     ]
    },
    {
     "data": {
      "application/vnd.jupyter.widget-view+json": {
       "model_id": "88c857e1b9174a149e759a6e429c713d",
       "version_major": 2,
       "version_minor": 0
      },
      "text/plain": [
       "  0%|          | 0/197 [00:00<?, ?it/s]"
      ]
     },
     "metadata": {},
     "output_type": "display_data"
    },
    {
     "data": {
      "application/vnd.jupyter.widget-view+json": {
       "model_id": "4487a9dc630b4ac28a098335d2e717cd",
       "version_major": 2,
       "version_minor": 0
      },
      "text/plain": [
       "  0%|          | 0/393 [00:00<?, ?it/s]"
      ]
     },
     "metadata": {},
     "output_type": "display_data"
    },
    {
     "name": "stdout",
     "output_type": "stream",
     "text": [
      "Epoch [5/500], Train Loss: 1.1122, Train Accuracy: 0.6178 Valid Loss: 1.4793, Valid Accuracy: 0.5169\n"
     ]
    },
    {
     "data": {
      "application/vnd.jupyter.widget-view+json": {
       "model_id": "e89a848682b94c9dbe6814aaf9b731e1",
       "version_major": 2,
       "version_minor": 0
      },
      "text/plain": [
       "  0%|          | 0/197 [00:00<?, ?it/s]"
      ]
     },
     "metadata": {},
     "output_type": "display_data"
    },
    {
     "data": {
      "application/vnd.jupyter.widget-view+json": {
       "model_id": "670730cfdffa46f6a7db5ae8ce796944",
       "version_major": 2,
       "version_minor": 0
      },
      "text/plain": [
       "  0%|          | 0/393 [00:00<?, ?it/s]"
      ]
     },
     "metadata": {},
     "output_type": "display_data"
    },
    {
     "name": "stdout",
     "output_type": "stream",
     "text": [
      "Epoch [6/500], Train Loss: 1.0384, Train Accuracy: 0.6611 Valid Loss: 1.2996, Valid Accuracy: 0.5710\n"
     ]
    },
    {
     "data": {
      "application/vnd.jupyter.widget-view+json": {
       "model_id": "33b4ea0703654723a455322add79e995",
       "version_major": 2,
       "version_minor": 0
      },
      "text/plain": [
       "  0%|          | 0/197 [00:00<?, ?it/s]"
      ]
     },
     "metadata": {},
     "output_type": "display_data"
    },
    {
     "data": {
      "application/vnd.jupyter.widget-view+json": {
       "model_id": "4983bf16c6ed482e80ef477ff0803480",
       "version_major": 2,
       "version_minor": 0
      },
      "text/plain": [
       "  0%|          | 0/393 [00:00<?, ?it/s]"
      ]
     },
     "metadata": {},
     "output_type": "display_data"
    },
    {
     "name": "stdout",
     "output_type": "stream",
     "text": [
      "Epoch [7/500], Train Loss: 0.9953, Train Accuracy: 0.6631 Valid Loss: 2.0059, Valid Accuracy: 0.4439\n"
     ]
    },
    {
     "data": {
      "application/vnd.jupyter.widget-view+json": {
       "model_id": "8f1ab70dce3d487db95c300877551d97",
       "version_major": 2,
       "version_minor": 0
      },
      "text/plain": [
       "  0%|          | 0/197 [00:00<?, ?it/s]"
      ]
     },
     "metadata": {},
     "output_type": "display_data"
    },
    {
     "data": {
      "application/vnd.jupyter.widget-view+json": {
       "model_id": "f38eeaf375b2455e843a3e7b54a1bd0a",
       "version_major": 2,
       "version_minor": 0
      },
      "text/plain": [
       "  0%|          | 0/393 [00:00<?, ?it/s]"
      ]
     },
     "metadata": {},
     "output_type": "display_data"
    },
    {
     "name": "stdout",
     "output_type": "stream",
     "text": [
      "Epoch [8/500], Train Loss: 0.9576, Train Accuracy: 0.6764 Valid Loss: 1.9483, Valid Accuracy: 0.5016\n"
     ]
    },
    {
     "data": {
      "application/vnd.jupyter.widget-view+json": {
       "model_id": "23a0d9dd100d43fb81798cfc8b7d7d72",
       "version_major": 2,
       "version_minor": 0
      },
      "text/plain": [
       "  0%|          | 0/197 [00:00<?, ?it/s]"
      ]
     },
     "metadata": {},
     "output_type": "display_data"
    },
    {
     "data": {
      "application/vnd.jupyter.widget-view+json": {
       "model_id": "0d8831c351154953a011076108479fc9",
       "version_major": 2,
       "version_minor": 0
      },
      "text/plain": [
       "  0%|          | 0/393 [00:00<?, ?it/s]"
      ]
     },
     "metadata": {},
     "output_type": "display_data"
    },
    {
     "name": "stdout",
     "output_type": "stream",
     "text": [
      "Epoch [9/500], Train Loss: 0.8918, Train Accuracy: 0.6994 Valid Loss: 2.4032, Valid Accuracy: 0.4318\n"
     ]
    },
    {
     "data": {
      "application/vnd.jupyter.widget-view+json": {
       "model_id": "132a1d1f98f34b768a5356b04c7204f7",
       "version_major": 2,
       "version_minor": 0
      },
      "text/plain": [
       "  0%|          | 0/197 [00:00<?, ?it/s]"
      ]
     },
     "metadata": {},
     "output_type": "display_data"
    },
    {
     "data": {
      "application/vnd.jupyter.widget-view+json": {
       "model_id": "d6f18888ced8401c988ec91c5e280d49",
       "version_major": 2,
       "version_minor": 0
      },
      "text/plain": [
       "  0%|          | 0/393 [00:00<?, ?it/s]"
      ]
     },
     "metadata": {},
     "output_type": "display_data"
    },
    {
     "name": "stdout",
     "output_type": "stream",
     "text": [
      "Epoch [10/500], Train Loss: 0.8050, Train Accuracy: 0.7210 Valid Loss: 1.8620, Valid Accuracy: 0.5019\n"
     ]
    },
    {
     "data": {
      "application/vnd.jupyter.widget-view+json": {
       "model_id": "eb1a692d04d2443a9ac354baada85101",
       "version_major": 2,
       "version_minor": 0
      },
      "text/plain": [
       "  0%|          | 0/197 [00:00<?, ?it/s]"
      ]
     },
     "metadata": {},
     "output_type": "display_data"
    },
    {
     "data": {
      "application/vnd.jupyter.widget-view+json": {
       "model_id": "bee6e13bb5ce49a5b5477cdad2c9e7b0",
       "version_major": 2,
       "version_minor": 0
      },
      "text/plain": [
       "  0%|          | 0/393 [00:00<?, ?it/s]"
      ]
     },
     "metadata": {},
     "output_type": "display_data"
    },
    {
     "name": "stdout",
     "output_type": "stream",
     "text": [
      "Epoch [11/500], Train Loss: 0.7993, Train Accuracy: 0.7236 Valid Loss: 1.1554, Valid Accuracy: 0.6503\n"
     ]
    },
    {
     "data": {
      "application/vnd.jupyter.widget-view+json": {
       "model_id": "a933015dc2384674b678f318c6ee31ec",
       "version_major": 2,
       "version_minor": 0
      },
      "text/plain": [
       "  0%|          | 0/197 [00:00<?, ?it/s]"
      ]
     },
     "metadata": {},
     "output_type": "display_data"
    },
    {
     "data": {
      "application/vnd.jupyter.widget-view+json": {
       "model_id": "a832f2c2f9434cd2ad485cee42feb348",
       "version_major": 2,
       "version_minor": 0
      },
      "text/plain": [
       "  0%|          | 0/393 [00:00<?, ?it/s]"
      ]
     },
     "metadata": {},
     "output_type": "display_data"
    },
    {
     "name": "stdout",
     "output_type": "stream",
     "text": [
      "Epoch [12/500], Train Loss: 0.7136, Train Accuracy: 0.7618 Valid Loss: 1.1927, Valid Accuracy: 0.6338\n"
     ]
    },
    {
     "data": {
      "application/vnd.jupyter.widget-view+json": {
       "model_id": "a8db6e5977b2461b97318b00fbb6c341",
       "version_major": 2,
       "version_minor": 0
      },
      "text/plain": [
       "  0%|          | 0/197 [00:00<?, ?it/s]"
      ]
     },
     "metadata": {},
     "output_type": "display_data"
    },
    {
     "data": {
      "application/vnd.jupyter.widget-view+json": {
       "model_id": "f3c248ef6df740c1b42cef196ba1bfb2",
       "version_major": 2,
       "version_minor": 0
      },
      "text/plain": [
       "  0%|          | 0/393 [00:00<?, ?it/s]"
      ]
     },
     "metadata": {},
     "output_type": "display_data"
    },
    {
     "name": "stdout",
     "output_type": "stream",
     "text": [
      "Epoch [13/500], Train Loss: 0.6505, Train Accuracy: 0.7815 Valid Loss: 1.5204, Valid Accuracy: 0.5898\n"
     ]
    },
    {
     "data": {
      "application/vnd.jupyter.widget-view+json": {
       "model_id": "94dcc0c65dae483f8c95514103bb8a35",
       "version_major": 2,
       "version_minor": 0
      },
      "text/plain": [
       "  0%|          | 0/197 [00:00<?, ?it/s]"
      ]
     },
     "metadata": {},
     "output_type": "display_data"
    },
    {
     "data": {
      "application/vnd.jupyter.widget-view+json": {
       "model_id": "176947e60ead46b4bc5fc0816d319e60",
       "version_major": 2,
       "version_minor": 0
      },
      "text/plain": [
       "  0%|          | 0/393 [00:00<?, ?it/s]"
      ]
     },
     "metadata": {},
     "output_type": "display_data"
    },
    {
     "name": "stdout",
     "output_type": "stream",
     "text": [
      "Epoch [14/500], Train Loss: 0.7168, Train Accuracy: 0.7522 Valid Loss: 0.8560, Valid Accuracy: 0.7280\n"
     ]
    },
    {
     "data": {
      "application/vnd.jupyter.widget-view+json": {
       "model_id": "9097d31cae8b46d7b864911b1beefc38",
       "version_major": 2,
       "version_minor": 0
      },
      "text/plain": [
       "  0%|          | 0/197 [00:00<?, ?it/s]"
      ]
     },
     "metadata": {},
     "output_type": "display_data"
    },
    {
     "data": {
      "application/vnd.jupyter.widget-view+json": {
       "model_id": "893dc80a233244ae95033f2a21e20bbb",
       "version_major": 2,
       "version_minor": 0
      },
      "text/plain": [
       "  0%|          | 0/393 [00:00<?, ?it/s]"
      ]
     },
     "metadata": {},
     "output_type": "display_data"
    },
    {
     "name": "stdout",
     "output_type": "stream",
     "text": [
      "Epoch [15/500], Train Loss: 0.6324, Train Accuracy: 0.7764 Valid Loss: 1.6382, Valid Accuracy: 0.5382\n"
     ]
    },
    {
     "data": {
      "application/vnd.jupyter.widget-view+json": {
       "model_id": "ad8668499bee4e01b3cffe1b86318004",
       "version_major": 2,
       "version_minor": 0
      },
      "text/plain": [
       "  0%|          | 0/197 [00:00<?, ?it/s]"
      ]
     },
     "metadata": {},
     "output_type": "display_data"
    },
    {
     "data": {
      "application/vnd.jupyter.widget-view+json": {
       "model_id": "fbec30231fda4d5db42579848da4f400",
       "version_major": 2,
       "version_minor": 0
      },
      "text/plain": [
       "  0%|          | 0/393 [00:00<?, ?it/s]"
      ]
     },
     "metadata": {},
     "output_type": "display_data"
    },
    {
     "name": "stdout",
     "output_type": "stream",
     "text": [
      "Epoch [16/500], Train Loss: 0.7127, Train Accuracy: 0.7401 Valid Loss: 1.2776, Valid Accuracy: 0.6191\n"
     ]
    },
    {
     "data": {
      "application/vnd.jupyter.widget-view+json": {
       "model_id": "2f0da33976494ddea6e09071ccc70164",
       "version_major": 2,
       "version_minor": 0
      },
      "text/plain": [
       "  0%|          | 0/197 [00:00<?, ?it/s]"
      ]
     },
     "metadata": {},
     "output_type": "display_data"
    },
    {
     "data": {
      "application/vnd.jupyter.widget-view+json": {
       "model_id": "4b84dab0473b47cf9f59c5cbdaf9d076",
       "version_major": 2,
       "version_minor": 0
      },
      "text/plain": [
       "  0%|          | 0/393 [00:00<?, ?it/s]"
      ]
     },
     "metadata": {},
     "output_type": "display_data"
    },
    {
     "name": "stdout",
     "output_type": "stream",
     "text": [
      "Epoch [17/500], Train Loss: 0.6473, Train Accuracy: 0.7752 Valid Loss: 2.2708, Valid Accuracy: 0.4506\n"
     ]
    },
    {
     "data": {
      "application/vnd.jupyter.widget-view+json": {
       "model_id": "55b5188d2cc94485b3ae6194e46d4f81",
       "version_major": 2,
       "version_minor": 0
      },
      "text/plain": [
       "  0%|          | 0/197 [00:00<?, ?it/s]"
      ]
     },
     "metadata": {},
     "output_type": "display_data"
    },
    {
     "data": {
      "application/vnd.jupyter.widget-view+json": {
       "model_id": "9d310279e73042f8899bf699384b678e",
       "version_major": 2,
       "version_minor": 0
      },
      "text/plain": [
       "  0%|          | 0/393 [00:00<?, ?it/s]"
      ]
     },
     "metadata": {},
     "output_type": "display_data"
    },
    {
     "name": "stdout",
     "output_type": "stream",
     "text": [
      "Epoch [18/500], Train Loss: 0.6463, Train Accuracy: 0.7758 Valid Loss: 1.0932, Valid Accuracy: 0.6672\n"
     ]
    },
    {
     "data": {
      "application/vnd.jupyter.widget-view+json": {
       "model_id": "9bbd9a3ea848490386694329fac36c5b",
       "version_major": 2,
       "version_minor": 0
      },
      "text/plain": [
       "  0%|          | 0/197 [00:00<?, ?it/s]"
      ]
     },
     "metadata": {},
     "output_type": "display_data"
    },
    {
     "data": {
      "application/vnd.jupyter.widget-view+json": {
       "model_id": "6f24c3ae9d4b446a81fc5c1985ff43e6",
       "version_major": 2,
       "version_minor": 0
      },
      "text/plain": [
       "  0%|          | 0/393 [00:00<?, ?it/s]"
      ]
     },
     "metadata": {},
     "output_type": "display_data"
    },
    {
     "name": "stdout",
     "output_type": "stream",
     "text": [
      "Epoch [19/500], Train Loss: 0.6020, Train Accuracy: 0.7924 Valid Loss: 1.2843, Valid Accuracy: 0.6764\n"
     ]
    },
    {
     "data": {
      "application/vnd.jupyter.widget-view+json": {
       "model_id": "5e7646015ef54b0eb96e1086d0d9e338",
       "version_major": 2,
       "version_minor": 0
      },
      "text/plain": [
       "  0%|          | 0/197 [00:00<?, ?it/s]"
      ]
     },
     "metadata": {},
     "output_type": "display_data"
    },
    {
     "data": {
      "application/vnd.jupyter.widget-view+json": {
       "model_id": "a08b850082744cc0bbdbc358a57fe96e",
       "version_major": 2,
       "version_minor": 0
      },
      "text/plain": [
       "  0%|          | 0/393 [00:00<?, ?it/s]"
      ]
     },
     "metadata": {},
     "output_type": "display_data"
    },
    {
     "name": "stdout",
     "output_type": "stream",
     "text": [
      "Epoch [20/500], Train Loss: 0.5721, Train Accuracy: 0.7949 Valid Loss: 2.1013, Valid Accuracy: 0.5656\n"
     ]
    },
    {
     "data": {
      "application/vnd.jupyter.widget-view+json": {
       "model_id": "f5fbbee6a27c4e62a45eb968b84b7f8a",
       "version_major": 2,
       "version_minor": 0
      },
      "text/plain": [
       "  0%|          | 0/197 [00:00<?, ?it/s]"
      ]
     },
     "metadata": {},
     "output_type": "display_data"
    },
    {
     "data": {
      "application/vnd.jupyter.widget-view+json": {
       "model_id": "b1e53a69b6a947b98e9166893e3a11ee",
       "version_major": 2,
       "version_minor": 0
      },
      "text/plain": [
       "  0%|          | 0/393 [00:00<?, ?it/s]"
      ]
     },
     "metadata": {},
     "output_type": "display_data"
    },
    {
     "name": "stdout",
     "output_type": "stream",
     "text": [
      "Epoch [21/500], Train Loss: 0.6163, Train Accuracy: 0.7834 Valid Loss: 1.3223, Valid Accuracy: 0.6395\n"
     ]
    },
    {
     "data": {
      "application/vnd.jupyter.widget-view+json": {
       "model_id": "9007b96af28244418d906fe2820b28b3",
       "version_major": 2,
       "version_minor": 0
      },
      "text/plain": [
       "  0%|          | 0/197 [00:00<?, ?it/s]"
      ]
     },
     "metadata": {},
     "output_type": "display_data"
    },
    {
     "data": {
      "application/vnd.jupyter.widget-view+json": {
       "model_id": "49ed046ada4a4e47947ef275bd866f2f",
       "version_major": 2,
       "version_minor": 0
      },
      "text/plain": [
       "  0%|          | 0/393 [00:00<?, ?it/s]"
      ]
     },
     "metadata": {},
     "output_type": "display_data"
    },
    {
     "name": "stdout",
     "output_type": "stream",
     "text": [
      "Epoch [22/500], Train Loss: 0.5612, Train Accuracy: 0.8038 Valid Loss: 1.1591, Valid Accuracy: 0.6892\n"
     ]
    },
    {
     "data": {
      "application/vnd.jupyter.widget-view+json": {
       "model_id": "3a045d51fa104867bc7e14ece357b396",
       "version_major": 2,
       "version_minor": 0
      },
      "text/plain": [
       "  0%|          | 0/197 [00:00<?, ?it/s]"
      ]
     },
     "metadata": {},
     "output_type": "display_data"
    },
    {
     "data": {
      "application/vnd.jupyter.widget-view+json": {
       "model_id": "4493cbad3aa549c2a070a6e607962362",
       "version_major": 2,
       "version_minor": 0
      },
      "text/plain": [
       "  0%|          | 0/393 [00:00<?, ?it/s]"
      ]
     },
     "metadata": {},
     "output_type": "display_data"
    },
    {
     "name": "stdout",
     "output_type": "stream",
     "text": [
      "Epoch [23/500], Train Loss: 0.6311, Train Accuracy: 0.7841 Valid Loss: 5.2033, Valid Accuracy: 0.1436\n"
     ]
    },
    {
     "data": {
      "application/vnd.jupyter.widget-view+json": {
       "model_id": "0131eed1de234e31a67c28b1fa134988",
       "version_major": 2,
       "version_minor": 0
      },
      "text/plain": [
       "  0%|          | 0/197 [00:00<?, ?it/s]"
      ]
     },
     "metadata": {},
     "output_type": "display_data"
    },
    {
     "data": {
      "application/vnd.jupyter.widget-view+json": {
       "model_id": "8d9b0909aa6a435d877f2c1ab48ab037",
       "version_major": 2,
       "version_minor": 0
      },
      "text/plain": [
       "  0%|          | 0/393 [00:00<?, ?it/s]"
      ]
     },
     "metadata": {},
     "output_type": "display_data"
    },
    {
     "name": "stdout",
     "output_type": "stream",
     "text": [
      "Epoch [24/500], Train Loss: 0.5452, Train Accuracy: 0.8121 Valid Loss: 1.1676, Valid Accuracy: 0.6822\n"
     ]
    },
    {
     "data": {
      "application/vnd.jupyter.widget-view+json": {
       "model_id": "3c03c84759cb40c3bfd963e28d111b1f",
       "version_major": 2,
       "version_minor": 0
      },
      "text/plain": [
       "  0%|          | 0/197 [00:00<?, ?it/s]"
      ]
     },
     "metadata": {},
     "output_type": "display_data"
    },
    {
     "data": {
      "application/vnd.jupyter.widget-view+json": {
       "model_id": "52b5c5bde7f8412b893cdc3768708e07",
       "version_major": 2,
       "version_minor": 0
      },
      "text/plain": [
       "  0%|          | 0/393 [00:00<?, ?it/s]"
      ]
     },
     "metadata": {},
     "output_type": "display_data"
    },
    {
     "name": "stdout",
     "output_type": "stream",
     "text": [
      "Epoch [25/500], Train Loss: 0.4951, Train Accuracy: 0.8236 Valid Loss: 0.8825, Valid Accuracy: 0.7331\n"
     ]
    },
    {
     "data": {
      "application/vnd.jupyter.widget-view+json": {
       "model_id": "b57b387b58514e9fb968cd0f740f36ea",
       "version_major": 2,
       "version_minor": 0
      },
      "text/plain": [
       "  0%|          | 0/197 [00:00<?, ?it/s]"
      ]
     },
     "metadata": {},
     "output_type": "display_data"
    },
    {
     "data": {
      "application/vnd.jupyter.widget-view+json": {
       "model_id": "607b848a18a24386b11ec908135ae5b9",
       "version_major": 2,
       "version_minor": 0
      },
      "text/plain": [
       "  0%|          | 0/393 [00:00<?, ?it/s]"
      ]
     },
     "metadata": {},
     "output_type": "display_data"
    },
    {
     "name": "stdout",
     "output_type": "stream",
     "text": [
      "Epoch [26/500], Train Loss: 0.4815, Train Accuracy: 0.8344 Valid Loss: 2.0333, Valid Accuracy: 0.4959\n"
     ]
    },
    {
     "data": {
      "application/vnd.jupyter.widget-view+json": {
       "model_id": "b73bb74211ea41c5a642382788b3495e",
       "version_major": 2,
       "version_minor": 0
      },
      "text/plain": [
       "  0%|          | 0/197 [00:00<?, ?it/s]"
      ]
     },
     "metadata": {},
     "output_type": "display_data"
    },
    {
     "data": {
      "application/vnd.jupyter.widget-view+json": {
       "model_id": "d1ffdc9427c243acb3343d1fefa0efbd",
       "version_major": 2,
       "version_minor": 0
      },
      "text/plain": [
       "  0%|          | 0/393 [00:00<?, ?it/s]"
      ]
     },
     "metadata": {},
     "output_type": "display_data"
    },
    {
     "name": "stdout",
     "output_type": "stream",
     "text": [
      "Epoch [27/500], Train Loss: 0.4903, Train Accuracy: 0.8306 Valid Loss: 1.0180, Valid Accuracy: 0.7194\n"
     ]
    },
    {
     "data": {
      "application/vnd.jupyter.widget-view+json": {
       "model_id": "048f337826784938b44fcd7e2ba8b7d3",
       "version_major": 2,
       "version_minor": 0
      },
      "text/plain": [
       "  0%|          | 0/197 [00:00<?, ?it/s]"
      ]
     },
     "metadata": {},
     "output_type": "display_data"
    },
    {
     "data": {
      "application/vnd.jupyter.widget-view+json": {
       "model_id": "bf558e63405942caa48907754d78e32c",
       "version_major": 2,
       "version_minor": 0
      },
      "text/plain": [
       "  0%|          | 0/393 [00:00<?, ?it/s]"
      ]
     },
     "metadata": {},
     "output_type": "display_data"
    },
    {
     "name": "stdout",
     "output_type": "stream",
     "text": [
      "Epoch [28/500], Train Loss: 0.4643, Train Accuracy: 0.8312 Valid Loss: 1.6667, Valid Accuracy: 0.5955\n"
     ]
    },
    {
     "data": {
      "application/vnd.jupyter.widget-view+json": {
       "model_id": "af34ee16c9714683bce74b5a4756a4bd",
       "version_major": 2,
       "version_minor": 0
      },
      "text/plain": [
       "  0%|          | 0/197 [00:00<?, ?it/s]"
      ]
     },
     "metadata": {},
     "output_type": "display_data"
    },
    {
     "data": {
      "application/vnd.jupyter.widget-view+json": {
       "model_id": "d522355220394298b7bfcdc25fad6027",
       "version_major": 2,
       "version_minor": 0
      },
      "text/plain": [
       "  0%|          | 0/393 [00:00<?, ?it/s]"
      ]
     },
     "metadata": {},
     "output_type": "display_data"
    },
    {
     "name": "stdout",
     "output_type": "stream",
     "text": [
      "Epoch [29/500], Train Loss: 0.4796, Train Accuracy: 0.8395 Valid Loss: 1.9435, Valid Accuracy: 0.5414\n"
     ]
    },
    {
     "data": {
      "application/vnd.jupyter.widget-view+json": {
       "model_id": "7b31785a46064056ad1dc83ac8da1fc0",
       "version_major": 2,
       "version_minor": 0
      },
      "text/plain": [
       "  0%|          | 0/197 [00:00<?, ?it/s]"
      ]
     },
     "metadata": {},
     "output_type": "display_data"
    },
    {
     "data": {
      "application/vnd.jupyter.widget-view+json": {
       "model_id": "bcf449bbfe3b45409547592d7f57324c",
       "version_major": 2,
       "version_minor": 0
      },
      "text/plain": [
       "  0%|          | 0/393 [00:00<?, ?it/s]"
      ]
     },
     "metadata": {},
     "output_type": "display_data"
    },
    {
     "name": "stdout",
     "output_type": "stream",
     "text": [
      "Epoch [30/500], Train Loss: 0.4417, Train Accuracy: 0.8382 Valid Loss: 0.9042, Valid Accuracy: 0.7373\n"
     ]
    },
    {
     "data": {
      "application/vnd.jupyter.widget-view+json": {
       "model_id": "e2dd39cf450149e387f560463c9af201",
       "version_major": 2,
       "version_minor": 0
      },
      "text/plain": [
       "  0%|          | 0/197 [00:00<?, ?it/s]"
      ]
     },
     "metadata": {},
     "output_type": "display_data"
    },
    {
     "data": {
      "application/vnd.jupyter.widget-view+json": {
       "model_id": "661ea8376a1044daa5f572bf47143404",
       "version_major": 2,
       "version_minor": 0
      },
      "text/plain": [
       "  0%|          | 0/393 [00:00<?, ?it/s]"
      ]
     },
     "metadata": {},
     "output_type": "display_data"
    },
    {
     "name": "stdout",
     "output_type": "stream",
     "text": [
      "Epoch [31/500], Train Loss: 0.4761, Train Accuracy: 0.8306 Valid Loss: 1.2300, Valid Accuracy: 0.6818\n"
     ]
    },
    {
     "data": {
      "application/vnd.jupyter.widget-view+json": {
       "model_id": "6c97d3aeb4394c0c83e38767059c1eaf",
       "version_major": 2,
       "version_minor": 0
      },
      "text/plain": [
       "  0%|          | 0/197 [00:00<?, ?it/s]"
      ]
     },
     "metadata": {},
     "output_type": "display_data"
    },
    {
     "data": {
      "application/vnd.jupyter.widget-view+json": {
       "model_id": "b3046495799d406ba8503e078780b140",
       "version_major": 2,
       "version_minor": 0
      },
      "text/plain": [
       "  0%|          | 0/393 [00:00<?, ?it/s]"
      ]
     },
     "metadata": {},
     "output_type": "display_data"
    },
    {
     "name": "stdout",
     "output_type": "stream",
     "text": [
      "Epoch [32/500], Train Loss: 0.4507, Train Accuracy: 0.8414 Valid Loss: 1.9163, Valid Accuracy: 0.5838\n"
     ]
    },
    {
     "data": {
      "application/vnd.jupyter.widget-view+json": {
       "model_id": "a5d3009434154497a83268b67c2f1abc",
       "version_major": 2,
       "version_minor": 0
      },
      "text/plain": [
       "  0%|          | 0/197 [00:00<?, ?it/s]"
      ]
     },
     "metadata": {},
     "output_type": "display_data"
    },
    {
     "data": {
      "application/vnd.jupyter.widget-view+json": {
       "model_id": "9970c90fdd57447a84edea190ef7fe53",
       "version_major": 2,
       "version_minor": 0
      },
      "text/plain": [
       "  0%|          | 0/393 [00:00<?, ?it/s]"
      ]
     },
     "metadata": {},
     "output_type": "display_data"
    },
    {
     "name": "stdout",
     "output_type": "stream",
     "text": [
      "Epoch [33/500], Train Loss: 0.4358, Train Accuracy: 0.8459 Valid Loss: 0.8716, Valid Accuracy: 0.7417\n"
     ]
    },
    {
     "data": {
      "application/vnd.jupyter.widget-view+json": {
       "model_id": "573f70e315174269b5dab64712badf45",
       "version_major": 2,
       "version_minor": 0
      },
      "text/plain": [
       "  0%|          | 0/197 [00:00<?, ?it/s]"
      ]
     },
     "metadata": {},
     "output_type": "display_data"
    },
    {
     "data": {
      "application/vnd.jupyter.widget-view+json": {
       "model_id": "6373cb24e8a6400cb341fdb9a7aafa0a",
       "version_major": 2,
       "version_minor": 0
      },
      "text/plain": [
       "  0%|          | 0/393 [00:00<?, ?it/s]"
      ]
     },
     "metadata": {},
     "output_type": "display_data"
    },
    {
     "name": "stdout",
     "output_type": "stream",
     "text": [
      "Epoch [34/500], Train Loss: 0.4241, Train Accuracy: 0.8414 Valid Loss: 1.4799, Valid Accuracy: 0.6592\n"
     ]
    },
    {
     "data": {
      "application/vnd.jupyter.widget-view+json": {
       "model_id": "c1dc2dc3b89e47e5a9ebfea85a774939",
       "version_major": 2,
       "version_minor": 0
      },
      "text/plain": [
       "  0%|          | 0/197 [00:00<?, ?it/s]"
      ]
     },
     "metadata": {},
     "output_type": "display_data"
    },
    {
     "data": {
      "application/vnd.jupyter.widget-view+json": {
       "model_id": "7b40f34c01ba4feb8684c0bebb2f595d",
       "version_major": 2,
       "version_minor": 0
      },
      "text/plain": [
       "  0%|          | 0/393 [00:00<?, ?it/s]"
      ]
     },
     "metadata": {},
     "output_type": "display_data"
    },
    {
     "name": "stdout",
     "output_type": "stream",
     "text": [
      "Epoch [35/500], Train Loss: 0.4672, Train Accuracy: 0.8433 Valid Loss: 1.2789, Valid Accuracy: 0.6803\n"
     ]
    },
    {
     "data": {
      "application/vnd.jupyter.widget-view+json": {
       "model_id": "f334b2152fa347edbadb6bff7c15daf7",
       "version_major": 2,
       "version_minor": 0
      },
      "text/plain": [
       "  0%|          | 0/197 [00:00<?, ?it/s]"
      ]
     },
     "metadata": {},
     "output_type": "display_data"
    },
    {
     "data": {
      "application/vnd.jupyter.widget-view+json": {
       "model_id": "87f90eb46b544febaf1e92c7eddd4af6",
       "version_major": 2,
       "version_minor": 0
      },
      "text/plain": [
       "  0%|          | 0/393 [00:00<?, ?it/s]"
      ]
     },
     "metadata": {},
     "output_type": "display_data"
    },
    {
     "name": "stdout",
     "output_type": "stream",
     "text": [
      "Epoch [36/500], Train Loss: 0.4448, Train Accuracy: 0.8433 Valid Loss: 1.0694, Valid Accuracy: 0.7287\n"
     ]
    },
    {
     "data": {
      "application/vnd.jupyter.widget-view+json": {
       "model_id": "150501661df040c284f5b234dd17ca60",
       "version_major": 2,
       "version_minor": 0
      },
      "text/plain": [
       "  0%|          | 0/197 [00:00<?, ?it/s]"
      ]
     },
     "metadata": {},
     "output_type": "display_data"
    },
    {
     "data": {
      "application/vnd.jupyter.widget-view+json": {
       "model_id": "6cf90a524117439c8e1faee616424bba",
       "version_major": 2,
       "version_minor": 0
      },
      "text/plain": [
       "  0%|          | 0/393 [00:00<?, ?it/s]"
      ]
     },
     "metadata": {},
     "output_type": "display_data"
    },
    {
     "name": "stdout",
     "output_type": "stream",
     "text": [
      "Epoch [37/500], Train Loss: 0.4239, Train Accuracy: 0.8535 Valid Loss: 1.2798, Valid Accuracy: 0.6710\n"
     ]
    },
    {
     "data": {
      "application/vnd.jupyter.widget-view+json": {
       "model_id": "b381039cdd72436f8e5a689661f13a46",
       "version_major": 2,
       "version_minor": 0
      },
      "text/plain": [
       "  0%|          | 0/197 [00:00<?, ?it/s]"
      ]
     },
     "metadata": {},
     "output_type": "display_data"
    },
    {
     "data": {
      "application/vnd.jupyter.widget-view+json": {
       "model_id": "9dfe5ccbbfc54b918ba5d88d612c7554",
       "version_major": 2,
       "version_minor": 0
      },
      "text/plain": [
       "  0%|          | 0/393 [00:00<?, ?it/s]"
      ]
     },
     "metadata": {},
     "output_type": "display_data"
    },
    {
     "name": "stdout",
     "output_type": "stream",
     "text": [
      "Epoch [38/500], Train Loss: 0.4069, Train Accuracy: 0.8541 Valid Loss: 1.7859, Valid Accuracy: 0.5946\n"
     ]
    },
    {
     "data": {
      "application/vnd.jupyter.widget-view+json": {
       "model_id": "d626908a5fe645b4adec24ad7de8d095",
       "version_major": 2,
       "version_minor": 0
      },
      "text/plain": [
       "  0%|          | 0/197 [00:00<?, ?it/s]"
      ]
     },
     "metadata": {},
     "output_type": "display_data"
    },
    {
     "data": {
      "application/vnd.jupyter.widget-view+json": {
       "model_id": "3a397599f2c24b8f8445ebeeae8f1f68",
       "version_major": 2,
       "version_minor": 0
      },
      "text/plain": [
       "  0%|          | 0/393 [00:00<?, ?it/s]"
      ]
     },
     "metadata": {},
     "output_type": "display_data"
    },
    {
     "name": "stdout",
     "output_type": "stream",
     "text": [
      "Epoch [39/500], Train Loss: 0.4131, Train Accuracy: 0.8484 Valid Loss: 1.1086, Valid Accuracy: 0.7172\n"
     ]
    },
    {
     "data": {
      "application/vnd.jupyter.widget-view+json": {
       "model_id": "ae57f915a5be46c4a807ef2eb7521944",
       "version_major": 2,
       "version_minor": 0
      },
      "text/plain": [
       "  0%|          | 0/197 [00:00<?, ?it/s]"
      ]
     },
     "metadata": {},
     "output_type": "display_data"
    },
    {
     "data": {
      "application/vnd.jupyter.widget-view+json": {
       "model_id": "e1e48d8bf5784b3cba1ebf79323c0644",
       "version_major": 2,
       "version_minor": 0
      },
      "text/plain": [
       "  0%|          | 0/393 [00:00<?, ?it/s]"
      ]
     },
     "metadata": {},
     "output_type": "display_data"
    },
    {
     "name": "stdout",
     "output_type": "stream",
     "text": [
      "Epoch [40/500], Train Loss: 0.4038, Train Accuracy: 0.8503 Valid Loss: 1.2087, Valid Accuracy: 0.6949\n"
     ]
    },
    {
     "data": {
      "application/vnd.jupyter.widget-view+json": {
       "model_id": "3a9b22931991461a8961af7485e1c5c8",
       "version_major": 2,
       "version_minor": 0
      },
      "text/plain": [
       "  0%|          | 0/197 [00:00<?, ?it/s]"
      ]
     },
     "metadata": {},
     "output_type": "display_data"
    },
    {
     "data": {
      "application/vnd.jupyter.widget-view+json": {
       "model_id": "b17cc99358da4ef0aa62372890ec5753",
       "version_major": 2,
       "version_minor": 0
      },
      "text/plain": [
       "  0%|          | 0/393 [00:00<?, ?it/s]"
      ]
     },
     "metadata": {},
     "output_type": "display_data"
    },
    {
     "name": "stdout",
     "output_type": "stream",
     "text": [
      "Epoch [41/500], Train Loss: 0.3830, Train Accuracy: 0.8618 Valid Loss: 1.8962, Valid Accuracy: 0.5732\n"
     ]
    },
    {
     "data": {
      "application/vnd.jupyter.widget-view+json": {
       "model_id": "f1cece42b0a04936adb6d956321157fa",
       "version_major": 2,
       "version_minor": 0
      },
      "text/plain": [
       "  0%|          | 0/197 [00:00<?, ?it/s]"
      ]
     },
     "metadata": {},
     "output_type": "display_data"
    },
    {
     "data": {
      "application/vnd.jupyter.widget-view+json": {
       "model_id": "4f6b09a77c1d421a93e4f0051bea4a34",
       "version_major": 2,
       "version_minor": 0
      },
      "text/plain": [
       "  0%|          | 0/393 [00:00<?, ?it/s]"
      ]
     },
     "metadata": {},
     "output_type": "display_data"
    },
    {
     "name": "stdout",
     "output_type": "stream",
     "text": [
      "Epoch [42/500], Train Loss: 0.4088, Train Accuracy: 0.8497 Valid Loss: 0.8937, Valid Accuracy: 0.7643\n"
     ]
    },
    {
     "data": {
      "application/vnd.jupyter.widget-view+json": {
       "model_id": "d6ee6fa343cc431b9b827c02e4e98532",
       "version_major": 2,
       "version_minor": 0
      },
      "text/plain": [
       "  0%|          | 0/197 [00:00<?, ?it/s]"
      ]
     },
     "metadata": {},
     "output_type": "display_data"
    },
    {
     "data": {
      "application/vnd.jupyter.widget-view+json": {
       "model_id": "710384d203ce4666a76a02bda55ab8b8",
       "version_major": 2,
       "version_minor": 0
      },
      "text/plain": [
       "  0%|          | 0/393 [00:00<?, ?it/s]"
      ]
     },
     "metadata": {},
     "output_type": "display_data"
    },
    {
     "name": "stdout",
     "output_type": "stream",
     "text": [
      "Epoch [43/500], Train Loss: 0.3828, Train Accuracy: 0.8650 Valid Loss: 0.9532, Valid Accuracy: 0.7417\n"
     ]
    },
    {
     "data": {
      "application/vnd.jupyter.widget-view+json": {
       "model_id": "006e62bf480d4115bf46b5fcbfba2630",
       "version_major": 2,
       "version_minor": 0
      },
      "text/plain": [
       "  0%|          | 0/197 [00:00<?, ?it/s]"
      ]
     },
     "metadata": {},
     "output_type": "display_data"
    },
    {
     "data": {
      "application/vnd.jupyter.widget-view+json": {
       "model_id": "b8d6ec7ca00841bfbf637b84f70eaca4",
       "version_major": 2,
       "version_minor": 0
      },
      "text/plain": [
       "  0%|          | 0/393 [00:00<?, ?it/s]"
      ]
     },
     "metadata": {},
     "output_type": "display_data"
    },
    {
     "name": "stdout",
     "output_type": "stream",
     "text": [
      "Epoch [44/500], Train Loss: 0.3601, Train Accuracy: 0.8713 Valid Loss: 1.1261, Valid Accuracy: 0.7134\n"
     ]
    },
    {
     "data": {
      "application/vnd.jupyter.widget-view+json": {
       "model_id": "7b07abe25c9740ca84e7d0ad8b9e789d",
       "version_major": 2,
       "version_minor": 0
      },
      "text/plain": [
       "  0%|          | 0/197 [00:00<?, ?it/s]"
      ]
     },
     "metadata": {},
     "output_type": "display_data"
    },
    {
     "data": {
      "application/vnd.jupyter.widget-view+json": {
       "model_id": "6b5a19d52f7741c9ab3b7a43e3ddc56c",
       "version_major": 2,
       "version_minor": 0
      },
      "text/plain": [
       "  0%|          | 0/393 [00:00<?, ?it/s]"
      ]
     },
     "metadata": {},
     "output_type": "display_data"
    },
    {
     "name": "stdout",
     "output_type": "stream",
     "text": [
      "Epoch [45/500], Train Loss: 0.3452, Train Accuracy: 0.8739 Valid Loss: 1.0369, Valid Accuracy: 0.7258\n"
     ]
    },
    {
     "data": {
      "application/vnd.jupyter.widget-view+json": {
       "model_id": "2a71fd1959b5407f89d6a575727933fa",
       "version_major": 2,
       "version_minor": 0
      },
      "text/plain": [
       "  0%|          | 0/197 [00:00<?, ?it/s]"
      ]
     },
     "metadata": {},
     "output_type": "display_data"
    },
    {
     "data": {
      "application/vnd.jupyter.widget-view+json": {
       "model_id": "5874a0b2ce184584baadea9ad9ea9f8c",
       "version_major": 2,
       "version_minor": 0
      },
      "text/plain": [
       "  0%|          | 0/393 [00:00<?, ?it/s]"
      ]
     },
     "metadata": {},
     "output_type": "display_data"
    },
    {
     "name": "stdout",
     "output_type": "stream",
     "text": [
      "Epoch [46/500], Train Loss: 0.3674, Train Accuracy: 0.8624 Valid Loss: 1.2434, Valid Accuracy: 0.6822\n"
     ]
    },
    {
     "data": {
      "application/vnd.jupyter.widget-view+json": {
       "model_id": "87097e3416e0406a88c7baffa6563309",
       "version_major": 2,
       "version_minor": 0
      },
      "text/plain": [
       "  0%|          | 0/197 [00:00<?, ?it/s]"
      ]
     },
     "metadata": {},
     "output_type": "display_data"
    },
    {
     "data": {
      "application/vnd.jupyter.widget-view+json": {
       "model_id": "26610775818f4f39bcc1e10459a80a33",
       "version_major": 2,
       "version_minor": 0
      },
      "text/plain": [
       "  0%|          | 0/393 [00:00<?, ?it/s]"
      ]
     },
     "metadata": {},
     "output_type": "display_data"
    },
    {
     "name": "stdout",
     "output_type": "stream",
     "text": [
      "Epoch [47/500], Train Loss: 0.3392, Train Accuracy: 0.8809 Valid Loss: 1.1357, Valid Accuracy: 0.7153\n"
     ]
    },
    {
     "data": {
      "application/vnd.jupyter.widget-view+json": {
       "model_id": "0e550b0cdef04684b764f8daa5396d9e",
       "version_major": 2,
       "version_minor": 0
      },
      "text/plain": [
       "  0%|          | 0/197 [00:00<?, ?it/s]"
      ]
     },
     "metadata": {},
     "output_type": "display_data"
    },
    {
     "data": {
      "application/vnd.jupyter.widget-view+json": {
       "model_id": "fa069f2499f2462da5bc2f5bfd06ed4b",
       "version_major": 2,
       "version_minor": 0
      },
      "text/plain": [
       "  0%|          | 0/393 [00:00<?, ?it/s]"
      ]
     },
     "metadata": {},
     "output_type": "display_data"
    },
    {
     "name": "stdout",
     "output_type": "stream",
     "text": [
      "Epoch [48/500], Train Loss: 0.3385, Train Accuracy: 0.8771 Valid Loss: 1.3004, Valid Accuracy: 0.6908\n"
     ]
    },
    {
     "data": {
      "application/vnd.jupyter.widget-view+json": {
       "model_id": "535bd4f4fe3d42979e334cadc01429e3",
       "version_major": 2,
       "version_minor": 0
      },
      "text/plain": [
       "  0%|          | 0/197 [00:00<?, ?it/s]"
      ]
     },
     "metadata": {},
     "output_type": "display_data"
    },
    {
     "data": {
      "application/vnd.jupyter.widget-view+json": {
       "model_id": "e050ff0d19364a22baf6c040d5987c3c",
       "version_major": 2,
       "version_minor": 0
      },
      "text/plain": [
       "  0%|          | 0/393 [00:00<?, ?it/s]"
      ]
     },
     "metadata": {},
     "output_type": "display_data"
    },
    {
     "name": "stdout",
     "output_type": "stream",
     "text": [
      "Epoch [49/500], Train Loss: 0.3343, Train Accuracy: 0.8720 Valid Loss: 1.8051, Valid Accuracy: 0.6035\n"
     ]
    },
    {
     "data": {
      "application/vnd.jupyter.widget-view+json": {
       "model_id": "5eaf41f42fdd4151912cb330350bd465",
       "version_major": 2,
       "version_minor": 0
      },
      "text/plain": [
       "  0%|          | 0/197 [00:00<?, ?it/s]"
      ]
     },
     "metadata": {},
     "output_type": "display_data"
    },
    {
     "data": {
      "application/vnd.jupyter.widget-view+json": {
       "model_id": "dd292117566f4c6c94aa4af4a36350d0",
       "version_major": 2,
       "version_minor": 0
      },
      "text/plain": [
       "  0%|          | 0/393 [00:00<?, ?it/s]"
      ]
     },
     "metadata": {},
     "output_type": "display_data"
    },
    {
     "name": "stdout",
     "output_type": "stream",
     "text": [
      "Epoch [50/500], Train Loss: 0.3266, Train Accuracy: 0.8803 Valid Loss: 3.1727, Valid Accuracy: 0.4127\n"
     ]
    },
    {
     "data": {
      "application/vnd.jupyter.widget-view+json": {
       "model_id": "640a8bda1dd840f58037b12b2b433749",
       "version_major": 2,
       "version_minor": 0
      },
      "text/plain": [
       "  0%|          | 0/197 [00:00<?, ?it/s]"
      ]
     },
     "metadata": {},
     "output_type": "display_data"
    },
    {
     "data": {
      "application/vnd.jupyter.widget-view+json": {
       "model_id": "8a632736c2014b598239ff217a1e4413",
       "version_major": 2,
       "version_minor": 0
      },
      "text/plain": [
       "  0%|          | 0/393 [00:00<?, ?it/s]"
      ]
     },
     "metadata": {},
     "output_type": "display_data"
    },
    {
     "name": "stdout",
     "output_type": "stream",
     "text": [
      "Epoch [51/500], Train Loss: 0.4006, Train Accuracy: 0.8573 Valid Loss: 1.1089, Valid Accuracy: 0.6990\n"
     ]
    },
    {
     "data": {
      "application/vnd.jupyter.widget-view+json": {
       "model_id": "13a8ceb16ec943a6a31bb310ac8716b4",
       "version_major": 2,
       "version_minor": 0
      },
      "text/plain": [
       "  0%|          | 0/197 [00:00<?, ?it/s]"
      ]
     },
     "metadata": {},
     "output_type": "display_data"
    },
    {
     "data": {
      "application/vnd.jupyter.widget-view+json": {
       "model_id": "4304aaf5b00548fd9223267d277da000",
       "version_major": 2,
       "version_minor": 0
      },
      "text/plain": [
       "  0%|          | 0/393 [00:00<?, ?it/s]"
      ]
     },
     "metadata": {},
     "output_type": "display_data"
    },
    {
     "name": "stdout",
     "output_type": "stream",
     "text": [
      "Epoch [52/500], Train Loss: 0.3343, Train Accuracy: 0.8796 Valid Loss: 1.3288, Valid Accuracy: 0.7166\n"
     ]
    },
    {
     "data": {
      "application/vnd.jupyter.widget-view+json": {
       "model_id": "dcaef8e30b074b0e9533856ac638cbe3",
       "version_major": 2,
       "version_minor": 0
      },
      "text/plain": [
       "  0%|          | 0/197 [00:00<?, ?it/s]"
      ]
     },
     "metadata": {},
     "output_type": "display_data"
    },
    {
     "data": {
      "application/vnd.jupyter.widget-view+json": {
       "model_id": "c0b07233d8f64ce7a574e1843032d7b4",
       "version_major": 2,
       "version_minor": 0
      },
      "text/plain": [
       "  0%|          | 0/393 [00:00<?, ?it/s]"
      ]
     },
     "metadata": {},
     "output_type": "display_data"
    },
    {
     "name": "stdout",
     "output_type": "stream",
     "text": [
      "Epoch [53/500], Train Loss: 0.3326, Train Accuracy: 0.8828 Valid Loss: 0.9206, Valid Accuracy: 0.7487\n"
     ]
    },
    {
     "data": {
      "application/vnd.jupyter.widget-view+json": {
       "model_id": "c20448a2665e410c8f79c724cffde9e6",
       "version_major": 2,
       "version_minor": 0
      },
      "text/plain": [
       "  0%|          | 0/197 [00:00<?, ?it/s]"
      ]
     },
     "metadata": {},
     "output_type": "display_data"
    },
    {
     "data": {
      "application/vnd.jupyter.widget-view+json": {
       "model_id": "26a4153b14f64d1d9114b68594cad60b",
       "version_major": 2,
       "version_minor": 0
      },
      "text/plain": [
       "  0%|          | 0/393 [00:00<?, ?it/s]"
      ]
     },
     "metadata": {},
     "output_type": "display_data"
    },
    {
     "name": "stdout",
     "output_type": "stream",
     "text": [
      "Epoch [54/500], Train Loss: 0.3053, Train Accuracy: 0.8892 Valid Loss: 0.9147, Valid Accuracy: 0.7459\n"
     ]
    },
    {
     "data": {
      "application/vnd.jupyter.widget-view+json": {
       "model_id": "d9c0d23b742f42539ec35bc89df2d059",
       "version_major": 2,
       "version_minor": 0
      },
      "text/plain": [
       "  0%|          | 0/197 [00:00<?, ?it/s]"
      ]
     },
     "metadata": {},
     "output_type": "display_data"
    },
    {
     "data": {
      "application/vnd.jupyter.widget-view+json": {
       "model_id": "61cf49b19a424b6dbab1192ce9419939",
       "version_major": 2,
       "version_minor": 0
      },
      "text/plain": [
       "  0%|          | 0/393 [00:00<?, ?it/s]"
      ]
     },
     "metadata": {},
     "output_type": "display_data"
    },
    {
     "name": "stdout",
     "output_type": "stream",
     "text": [
      "Epoch [55/500], Train Loss: 0.2871, Train Accuracy: 0.9019 Valid Loss: 1.9049, Valid Accuracy: 0.6191\n"
     ]
    },
    {
     "data": {
      "application/vnd.jupyter.widget-view+json": {
       "model_id": "5513db687acd46b3aec0551603cf8230",
       "version_major": 2,
       "version_minor": 0
      },
      "text/plain": [
       "  0%|          | 0/197 [00:00<?, ?it/s]"
      ]
     },
     "metadata": {},
     "output_type": "display_data"
    },
    {
     "data": {
      "application/vnd.jupyter.widget-view+json": {
       "model_id": "e4ab520a7dee4b789ab43dea34e421ce",
       "version_major": 2,
       "version_minor": 0
      },
      "text/plain": [
       "  0%|          | 0/393 [00:00<?, ?it/s]"
      ]
     },
     "metadata": {},
     "output_type": "display_data"
    },
    {
     "name": "stdout",
     "output_type": "stream",
     "text": [
      "Epoch [56/500], Train Loss: 0.3054, Train Accuracy: 0.8783 Valid Loss: 1.3858, Valid Accuracy: 0.6704\n"
     ]
    },
    {
     "data": {
      "application/vnd.jupyter.widget-view+json": {
       "model_id": "f85f3f5fb312445795f9f2f5c4b55603",
       "version_major": 2,
       "version_minor": 0
      },
      "text/plain": [
       "  0%|          | 0/197 [00:00<?, ?it/s]"
      ]
     },
     "metadata": {},
     "output_type": "display_data"
    },
    {
     "data": {
      "application/vnd.jupyter.widget-view+json": {
       "model_id": "203466f2f95b442eb64e14e726bad3f9",
       "version_major": 2,
       "version_minor": 0
      },
      "text/plain": [
       "  0%|          | 0/393 [00:00<?, ?it/s]"
      ]
     },
     "metadata": {},
     "output_type": "display_data"
    },
    {
     "name": "stdout",
     "output_type": "stream",
     "text": [
      "Epoch [57/500], Train Loss: 0.2870, Train Accuracy: 0.8981 Valid Loss: 0.8449, Valid Accuracy: 0.7831\n"
     ]
    },
    {
     "data": {
      "application/vnd.jupyter.widget-view+json": {
       "model_id": "758ba7c9da6a4ec3af3b77b3e676802b",
       "version_major": 2,
       "version_minor": 0
      },
      "text/plain": [
       "  0%|          | 0/197 [00:00<?, ?it/s]"
      ]
     },
     "metadata": {},
     "output_type": "display_data"
    },
    {
     "data": {
      "application/vnd.jupyter.widget-view+json": {
       "model_id": "0033c5c5942c419892cdbf9ead88740f",
       "version_major": 2,
       "version_minor": 0
      },
      "text/plain": [
       "  0%|          | 0/393 [00:00<?, ?it/s]"
      ]
     },
     "metadata": {},
     "output_type": "display_data"
    },
    {
     "name": "stdout",
     "output_type": "stream",
     "text": [
      "Epoch [58/500], Train Loss: 0.2854, Train Accuracy: 0.8987 Valid Loss: 1.5077, Valid Accuracy: 0.7105\n"
     ]
    },
    {
     "data": {
      "application/vnd.jupyter.widget-view+json": {
       "model_id": "a81543e74cb5427c9ab10b2c7da7cb17",
       "version_major": 2,
       "version_minor": 0
      },
      "text/plain": [
       "  0%|          | 0/197 [00:00<?, ?it/s]"
      ]
     },
     "metadata": {},
     "output_type": "display_data"
    },
    {
     "data": {
      "application/vnd.jupyter.widget-view+json": {
       "model_id": "7c171be044714653aadf3a3c0f9f61fd",
       "version_major": 2,
       "version_minor": 0
      },
      "text/plain": [
       "  0%|          | 0/393 [00:00<?, ?it/s]"
      ]
     },
     "metadata": {},
     "output_type": "display_data"
    },
    {
     "name": "stdout",
     "output_type": "stream",
     "text": [
      "Epoch [59/500], Train Loss: 0.3063, Train Accuracy: 0.8892 Valid Loss: 0.9134, Valid Accuracy: 0.7701\n"
     ]
    },
    {
     "data": {
      "application/vnd.jupyter.widget-view+json": {
       "model_id": "01b89ebfd44645b1ba68f4c3ba8b0543",
       "version_major": 2,
       "version_minor": 0
      },
      "text/plain": [
       "  0%|          | 0/197 [00:00<?, ?it/s]"
      ]
     },
     "metadata": {},
     "output_type": "display_data"
    },
    {
     "data": {
      "application/vnd.jupyter.widget-view+json": {
       "model_id": "f130011dc2bc4f918bc411d135847ddc",
       "version_major": 2,
       "version_minor": 0
      },
      "text/plain": [
       "  0%|          | 0/393 [00:00<?, ?it/s]"
      ]
     },
     "metadata": {},
     "output_type": "display_data"
    },
    {
     "name": "stdout",
     "output_type": "stream",
     "text": [
      "Epoch [60/500], Train Loss: 0.3185, Train Accuracy: 0.8828 Valid Loss: 0.9663, Valid Accuracy: 0.7408\n"
     ]
    },
    {
     "data": {
      "application/vnd.jupyter.widget-view+json": {
       "model_id": "cd8b38588eca4398acd1c59102e7fcb6",
       "version_major": 2,
       "version_minor": 0
      },
      "text/plain": [
       "  0%|          | 0/197 [00:00<?, ?it/s]"
      ]
     },
     "metadata": {},
     "output_type": "display_data"
    },
    {
     "data": {
      "application/vnd.jupyter.widget-view+json": {
       "model_id": "37ddb60129b24e50a32e6b8fb3cb2237",
       "version_major": 2,
       "version_minor": 0
      },
      "text/plain": [
       "  0%|          | 0/393 [00:00<?, ?it/s]"
      ]
     },
     "metadata": {},
     "output_type": "display_data"
    },
    {
     "name": "stdout",
     "output_type": "stream",
     "text": [
      "Epoch [61/500], Train Loss: 0.2586, Train Accuracy: 0.9051 Valid Loss: 1.0565, Valid Accuracy: 0.7640\n"
     ]
    },
    {
     "data": {
      "application/vnd.jupyter.widget-view+json": {
       "model_id": "394b5ba579d4481ca6c4ba0fc467428e",
       "version_major": 2,
       "version_minor": 0
      },
      "text/plain": [
       "  0%|          | 0/197 [00:00<?, ?it/s]"
      ]
     },
     "metadata": {},
     "output_type": "display_data"
    },
    {
     "data": {
      "application/vnd.jupyter.widget-view+json": {
       "model_id": "0fa193d2251a4f0185365e451b7678b3",
       "version_major": 2,
       "version_minor": 0
      },
      "text/plain": [
       "  0%|          | 0/393 [00:00<?, ?it/s]"
      ]
     },
     "metadata": {},
     "output_type": "display_data"
    },
    {
     "name": "stdout",
     "output_type": "stream",
     "text": [
      "Epoch [62/500], Train Loss: 0.2572, Train Accuracy: 0.9102 Valid Loss: 1.0902, Valid Accuracy: 0.7347\n"
     ]
    },
    {
     "data": {
      "application/vnd.jupyter.widget-view+json": {
       "model_id": "68011f7ea16740fd8d8dde0c56bc25fa",
       "version_major": 2,
       "version_minor": 0
      },
      "text/plain": [
       "  0%|          | 0/197 [00:00<?, ?it/s]"
      ]
     },
     "metadata": {},
     "output_type": "display_data"
    },
    {
     "data": {
      "application/vnd.jupyter.widget-view+json": {
       "model_id": "fb115fd3060c471cad9360889550b83b",
       "version_major": 2,
       "version_minor": 0
      },
      "text/plain": [
       "  0%|          | 0/393 [00:00<?, ?it/s]"
      ]
     },
     "metadata": {},
     "output_type": "display_data"
    },
    {
     "name": "stdout",
     "output_type": "stream",
     "text": [
      "Epoch [63/500], Train Loss: 0.2841, Train Accuracy: 0.8955 Valid Loss: 4.4173, Valid Accuracy: 0.2583\n"
     ]
    },
    {
     "data": {
      "application/vnd.jupyter.widget-view+json": {
       "model_id": "dc72d3d94e124539b5c49c12b633714a",
       "version_major": 2,
       "version_minor": 0
      },
      "text/plain": [
       "  0%|          | 0/197 [00:00<?, ?it/s]"
      ]
     },
     "metadata": {},
     "output_type": "display_data"
    },
    {
     "data": {
      "application/vnd.jupyter.widget-view+json": {
       "model_id": "4294ecf7a5b94e45899b161d3efde57a",
       "version_major": 2,
       "version_minor": 0
      },
      "text/plain": [
       "  0%|          | 0/393 [00:00<?, ?it/s]"
      ]
     },
     "metadata": {},
     "output_type": "display_data"
    },
    {
     "name": "stdout",
     "output_type": "stream",
     "text": [
      "Epoch [64/500], Train Loss: 0.2411, Train Accuracy: 0.9045 Valid Loss: 1.8351, Valid Accuracy: 0.6245\n"
     ]
    },
    {
     "data": {
      "application/vnd.jupyter.widget-view+json": {
       "model_id": "36982614847f43f086a18d9b0d31fe12",
       "version_major": 2,
       "version_minor": 0
      },
      "text/plain": [
       "  0%|          | 0/197 [00:00<?, ?it/s]"
      ]
     },
     "metadata": {},
     "output_type": "display_data"
    },
    {
     "data": {
      "application/vnd.jupyter.widget-view+json": {
       "model_id": "601a2e800da24ccabb55133d7e351ee6",
       "version_major": 2,
       "version_minor": 0
      },
      "text/plain": [
       "  0%|          | 0/393 [00:00<?, ?it/s]"
      ]
     },
     "metadata": {},
     "output_type": "display_data"
    },
    {
     "name": "stdout",
     "output_type": "stream",
     "text": [
      "Epoch [65/500], Train Loss: 0.2898, Train Accuracy: 0.9019 Valid Loss: 1.3688, Valid Accuracy: 0.6997\n"
     ]
    },
    {
     "data": {
      "application/vnd.jupyter.widget-view+json": {
       "model_id": "1591fca6bedd46998fe9b994575085ee",
       "version_major": 2,
       "version_minor": 0
      },
      "text/plain": [
       "  0%|          | 0/197 [00:00<?, ?it/s]"
      ]
     },
     "metadata": {},
     "output_type": "display_data"
    },
    {
     "data": {
      "application/vnd.jupyter.widget-view+json": {
       "model_id": "9e2f946010c24fae9733412b7aa43b87",
       "version_major": 2,
       "version_minor": 0
      },
      "text/plain": [
       "  0%|          | 0/393 [00:00<?, ?it/s]"
      ]
     },
     "metadata": {},
     "output_type": "display_data"
    },
    {
     "name": "stdout",
     "output_type": "stream",
     "text": [
      "Epoch [66/500], Train Loss: 0.2976, Train Accuracy: 0.8879 Valid Loss: 1.2606, Valid Accuracy: 0.7248\n"
     ]
    },
    {
     "data": {
      "application/vnd.jupyter.widget-view+json": {
       "model_id": "0bc2d8a60a6e43fa8c7da94b882a4526",
       "version_major": 2,
       "version_minor": 0
      },
      "text/plain": [
       "  0%|          | 0/197 [00:00<?, ?it/s]"
      ]
     },
     "metadata": {},
     "output_type": "display_data"
    },
    {
     "data": {
      "application/vnd.jupyter.widget-view+json": {
       "model_id": "73674abacf0d420b8c20d6442b84c06d",
       "version_major": 2,
       "version_minor": 0
      },
      "text/plain": [
       "  0%|          | 0/393 [00:00<?, ?it/s]"
      ]
     },
     "metadata": {},
     "output_type": "display_data"
    },
    {
     "name": "stdout",
     "output_type": "stream",
     "text": [
      "Epoch [67/500], Train Loss: 0.2496, Train Accuracy: 0.9089 Valid Loss: 4.2026, Valid Accuracy: 0.3503\n"
     ]
    },
    {
     "data": {
      "application/vnd.jupyter.widget-view+json": {
       "model_id": "4f1b6c78067344bdb90e2701c736ef66",
       "version_major": 2,
       "version_minor": 0
      },
      "text/plain": [
       "  0%|          | 0/197 [00:00<?, ?it/s]"
      ]
     },
     "metadata": {},
     "output_type": "display_data"
    },
    {
     "data": {
      "application/vnd.jupyter.widget-view+json": {
       "model_id": "070efbde8f744e75a7a0dbc9cd347df6",
       "version_major": 2,
       "version_minor": 0
      },
      "text/plain": [
       "  0%|          | 0/393 [00:00<?, ?it/s]"
      ]
     },
     "metadata": {},
     "output_type": "display_data"
    },
    {
     "name": "stdout",
     "output_type": "stream",
     "text": [
      "Epoch [68/500], Train Loss: 0.2532, Train Accuracy: 0.9159 Valid Loss: 1.0332, Valid Accuracy: 0.7465\n"
     ]
    },
    {
     "data": {
      "application/vnd.jupyter.widget-view+json": {
       "model_id": "71aae6e8769d4f9abc669b82b167c239",
       "version_major": 2,
       "version_minor": 0
      },
      "text/plain": [
       "  0%|          | 0/197 [00:00<?, ?it/s]"
      ]
     },
     "metadata": {},
     "output_type": "display_data"
    },
    {
     "data": {
      "application/vnd.jupyter.widget-view+json": {
       "model_id": "fbef6d12e8c9464c8b9d279fd5f32d13",
       "version_major": 2,
       "version_minor": 0
      },
      "text/plain": [
       "  0%|          | 0/393 [00:00<?, ?it/s]"
      ]
     },
     "metadata": {},
     "output_type": "display_data"
    },
    {
     "name": "stdout",
     "output_type": "stream",
     "text": [
      "Epoch [69/500], Train Loss: 0.2242, Train Accuracy: 0.9217 Valid Loss: 1.4886, Valid Accuracy: 0.7019\n"
     ]
    },
    {
     "data": {
      "application/vnd.jupyter.widget-view+json": {
       "model_id": "db1a9ec1a7f04e9ca9aac15138ccbdd0",
       "version_major": 2,
       "version_minor": 0
      },
      "text/plain": [
       "  0%|          | 0/197 [00:00<?, ?it/s]"
      ]
     },
     "metadata": {},
     "output_type": "display_data"
    },
    {
     "data": {
      "application/vnd.jupyter.widget-view+json": {
       "model_id": "76c3f63ef11d40c1879e7fc9c4e9b862",
       "version_major": 2,
       "version_minor": 0
      },
      "text/plain": [
       "  0%|          | 0/393 [00:00<?, ?it/s]"
      ]
     },
     "metadata": {},
     "output_type": "display_data"
    },
    {
     "name": "stdout",
     "output_type": "stream",
     "text": [
      "Epoch [70/500], Train Loss: 0.2809, Train Accuracy: 0.8981 Valid Loss: 0.8807, Valid Accuracy: 0.7637\n"
     ]
    },
    {
     "data": {
      "application/vnd.jupyter.widget-view+json": {
       "model_id": "70a27e835ec3429fb0d9cf9f47faf7fd",
       "version_major": 2,
       "version_minor": 0
      },
      "text/plain": [
       "  0%|          | 0/197 [00:00<?, ?it/s]"
      ]
     },
     "metadata": {},
     "output_type": "display_data"
    },
    {
     "data": {
      "application/vnd.jupyter.widget-view+json": {
       "model_id": "9370180156c84ec794e40281948c8bea",
       "version_major": 2,
       "version_minor": 0
      },
      "text/plain": [
       "  0%|          | 0/393 [00:00<?, ?it/s]"
      ]
     },
     "metadata": {},
     "output_type": "display_data"
    },
    {
     "name": "stdout",
     "output_type": "stream",
     "text": [
      "Epoch [71/500], Train Loss: 0.2911, Train Accuracy: 0.8987 Valid Loss: 0.9962, Valid Accuracy: 0.7637\n"
     ]
    },
    {
     "data": {
      "application/vnd.jupyter.widget-view+json": {
       "model_id": "b09648ffa0f14b5687c64d7d499e5818",
       "version_major": 2,
       "version_minor": 0
      },
      "text/plain": [
       "  0%|          | 0/197 [00:00<?, ?it/s]"
      ]
     },
     "metadata": {},
     "output_type": "display_data"
    },
    {
     "data": {
      "application/vnd.jupyter.widget-view+json": {
       "model_id": "66d7da6dea8a466ab761677df24476c5",
       "version_major": 2,
       "version_minor": 0
      },
      "text/plain": [
       "  0%|          | 0/393 [00:00<?, ?it/s]"
      ]
     },
     "metadata": {},
     "output_type": "display_data"
    },
    {
     "name": "stdout",
     "output_type": "stream",
     "text": [
      "Epoch [72/500], Train Loss: 0.2579, Train Accuracy: 0.9108 Valid Loss: 1.5602, Valid Accuracy: 0.6296\n"
     ]
    },
    {
     "data": {
      "application/vnd.jupyter.widget-view+json": {
       "model_id": "31c8c796498f4ababaf63b90c3b2d2cf",
       "version_major": 2,
       "version_minor": 0
      },
      "text/plain": [
       "  0%|          | 0/197 [00:00<?, ?it/s]"
      ]
     },
     "metadata": {},
     "output_type": "display_data"
    },
    {
     "data": {
      "application/vnd.jupyter.widget-view+json": {
       "model_id": "e9284ceae07b4be7aa6b71f2bbd350bd",
       "version_major": 2,
       "version_minor": 0
      },
      "text/plain": [
       "  0%|          | 0/393 [00:00<?, ?it/s]"
      ]
     },
     "metadata": {},
     "output_type": "display_data"
    },
    {
     "name": "stdout",
     "output_type": "stream",
     "text": [
      "Epoch [73/500], Train Loss: 0.2240, Train Accuracy: 0.9217 Valid Loss: 3.2847, Valid Accuracy: 0.4436\n"
     ]
    },
    {
     "data": {
      "application/vnd.jupyter.widget-view+json": {
       "model_id": "07f1d82f3e06411a8aba4778a50cc54a",
       "version_major": 2,
       "version_minor": 0
      },
      "text/plain": [
       "  0%|          | 0/197 [00:00<?, ?it/s]"
      ]
     },
     "metadata": {},
     "output_type": "display_data"
    },
    {
     "data": {
      "application/vnd.jupyter.widget-view+json": {
       "model_id": "f81ab63a56f04110881b2f99e5872dff",
       "version_major": 2,
       "version_minor": 0
      },
      "text/plain": [
       "  0%|          | 0/393 [00:00<?, ?it/s]"
      ]
     },
     "metadata": {},
     "output_type": "display_data"
    },
    {
     "name": "stdout",
     "output_type": "stream",
     "text": [
      "Epoch [74/500], Train Loss: 0.2286, Train Accuracy: 0.9185 Valid Loss: 1.1032, Valid Accuracy: 0.7548\n"
     ]
    },
    {
     "data": {
      "application/vnd.jupyter.widget-view+json": {
       "model_id": "432d7cd2e9f5419b9115e6225e3dba29",
       "version_major": 2,
       "version_minor": 0
      },
      "text/plain": [
       "  0%|          | 0/197 [00:00<?, ?it/s]"
      ]
     },
     "metadata": {},
     "output_type": "display_data"
    },
    {
     "data": {
      "application/vnd.jupyter.widget-view+json": {
       "model_id": "122cfe8d5ff444da8306bdb41c32d145",
       "version_major": 2,
       "version_minor": 0
      },
      "text/plain": [
       "  0%|          | 0/393 [00:00<?, ?it/s]"
      ]
     },
     "metadata": {},
     "output_type": "display_data"
    },
    {
     "name": "stdout",
     "output_type": "stream",
     "text": [
      "Epoch [75/500], Train Loss: 0.2251, Train Accuracy: 0.9223 Valid Loss: 1.3386, Valid Accuracy: 0.7194\n"
     ]
    },
    {
     "data": {
      "application/vnd.jupyter.widget-view+json": {
       "model_id": "c079bb4cf6e040db9278646a5a8e19b6",
       "version_major": 2,
       "version_minor": 0
      },
      "text/plain": [
       "  0%|          | 0/197 [00:00<?, ?it/s]"
      ]
     },
     "metadata": {},
     "output_type": "display_data"
    },
    {
     "data": {
      "application/vnd.jupyter.widget-view+json": {
       "model_id": "02ba1a4759ed49d3915250d0d60abaec",
       "version_major": 2,
       "version_minor": 0
      },
      "text/plain": [
       "  0%|          | 0/393 [00:00<?, ?it/s]"
      ]
     },
     "metadata": {},
     "output_type": "display_data"
    },
    {
     "name": "stdout",
     "output_type": "stream",
     "text": [
      "Epoch [76/500], Train Loss: 0.2082, Train Accuracy: 0.9197 Valid Loss: 1.2618, Valid Accuracy: 0.7490\n"
     ]
    },
    {
     "data": {
      "application/vnd.jupyter.widget-view+json": {
       "model_id": "c694189bfcaa45bdae1d14ed0010535a",
       "version_major": 2,
       "version_minor": 0
      },
      "text/plain": [
       "  0%|          | 0/197 [00:00<?, ?it/s]"
      ]
     },
     "metadata": {},
     "output_type": "display_data"
    },
    {
     "data": {
      "application/vnd.jupyter.widget-view+json": {
       "model_id": "fb4dcc13b3c443009bf5b1dfb7f9218a",
       "version_major": 2,
       "version_minor": 0
      },
      "text/plain": [
       "  0%|          | 0/393 [00:00<?, ?it/s]"
      ]
     },
     "metadata": {},
     "output_type": "display_data"
    },
    {
     "name": "stdout",
     "output_type": "stream",
     "text": [
      "Epoch [77/500], Train Loss: 0.2318, Train Accuracy: 0.9134 Valid Loss: 1.0457, Valid Accuracy: 0.7519\n"
     ]
    },
    {
     "data": {
      "application/vnd.jupyter.widget-view+json": {
       "model_id": "8728638bb1554a8a9dcab40aefaed926",
       "version_major": 2,
       "version_minor": 0
      },
      "text/plain": [
       "  0%|          | 0/197 [00:00<?, ?it/s]"
      ]
     },
     "metadata": {},
     "output_type": "display_data"
    },
    {
     "data": {
      "application/vnd.jupyter.widget-view+json": {
       "model_id": "aea7d232d1df405bbf1cbff4c1da2c25",
       "version_major": 2,
       "version_minor": 0
      },
      "text/plain": [
       "  0%|          | 0/393 [00:00<?, ?it/s]"
      ]
     },
     "metadata": {},
     "output_type": "display_data"
    },
    {
     "name": "stdout",
     "output_type": "stream",
     "text": [
      "Epoch [78/500], Train Loss: 0.2833, Train Accuracy: 0.9045 Valid Loss: 1.1021, Valid Accuracy: 0.7701\n"
     ]
    },
    {
     "data": {
      "application/vnd.jupyter.widget-view+json": {
       "model_id": "0c410911f15446cfa7f97c29f665b97d",
       "version_major": 2,
       "version_minor": 0
      },
      "text/plain": [
       "  0%|          | 0/197 [00:00<?, ?it/s]"
      ]
     },
     "metadata": {},
     "output_type": "display_data"
    },
    {
     "data": {
      "application/vnd.jupyter.widget-view+json": {
       "model_id": "5f87d96a78154082842390572c9929b8",
       "version_major": 2,
       "version_minor": 0
      },
      "text/plain": [
       "  0%|          | 0/393 [00:00<?, ?it/s]"
      ]
     },
     "metadata": {},
     "output_type": "display_data"
    },
    {
     "name": "stdout",
     "output_type": "stream",
     "text": [
      "Epoch [79/500], Train Loss: 0.2613, Train Accuracy: 0.9038 Valid Loss: 1.0474, Valid Accuracy: 0.7627\n"
     ]
    },
    {
     "data": {
      "application/vnd.jupyter.widget-view+json": {
       "model_id": "622fea02c03947e3a3be2d977a0f09af",
       "version_major": 2,
       "version_minor": 0
      },
      "text/plain": [
       "  0%|          | 0/197 [00:00<?, ?it/s]"
      ]
     },
     "metadata": {},
     "output_type": "display_data"
    },
    {
     "data": {
      "application/vnd.jupyter.widget-view+json": {
       "model_id": "2feca7bc3b874892a1ad03156c7a54b0",
       "version_major": 2,
       "version_minor": 0
      },
      "text/plain": [
       "  0%|          | 0/393 [00:00<?, ?it/s]"
      ]
     },
     "metadata": {},
     "output_type": "display_data"
    },
    {
     "name": "stdout",
     "output_type": "stream",
     "text": [
      "Epoch [80/500], Train Loss: 0.1957, Train Accuracy: 0.9331 Valid Loss: 1.0172, Valid Accuracy: 0.7586\n"
     ]
    },
    {
     "data": {
      "application/vnd.jupyter.widget-view+json": {
       "model_id": "b436a4248b5d4dbca4bfaaa6e90a3274",
       "version_major": 2,
       "version_minor": 0
      },
      "text/plain": [
       "  0%|          | 0/197 [00:00<?, ?it/s]"
      ]
     },
     "metadata": {},
     "output_type": "display_data"
    },
    {
     "data": {
      "application/vnd.jupyter.widget-view+json": {
       "model_id": "82f2126a4e3c4b4a8570349d774fde56",
       "version_major": 2,
       "version_minor": 0
      },
      "text/plain": [
       "  0%|          | 0/393 [00:00<?, ?it/s]"
      ]
     },
     "metadata": {},
     "output_type": "display_data"
    },
    {
     "name": "stdout",
     "output_type": "stream",
     "text": [
      "Epoch [81/500], Train Loss: 0.2461, Train Accuracy: 0.9127 Valid Loss: 0.9444, Valid Accuracy: 0.7809\n"
     ]
    },
    {
     "data": {
      "application/vnd.jupyter.widget-view+json": {
       "model_id": "a6c29097c86043dc881ba50e6b3883ae",
       "version_major": 2,
       "version_minor": 0
      },
      "text/plain": [
       "  0%|          | 0/197 [00:00<?, ?it/s]"
      ]
     },
     "metadata": {},
     "output_type": "display_data"
    },
    {
     "data": {
      "application/vnd.jupyter.widget-view+json": {
       "model_id": "762df54059534c67b34e5b84bfed51cc",
       "version_major": 2,
       "version_minor": 0
      },
      "text/plain": [
       "  0%|          | 0/393 [00:00<?, ?it/s]"
      ]
     },
     "metadata": {},
     "output_type": "display_data"
    },
    {
     "name": "stdout",
     "output_type": "stream",
     "text": [
      "Epoch [82/500], Train Loss: 0.2185, Train Accuracy: 0.9197 Valid Loss: 1.1714, Valid Accuracy: 0.7599\n"
     ]
    },
    {
     "data": {
      "application/vnd.jupyter.widget-view+json": {
       "model_id": "0ac12279affe4c44b917753bdbf4480a",
       "version_major": 2,
       "version_minor": 0
      },
      "text/plain": [
       "  0%|          | 0/197 [00:00<?, ?it/s]"
      ]
     },
     "metadata": {},
     "output_type": "display_data"
    },
    {
     "data": {
      "application/vnd.jupyter.widget-view+json": {
       "model_id": "e1884f9e786e470a98d6b2ab709de8ad",
       "version_major": 2,
       "version_minor": 0
      },
      "text/plain": [
       "  0%|          | 0/393 [00:00<?, ?it/s]"
      ]
     },
     "metadata": {},
     "output_type": "display_data"
    },
    {
     "name": "stdout",
     "output_type": "stream",
     "text": [
      "Epoch [83/500], Train Loss: 0.1892, Train Accuracy: 0.9299 Valid Loss: 4.9529, Valid Accuracy: 0.2736\n"
     ]
    },
    {
     "data": {
      "application/vnd.jupyter.widget-view+json": {
       "model_id": "fed9c1f154bd4c0d93ddbf07c907264a",
       "version_major": 2,
       "version_minor": 0
      },
      "text/plain": [
       "  0%|          | 0/197 [00:00<?, ?it/s]"
      ]
     },
     "metadata": {},
     "output_type": "display_data"
    },
    {
     "data": {
      "application/vnd.jupyter.widget-view+json": {
       "model_id": "ac4156bf7f1d4782ad0fc8c01b251bbb",
       "version_major": 2,
       "version_minor": 0
      },
      "text/plain": [
       "  0%|          | 0/393 [00:00<?, ?it/s]"
      ]
     },
     "metadata": {},
     "output_type": "display_data"
    },
    {
     "name": "stdout",
     "output_type": "stream",
     "text": [
      "Epoch [84/500], Train Loss: 0.2627, Train Accuracy: 0.9134 Valid Loss: 0.8743, Valid Accuracy: 0.7857\n"
     ]
    },
    {
     "data": {
      "application/vnd.jupyter.widget-view+json": {
       "model_id": "9c9c654de2c749d78ba54b935c31a825",
       "version_major": 2,
       "version_minor": 0
      },
      "text/plain": [
       "  0%|          | 0/197 [00:00<?, ?it/s]"
      ]
     },
     "metadata": {},
     "output_type": "display_data"
    },
    {
     "data": {
      "application/vnd.jupyter.widget-view+json": {
       "model_id": "144f2336bd8347fb8caaedc42e9c08e7",
       "version_major": 2,
       "version_minor": 0
      },
      "text/plain": [
       "  0%|          | 0/393 [00:00<?, ?it/s]"
      ]
     },
     "metadata": {},
     "output_type": "display_data"
    },
    {
     "name": "stdout",
     "output_type": "stream",
     "text": [
      "Epoch [85/500], Train Loss: 0.2020, Train Accuracy: 0.9261 Valid Loss: 1.2941, Valid Accuracy: 0.7248\n"
     ]
    },
    {
     "data": {
      "application/vnd.jupyter.widget-view+json": {
       "model_id": "c3250c96cf474d11bce0fef35dda9b5b",
       "version_major": 2,
       "version_minor": 0
      },
      "text/plain": [
       "  0%|          | 0/197 [00:00<?, ?it/s]"
      ]
     },
     "metadata": {},
     "output_type": "display_data"
    },
    {
     "data": {
      "application/vnd.jupyter.widget-view+json": {
       "model_id": "ab8402d4a20147b98ba9564d3bb8bd3a",
       "version_major": 2,
       "version_minor": 0
      },
      "text/plain": [
       "  0%|          | 0/393 [00:00<?, ?it/s]"
      ]
     },
     "metadata": {},
     "output_type": "display_data"
    },
    {
     "name": "stdout",
     "output_type": "stream",
     "text": [
      "Epoch [86/500], Train Loss: 0.1622, Train Accuracy: 0.9446 Valid Loss: 1.0239, Valid Accuracy: 0.7608\n"
     ]
    },
    {
     "data": {
      "application/vnd.jupyter.widget-view+json": {
       "model_id": "a81f98292404454f854861c20b3e265b",
       "version_major": 2,
       "version_minor": 0
      },
      "text/plain": [
       "  0%|          | 0/197 [00:00<?, ?it/s]"
      ]
     },
     "metadata": {},
     "output_type": "display_data"
    },
    {
     "data": {
      "application/vnd.jupyter.widget-view+json": {
       "model_id": "46b1bccc19a542aaba3233f5626dacb1",
       "version_major": 2,
       "version_minor": 0
      },
      "text/plain": [
       "  0%|          | 0/393 [00:00<?, ?it/s]"
      ]
     },
     "metadata": {},
     "output_type": "display_data"
    },
    {
     "name": "stdout",
     "output_type": "stream",
     "text": [
      "Epoch [87/500], Train Loss: 0.2631, Train Accuracy: 0.9134 Valid Loss: 1.2183, Valid Accuracy: 0.7478\n"
     ]
    },
    {
     "data": {
      "application/vnd.jupyter.widget-view+json": {
       "model_id": "b812f3b2b2b04687aefa92f8d9fc069f",
       "version_major": 2,
       "version_minor": 0
      },
      "text/plain": [
       "  0%|          | 0/197 [00:00<?, ?it/s]"
      ]
     },
     "metadata": {},
     "output_type": "display_data"
    },
    {
     "data": {
      "application/vnd.jupyter.widget-view+json": {
       "model_id": "83703ba0721848779778c3f5adb7d64c",
       "version_major": 2,
       "version_minor": 0
      },
      "text/plain": [
       "  0%|          | 0/393 [00:00<?, ?it/s]"
      ]
     },
     "metadata": {},
     "output_type": "display_data"
    },
    {
     "name": "stdout",
     "output_type": "stream",
     "text": [
      "Epoch [88/500], Train Loss: 0.2331, Train Accuracy: 0.9134 Valid Loss: 1.2787, Valid Accuracy: 0.7347\n"
     ]
    },
    {
     "data": {
      "application/vnd.jupyter.widget-view+json": {
       "model_id": "77d69bbd141246849a5fd20f477717d9",
       "version_major": 2,
       "version_minor": 0
      },
      "text/plain": [
       "  0%|          | 0/197 [00:00<?, ?it/s]"
      ]
     },
     "metadata": {},
     "output_type": "display_data"
    },
    {
     "data": {
      "application/vnd.jupyter.widget-view+json": {
       "model_id": "2efad6b24eaf4a4889f668156e9263a4",
       "version_major": 2,
       "version_minor": 0
      },
      "text/plain": [
       "  0%|          | 0/393 [00:00<?, ?it/s]"
      ]
     },
     "metadata": {},
     "output_type": "display_data"
    },
    {
     "name": "stdout",
     "output_type": "stream",
     "text": [
      "Epoch [89/500], Train Loss: 0.2000, Train Accuracy: 0.9268 Valid Loss: 1.5834, Valid Accuracy: 0.7194\n"
     ]
    },
    {
     "data": {
      "application/vnd.jupyter.widget-view+json": {
       "model_id": "c46feef439d04130bfeaea034d696fec",
       "version_major": 2,
       "version_minor": 0
      },
      "text/plain": [
       "  0%|          | 0/197 [00:00<?, ?it/s]"
      ]
     },
     "metadata": {},
     "output_type": "display_data"
    },
    {
     "data": {
      "application/vnd.jupyter.widget-view+json": {
       "model_id": "7f617543df4446dc8514e0dccbfbc19b",
       "version_major": 2,
       "version_minor": 0
      },
      "text/plain": [
       "  0%|          | 0/393 [00:00<?, ?it/s]"
      ]
     },
     "metadata": {},
     "output_type": "display_data"
    },
    {
     "name": "stdout",
     "output_type": "stream",
     "text": [
      "Epoch [90/500], Train Loss: 0.1821, Train Accuracy: 0.9363 Valid Loss: 1.3990, Valid Accuracy: 0.7277\n"
     ]
    },
    {
     "data": {
      "application/vnd.jupyter.widget-view+json": {
       "model_id": "aee6da6ec87543ffb5166baef3570a61",
       "version_major": 2,
       "version_minor": 0
      },
      "text/plain": [
       "  0%|          | 0/197 [00:00<?, ?it/s]"
      ]
     },
     "metadata": {},
     "output_type": "display_data"
    },
    {
     "data": {
      "application/vnd.jupyter.widget-view+json": {
       "model_id": "827ddc01951647b987ccfb4673103d45",
       "version_major": 2,
       "version_minor": 0
      },
      "text/plain": [
       "  0%|          | 0/393 [00:00<?, ?it/s]"
      ]
     },
     "metadata": {},
     "output_type": "display_data"
    },
    {
     "name": "stdout",
     "output_type": "stream",
     "text": [
      "Epoch [91/500], Train Loss: 0.1757, Train Accuracy: 0.9344 Valid Loss: 1.7490, Valid Accuracy: 0.6764\n"
     ]
    },
    {
     "data": {
      "application/vnd.jupyter.widget-view+json": {
       "model_id": "197423d50f9b43608c4baf5d91f09e9f",
       "version_major": 2,
       "version_minor": 0
      },
      "text/plain": [
       "  0%|          | 0/197 [00:00<?, ?it/s]"
      ]
     },
     "metadata": {},
     "output_type": "display_data"
    },
    {
     "data": {
      "application/vnd.jupyter.widget-view+json": {
       "model_id": "3cb459e0626e4f1a9b9edb40d5c475cf",
       "version_major": 2,
       "version_minor": 0
      },
      "text/plain": [
       "  0%|          | 0/393 [00:00<?, ?it/s]"
      ]
     },
     "metadata": {},
     "output_type": "display_data"
    },
    {
     "name": "stdout",
     "output_type": "stream",
     "text": [
      "Epoch [92/500], Train Loss: 0.1968, Train Accuracy: 0.9306 Valid Loss: 1.5308, Valid Accuracy: 0.6838\n"
     ]
    },
    {
     "data": {
      "application/vnd.jupyter.widget-view+json": {
       "model_id": "a549eeb283db48f0b1cfb90672d72a2b",
       "version_major": 2,
       "version_minor": 0
      },
      "text/plain": [
       "  0%|          | 0/197 [00:00<?, ?it/s]"
      ]
     },
     "metadata": {},
     "output_type": "display_data"
    },
    {
     "data": {
      "application/vnd.jupyter.widget-view+json": {
       "model_id": "67465f2df9c84f2eb06ecaf07856cb20",
       "version_major": 2,
       "version_minor": 0
      },
      "text/plain": [
       "  0%|          | 0/393 [00:00<?, ?it/s]"
      ]
     },
     "metadata": {},
     "output_type": "display_data"
    },
    {
     "name": "stdout",
     "output_type": "stream",
     "text": [
      "Epoch [93/500], Train Loss: 0.1931, Train Accuracy: 0.9293 Valid Loss: 0.9119, Valid Accuracy: 0.7669\n"
     ]
    },
    {
     "data": {
      "application/vnd.jupyter.widget-view+json": {
       "model_id": "b388a35f4fb640f5966c6ae6afb0e252",
       "version_major": 2,
       "version_minor": 0
      },
      "text/plain": [
       "  0%|          | 0/197 [00:00<?, ?it/s]"
      ]
     },
     "metadata": {},
     "output_type": "display_data"
    },
    {
     "data": {
      "application/vnd.jupyter.widget-view+json": {
       "model_id": "642be69a69ee4a79a4a7073c1915e5e7",
       "version_major": 2,
       "version_minor": 0
      },
      "text/plain": [
       "  0%|          | 0/393 [00:00<?, ?it/s]"
      ]
     },
     "metadata": {},
     "output_type": "display_data"
    },
    {
     "name": "stdout",
     "output_type": "stream",
     "text": [
      "Epoch [94/500], Train Loss: 0.1783, Train Accuracy: 0.9325 Valid Loss: 0.9017, Valid Accuracy: 0.7662\n"
     ]
    },
    {
     "data": {
      "application/vnd.jupyter.widget-view+json": {
       "model_id": "33ac32f14d2c4bc1897bbb674532d802",
       "version_major": 2,
       "version_minor": 0
      },
      "text/plain": [
       "  0%|          | 0/197 [00:00<?, ?it/s]"
      ]
     },
     "metadata": {},
     "output_type": "display_data"
    },
    {
     "data": {
      "application/vnd.jupyter.widget-view+json": {
       "model_id": "89dc03447fb143be8ed916b9e8039957",
       "version_major": 2,
       "version_minor": 0
      },
      "text/plain": [
       "  0%|          | 0/393 [00:00<?, ?it/s]"
      ]
     },
     "metadata": {},
     "output_type": "display_data"
    },
    {
     "name": "stdout",
     "output_type": "stream",
     "text": [
      "Epoch [95/500], Train Loss: 0.1717, Train Accuracy: 0.9414 Valid Loss: 1.6959, Valid Accuracy: 0.6981\n"
     ]
    },
    {
     "data": {
      "application/vnd.jupyter.widget-view+json": {
       "model_id": "11aa0e42b135499b829875685d15a1b2",
       "version_major": 2,
       "version_minor": 0
      },
      "text/plain": [
       "  0%|          | 0/197 [00:00<?, ?it/s]"
      ]
     },
     "metadata": {},
     "output_type": "display_data"
    },
    {
     "data": {
      "application/vnd.jupyter.widget-view+json": {
       "model_id": "98928bab656643bebdb7eae0c2475587",
       "version_major": 2,
       "version_minor": 0
      },
      "text/plain": [
       "  0%|          | 0/393 [00:00<?, ?it/s]"
      ]
     },
     "metadata": {},
     "output_type": "display_data"
    },
    {
     "name": "stdout",
     "output_type": "stream",
     "text": [
      "Epoch [96/500], Train Loss: 0.1925, Train Accuracy: 0.9382 Valid Loss: 1.0605, Valid Accuracy: 0.7535\n"
     ]
    },
    {
     "data": {
      "application/vnd.jupyter.widget-view+json": {
       "model_id": "425ddc8f816845b4ab9c581906adcc2d",
       "version_major": 2,
       "version_minor": 0
      },
      "text/plain": [
       "  0%|          | 0/197 [00:00<?, ?it/s]"
      ]
     },
     "metadata": {},
     "output_type": "display_data"
    },
    {
     "data": {
      "application/vnd.jupyter.widget-view+json": {
       "model_id": "d21107ef353a41ad9807d53303bab1aa",
       "version_major": 2,
       "version_minor": 0
      },
      "text/plain": [
       "  0%|          | 0/393 [00:00<?, ?it/s]"
      ]
     },
     "metadata": {},
     "output_type": "display_data"
    },
    {
     "name": "stdout",
     "output_type": "stream",
     "text": [
      "Epoch [97/500], Train Loss: 0.1849, Train Accuracy: 0.9350 Valid Loss: 1.3772, Valid Accuracy: 0.7140\n"
     ]
    },
    {
     "data": {
      "application/vnd.jupyter.widget-view+json": {
       "model_id": "45110d073d824fe58476a43c9025fea0",
       "version_major": 2,
       "version_minor": 0
      },
      "text/plain": [
       "  0%|          | 0/197 [00:00<?, ?it/s]"
      ]
     },
     "metadata": {},
     "output_type": "display_data"
    },
    {
     "data": {
      "application/vnd.jupyter.widget-view+json": {
       "model_id": "f752894915d947b49de4c097a183d82f",
       "version_major": 2,
       "version_minor": 0
      },
      "text/plain": [
       "  0%|          | 0/393 [00:00<?, ?it/s]"
      ]
     },
     "metadata": {},
     "output_type": "display_data"
    },
    {
     "name": "stdout",
     "output_type": "stream",
     "text": [
      "Epoch [98/500], Train Loss: 0.1718, Train Accuracy: 0.9389 Valid Loss: 1.1092, Valid Accuracy: 0.7561\n"
     ]
    },
    {
     "data": {
      "application/vnd.jupyter.widget-view+json": {
       "model_id": "993f6f2c194848c78df78ddc8a193049",
       "version_major": 2,
       "version_minor": 0
      },
      "text/plain": [
       "  0%|          | 0/197 [00:00<?, ?it/s]"
      ]
     },
     "metadata": {},
     "output_type": "display_data"
    },
    {
     "data": {
      "application/vnd.jupyter.widget-view+json": {
       "model_id": "23006f0864874e6dbe6f610233f8ee47",
       "version_major": 2,
       "version_minor": 0
      },
      "text/plain": [
       "  0%|          | 0/393 [00:00<?, ?it/s]"
      ]
     },
     "metadata": {},
     "output_type": "display_data"
    },
    {
     "name": "stdout",
     "output_type": "stream",
     "text": [
      "Epoch [99/500], Train Loss: 0.1562, Train Accuracy: 0.9446 Valid Loss: 1.3263, Valid Accuracy: 0.7309\n"
     ]
    },
    {
     "data": {
      "application/vnd.jupyter.widget-view+json": {
       "model_id": "05433ab3abd943c8837723d730b6974c",
       "version_major": 2,
       "version_minor": 0
      },
      "text/plain": [
       "  0%|          | 0/197 [00:00<?, ?it/s]"
      ]
     },
     "metadata": {},
     "output_type": "display_data"
    },
    {
     "data": {
      "application/vnd.jupyter.widget-view+json": {
       "model_id": "67fc7636139e4a87b7718eb5c60fcb53",
       "version_major": 2,
       "version_minor": 0
      },
      "text/plain": [
       "  0%|          | 0/393 [00:00<?, ?it/s]"
      ]
     },
     "metadata": {},
     "output_type": "display_data"
    },
    {
     "name": "stdout",
     "output_type": "stream",
     "text": [
      "Epoch [100/500], Train Loss: 0.1601, Train Accuracy: 0.9414 Valid Loss: 1.4041, Valid Accuracy: 0.7268\n"
     ]
    },
    {
     "data": {
      "application/vnd.jupyter.widget-view+json": {
       "model_id": "7259fa5b147e46f298f93caea78d8f11",
       "version_major": 2,
       "version_minor": 0
      },
      "text/plain": [
       "  0%|          | 0/197 [00:00<?, ?it/s]"
      ]
     },
     "metadata": {},
     "output_type": "display_data"
    },
    {
     "data": {
      "application/vnd.jupyter.widget-view+json": {
       "model_id": "a1d193734fa1431f8e3429eb8adedfb8",
       "version_major": 2,
       "version_minor": 0
      },
      "text/plain": [
       "  0%|          | 0/393 [00:00<?, ?it/s]"
      ]
     },
     "metadata": {},
     "output_type": "display_data"
    },
    {
     "name": "stdout",
     "output_type": "stream",
     "text": [
      "Epoch [101/500], Train Loss: 0.1812, Train Accuracy: 0.9420 Valid Loss: 1.1061, Valid Accuracy: 0.7876\n"
     ]
    },
    {
     "data": {
      "application/vnd.jupyter.widget-view+json": {
       "model_id": "27892fe99045465babfd7bcd798cdcd6",
       "version_major": 2,
       "version_minor": 0
      },
      "text/plain": [
       "  0%|          | 0/197 [00:00<?, ?it/s]"
      ]
     },
     "metadata": {},
     "output_type": "display_data"
    },
    {
     "data": {
      "application/vnd.jupyter.widget-view+json": {
       "model_id": "af0f6abab05749828f144281c3b8c60f",
       "version_major": 2,
       "version_minor": 0
      },
      "text/plain": [
       "  0%|          | 0/393 [00:00<?, ?it/s]"
      ]
     },
     "metadata": {},
     "output_type": "display_data"
    },
    {
     "name": "stdout",
     "output_type": "stream",
     "text": [
      "Epoch [102/500], Train Loss: 0.2096, Train Accuracy: 0.9318 Valid Loss: 1.3062, Valid Accuracy: 0.7411\n"
     ]
    },
    {
     "data": {
      "application/vnd.jupyter.widget-view+json": {
       "model_id": "0934bc1ce7e74b4b972447f2d8b5b42e",
       "version_major": 2,
       "version_minor": 0
      },
      "text/plain": [
       "  0%|          | 0/197 [00:00<?, ?it/s]"
      ]
     },
     "metadata": {},
     "output_type": "display_data"
    },
    {
     "data": {
      "application/vnd.jupyter.widget-view+json": {
       "model_id": "cb7f1bcaa29c4dad8b141624ca816744",
       "version_major": 2,
       "version_minor": 0
      },
      "text/plain": [
       "  0%|          | 0/393 [00:00<?, ?it/s]"
      ]
     },
     "metadata": {},
     "output_type": "display_data"
    },
    {
     "name": "stdout",
     "output_type": "stream",
     "text": [
      "Epoch [103/500], Train Loss: 0.1761, Train Accuracy: 0.9331 Valid Loss: 1.1593, Valid Accuracy: 0.7793\n"
     ]
    },
    {
     "data": {
      "application/vnd.jupyter.widget-view+json": {
       "model_id": "91b8ee0ada2041899ede3206740096e0",
       "version_major": 2,
       "version_minor": 0
      },
      "text/plain": [
       "  0%|          | 0/197 [00:00<?, ?it/s]"
      ]
     },
     "metadata": {},
     "output_type": "display_data"
    },
    {
     "data": {
      "application/vnd.jupyter.widget-view+json": {
       "model_id": "27ace4ac983445f59851d1f21bb59eaf",
       "version_major": 2,
       "version_minor": 0
      },
      "text/plain": [
       "  0%|          | 0/393 [00:00<?, ?it/s]"
      ]
     },
     "metadata": {},
     "output_type": "display_data"
    },
    {
     "name": "stdout",
     "output_type": "stream",
     "text": [
      "Epoch [104/500], Train Loss: 0.1544, Train Accuracy: 0.9478 Valid Loss: 1.6346, Valid Accuracy: 0.7048\n"
     ]
    },
    {
     "data": {
      "application/vnd.jupyter.widget-view+json": {
       "model_id": "21a3ae9b62d44dfda15496556489f42a",
       "version_major": 2,
       "version_minor": 0
      },
      "text/plain": [
       "  0%|          | 0/197 [00:00<?, ?it/s]"
      ]
     },
     "metadata": {},
     "output_type": "display_data"
    },
    {
     "data": {
      "application/vnd.jupyter.widget-view+json": {
       "model_id": "296e5690c4dd4a49960666f8bc34085c",
       "version_major": 2,
       "version_minor": 0
      },
      "text/plain": [
       "  0%|          | 0/393 [00:00<?, ?it/s]"
      ]
     },
     "metadata": {},
     "output_type": "display_data"
    },
    {
     "name": "stdout",
     "output_type": "stream",
     "text": [
      "Epoch [105/500], Train Loss: 0.1973, Train Accuracy: 0.9395 Valid Loss: 1.6269, Valid Accuracy: 0.7471\n"
     ]
    },
    {
     "data": {
      "application/vnd.jupyter.widget-view+json": {
       "model_id": "c04725eb5c704449abeab393208e03d4",
       "version_major": 2,
       "version_minor": 0
      },
      "text/plain": [
       "  0%|          | 0/197 [00:00<?, ?it/s]"
      ]
     },
     "metadata": {},
     "output_type": "display_data"
    },
    {
     "data": {
      "application/vnd.jupyter.widget-view+json": {
       "model_id": "9d290d3e28274581a4c10de6e258df6d",
       "version_major": 2,
       "version_minor": 0
      },
      "text/plain": [
       "  0%|          | 0/393 [00:00<?, ?it/s]"
      ]
     },
     "metadata": {},
     "output_type": "display_data"
    },
    {
     "name": "stdout",
     "output_type": "stream",
     "text": [
      "Epoch [106/500], Train Loss: 0.1702, Train Accuracy: 0.9401 Valid Loss: 1.1703, Valid Accuracy: 0.7596\n"
     ]
    },
    {
     "data": {
      "application/vnd.jupyter.widget-view+json": {
       "model_id": "f5eee54fc3ec4bc8843805370aeed58f",
       "version_major": 2,
       "version_minor": 0
      },
      "text/plain": [
       "  0%|          | 0/197 [00:00<?, ?it/s]"
      ]
     },
     "metadata": {},
     "output_type": "display_data"
    },
    {
     "data": {
      "application/vnd.jupyter.widget-view+json": {
       "model_id": "68662f98bf2f4515a8f0e897e0fc8bdf",
       "version_major": 2,
       "version_minor": 0
      },
      "text/plain": [
       "  0%|          | 0/393 [00:00<?, ?it/s]"
      ]
     },
     "metadata": {},
     "output_type": "display_data"
    },
    {
     "name": "stdout",
     "output_type": "stream",
     "text": [
      "Epoch [107/500], Train Loss: 0.1601, Train Accuracy: 0.9465 Valid Loss: 1.1151, Valid Accuracy: 0.7882\n",
      "Early Stopping\n"
     ]
    }
   ],
   "source": [
    "model = training_loop(model, train_dataloader, train_dataset, valid_dataloader, valid_dataset, criterion, optimizer, 500)"
   ]
  },
  {
   "cell_type": "markdown",
   "metadata": {},
   "source": [
    "# Submission"
   ]
  },
  {
   "cell_type": "code",
   "execution_count": 19,
   "metadata": {},
   "outputs": [],
   "source": [
    "class sub_customdataset(torch.utils.data.Dataset):\n",
    "    def __init__(self, csv, path, transforms):\n",
    "        super().__init__()\n",
    "        self.df = pd.read_csv(csv).values\n",
    "        self.path = path\n",
    "        self.transforms = transforms\n",
    "\n",
    "    def __len__(self):\n",
    "        return len(self.df)\n",
    "    \n",
    "    def __getitem__(self, idx):\n",
    "        name, target = self.df[idx]\n",
    "        img = np.array(Image.open(os.path.join(self.path, name)))\n",
    "        img = self.transforms(img)\n",
    "    \n",
    "        return img, target"
   ]
  },
  {
   "cell_type": "code",
   "execution_count": 20,
   "metadata": {},
   "outputs": [],
   "source": [
    "transforms = T.Compose([\n",
    "    T.ToTensor(),\n",
    "    T.Resize((500, 500))\n",
    "])\n",
    "\n",
    "sub_dataset = sub_customdataset('/data/ephemeral/home/data/sample_submission.csv', '/data/ephemeral/home/data/test/', transforms=transforms)"
   ]
  },
  {
   "cell_type": "code",
   "execution_count": 21,
   "metadata": {},
   "outputs": [],
   "source": [
    "batch_size = 8\n",
    "\n",
    "sub_dataloader = torch.utils.data.DataLoader(sub_dataset, batch_size=batch_size, shuffle=False, num_workers=16)"
   ]
  },
  {
   "cell_type": "code",
   "execution_count": 22,
   "metadata": {},
   "outputs": [
    {
     "data": {
      "application/vnd.jupyter.widget-view+json": {
       "model_id": "58247f668c1e4f4d9d38b16e02fb4c2e",
       "version_major": 2,
       "version_minor": 0
      },
      "text/plain": [
       "  0%|          | 0/393 [00:00<?, ?it/s]"
      ]
     },
     "metadata": {},
     "output_type": "display_data"
    }
   ],
   "source": [
    "model.eval()\n",
    "\n",
    "all_preds = []\n",
    "all_labels = []\n",
    "all_images = []\n",
    "\n",
    "with torch.no_grad():\n",
    "    tbar = tqdm(sub_dataloader)\n",
    "    for images, labels in tbar:\n",
    "        images, labels = images.to(device), labels.to(device)\n",
    "        outputs = model(images)\n",
    "\n",
    "        max_prob, predicted = torch.max(outputs, 1)\n",
    "\n",
    "        all_preds.extend(predicted)\n",
    "        all_labels.extend(labels)\n",
    "        all_images.extend(images)\n"
   ]
  },
  {
   "cell_type": "code",
   "execution_count": 23,
   "metadata": {},
   "outputs": [
    {
     "data": {
      "text/plain": [
       "[tensor(2, device='cuda:0'),\n",
       " tensor(12, device='cuda:0'),\n",
       " tensor(5, device='cuda:0'),\n",
       " tensor(3, device='cuda:0'),\n",
       " tensor(2, device='cuda:0'),\n",
       " tensor(15, device='cuda:0'),\n",
       " tensor(0, device='cuda:0'),\n",
       " tensor(8, device='cuda:0'),\n",
       " tensor(15, device='cuda:0'),\n",
       " tensor(11, device='cuda:0'),\n",
       " tensor(5, device='cuda:0'),\n",
       " tensor(7, device='cuda:0'),\n",
       " tensor(16, device='cuda:0'),\n",
       " tensor(9, device='cuda:0'),\n",
       " tensor(15, device='cuda:0'),\n",
       " tensor(4, device='cuda:0'),\n",
       " tensor(7, device='cuda:0'),\n",
       " tensor(5, device='cuda:0'),\n",
       " tensor(13, device='cuda:0'),\n",
       " tensor(10, device='cuda:0'),\n",
       " tensor(12, device='cuda:0'),\n",
       " tensor(12, device='cuda:0'),\n",
       " tensor(1, device='cuda:0'),\n",
       " tensor(6, device='cuda:0'),\n",
       " tensor(3, device='cuda:0'),\n",
       " tensor(0, device='cuda:0'),\n",
       " tensor(14, device='cuda:0'),\n",
       " tensor(2, device='cuda:0'),\n",
       " tensor(12, device='cuda:0'),\n",
       " tensor(6, device='cuda:0'),\n",
       " tensor(3, device='cuda:0'),\n",
       " tensor(0, device='cuda:0'),\n",
       " tensor(14, device='cuda:0'),\n",
       " tensor(2, device='cuda:0'),\n",
       " tensor(5, device='cuda:0'),\n",
       " tensor(2, device='cuda:0'),\n",
       " tensor(13, device='cuda:0'),\n",
       " tensor(14, device='cuda:0'),\n",
       " tensor(7, device='cuda:0'),\n",
       " tensor(0, device='cuda:0'),\n",
       " tensor(5, device='cuda:0'),\n",
       " tensor(9, device='cuda:0'),\n",
       " tensor(12, device='cuda:0'),\n",
       " tensor(9, device='cuda:0'),\n",
       " tensor(0, device='cuda:0'),\n",
       " tensor(8, device='cuda:0'),\n",
       " tensor(5, device='cuda:0'),\n",
       " tensor(0, device='cuda:0'),\n",
       " tensor(11, device='cuda:0'),\n",
       " tensor(7, device='cuda:0'),\n",
       " tensor(10, device='cuda:0'),\n",
       " tensor(10, device='cuda:0'),\n",
       " tensor(10, device='cuda:0'),\n",
       " tensor(7, device='cuda:0'),\n",
       " tensor(7, device='cuda:0'),\n",
       " tensor(12, device='cuda:0'),\n",
       " tensor(9, device='cuda:0'),\n",
       " tensor(5, device='cuda:0'),\n",
       " tensor(13, device='cuda:0'),\n",
       " tensor(13, device='cuda:0'),\n",
       " tensor(12, device='cuda:0'),\n",
       " tensor(3, device='cuda:0'),\n",
       " tensor(5, device='cuda:0'),\n",
       " tensor(5, device='cuda:0'),\n",
       " tensor(10, device='cuda:0'),\n",
       " tensor(12, device='cuda:0'),\n",
       " tensor(5, device='cuda:0'),\n",
       " tensor(7, device='cuda:0'),\n",
       " tensor(10, device='cuda:0'),\n",
       " tensor(6, device='cuda:0'),\n",
       " tensor(3, device='cuda:0'),\n",
       " tensor(10, device='cuda:0'),\n",
       " tensor(8, device='cuda:0'),\n",
       " tensor(15, device='cuda:0'),\n",
       " tensor(7, device='cuda:0'),\n",
       " tensor(15, device='cuda:0'),\n",
       " tensor(6, device='cuda:0'),\n",
       " tensor(12, device='cuda:0'),\n",
       " tensor(3, device='cuda:0'),\n",
       " tensor(13, device='cuda:0'),\n",
       " tensor(8, device='cuda:0'),\n",
       " tensor(9, device='cuda:0'),\n",
       " tensor(9, device='cuda:0'),\n",
       " tensor(14, device='cuda:0'),\n",
       " tensor(10, device='cuda:0'),\n",
       " tensor(10, device='cuda:0'),\n",
       " tensor(5, device='cuda:0'),\n",
       " tensor(13, device='cuda:0'),\n",
       " tensor(10, device='cuda:0'),\n",
       " tensor(0, device='cuda:0'),\n",
       " tensor(11, device='cuda:0'),\n",
       " tensor(8, device='cuda:0'),\n",
       " tensor(5, device='cuda:0'),\n",
       " tensor(15, device='cuda:0'),\n",
       " tensor(7, device='cuda:0'),\n",
       " tensor(16, device='cuda:0'),\n",
       " tensor(11, device='cuda:0'),\n",
       " tensor(11, device='cuda:0'),\n",
       " tensor(14, device='cuda:0'),\n",
       " tensor(2, device='cuda:0'),\n",
       " tensor(14, device='cuda:0'),\n",
       " tensor(14, device='cuda:0'),\n",
       " tensor(13, device='cuda:0'),\n",
       " tensor(1, device='cuda:0'),\n",
       " tensor(15, device='cuda:0'),\n",
       " tensor(11, device='cuda:0'),\n",
       " tensor(2, device='cuda:0'),\n",
       " tensor(12, device='cuda:0'),\n",
       " tensor(16, device='cuda:0'),\n",
       " tensor(8, device='cuda:0'),\n",
       " tensor(6, device='cuda:0'),\n",
       " tensor(2, device='cuda:0'),\n",
       " tensor(0, device='cuda:0'),\n",
       " tensor(4, device='cuda:0'),\n",
       " tensor(7, device='cuda:0'),\n",
       " tensor(16, device='cuda:0'),\n",
       " tensor(2, device='cuda:0'),\n",
       " tensor(3, device='cuda:0'),\n",
       " tensor(11, device='cuda:0'),\n",
       " tensor(4, device='cuda:0'),\n",
       " tensor(2, device='cuda:0'),\n",
       " tensor(6, device='cuda:0'),\n",
       " tensor(2, device='cuda:0'),\n",
       " tensor(8, device='cuda:0'),\n",
       " tensor(10, device='cuda:0'),\n",
       " tensor(12, device='cuda:0'),\n",
       " tensor(4, device='cuda:0'),\n",
       " tensor(4, device='cuda:0'),\n",
       " tensor(7, device='cuda:0'),\n",
       " tensor(6, device='cuda:0'),\n",
       " tensor(5, device='cuda:0'),\n",
       " tensor(4, device='cuda:0'),\n",
       " tensor(15, device='cuda:0'),\n",
       " tensor(10, device='cuda:0'),\n",
       " tensor(8, device='cuda:0'),\n",
       " tensor(2, device='cuda:0'),\n",
       " tensor(3, device='cuda:0'),\n",
       " tensor(6, device='cuda:0'),\n",
       " tensor(12, device='cuda:0'),\n",
       " tensor(8, device='cuda:0'),\n",
       " tensor(4, device='cuda:0'),\n",
       " tensor(8, device='cuda:0'),\n",
       " tensor(7, device='cuda:0'),\n",
       " tensor(2, device='cuda:0'),\n",
       " tensor(12, device='cuda:0'),\n",
       " tensor(8, device='cuda:0'),\n",
       " tensor(3, device='cuda:0'),\n",
       " tensor(5, device='cuda:0'),\n",
       " tensor(9, device='cuda:0'),\n",
       " tensor(8, device='cuda:0'),\n",
       " tensor(6, device='cuda:0'),\n",
       " tensor(8, device='cuda:0'),\n",
       " tensor(2, device='cuda:0'),\n",
       " tensor(12, device='cuda:0'),\n",
       " tensor(11, device='cuda:0'),\n",
       " tensor(16, device='cuda:0'),\n",
       " tensor(9, device='cuda:0'),\n",
       " tensor(15, device='cuda:0'),\n",
       " tensor(6, device='cuda:0'),\n",
       " tensor(8, device='cuda:0'),\n",
       " tensor(5, device='cuda:0'),\n",
       " tensor(5, device='cuda:0'),\n",
       " tensor(10, device='cuda:0'),\n",
       " tensor(10, device='cuda:0'),\n",
       " tensor(16, device='cuda:0'),\n",
       " tensor(15, device='cuda:0'),\n",
       " tensor(9, device='cuda:0'),\n",
       " tensor(12, device='cuda:0'),\n",
       " tensor(16, device='cuda:0'),\n",
       " tensor(5, device='cuda:0'),\n",
       " tensor(2, device='cuda:0'),\n",
       " tensor(8, device='cuda:0'),\n",
       " tensor(8, device='cuda:0'),\n",
       " tensor(16, device='cuda:0'),\n",
       " tensor(9, device='cuda:0'),\n",
       " tensor(8, device='cuda:0'),\n",
       " tensor(16, device='cuda:0'),\n",
       " tensor(2, device='cuda:0'),\n",
       " tensor(3, device='cuda:0'),\n",
       " tensor(4, device='cuda:0'),\n",
       " tensor(11, device='cuda:0'),\n",
       " tensor(15, device='cuda:0'),\n",
       " tensor(9, device='cuda:0'),\n",
       " tensor(9, device='cuda:0'),\n",
       " tensor(2, device='cuda:0'),\n",
       " tensor(3, device='cuda:0'),\n",
       " tensor(11, device='cuda:0'),\n",
       " tensor(10, device='cuda:0'),\n",
       " tensor(9, device='cuda:0'),\n",
       " tensor(0, device='cuda:0'),\n",
       " tensor(7, device='cuda:0'),\n",
       " tensor(0, device='cuda:0'),\n",
       " tensor(16, device='cuda:0'),\n",
       " tensor(2, device='cuda:0'),\n",
       " tensor(14, device='cuda:0'),\n",
       " tensor(8, device='cuda:0'),\n",
       " tensor(5, device='cuda:0'),\n",
       " tensor(12, device='cuda:0'),\n",
       " tensor(8, device='cuda:0'),\n",
       " tensor(7, device='cuda:0'),\n",
       " tensor(13, device='cuda:0'),\n",
       " tensor(2, device='cuda:0'),\n",
       " tensor(6, device='cuda:0'),\n",
       " tensor(16, device='cuda:0'),\n",
       " tensor(16, device='cuda:0'),\n",
       " tensor(10, device='cuda:0'),\n",
       " tensor(8, device='cuda:0'),\n",
       " tensor(9, device='cuda:0'),\n",
       " tensor(0, device='cuda:0'),\n",
       " tensor(10, device='cuda:0'),\n",
       " tensor(5, device='cuda:0'),\n",
       " tensor(1, device='cuda:0'),\n",
       " tensor(14, device='cuda:0'),\n",
       " tensor(3, device='cuda:0'),\n",
       " tensor(11, device='cuda:0'),\n",
       " tensor(2, device='cuda:0'),\n",
       " tensor(0, device='cuda:0'),\n",
       " tensor(7, device='cuda:0'),\n",
       " tensor(0, device='cuda:0'),\n",
       " tensor(13, device='cuda:0'),\n",
       " tensor(12, device='cuda:0'),\n",
       " tensor(0, device='cuda:0'),\n",
       " tensor(16, device='cuda:0'),\n",
       " tensor(3, device='cuda:0'),\n",
       " tensor(12, device='cuda:0'),\n",
       " tensor(5, device='cuda:0'),\n",
       " tensor(7, device='cuda:0'),\n",
       " tensor(0, device='cuda:0'),\n",
       " tensor(14, device='cuda:0'),\n",
       " tensor(6, device='cuda:0'),\n",
       " tensor(0, device='cuda:0'),\n",
       " tensor(14, device='cuda:0'),\n",
       " tensor(12, device='cuda:0'),\n",
       " tensor(12, device='cuda:0'),\n",
       " tensor(9, device='cuda:0'),\n",
       " tensor(13, device='cuda:0'),\n",
       " tensor(9, device='cuda:0'),\n",
       " tensor(10, device='cuda:0'),\n",
       " tensor(9, device='cuda:0'),\n",
       " tensor(15, device='cuda:0'),\n",
       " tensor(10, device='cuda:0'),\n",
       " tensor(7, device='cuda:0'),\n",
       " tensor(9, device='cuda:0'),\n",
       " tensor(11, device='cuda:0'),\n",
       " tensor(12, device='cuda:0'),\n",
       " tensor(0, device='cuda:0'),\n",
       " tensor(1, device='cuda:0'),\n",
       " tensor(11, device='cuda:0'),\n",
       " tensor(10, device='cuda:0'),\n",
       " tensor(6, device='cuda:0'),\n",
       " tensor(7, device='cuda:0'),\n",
       " tensor(3, device='cuda:0'),\n",
       " tensor(3, device='cuda:0'),\n",
       " tensor(3, device='cuda:0'),\n",
       " tensor(14, device='cuda:0'),\n",
       " tensor(15, device='cuda:0'),\n",
       " tensor(7, device='cuda:0'),\n",
       " tensor(12, device='cuda:0'),\n",
       " tensor(12, device='cuda:0'),\n",
       " tensor(4, device='cuda:0'),\n",
       " tensor(0, device='cuda:0'),\n",
       " tensor(15, device='cuda:0'),\n",
       " tensor(13, device='cuda:0'),\n",
       " tensor(11, device='cuda:0'),\n",
       " tensor(12, device='cuda:0'),\n",
       " tensor(8, device='cuda:0'),\n",
       " tensor(8, device='cuda:0'),\n",
       " tensor(3, device='cuda:0'),\n",
       " tensor(9, device='cuda:0'),\n",
       " tensor(0, device='cuda:0'),\n",
       " tensor(8, device='cuda:0'),\n",
       " tensor(7, device='cuda:0'),\n",
       " tensor(4, device='cuda:0'),\n",
       " tensor(5, device='cuda:0'),\n",
       " tensor(0, device='cuda:0'),\n",
       " tensor(0, device='cuda:0'),\n",
       " tensor(14, device='cuda:0'),\n",
       " tensor(0, device='cuda:0'),\n",
       " tensor(9, device='cuda:0'),\n",
       " tensor(12, device='cuda:0'),\n",
       " tensor(1, device='cuda:0'),\n",
       " tensor(13, device='cuda:0'),\n",
       " tensor(7, device='cuda:0'),\n",
       " tensor(8, device='cuda:0'),\n",
       " tensor(12, device='cuda:0'),\n",
       " tensor(4, device='cuda:0'),\n",
       " tensor(15, device='cuda:0'),\n",
       " tensor(9, device='cuda:0'),\n",
       " tensor(3, device='cuda:0'),\n",
       " tensor(15, device='cuda:0'),\n",
       " tensor(9, device='cuda:0'),\n",
       " tensor(4, device='cuda:0'),\n",
       " tensor(8, device='cuda:0'),\n",
       " tensor(7, device='cuda:0'),\n",
       " tensor(3, device='cuda:0'),\n",
       " tensor(1, device='cuda:0'),\n",
       " tensor(9, device='cuda:0'),\n",
       " tensor(7, device='cuda:0'),\n",
       " tensor(8, device='cuda:0'),\n",
       " tensor(11, device='cuda:0'),\n",
       " tensor(13, device='cuda:0'),\n",
       " tensor(11, device='cuda:0'),\n",
       " tensor(6, device='cuda:0'),\n",
       " tensor(2, device='cuda:0'),\n",
       " tensor(13, device='cuda:0'),\n",
       " tensor(16, device='cuda:0'),\n",
       " tensor(13, device='cuda:0'),\n",
       " tensor(15, device='cuda:0'),\n",
       " tensor(5, device='cuda:0'),\n",
       " tensor(9, device='cuda:0'),\n",
       " tensor(4, device='cuda:0'),\n",
       " tensor(6, device='cuda:0'),\n",
       " tensor(2, device='cuda:0'),\n",
       " tensor(16, device='cuda:0'),\n",
       " tensor(7, device='cuda:0'),\n",
       " tensor(12, device='cuda:0'),\n",
       " tensor(7, device='cuda:0'),\n",
       " tensor(15, device='cuda:0'),\n",
       " tensor(8, device='cuda:0'),\n",
       " tensor(15, device='cuda:0'),\n",
       " tensor(13, device='cuda:0'),\n",
       " tensor(13, device='cuda:0'),\n",
       " tensor(11, device='cuda:0'),\n",
       " tensor(10, device='cuda:0'),\n",
       " tensor(2, device='cuda:0'),\n",
       " tensor(12, device='cuda:0'),\n",
       " tensor(16, device='cuda:0'),\n",
       " tensor(6, device='cuda:0'),\n",
       " tensor(5, device='cuda:0'),\n",
       " tensor(9, device='cuda:0'),\n",
       " tensor(16, device='cuda:0'),\n",
       " tensor(2, device='cuda:0'),\n",
       " tensor(2, device='cuda:0'),\n",
       " tensor(0, device='cuda:0'),\n",
       " tensor(16, device='cuda:0'),\n",
       " tensor(9, device='cuda:0'),\n",
       " tensor(15, device='cuda:0'),\n",
       " tensor(7, device='cuda:0'),\n",
       " tensor(6, device='cuda:0'),\n",
       " tensor(6, device='cuda:0'),\n",
       " tensor(1, device='cuda:0'),\n",
       " tensor(15, device='cuda:0'),\n",
       " tensor(1, device='cuda:0'),\n",
       " tensor(5, device='cuda:0'),\n",
       " tensor(5, device='cuda:0'),\n",
       " tensor(10, device='cuda:0'),\n",
       " tensor(4, device='cuda:0'),\n",
       " tensor(13, device='cuda:0'),\n",
       " tensor(7, device='cuda:0'),\n",
       " tensor(1, device='cuda:0'),\n",
       " tensor(16, device='cuda:0'),\n",
       " tensor(10, device='cuda:0'),\n",
       " tensor(14, device='cuda:0'),\n",
       " tensor(3, device='cuda:0'),\n",
       " tensor(5, device='cuda:0'),\n",
       " tensor(3, device='cuda:0'),\n",
       " tensor(12, device='cuda:0'),\n",
       " tensor(3, device='cuda:0'),\n",
       " tensor(7, device='cuda:0'),\n",
       " tensor(14, device='cuda:0'),\n",
       " tensor(3, device='cuda:0'),\n",
       " tensor(3, device='cuda:0'),\n",
       " tensor(7, device='cuda:0'),\n",
       " tensor(10, device='cuda:0'),\n",
       " tensor(7, device='cuda:0'),\n",
       " tensor(7, device='cuda:0'),\n",
       " tensor(12, device='cuda:0'),\n",
       " tensor(10, device='cuda:0'),\n",
       " tensor(5, device='cuda:0'),\n",
       " tensor(9, device='cuda:0'),\n",
       " tensor(15, device='cuda:0'),\n",
       " tensor(13, device='cuda:0'),\n",
       " tensor(10, device='cuda:0'),\n",
       " tensor(7, device='cuda:0'),\n",
       " tensor(9, device='cuda:0'),\n",
       " tensor(1, device='cuda:0'),\n",
       " tensor(8, device='cuda:0'),\n",
       " tensor(3, device='cuda:0'),\n",
       " tensor(4, device='cuda:0'),\n",
       " tensor(16, device='cuda:0'),\n",
       " tensor(6, device='cuda:0'),\n",
       " tensor(0, device='cuda:0'),\n",
       " tensor(7, device='cuda:0'),\n",
       " tensor(14, device='cuda:0'),\n",
       " tensor(16, device='cuda:0'),\n",
       " tensor(10, device='cuda:0'),\n",
       " tensor(4, device='cuda:0'),\n",
       " tensor(9, device='cuda:0'),\n",
       " tensor(0, device='cuda:0'),\n",
       " tensor(13, device='cuda:0'),\n",
       " tensor(2, device='cuda:0'),\n",
       " tensor(2, device='cuda:0'),\n",
       " tensor(13, device='cuda:0'),\n",
       " tensor(12, device='cuda:0'),\n",
       " tensor(8, device='cuda:0'),\n",
       " tensor(7, device='cuda:0'),\n",
       " tensor(0, device='cuda:0'),\n",
       " tensor(2, device='cuda:0'),\n",
       " tensor(4, device='cuda:0'),\n",
       " tensor(12, device='cuda:0'),\n",
       " tensor(16, device='cuda:0'),\n",
       " tensor(0, device='cuda:0'),\n",
       " tensor(15, device='cuda:0'),\n",
       " tensor(2, device='cuda:0'),\n",
       " tensor(9, device='cuda:0'),\n",
       " tensor(12, device='cuda:0'),\n",
       " tensor(11, device='cuda:0'),\n",
       " tensor(10, device='cuda:0'),\n",
       " tensor(5, device='cuda:0'),\n",
       " tensor(8, device='cuda:0'),\n",
       " tensor(2, device='cuda:0'),\n",
       " tensor(14, device='cuda:0'),\n",
       " tensor(10, device='cuda:0'),\n",
       " tensor(2, device='cuda:0'),\n",
       " tensor(10, device='cuda:0'),\n",
       " tensor(16, device='cuda:0'),\n",
       " tensor(7, device='cuda:0'),\n",
       " tensor(7, device='cuda:0'),\n",
       " tensor(7, device='cuda:0'),\n",
       " tensor(7, device='cuda:0'),\n",
       " tensor(10, device='cuda:0'),\n",
       " tensor(5, device='cuda:0'),\n",
       " tensor(13, device='cuda:0'),\n",
       " tensor(10, device='cuda:0'),\n",
       " tensor(3, device='cuda:0'),\n",
       " tensor(5, device='cuda:0'),\n",
       " tensor(5, device='cuda:0'),\n",
       " tensor(7, device='cuda:0'),\n",
       " tensor(4, device='cuda:0'),\n",
       " tensor(9, device='cuda:0'),\n",
       " tensor(14, device='cuda:0'),\n",
       " tensor(7, device='cuda:0'),\n",
       " tensor(8, device='cuda:0'),\n",
       " tensor(9, device='cuda:0'),\n",
       " tensor(7, device='cuda:0'),\n",
       " tensor(8, device='cuda:0'),\n",
       " tensor(11, device='cuda:0'),\n",
       " tensor(2, device='cuda:0'),\n",
       " tensor(3, device='cuda:0'),\n",
       " tensor(5, device='cuda:0'),\n",
       " tensor(2, device='cuda:0'),\n",
       " tensor(11, device='cuda:0'),\n",
       " tensor(3, device='cuda:0'),\n",
       " tensor(1, device='cuda:0'),\n",
       " tensor(0, device='cuda:0'),\n",
       " tensor(12, device='cuda:0'),\n",
       " tensor(0, device='cuda:0'),\n",
       " tensor(0, device='cuda:0'),\n",
       " tensor(9, device='cuda:0'),\n",
       " tensor(11, device='cuda:0'),\n",
       " tensor(15, device='cuda:0'),\n",
       " tensor(4, device='cuda:0'),\n",
       " tensor(14, device='cuda:0'),\n",
       " tensor(2, device='cuda:0'),\n",
       " tensor(7, device='cuda:0'),\n",
       " tensor(3, device='cuda:0'),\n",
       " tensor(6, device='cuda:0'),\n",
       " tensor(11, device='cuda:0'),\n",
       " tensor(3, device='cuda:0'),\n",
       " tensor(2, device='cuda:0'),\n",
       " tensor(3, device='cuda:0'),\n",
       " tensor(2, device='cuda:0'),\n",
       " tensor(11, device='cuda:0'),\n",
       " tensor(2, device='cuda:0'),\n",
       " tensor(9, device='cuda:0'),\n",
       " tensor(2, device='cuda:0'),\n",
       " tensor(9, device='cuda:0'),\n",
       " tensor(2, device='cuda:0'),\n",
       " tensor(10, device='cuda:0'),\n",
       " tensor(8, device='cuda:0'),\n",
       " tensor(12, device='cuda:0'),\n",
       " tensor(6, device='cuda:0'),\n",
       " tensor(15, device='cuda:0'),\n",
       " tensor(4, device='cuda:0'),\n",
       " tensor(8, device='cuda:0'),\n",
       " tensor(0, device='cuda:0'),\n",
       " tensor(16, device='cuda:0'),\n",
       " tensor(10, device='cuda:0'),\n",
       " tensor(9, device='cuda:0'),\n",
       " tensor(15, device='cuda:0'),\n",
       " tensor(10, device='cuda:0'),\n",
       " tensor(12, device='cuda:0'),\n",
       " tensor(0, device='cuda:0'),\n",
       " tensor(8, device='cuda:0'),\n",
       " tensor(13, device='cuda:0'),\n",
       " tensor(3, device='cuda:0'),\n",
       " tensor(15, device='cuda:0'),\n",
       " tensor(16, device='cuda:0'),\n",
       " tensor(10, device='cuda:0'),\n",
       " tensor(10, device='cuda:0'),\n",
       " tensor(14, device='cuda:0'),\n",
       " tensor(7, device='cuda:0'),\n",
       " tensor(2, device='cuda:0'),\n",
       " tensor(3, device='cuda:0'),\n",
       " tensor(7, device='cuda:0'),\n",
       " tensor(6, device='cuda:0'),\n",
       " tensor(9, device='cuda:0'),\n",
       " tensor(10, device='cuda:0'),\n",
       " tensor(8, device='cuda:0'),\n",
       " tensor(16, device='cuda:0'),\n",
       " tensor(14, device='cuda:0'),\n",
       " tensor(2, device='cuda:0'),\n",
       " tensor(12, device='cuda:0'),\n",
       " tensor(0, device='cuda:0'),\n",
       " tensor(7, device='cuda:0'),\n",
       " tensor(0, device='cuda:0'),\n",
       " tensor(3, device='cuda:0'),\n",
       " tensor(8, device='cuda:0'),\n",
       " tensor(2, device='cuda:0'),\n",
       " tensor(3, device='cuda:0'),\n",
       " tensor(13, device='cuda:0'),\n",
       " tensor(2, device='cuda:0'),\n",
       " tensor(8, device='cuda:0'),\n",
       " tensor(13, device='cuda:0'),\n",
       " tensor(15, device='cuda:0'),\n",
       " tensor(13, device='cuda:0'),\n",
       " tensor(7, device='cuda:0'),\n",
       " tensor(15, device='cuda:0'),\n",
       " tensor(10, device='cuda:0'),\n",
       " tensor(2, device='cuda:0'),\n",
       " tensor(2, device='cuda:0'),\n",
       " tensor(8, device='cuda:0'),\n",
       " tensor(14, device='cuda:0'),\n",
       " tensor(0, device='cuda:0'),\n",
       " tensor(7, device='cuda:0'),\n",
       " tensor(4, device='cuda:0'),\n",
       " tensor(1, device='cuda:0'),\n",
       " tensor(2, device='cuda:0'),\n",
       " tensor(13, device='cuda:0'),\n",
       " tensor(5, device='cuda:0'),\n",
       " tensor(0, device='cuda:0'),\n",
       " tensor(4, device='cuda:0'),\n",
       " tensor(9, device='cuda:0'),\n",
       " tensor(2, device='cuda:0'),\n",
       " tensor(14, device='cuda:0'),\n",
       " tensor(0, device='cuda:0'),\n",
       " tensor(7, device='cuda:0'),\n",
       " tensor(10, device='cuda:0'),\n",
       " tensor(14, device='cuda:0'),\n",
       " tensor(3, device='cuda:0'),\n",
       " tensor(11, device='cuda:0'),\n",
       " tensor(7, device='cuda:0'),\n",
       " tensor(2, device='cuda:0'),\n",
       " tensor(12, device='cuda:0'),\n",
       " tensor(11, device='cuda:0'),\n",
       " tensor(15, device='cuda:0'),\n",
       " tensor(13, device='cuda:0'),\n",
       " tensor(3, device='cuda:0'),\n",
       " tensor(5, device='cuda:0'),\n",
       " tensor(2, device='cuda:0'),\n",
       " tensor(7, device='cuda:0'),\n",
       " tensor(16, device='cuda:0'),\n",
       " tensor(13, device='cuda:0'),\n",
       " tensor(15, device='cuda:0'),\n",
       " tensor(5, device='cuda:0'),\n",
       " tensor(2, device='cuda:0'),\n",
       " tensor(8, device='cuda:0'),\n",
       " tensor(11, device='cuda:0'),\n",
       " tensor(2, device='cuda:0'),\n",
       " tensor(7, device='cuda:0'),\n",
       " tensor(15, device='cuda:0'),\n",
       " tensor(9, device='cuda:0'),\n",
       " tensor(14, device='cuda:0'),\n",
       " tensor(3, device='cuda:0'),\n",
       " tensor(9, device='cuda:0'),\n",
       " tensor(9, device='cuda:0'),\n",
       " tensor(13, device='cuda:0'),\n",
       " tensor(10, device='cuda:0'),\n",
       " tensor(12, device='cuda:0'),\n",
       " tensor(15, device='cuda:0'),\n",
       " tensor(7, device='cuda:0'),\n",
       " tensor(14, device='cuda:0'),\n",
       " tensor(7, device='cuda:0'),\n",
       " tensor(9, device='cuda:0'),\n",
       " tensor(8, device='cuda:0'),\n",
       " tensor(16, device='cuda:0'),\n",
       " tensor(14, device='cuda:0'),\n",
       " tensor(5, device='cuda:0'),\n",
       " tensor(6, device='cuda:0'),\n",
       " tensor(8, device='cuda:0'),\n",
       " tensor(7, device='cuda:0'),\n",
       " tensor(3, device='cuda:0'),\n",
       " tensor(2, device='cuda:0'),\n",
       " tensor(5, device='cuda:0'),\n",
       " tensor(8, device='cuda:0'),\n",
       " tensor(1, device='cuda:0'),\n",
       " tensor(3, device='cuda:0'),\n",
       " tensor(7, device='cuda:0'),\n",
       " tensor(15, device='cuda:0'),\n",
       " tensor(2, device='cuda:0'),\n",
       " tensor(14, device='cuda:0'),\n",
       " tensor(7, device='cuda:0'),\n",
       " tensor(13, device='cuda:0'),\n",
       " tensor(9, device='cuda:0'),\n",
       " tensor(3, device='cuda:0'),\n",
       " tensor(8, device='cuda:0'),\n",
       " tensor(11, device='cuda:0'),\n",
       " tensor(9, device='cuda:0'),\n",
       " tensor(2, device='cuda:0'),\n",
       " tensor(0, device='cuda:0'),\n",
       " tensor(5, device='cuda:0'),\n",
       " tensor(15, device='cuda:0'),\n",
       " tensor(3, device='cuda:0'),\n",
       " tensor(10, device='cuda:0'),\n",
       " tensor(7, device='cuda:0'),\n",
       " tensor(3, device='cuda:0'),\n",
       " tensor(2, device='cuda:0'),\n",
       " tensor(6, device='cuda:0'),\n",
       " tensor(7, device='cuda:0'),\n",
       " tensor(0, device='cuda:0'),\n",
       " tensor(6, device='cuda:0'),\n",
       " tensor(2, device='cuda:0'),\n",
       " tensor(5, device='cuda:0'),\n",
       " tensor(13, device='cuda:0'),\n",
       " tensor(3, device='cuda:0'),\n",
       " tensor(14, device='cuda:0'),\n",
       " tensor(5, device='cuda:0'),\n",
       " tensor(10, device='cuda:0'),\n",
       " tensor(2, device='cuda:0'),\n",
       " tensor(15, device='cuda:0'),\n",
       " tensor(5, device='cuda:0'),\n",
       " tensor(12, device='cuda:0'),\n",
       " tensor(2, device='cuda:0'),\n",
       " tensor(4, device='cuda:0'),\n",
       " tensor(6, device='cuda:0'),\n",
       " tensor(14, device='cuda:0'),\n",
       " tensor(8, device='cuda:0'),\n",
       " tensor(2, device='cuda:0'),\n",
       " tensor(16, device='cuda:0'),\n",
       " tensor(7, device='cuda:0'),\n",
       " tensor(10, device='cuda:0'),\n",
       " tensor(0, device='cuda:0'),\n",
       " tensor(15, device='cuda:0'),\n",
       " tensor(3, device='cuda:0'),\n",
       " tensor(3, device='cuda:0'),\n",
       " tensor(3, device='cuda:0'),\n",
       " tensor(10, device='cuda:0'),\n",
       " tensor(4, device='cuda:0'),\n",
       " tensor(8, device='cuda:0'),\n",
       " tensor(12, device='cuda:0'),\n",
       " tensor(3, device='cuda:0'),\n",
       " tensor(12, device='cuda:0'),\n",
       " tensor(2, device='cuda:0'),\n",
       " tensor(7, device='cuda:0'),\n",
       " tensor(3, device='cuda:0'),\n",
       " tensor(12, device='cuda:0'),\n",
       " tensor(2, device='cuda:0'),\n",
       " tensor(3, device='cuda:0'),\n",
       " tensor(8, device='cuda:0'),\n",
       " tensor(6, device='cuda:0'),\n",
       " tensor(14, device='cuda:0'),\n",
       " tensor(10, device='cuda:0'),\n",
       " tensor(16, device='cuda:0'),\n",
       " tensor(5, device='cuda:0'),\n",
       " tensor(2, device='cuda:0'),\n",
       " tensor(2, device='cuda:0'),\n",
       " tensor(12, device='cuda:0'),\n",
       " tensor(2, device='cuda:0'),\n",
       " tensor(9, device='cuda:0'),\n",
       " tensor(10, device='cuda:0'),\n",
       " tensor(16, device='cuda:0'),\n",
       " tensor(16, device='cuda:0'),\n",
       " tensor(15, device='cuda:0'),\n",
       " tensor(12, device='cuda:0'),\n",
       " tensor(10, device='cuda:0'),\n",
       " tensor(9, device='cuda:0'),\n",
       " tensor(4, device='cuda:0'),\n",
       " tensor(2, device='cuda:0'),\n",
       " tensor(11, device='cuda:0'),\n",
       " tensor(4, device='cuda:0'),\n",
       " tensor(14, device='cuda:0'),\n",
       " tensor(16, device='cuda:0'),\n",
       " tensor(4, device='cuda:0'),\n",
       " tensor(7, device='cuda:0'),\n",
       " tensor(9, device='cuda:0'),\n",
       " tensor(0, device='cuda:0'),\n",
       " tensor(3, device='cuda:0'),\n",
       " tensor(7, device='cuda:0'),\n",
       " tensor(11, device='cuda:0'),\n",
       " tensor(4, device='cuda:0'),\n",
       " tensor(6, device='cuda:0'),\n",
       " tensor(3, device='cuda:0'),\n",
       " tensor(0, device='cuda:0'),\n",
       " tensor(9, device='cuda:0'),\n",
       " tensor(3, device='cuda:0'),\n",
       " tensor(2, device='cuda:0'),\n",
       " tensor(3, device='cuda:0'),\n",
       " tensor(2, device='cuda:0'),\n",
       " tensor(3, device='cuda:0'),\n",
       " tensor(7, device='cuda:0'),\n",
       " tensor(12, device='cuda:0'),\n",
       " tensor(1, device='cuda:0'),\n",
       " tensor(13, device='cuda:0'),\n",
       " tensor(16, device='cuda:0'),\n",
       " tensor(5, device='cuda:0'),\n",
       " tensor(2, device='cuda:0'),\n",
       " tensor(13, device='cuda:0'),\n",
       " tensor(3, device='cuda:0'),\n",
       " tensor(2, device='cuda:0'),\n",
       " tensor(15, device='cuda:0'),\n",
       " tensor(8, device='cuda:0'),\n",
       " tensor(11, device='cuda:0'),\n",
       " tensor(6, device='cuda:0'),\n",
       " tensor(12, device='cuda:0'),\n",
       " tensor(7, device='cuda:0'),\n",
       " tensor(5, device='cuda:0'),\n",
       " tensor(0, device='cuda:0'),\n",
       " tensor(2, device='cuda:0'),\n",
       " tensor(7, device='cuda:0'),\n",
       " tensor(8, device='cuda:0'),\n",
       " tensor(0, device='cuda:0'),\n",
       " tensor(4, device='cuda:0'),\n",
       " tensor(7, device='cuda:0'),\n",
       " tensor(6, device='cuda:0'),\n",
       " tensor(5, device='cuda:0'),\n",
       " tensor(8, device='cuda:0'),\n",
       " tensor(14, device='cuda:0'),\n",
       " tensor(2, device='cuda:0'),\n",
       " tensor(9, device='cuda:0'),\n",
       " tensor(14, device='cuda:0'),\n",
       " tensor(10, device='cuda:0'),\n",
       " tensor(4, device='cuda:0'),\n",
       " tensor(16, device='cuda:0'),\n",
       " tensor(2, device='cuda:0'),\n",
       " tensor(14, device='cuda:0'),\n",
       " tensor(1, device='cuda:0'),\n",
       " tensor(5, device='cuda:0'),\n",
       " tensor(12, device='cuda:0'),\n",
       " tensor(10, device='cuda:0'),\n",
       " tensor(9, device='cuda:0'),\n",
       " tensor(0, device='cuda:0'),\n",
       " tensor(12, device='cuda:0'),\n",
       " tensor(2, device='cuda:0'),\n",
       " tensor(5, device='cuda:0'),\n",
       " tensor(2, device='cuda:0'),\n",
       " tensor(11, device='cuda:0'),\n",
       " tensor(9, device='cuda:0'),\n",
       " tensor(4, device='cuda:0'),\n",
       " tensor(9, device='cuda:0'),\n",
       " tensor(5, device='cuda:0'),\n",
       " tensor(14, device='cuda:0'),\n",
       " tensor(8, device='cuda:0'),\n",
       " tensor(3, device='cuda:0'),\n",
       " tensor(13, device='cuda:0'),\n",
       " tensor(2, device='cuda:0'),\n",
       " tensor(5, device='cuda:0'),\n",
       " tensor(11, device='cuda:0'),\n",
       " tensor(14, device='cuda:0'),\n",
       " tensor(3, device='cuda:0'),\n",
       " tensor(12, device='cuda:0'),\n",
       " tensor(12, device='cuda:0'),\n",
       " tensor(1, device='cuda:0'),\n",
       " tensor(12, device='cuda:0'),\n",
       " tensor(5, device='cuda:0'),\n",
       " tensor(4, device='cuda:0'),\n",
       " tensor(5, device='cuda:0'),\n",
       " tensor(7, device='cuda:0'),\n",
       " tensor(8, device='cuda:0'),\n",
       " tensor(14, device='cuda:0'),\n",
       " tensor(11, device='cuda:0'),\n",
       " tensor(9, device='cuda:0'),\n",
       " tensor(4, device='cuda:0'),\n",
       " tensor(3, device='cuda:0'),\n",
       " tensor(3, device='cuda:0'),\n",
       " tensor(7, device='cuda:0'),\n",
       " tensor(9, device='cuda:0'),\n",
       " tensor(7, device='cuda:0'),\n",
       " tensor(9, device='cuda:0'),\n",
       " tensor(8, device='cuda:0'),\n",
       " tensor(16, device='cuda:0'),\n",
       " tensor(4, device='cuda:0'),\n",
       " tensor(1, device='cuda:0'),\n",
       " tensor(16, device='cuda:0'),\n",
       " tensor(3, device='cuda:0'),\n",
       " tensor(13, device='cuda:0'),\n",
       " tensor(5, device='cuda:0'),\n",
       " tensor(3, device='cuda:0'),\n",
       " tensor(3, device='cuda:0'),\n",
       " tensor(10, device='cuda:0'),\n",
       " tensor(6, device='cuda:0'),\n",
       " tensor(7, device='cuda:0'),\n",
       " tensor(2, device='cuda:0'),\n",
       " tensor(8, device='cuda:0'),\n",
       " tensor(8, device='cuda:0'),\n",
       " tensor(11, device='cuda:0'),\n",
       " tensor(10, device='cuda:0'),\n",
       " tensor(8, device='cuda:0'),\n",
       " tensor(8, device='cuda:0'),\n",
       " tensor(8, device='cuda:0'),\n",
       " tensor(3, device='cuda:0'),\n",
       " tensor(0, device='cuda:0'),\n",
       " tensor(12, device='cuda:0'),\n",
       " tensor(3, device='cuda:0'),\n",
       " tensor(12, device='cuda:0'),\n",
       " tensor(7, device='cuda:0'),\n",
       " tensor(9, device='cuda:0'),\n",
       " tensor(14, device='cuda:0'),\n",
       " tensor(2, device='cuda:0'),\n",
       " tensor(2, device='cuda:0'),\n",
       " tensor(3, device='cuda:0'),\n",
       " tensor(5, device='cuda:0'),\n",
       " tensor(10, device='cuda:0'),\n",
       " tensor(12, device='cuda:0'),\n",
       " tensor(2, device='cuda:0'),\n",
       " tensor(3, device='cuda:0'),\n",
       " tensor(7, device='cuda:0'),\n",
       " tensor(9, device='cuda:0'),\n",
       " tensor(13, device='cuda:0'),\n",
       " tensor(7, device='cuda:0'),\n",
       " tensor(9, device='cuda:0'),\n",
       " tensor(0, device='cuda:0'),\n",
       " tensor(13, device='cuda:0'),\n",
       " tensor(12, device='cuda:0'),\n",
       " tensor(3, device='cuda:0'),\n",
       " tensor(13, device='cuda:0'),\n",
       " tensor(8, device='cuda:0'),\n",
       " tensor(12, device='cuda:0'),\n",
       " tensor(13, device='cuda:0'),\n",
       " tensor(4, device='cuda:0'),\n",
       " tensor(6, device='cuda:0'),\n",
       " tensor(14, device='cuda:0'),\n",
       " tensor(2, device='cuda:0'),\n",
       " tensor(15, device='cuda:0'),\n",
       " tensor(15, device='cuda:0'),\n",
       " tensor(8, device='cuda:0'),\n",
       " tensor(3, device='cuda:0'),\n",
       " tensor(4, device='cuda:0'),\n",
       " tensor(12, device='cuda:0'),\n",
       " tensor(13, device='cuda:0'),\n",
       " tensor(13, device='cuda:0'),\n",
       " tensor(5, device='cuda:0'),\n",
       " tensor(7, device='cuda:0'),\n",
       " tensor(8, device='cuda:0'),\n",
       " tensor(12, device='cuda:0'),\n",
       " tensor(10, device='cuda:0'),\n",
       " tensor(13, device='cuda:0'),\n",
       " tensor(16, device='cuda:0'),\n",
       " tensor(3, device='cuda:0'),\n",
       " tensor(10, device='cuda:0'),\n",
       " tensor(6, device='cuda:0'),\n",
       " tensor(1, device='cuda:0'),\n",
       " tensor(16, device='cuda:0'),\n",
       " tensor(8, device='cuda:0'),\n",
       " tensor(7, device='cuda:0'),\n",
       " tensor(7, device='cuda:0'),\n",
       " tensor(4, device='cuda:0'),\n",
       " tensor(15, device='cuda:0'),\n",
       " tensor(1, device='cuda:0'),\n",
       " tensor(14, device='cuda:0'),\n",
       " tensor(9, device='cuda:0'),\n",
       " tensor(11, device='cuda:0'),\n",
       " tensor(10, device='cuda:0'),\n",
       " tensor(4, device='cuda:0'),\n",
       " tensor(8, device='cuda:0'),\n",
       " tensor(10, device='cuda:0'),\n",
       " tensor(16, device='cuda:0'),\n",
       " tensor(9, device='cuda:0'),\n",
       " tensor(15, device='cuda:0'),\n",
       " tensor(15, device='cuda:0'),\n",
       " tensor(7, device='cuda:0'),\n",
       " tensor(12, device='cuda:0'),\n",
       " tensor(11, device='cuda:0'),\n",
       " tensor(0, device='cuda:0'),\n",
       " tensor(0, device='cuda:0'),\n",
       " tensor(10, device='cuda:0'),\n",
       " tensor(10, device='cuda:0'),\n",
       " tensor(2, device='cuda:0'),\n",
       " tensor(8, device='cuda:0'),\n",
       " tensor(11, device='cuda:0'),\n",
       " tensor(16, device='cuda:0'),\n",
       " tensor(2, device='cuda:0'),\n",
       " tensor(1, device='cuda:0'),\n",
       " tensor(7, device='cuda:0'),\n",
       " tensor(9, device='cuda:0'),\n",
       " tensor(15, device='cuda:0'),\n",
       " tensor(11, device='cuda:0'),\n",
       " tensor(5, device='cuda:0'),\n",
       " tensor(15, device='cuda:0'),\n",
       " tensor(2, device='cuda:0'),\n",
       " tensor(0, device='cuda:0'),\n",
       " tensor(10, device='cuda:0'),\n",
       " tensor(1, device='cuda:0'),\n",
       " tensor(7, device='cuda:0'),\n",
       " tensor(1, device='cuda:0'),\n",
       " tensor(8, device='cuda:0'),\n",
       " tensor(11, device='cuda:0'),\n",
       " tensor(2, device='cuda:0'),\n",
       " tensor(2, device='cuda:0'),\n",
       " tensor(9, device='cuda:0'),\n",
       " tensor(8, device='cuda:0'),\n",
       " tensor(14, device='cuda:0'),\n",
       " tensor(1, device='cuda:0'),\n",
       " tensor(12, device='cuda:0'),\n",
       " tensor(12, device='cuda:0'),\n",
       " tensor(9, device='cuda:0'),\n",
       " tensor(4, device='cuda:0'),\n",
       " tensor(12, device='cuda:0'),\n",
       " tensor(4, device='cuda:0'),\n",
       " tensor(2, device='cuda:0'),\n",
       " tensor(15, device='cuda:0'),\n",
       " tensor(12, device='cuda:0'),\n",
       " tensor(11, device='cuda:0'),\n",
       " tensor(7, device='cuda:0'),\n",
       " tensor(12, device='cuda:0'),\n",
       " tensor(14, device='cuda:0'),\n",
       " tensor(13, device='cuda:0'),\n",
       " tensor(16, device='cuda:0'),\n",
       " tensor(16, device='cuda:0'),\n",
       " tensor(2, device='cuda:0'),\n",
       " tensor(8, device='cuda:0'),\n",
       " tensor(1, device='cuda:0'),\n",
       " tensor(11, device='cuda:0'),\n",
       " tensor(9, device='cuda:0'),\n",
       " tensor(12, device='cuda:0'),\n",
       " tensor(6, device='cuda:0'),\n",
       " tensor(15, device='cuda:0'),\n",
       " tensor(4, device='cuda:0'),\n",
       " tensor(8, device='cuda:0'),\n",
       " tensor(9, device='cuda:0'),\n",
       " tensor(16, device='cuda:0'),\n",
       " tensor(12, device='cuda:0'),\n",
       " tensor(6, device='cuda:0'),\n",
       " tensor(14, device='cuda:0'),\n",
       " tensor(10, device='cuda:0'),\n",
       " tensor(11, device='cuda:0'),\n",
       " tensor(16, device='cuda:0'),\n",
       " tensor(0, device='cuda:0'),\n",
       " tensor(11, device='cuda:0'),\n",
       " tensor(14, device='cuda:0'),\n",
       " tensor(14, device='cuda:0'),\n",
       " tensor(11, device='cuda:0'),\n",
       " tensor(10, device='cuda:0'),\n",
       " tensor(3, device='cuda:0'),\n",
       " tensor(7, device='cuda:0'),\n",
       " tensor(9, device='cuda:0'),\n",
       " tensor(0, device='cuda:0'),\n",
       " tensor(5, device='cuda:0'),\n",
       " tensor(11, device='cuda:0'),\n",
       " tensor(3, device='cuda:0'),\n",
       " tensor(8, device='cuda:0'),\n",
       " tensor(8, device='cuda:0'),\n",
       " tensor(12, device='cuda:0'),\n",
       " tensor(0, device='cuda:0'),\n",
       " tensor(2, device='cuda:0'),\n",
       " tensor(2, device='cuda:0'),\n",
       " tensor(3, device='cuda:0'),\n",
       " tensor(4, device='cuda:0'),\n",
       " tensor(15, device='cuda:0'),\n",
       " tensor(9, device='cuda:0'),\n",
       " tensor(4, device='cuda:0'),\n",
       " tensor(4, device='cuda:0'),\n",
       " tensor(8, device='cuda:0'),\n",
       " tensor(9, device='cuda:0'),\n",
       " tensor(9, device='cuda:0'),\n",
       " tensor(15, device='cuda:0'),\n",
       " tensor(4, device='cuda:0'),\n",
       " tensor(3, device='cuda:0'),\n",
       " tensor(7, device='cuda:0'),\n",
       " tensor(2, device='cuda:0'),\n",
       " tensor(0, device='cuda:0'),\n",
       " tensor(7, device='cuda:0'),\n",
       " tensor(16, device='cuda:0'),\n",
       " tensor(11, device='cuda:0'),\n",
       " tensor(15, device='cuda:0'),\n",
       " tensor(6, device='cuda:0'),\n",
       " tensor(4, device='cuda:0'),\n",
       " tensor(2, device='cuda:0'),\n",
       " tensor(16, device='cuda:0'),\n",
       " tensor(2, device='cuda:0'),\n",
       " tensor(14, device='cuda:0'),\n",
       " tensor(0, device='cuda:0'),\n",
       " tensor(10, device='cuda:0'),\n",
       " tensor(8, device='cuda:0'),\n",
       " tensor(11, device='cuda:0'),\n",
       " tensor(10, device='cuda:0'),\n",
       " tensor(16, device='cuda:0'),\n",
       " tensor(5, device='cuda:0'),\n",
       " tensor(14, device='cuda:0'),\n",
       " tensor(0, device='cuda:0'),\n",
       " tensor(6, device='cuda:0'),\n",
       " tensor(2, device='cuda:0'),\n",
       " tensor(5, device='cuda:0'),\n",
       " tensor(15, device='cuda:0'),\n",
       " tensor(16, device='cuda:0'),\n",
       " tensor(10, device='cuda:0'),\n",
       " tensor(7, device='cuda:0'),\n",
       " tensor(16, device='cuda:0'),\n",
       " tensor(11, device='cuda:0'),\n",
       " tensor(3, device='cuda:0'),\n",
       " tensor(13, device='cuda:0'),\n",
       " tensor(10, device='cuda:0'),\n",
       " tensor(9, device='cuda:0'),\n",
       " tensor(14, device='cuda:0'),\n",
       " tensor(6, device='cuda:0'),\n",
       " tensor(14, device='cuda:0'),\n",
       " tensor(8, device='cuda:0'),\n",
       " tensor(9, device='cuda:0'),\n",
       " tensor(14, device='cuda:0'),\n",
       " tensor(15, device='cuda:0'),\n",
       " tensor(1, device='cuda:0'),\n",
       " ...]"
      ]
     },
     "execution_count": 23,
     "metadata": {},
     "output_type": "execute_result"
    }
   ],
   "source": [
    "all_preds"
   ]
  },
  {
   "cell_type": "code",
   "execution_count": 24,
   "metadata": {},
   "outputs": [
    {
     "data": {
      "text/html": [
       "<div>\n",
       "<style scoped>\n",
       "    .dataframe tbody tr th:only-of-type {\n",
       "        vertical-align: middle;\n",
       "    }\n",
       "\n",
       "    .dataframe tbody tr th {\n",
       "        vertical-align: top;\n",
       "    }\n",
       "\n",
       "    .dataframe thead th {\n",
       "        text-align: right;\n",
       "    }\n",
       "</style>\n",
       "<table border=\"1\" class=\"dataframe\">\n",
       "  <thead>\n",
       "    <tr style=\"text-align: right;\">\n",
       "      <th></th>\n",
       "      <th>ID</th>\n",
       "      <th>target</th>\n",
       "    </tr>\n",
       "  </thead>\n",
       "  <tbody>\n",
       "    <tr>\n",
       "      <th>0</th>\n",
       "      <td>0008fdb22ddce0ce.jpg</td>\n",
       "      <td>0</td>\n",
       "    </tr>\n",
       "    <tr>\n",
       "      <th>1</th>\n",
       "      <td>00091bffdffd83de.jpg</td>\n",
       "      <td>0</td>\n",
       "    </tr>\n",
       "    <tr>\n",
       "      <th>2</th>\n",
       "      <td>00396fbc1f6cc21d.jpg</td>\n",
       "      <td>0</td>\n",
       "    </tr>\n",
       "    <tr>\n",
       "      <th>3</th>\n",
       "      <td>00471f8038d9c4b6.jpg</td>\n",
       "      <td>0</td>\n",
       "    </tr>\n",
       "    <tr>\n",
       "      <th>4</th>\n",
       "      <td>00901f504008d884.jpg</td>\n",
       "      <td>0</td>\n",
       "    </tr>\n",
       "    <tr>\n",
       "      <th>...</th>\n",
       "      <td>...</td>\n",
       "      <td>...</td>\n",
       "    </tr>\n",
       "    <tr>\n",
       "      <th>3135</th>\n",
       "      <td>ffb4b6f619fb60ea.jpg</td>\n",
       "      <td>0</td>\n",
       "    </tr>\n",
       "    <tr>\n",
       "      <th>3136</th>\n",
       "      <td>ffb54299b1ad4159.jpg</td>\n",
       "      <td>0</td>\n",
       "    </tr>\n",
       "    <tr>\n",
       "      <th>3137</th>\n",
       "      <td>ffc2c91dff8cf2c0.jpg</td>\n",
       "      <td>0</td>\n",
       "    </tr>\n",
       "    <tr>\n",
       "      <th>3138</th>\n",
       "      <td>ffc4e330a5353a2a.jpg</td>\n",
       "      <td>0</td>\n",
       "    </tr>\n",
       "    <tr>\n",
       "      <th>3139</th>\n",
       "      <td>ffc71fed753d90c1.jpg</td>\n",
       "      <td>0</td>\n",
       "    </tr>\n",
       "  </tbody>\n",
       "</table>\n",
       "<p>3140 rows × 2 columns</p>\n",
       "</div>"
      ],
      "text/plain": [
       "                        ID  target\n",
       "0     0008fdb22ddce0ce.jpg       0\n",
       "1     00091bffdffd83de.jpg       0\n",
       "2     00396fbc1f6cc21d.jpg       0\n",
       "3     00471f8038d9c4b6.jpg       0\n",
       "4     00901f504008d884.jpg       0\n",
       "...                    ...     ...\n",
       "3135  ffb4b6f619fb60ea.jpg       0\n",
       "3136  ffb54299b1ad4159.jpg       0\n",
       "3137  ffc2c91dff8cf2c0.jpg       0\n",
       "3138  ffc4e330a5353a2a.jpg       0\n",
       "3139  ffc71fed753d90c1.jpg       0\n",
       "\n",
       "[3140 rows x 2 columns]"
      ]
     },
     "execution_count": 24,
     "metadata": {},
     "output_type": "execute_result"
    }
   ],
   "source": [
    "sub_df = pd.read_csv('/data/ephemeral/home/data/sample_submission.csv')\n",
    "sub_df"
   ]
  },
  {
   "cell_type": "code",
   "execution_count": 25,
   "metadata": {},
   "outputs": [],
   "source": [
    "for i in range(3140):\n",
    "    sub_df.iloc[i, 1] = int(all_preds[i].cpu())"
   ]
  },
  {
   "cell_type": "code",
   "execution_count": 26,
   "metadata": {},
   "outputs": [],
   "source": [
    "sub_df.to_csv('/data/ephemeral/home/preds/v8_last_preds.csv', index=False)"
   ]
  },
  {
   "cell_type": "code",
   "execution_count": 31,
   "metadata": {},
   "outputs": [
    {
     "name": "stdout",
     "output_type": "stream",
     "text": [
      "[0, 0, 0, 0, 0, 0, 0, 0, 0, 0, 0, 0, 0, 0, 0, 0, 0, 181, 77, 294, 232, 125, 182, 118, 267, 232, 193, 208, 169, 230, 151, 150, 176, 155]\n"
     ]
    },
    {
     "ename": "",
     "evalue": "",
     "output_type": "error",
     "traceback": [
      "\u001b[1;31m현재 셀 또는 이전 셀에서 코드를 실행하는 동안 Kernel이 충돌했습니다. \n",
      "\u001b[1;31m셀의 코드를 검토하여 가능한 오류 원인을 식별하세요. \n",
      "\u001b[1;31m자세한 내용을 보려면 <a href='https://aka.ms/vscodeJupyterKernelCrash'>여기</a>를 클릭하세요. \n",
      "\u001b[1;31m자세한 내용은 Jupyter <a href='command:jupyter.viewOutput'>로그</a>를 참조하세요."
     ]
    }
   ],
   "source": [
    "cnt_list = [0 for _ in range(17)]\n",
    "\n",
    "for i in range(17):\n",
    "    cnt_list.append(sub_df[sub_df['target']==i].shape[0])\n",
    "\n",
    "print(cnt_list)"
   ]
  }
 ],
 "metadata": {
  "kernelspec": {
   "display_name": "base",
   "language": "python",
   "name": "python3"
  },
  "language_info": {
   "codemirror_mode": {
    "name": "ipython",
    "version": 3
   },
   "file_extension": ".py",
   "mimetype": "text/x-python",
   "name": "python",
   "nbconvert_exporter": "python",
   "pygments_lexer": "ipython3",
   "version": "3.10.13"
  }
 },
 "nbformat": 4,
 "nbformat_minor": 2
}
