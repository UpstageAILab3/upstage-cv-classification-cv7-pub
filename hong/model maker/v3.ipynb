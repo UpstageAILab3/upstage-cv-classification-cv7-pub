{
 "cells": [
  {
   "cell_type": "markdown",
   "metadata": {},
   "source": [
    "# V.3\n",
    "- ResNet\n",
    "- 이미지 상단 제목 데이터 추가"
   ]
  },
  {
   "cell_type": "code",
   "execution_count": 1,
   "metadata": {},
   "outputs": [],
   "source": [
    "import pandas as pd\n",
    "import numpy as np\n",
    "import os\n",
    "import time\n",
    "import random\n",
    "from PIL import Image\n",
    "from tqdm.notebook import tqdm\n",
    "import matplotlib.pyplot as plt\n",
    "\n",
    "import timm\n",
    "import torch\n",
    "import albumentations as A\n",
    "import torch.nn as nn\n",
    "from albumentations.pytorch import ToTensorV2\n",
    "from torch.optim import Adam\n",
    "from torchvision import transforms\n",
    "import torchvision.transforms as T\n",
    "from torch.utils.data import Dataset, DataLoader\n",
    "\n",
    "from sklearn.metrics import accuracy_score, f1_score\n",
    "\n",
    "import wandb\n",
    "\n",
    "import warnings\n",
    "warnings.filterwarnings(\"ignore\")"
   ]
  },
  {
   "cell_type": "code",
   "execution_count": 2,
   "metadata": {},
   "outputs": [],
   "source": [
    "# 시드를 고정합니다.\n",
    "SEED = 42\n",
    "os.environ['PYTHONHASHSEED'] = str(SEED)\n",
    "random.seed(SEED)\n",
    "np.random.seed(SEED)\n",
    "torch.manual_seed(SEED)\n",
    "torch.cuda.manual_seed(SEED)\n",
    "torch.cuda.manual_seed_all(SEED)\n",
    "torch.backends.cudnn.benchmark = True"
   ]
  },
  {
   "cell_type": "code",
   "execution_count": 3,
   "metadata": {},
   "outputs": [],
   "source": [
    "device = torch.device('cuda' if torch.cuda.is_available() else 'cpu')"
   ]
  },
  {
   "cell_type": "code",
   "execution_count": 4,
   "metadata": {},
   "outputs": [
    {
     "data": {
      "text/plain": [
       "device(type='cuda')"
      ]
     },
     "execution_count": 4,
     "metadata": {},
     "output_type": "execute_result"
    }
   ],
   "source": [
    "device"
   ]
  },
  {
   "cell_type": "markdown",
   "metadata": {},
   "source": [
    "# CustomDataset"
   ]
  },
  {
   "cell_type": "code",
   "execution_count": 5,
   "metadata": {},
   "outputs": [],
   "source": [
    "class customdataset(torch.utils.data.Dataset):\n",
    "    def __init__(self, csv, path, transforms):\n",
    "        super().__init__()\n",
    "        self.df = pd.read_csv(csv).values\n",
    "        self.path = path\n",
    "        self.transforms = transforms\n",
    "\n",
    "    def __len__(self):\n",
    "        return len(self.df)\n",
    "    \n",
    "    def __getitem__(self, idx):\n",
    "        name, target = self.df[idx]\n",
    "        img = np.array(Image.open(os.path.join(self.path, name)))\n",
    "        img = self.transforms(img)\n",
    "    \n",
    "        return img, target"
   ]
  },
  {
   "cell_type": "code",
   "execution_count": 6,
   "metadata": {},
   "outputs": [
    {
     "data": {
      "text/plain": [
       "'\\n# 랜덤 정규화 변환 클래스\\nclass RandomNormalize:\\n    def __init__(self, mean_range, std_range):\\n        self.mean_range = mean_range\\n        self.std_range = std_range\\n\\n    def __call__(self, tensor):\\n        # 각 채널에 대한 랜덤한 mean과 std 생성\\n        mean = [random.uniform(*self.mean_range) for _ in range(3)]\\n        std = [random.uniform(*self.std_range) for _ in range(3)]\\n        # 정규화 적용\\n        tensor = T.functional.normalize(tensor, mean=mean, std=std)\\n        return tensor\\n'"
      ]
     },
     "execution_count": 6,
     "metadata": {},
     "output_type": "execute_result"
    }
   ],
   "source": [
    "'''\n",
    "class GaussianNoise:\n",
    "    def __init__(self, mean, std_range):\n",
    "        self.mean = mean\n",
    "        self.std_range = std_range\n",
    "\n",
    "    def __call__(self, tensor):\n",
    "        std = random.uniform(*self.std_range)\n",
    "        noise = torch.randn(tensor.size())*std + self.mean\n",
    "        return tensor + noise\n",
    "'''\n",
    "\n",
    "class RandomPadding:\n",
    "    def __init__(self, padding_range=(0, 50), fill=0):\n",
    "        self.padding_range = padding_range\n",
    "        self.fill = fill\n",
    "\n",
    "    def __call__(self, image):\n",
    "        # 각 방향에 대해 랜덤한 패딩 값 생성\n",
    "        pad_top = random.randint(*self.padding_range)\n",
    "        pad_bottom = random.randint(*self.padding_range)\n",
    "        pad_left = random.randint(*self.padding_range)\n",
    "        pad_right = random.randint(*self.padding_range)\n",
    "        \n",
    "        # 패딩 추가\n",
    "        padding = (pad_left, pad_top, pad_right, pad_bottom)\n",
    "        return T.functional.pad(image, padding, fill=self.fill)\n",
    "\n",
    "'''\n",
    "# 랜덤 정규화 변환 클래스\n",
    "class RandomNormalize:\n",
    "    def __init__(self, mean_range, std_range):\n",
    "        self.mean_range = mean_range\n",
    "        self.std_range = std_range\n",
    "\n",
    "    def __call__(self, tensor):\n",
    "        # 각 채널에 대한 랜덤한 mean과 std 생성\n",
    "        mean = [random.uniform(*self.mean_range) for _ in range(3)]\n",
    "        std = [random.uniform(*self.std_range) for _ in range(3)]\n",
    "        # 정규화 적용\n",
    "        tensor = T.functional.normalize(tensor, mean=mean, std=std)\n",
    "        return tensor\n",
    "'''"
   ]
  },
  {
   "cell_type": "code",
   "execution_count": 7,
   "metadata": {},
   "outputs": [],
   "source": [
    "aug_transforms = T.Compose([\n",
    "    T.ToTensor(),\n",
    "    T.RandomRotation(180),\n",
    "    T.RandomHorizontalFlip(p=0.5),\n",
    "    RandomPadding(padding_range=(10, 20), fill=50),  # 랜덤 패딩 추가\n",
    "    T.RandomResizedCrop(size=(600,600), scale=(0.5, 1.0)),\n",
    "])\n",
    "\n",
    "simple_transforms = T.Compose([\n",
    "    T.ToTensor(),\n",
    "    T.RandomRotation(180),\n",
    "    T.RandomHorizontalFlip(p=0.5),\n",
    "    T.Resize((600, 600))\n",
    "])\n",
    "\n",
    "origin_transforms = T.Compose([\n",
    "    T.ToTensor(),\n",
    "    T.Resize((600, 600))\n",
    "    ])\n",
    "\n",
    "# augraphy 적용 + 간단한 transforms 적용\n",
    "aug_dataset_1 = customdataset('/data/ephemeral/home/data/train.csv', '/data/ephemeral/home/data/Augmentation/augraphy/augmented', transforms=aug_transforms)\n",
    "aug_dataset_2 = customdataset('/data/ephemeral/home/data/train.csv', '/data/ephemeral/home/data/Augmentation/augraphy/augmented2', transforms=aug_transforms)\n",
    "aug_dataset_3 = customdataset('/data/ephemeral/home/data/train.csv', '/data/ephemeral/home/data/Augmentation/augraphy/augmented3', transforms=aug_transforms)\n",
    "aug_dataset_4 = customdataset('/data/ephemeral/home/data/train.csv', '/data/ephemeral/home/data/Augmentation/augraphy/augmented4', transforms=aug_transforms)\n",
    "aug_dataset_5 = customdataset('/data/ephemeral/home/data/train.csv', '/data/ephemeral/home/data/Augmentation/augraphy/augmented5', transforms=aug_transforms)\n",
    "aug_dataset_6 = customdataset('/data/ephemeral/home/data/train.csv', '/data/ephemeral/home/data/Augmentation/augraphy/augmented6', transforms=aug_transforms)\n",
    "aug_dataset_7 = customdataset('/data/ephemeral/home/data/train.csv', '/data/ephemeral/home/data/Augmentation/augraphy/augmented7', transforms=aug_transforms)\n",
    "aug_dataset_8 = customdataset('/data/ephemeral/home/data/train.csv', '/data/ephemeral/home/data/Augmentation/augraphy/augmented8', transforms=aug_transforms)\n",
    "aug_dataset_9 = customdataset('/data/ephemeral/home/data/train.csv', '/data/ephemeral/home/data/Augmentation/augraphy/augmented9', transforms=aug_transforms)\n",
    "aug_dataset_10 = customdataset('/data/ephemeral/home/data/train.csv', '/data/ephemeral/home/data/Augmentation/augraphy/augmented10', transforms=aug_transforms) # V.3\n",
    "aug_dataset_11 = customdataset('/data/ephemeral/home/data/train.csv', '/data/ephemeral/home/data/Augmentation/augraphy/augmented11', transforms=aug_transforms)\n",
    "aug_dataset_12 = customdataset('/data/ephemeral/home/data/train.csv', '/data/ephemeral/home/data/Augmentation/augraphy/augmented12', transforms=aug_transforms)\n",
    "aug_dataset_13 = customdataset('/data/ephemeral/home/data/train.csv', '/data/ephemeral/home/data/Augmentation/augraphy/augmented13', transforms=aug_transforms)\n",
    "aug_dataset_14 = customdataset('/data/ephemeral/home/data/train.csv', '/data/ephemeral/home/data/Augmentation/augraphy/augmented14', transforms=aug_transforms)\n",
    "aug_dataset_15 = customdataset('/data/ephemeral/home/data/train.csv', '/data/ephemeral/home/data/Augmentation/augraphy/augmented15', transforms=aug_transforms)\n",
    "aug_dataset_16 = customdataset('/data/ephemeral/home/data/train.csv', '/data/ephemeral/home/data/Augmentation/augraphy/augmented16', transforms=aug_transforms)\n",
    "aug_dataset_17 = customdataset('/data/ephemeral/home/data/train.csv', '/data/ephemeral/home/data/Augmentation/augraphy/augmented17', transforms=aug_transforms)\n",
    "aug_dataset_18 = customdataset('/data/ephemeral/home/data/train.csv', '/data/ephemeral/home/data/Augmentation/augraphy/augmented18', transforms=aug_transforms)\n",
    "aug_dataset_19 = customdataset('/data/ephemeral/home/data/train.csv', '/data/ephemeral/home/data/Augmentation/augraphy/augmented19', transforms=aug_transforms)\n",
    "aug_dataset_20 = customdataset('/data/ephemeral/home/data/train.csv', '/data/ephemeral/home/data/Augmentation/augraphy/augmented20', transforms=aug_transforms) # V.3.2, V.3.3\n",
    "aug_dataset_21 = customdataset('/data/ephemeral/home/data/train.csv', '/data/ephemeral/home/data/Augmentation/augraphy/augmented21', transforms=aug_transforms)\n",
    "aug_dataset_22 = customdataset('/data/ephemeral/home/data/train.csv', '/data/ephemeral/home/data/Augmentation/augraphy/augmented22', transforms=aug_transforms)\n",
    "aug_dataset_23 = customdataset('/data/ephemeral/home/data/train.csv', '/data/ephemeral/home/data/Augmentation/augraphy/augmented23', transforms=aug_transforms)\n",
    "aug_dataset_24 = customdataset('/data/ephemeral/home/data/train.csv', '/data/ephemeral/home/data/Augmentation/augraphy/augmented24', transforms=aug_transforms)\n",
    "aug_dataset_25 = customdataset('/data/ephemeral/home/data/train.csv', '/data/ephemeral/home/data/Augmentation/augraphy/augmented25', transforms=aug_transforms) # V.3.4\n",
    "\n",
    "\n",
    "# 간단한 transforms 적용\n",
    "simple_aug_dataset_1 = customdataset('/data/ephemeral/home/data/train.csv', '/data/ephemeral/home/data/train/', transforms=simple_transforms)\n",
    "simple_aug_dataset_2 = customdataset('/data/ephemeral/home/data/train.csv', '/data/ephemeral/home/data/train/', transforms=simple_transforms)\n",
    "simple_aug_dataset_3 = customdataset('/data/ephemeral/home/data/train.csv', '/data/ephemeral/home/data/train/', transforms=simple_transforms)\n",
    "simple_aug_dataset_4 = customdataset('/data/ephemeral/home/data/train.csv', '/data/ephemeral/home/data/train/', transforms=simple_transforms) # V.3, V.3.2, V.3.3, V.3.4\n",
    "\n",
    "# 완전 원본 데이터\n",
    "origin_dataset_1 = customdataset('/data/ephemeral/home/data/train.csv', '/data/ephemeral/home/data/train/', transforms=origin_transforms) \n",
    "origin_dataset_2 = customdataset('/data/ephemeral/home/data/train.csv', '/data/ephemeral/home/data/train/', transforms=origin_transforms) # V.3.2, V.3.3, V.3.4\n",
    "origin_dataset_3 = customdataset('/data/ephemeral/home/data/train.csv', '/data/ephemeral/home/data/train/', transforms=origin_transforms)  # V.3\n",
    "\n",
    "# 추출한 제목: augraphy 적용 + 간단한 transforms 적용\n",
    "title_aug_dataset_1 = customdataset('/data/ephemeral/home/data/title_df.csv', '/data/ephemeral/home/data/Augmentation/title_augraphy/augmented1', transforms=aug_transforms) # V.3.2, V.3.3, V.3.4\n",
    "title_aug_dataset_2 = customdataset('/data/ephemeral/home/data/title_df.csv', '/data/ephemeral/home/data/Augmentation/title_augraphy/augmented2', transforms=aug_transforms)\n",
    "title_aug_dataset_3 = customdataset('/data/ephemeral/home/data/title_df.csv', '/data/ephemeral/home/data/Augmentation/title_augraphy/augmented3', transforms=aug_transforms) # V.3\n",
    "\n",
    "# 제목 완전 원본\n",
    "title_origin_dataset_1 = customdataset('/data/ephemeral/home/data/title_df.csv', '/data/ephemeral/home/data/Augmentation/title_extracted', transforms=simple_transforms) # V.3.2, V.3.3, V.3.4\n",
    "title_origin_dataset_2 = customdataset('/data/ephemeral/home/data/title_df.csv', '/data/ephemeral/home/data/Augmentation/title_extracted', transforms=simple_transforms)\n",
    "title_origin_dataset_3 = customdataset('/data/ephemeral/home/data/title_df.csv', '/data/ephemeral/home/data/Augmentation/title_extracted', transforms=simple_transforms) # V.3"
   ]
  },
  {
   "cell_type": "code",
   "execution_count": 8,
   "metadata": {},
   "outputs": [
    {
     "data": {
      "text/plain": [
       "870"
      ]
     },
     "execution_count": 8,
     "metadata": {},
     "output_type": "execute_result"
    }
   ],
   "source": [
    "len(title_origin_dataset_1)"
   ]
  },
  {
   "cell_type": "code",
   "execution_count": 9,
   "metadata": {},
   "outputs": [
    {
     "name": "stderr",
     "output_type": "stream",
     "text": [
      "Clipping input data to the valid range for imshow with RGB data ([0..1] for floats or [0..255] for integers). Got range [0.0..50.0].\n"
     ]
    },
    {
     "data": {
      "image/png": "[encoded data removed]",
      "text/plain": [
       "<Figure size 300x300 with 1 Axes>"
      ]
     },
     "metadata": {},
     "output_type": "display_data"
    }
   ],
   "source": [
    "plt.figure(figsize=(3, 3))\n",
    "plt.imshow(aug_dataset_2[10][0].permute(1, 2, 0))\n",
    "plt.show()"
   ]
  },
  {
   "cell_type": "code",
   "execution_count": 11,
   "metadata": {},
   "outputs": [
    {
     "data": {
      "image/png": "[encoded data removed]",
      "text/plain": [
       "<Figure size 300x300 with 1 Axes>"
      ]
     },
     "metadata": {},
     "output_type": "display_data"
    }
   ],
   "source": [
    "plt.figure(figsize=(3, 3))\n",
    "plt.imshow(simple_aug_dataset_2[10][0].permute(1, 2, 0))\n",
    "plt.show()"
   ]
  },
  {
   "cell_type": "code",
   "execution_count": 12,
   "metadata": {},
   "outputs": [
    {
     "name": "stderr",
     "output_type": "stream",
     "text": [
      "Clipping input data to the valid range for imshow with RGB data ([0..1] for floats or [0..255] for integers). Got range [0.0..50.0].\n"
     ]
    },
    {
     "data": {
      "image/png": "[encoded data removed]",
      "text/plain": [
       "<Figure size 300x300 with 1 Axes>"
      ]
     },
     "metadata": {},
     "output_type": "display_data"
    }
   ],
   "source": [
    "plt.figure(figsize=(3, 3))\n",
    "plt.imshow(title_aug_dataset_3[100][0].permute(1, 2, 0))\n",
    "plt.title(title_origin_dataset_3[100][1])\n",
    "plt.show()"
   ]
  },
  {
   "cell_type": "code",
   "execution_count": 13,
   "metadata": {},
   "outputs": [
    {
     "data": {
      "image/png": "[encoded data removed]",
      "text/plain": [
       "<Figure size 300x300 with 1 Axes>"
      ]
     },
     "metadata": {},
     "output_type": "display_data"
    }
   ],
   "source": [
    "plt.figure(figsize=(3, 3))\n",
    "plt.imshow(title_origin_dataset_3[100][0].permute(1, 2, 0))\n",
    "plt.title(title_origin_dataset_3[100][1])\n",
    "plt.show()"
   ]
  },
  {
   "cell_type": "code",
   "execution_count": 9,
   "metadata": {},
   "outputs": [],
   "source": [
    "train_dataset = torch.utils.data.ConcatDataset([aug_dataset_1, aug_dataset_2, aug_dataset_3, \n",
    "                                                aug_dataset_4, aug_dataset_5, aug_dataset_6, \n",
    "                                                aug_dataset_7, aug_dataset_8, aug_dataset_9, \n",
    "                                                aug_dataset_10, aug_dataset_11, aug_dataset_12,\n",
    "                                                aug_dataset_13, aug_dataset_14, aug_dataset_15,\n",
    "                                                aug_dataset_16, aug_dataset_17, aug_dataset_18,\n",
    "                                                aug_dataset_19, aug_dataset_20, aug_dataset_21,\n",
    "                                                aug_dataset_22, aug_dataset_23, aug_dataset_24, aug_dataset_25,\n",
    "\n",
    "                                                simple_aug_dataset_1, simple_aug_dataset_2, simple_aug_dataset_3,\n",
    "                                                simple_aug_dataset_4,\n",
    "\n",
    "                                                origin_dataset_1, origin_dataset_2,\n",
    "                                                \n",
    "                                                title_aug_dataset_1,\n",
    "                                                \n",
    "                                                title_origin_dataset_1])"
   ]
  },
  {
   "cell_type": "code",
   "execution_count": 10,
   "metadata": {},
   "outputs": [
    {
     "data": {
      "text/plain": [
       "48670"
      ]
     },
     "execution_count": 10,
     "metadata": {},
     "output_type": "execute_result"
    }
   ],
   "source": [
    "len(train_dataset)"
   ]
  },
  {
   "cell_type": "markdown",
   "metadata": {},
   "source": [
    "# valid dataset"
   ]
  },
  {
   "cell_type": "markdown",
   "metadata": {},
   "source": [
    "### train data 중 일부 사용"
   ]
  },
  {
   "cell_type": "code",
   "execution_count": 11,
   "metadata": {},
   "outputs": [],
   "source": [
    "total_num = len(train_dataset)\n",
    "train_num, valid_num = int(total_num*0.8), int(total_num*0.2)\n",
    "\n",
    "train_dataset, valid_dataset = torch.utils.data.random_split(train_dataset, [train_num, valid_num])"
   ]
  },
  {
   "cell_type": "markdown",
   "metadata": {},
   "source": [
    "### v.1.3의 예측 결과 사용"
   ]
  },
  {
   "cell_type": "code",
   "execution_count": 64,
   "metadata": {},
   "outputs": [],
   "source": [
    "valid_transforms = T.Compose([\n",
    "    T.ToTensor(),\n",
    "    T.Resize((600, 600))\n",
    "])\n",
    "\n",
    "valid_dataset = customdataset('/data/ephemeral/home/preds/v1_3_preds.csv', '/data/ephemeral/home/data/test/', transforms=valid_transforms) # valid dataset"
   ]
  },
  {
   "cell_type": "code",
   "execution_count": 65,
   "metadata": {},
   "outputs": [
    {
     "data": {
      "text/plain": [
       "27030"
      ]
     },
     "execution_count": 65,
     "metadata": {},
     "output_type": "execute_result"
    }
   ],
   "source": [
    "len(train_dataset)"
   ]
  },
  {
   "cell_type": "code",
   "execution_count": 66,
   "metadata": {},
   "outputs": [
    {
     "data": {
      "text/plain": [
       "3140"
      ]
     },
     "execution_count": 66,
     "metadata": {},
     "output_type": "execute_result"
    }
   ],
   "source": [
    "len(valid_dataset)"
   ]
  },
  {
   "cell_type": "code",
   "execution_count": 70,
   "metadata": {},
   "outputs": [
    {
     "data": {
      "image/png": "[encoded data removed]",
      "text/plain": [
       "<Figure size 300x300 with 1 Axes>"
      ]
     },
     "metadata": {},
     "output_type": "display_data"
    }
   ],
   "source": [
    "plt.figure(figsize=(3, 3))\n",
    "plt.imshow(valid_dataset[0][0].permute(1, 2, 0))\n",
    "plt.title(valid_dataset[0][1])\n",
    "plt.show()"
   ]
  },
  {
   "cell_type": "code",
   "execution_count": 12,
   "metadata": {},
   "outputs": [],
   "source": [
    "batch_size = 100\n",
    "\n",
    "train_dataloader = torch.utils.data.DataLoader(train_dataset, batch_size, shuffle=True, num_workers=16)\n",
    "valid_dataloader = torch.utils.data.DataLoader(valid_dataset, batch_size, shuffle=False, num_workers=16)"
   ]
  },
  {
   "cell_type": "markdown",
   "metadata": {},
   "source": [
    "# 학습"
   ]
  },
  {
   "cell_type": "markdown",
   "metadata": {},
   "source": [
    "### 학습전 모델 이름 바꿔주기!!"
   ]
  },
  {
   "cell_type": "code",
   "execution_count": 14,
   "metadata": {},
   "outputs": [],
   "source": [
    "def training(model, train_dataloader, train_dataset, criterion, optimizer, epoch, num_epochs):\n",
    "    model.train()\n",
    "    train_loss = 0.0\n",
    "    train_accuracy = 0\n",
    "\n",
    "    tbar = tqdm(train_dataloader)\n",
    "    for images, labels in tbar:\n",
    "        images, labels = images.to(device), labels.to(device)\n",
    "        outputs = model(images)\n",
    "        loss = criterion(outputs, labels)\n",
    "\n",
    "        optimizer.zero_grad()\n",
    "        loss.backward()\n",
    "        optimizer.step()\n",
    "\n",
    "        train_loss += loss.item()\n",
    "        max_prob, predicted = torch.max(outputs, 1)\n",
    "        train_accuracy += (predicted == labels).sum().item()\n",
    "\n",
    "        tbar.set_description(f'Epoch/Epochs [{epoch+1}/{num_epochs}], Train Loss: {loss.item():.4f}')\n",
    "\n",
    "    train_loss = train_loss / len(train_dataloader)\n",
    "    train_accuracy = train_accuracy / len(train_dataset)\n",
    "\n",
    "    return model, train_loss, train_accuracy\n",
    "\n",
    "def evalutaion(model, valid_dataloader, valid_accuracy, criterion, epoch, num_epochs):\n",
    "    model.eval()\n",
    "    valid_loss = 0.0\n",
    "    valid_accuracy = 0\n",
    "\n",
    "    with torch.no_grad():\n",
    "        tbar = tqdm(valid_dataloader)\n",
    "        for images, labels in tbar:\n",
    "            images, labels = images.to(device), labels.to(device)\n",
    "            outputs = model(images)\n",
    "            loss = criterion(outputs, labels)\n",
    "\n",
    "            valid_loss += loss.item()\n",
    "            max_prob, predicted = torch.max(outputs, 1)\n",
    "            valid_accuracy += (predicted == labels).sum().item()\n",
    "\n",
    "            tbar.set_description(f'Epoch/Epochs [{epoch+1}/{num_epochs}], Valid Loss: {loss.item():.4f}')\n",
    "\n",
    "    valid_loss = valid_loss / len(valid_dataloader)\n",
    "    valid_accuracy = valid_accuracy / len(valid_dataset)\n",
    "\n",
    "    return model, valid_loss, valid_accuracy\n",
    "\n",
    "def training_loop(model, train_dataloader, train_dataset, valid_dataloader, valid_dataset, criterion, optimizer, num_epochs):\n",
    "    best_valid_loss = float('inf')\n",
    "    early_stop_cnt = 0\n",
    "    valid_max_accuracy = -1\n",
    "\n",
    "    for epoch in range(num_epochs):\n",
    "        model, train_loss, train_accuracy = training(model, train_dataloader, train_dataset, criterion, optimizer, epoch, num_epochs)\n",
    "        model, valid_loss, valid_accuracy = evalutaion(model, valid_dataloader, valid_dataset, criterion, epoch, num_epochs)\n",
    "\n",
    "        #monitoring_values = {'Train Loss': train_loss, 'Valid Loss': valid_loss, 'Train Accuracy': train_accuracy, 'Valid Accuracy': valid_accuracy}\n",
    "        #run.log(monitoring_values, step=epoch)\n",
    "\n",
    "        if valid_accuracy > valid_max_accuracy:\n",
    "            valid_max_accuracy = valid_accuracy\n",
    "\n",
    "        if valid_loss < best_valid_loss:\n",
    "            torch.save(model.state_dict(), f\"/data/ephemeral/home/model/models/model_v3_4_best.pt\")\n",
    "            best_valid_loss = valid_loss\n",
    "            early_stop_cnt = 0\n",
    "\n",
    "        else :\n",
    "            early_stop_cnt += 1\n",
    "\n",
    "        print(f\"Epoch [{epoch + 1}/{num_epochs}], Train Loss: {train_loss:.4f}, Train Accuracy: {train_accuracy:.4f} Valid Loss: {valid_loss:.4f}, Valid Accuracy: {valid_accuracy:.4f}\")\n",
    "\n",
    "        if early_stop_cnt >= 5:\n",
    "            torch.save(model.state_dict(), f\"/data/ephemeral/home/model/models/model_v3_4_last.pt\")\n",
    "            print('Early Stopping')\n",
    "            break\n",
    "\n",
    "    return model"
   ]
  },
  {
   "cell_type": "code",
   "execution_count": 15,
   "metadata": {},
   "outputs": [],
   "source": [
    "model = timm.create_model(\n",
    "    'resnet34',\n",
    "    pretrained=True,\n",
    "    num_classes=17\n",
    ").to(device)\n",
    "\n",
    "criterion = torch.nn.CrossEntropyLoss()\n",
    "optimizer = torch.optim.Adam(model.parameters(), lr=0.001)"
   ]
  },
  {
   "cell_type": "code",
   "execution_count": 15,
   "metadata": {},
   "outputs": [
    {
     "data": {
      "application/vnd.jupyter.widget-view+json": {
       "model_id": "f75020cbcd264a7d8ee5a4b56e445d23",
       "version_major": 2,
       "version_minor": 0
      },
      "text/plain": [
       "  0%|          | 0/404 [00:00<?, ?it/s]"
      ]
     },
     "metadata": {},
     "output_type": "display_data"
    },
    {
     "data": {
      "application/vnd.jupyter.widget-view+json": {
       "model_id": "d9eef1d373a148c28354e1c11808b7ce",
       "version_major": 2,
       "version_minor": 0
      },
      "text/plain": [
       "  0%|          | 0/101 [00:00<?, ?it/s]"
      ]
     },
     "metadata": {},
     "output_type": "display_data"
    },
    {
     "name": "stdout",
     "output_type": "stream",
     "text": [
      "Epoch [1/100], Train Loss: 0.8699, Train Accuracy: 0.7065 Valid Loss: 0.6096, Valid Accuracy: 0.7882\n"
     ]
    },
    {
     "data": {
      "application/vnd.jupyter.widget-view+json": {
       "model_id": "e1a9853c60c34673bf8171e06c110a0a",
       "version_major": 2,
       "version_minor": 0
      },
      "text/plain": [
       "  0%|          | 0/404 [00:00<?, ?it/s]"
      ]
     },
     "metadata": {},
     "output_type": "display_data"
    },
    {
     "data": {
      "application/vnd.jupyter.widget-view+json": {
       "model_id": "430e4c2ea17941ad84971cb6b9bc723c",
       "version_major": 2,
       "version_minor": 0
      },
      "text/plain": [
       "  0%|          | 0/101 [00:00<?, ?it/s]"
      ]
     },
     "metadata": {},
     "output_type": "display_data"
    },
    {
     "name": "stdout",
     "output_type": "stream",
     "text": [
      "Epoch [2/100], Train Loss: 0.3233, Train Accuracy: 0.8834 Valid Loss: 0.4994, Valid Accuracy: 0.8220\n"
     ]
    },
    {
     "data": {
      "application/vnd.jupyter.widget-view+json": {
       "model_id": "632f30666d504e4aafea53ebee6ca495",
       "version_major": 2,
       "version_minor": 0
      },
      "text/plain": [
       "  0%|          | 0/404 [00:00<?, ?it/s]"
      ]
     },
     "metadata": {},
     "output_type": "display_data"
    },
    {
     "data": {
      "application/vnd.jupyter.widget-view+json": {
       "model_id": "6bca0e742d804b5d9a8d99d74e0baa6b",
       "version_major": 2,
       "version_minor": 0
      },
      "text/plain": [
       "  0%|          | 0/101 [00:00<?, ?it/s]"
      ]
     },
     "metadata": {},
     "output_type": "display_data"
    },
    {
     "name": "stdout",
     "output_type": "stream",
     "text": [
      "Epoch [3/100], Train Loss: 0.2294, Train Accuracy: 0.9174 Valid Loss: 0.4088, Valid Accuracy: 0.8552\n"
     ]
    },
    {
     "data": {
      "application/vnd.jupyter.widget-view+json": {
       "model_id": "0a0e9a48161748f1a927dd0cf01f81bc",
       "version_major": 2,
       "version_minor": 0
      },
      "text/plain": [
       "  0%|          | 0/404 [00:00<?, ?it/s]"
      ]
     },
     "metadata": {},
     "output_type": "display_data"
    },
    {
     "data": {
      "application/vnd.jupyter.widget-view+json": {
       "model_id": "5c479434541c456bb16c1dc8d3b9bc9d",
       "version_major": 2,
       "version_minor": 0
      },
      "text/plain": [
       "  0%|          | 0/101 [00:00<?, ?it/s]"
      ]
     },
     "metadata": {},
     "output_type": "display_data"
    },
    {
     "name": "stdout",
     "output_type": "stream",
     "text": [
      "Epoch [4/100], Train Loss: 0.1737, Train Accuracy: 0.9396 Valid Loss: 0.3657, Valid Accuracy: 0.8726\n"
     ]
    },
    {
     "data": {
      "application/vnd.jupyter.widget-view+json": {
       "model_id": "c9859a13e8974bf888648c3a4e605fe3",
       "version_major": 2,
       "version_minor": 0
      },
      "text/plain": [
       "  0%|          | 0/404 [00:00<?, ?it/s]"
      ]
     },
     "metadata": {},
     "output_type": "display_data"
    },
    {
     "data": {
      "application/vnd.jupyter.widget-view+json": {
       "model_id": "9c563e00349a4acdaa6facabe1e37c20",
       "version_major": 2,
       "version_minor": 0
      },
      "text/plain": [
       "  0%|          | 0/101 [00:00<?, ?it/s]"
      ]
     },
     "metadata": {},
     "output_type": "display_data"
    },
    {
     "name": "stdout",
     "output_type": "stream",
     "text": [
      "Epoch [5/100], Train Loss: 0.1486, Train Accuracy: 0.9467 Valid Loss: 0.3913, Valid Accuracy: 0.8675\n"
     ]
    },
    {
     "data": {
      "application/vnd.jupyter.widget-view+json": {
       "model_id": "c6127e2960d145268d41dff2ff768357",
       "version_major": 2,
       "version_minor": 0
      },
      "text/plain": [
       "  0%|          | 0/404 [00:00<?, ?it/s]"
      ]
     },
     "metadata": {},
     "output_type": "display_data"
    },
    {
     "data": {
      "application/vnd.jupyter.widget-view+json": {
       "model_id": "a53f3bb4daf94c279bae7e894f3d3b9f",
       "version_major": 2,
       "version_minor": 0
      },
      "text/plain": [
       "  0%|          | 0/101 [00:00<?, ?it/s]"
      ]
     },
     "metadata": {},
     "output_type": "display_data"
    },
    {
     "name": "stdout",
     "output_type": "stream",
     "text": [
      "Epoch [6/100], Train Loss: 0.1295, Train Accuracy: 0.9542 Valid Loss: 0.4252, Valid Accuracy: 0.8531\n"
     ]
    },
    {
     "data": {
      "application/vnd.jupyter.widget-view+json": {
       "model_id": "94333c00141543abbc862f0777535062",
       "version_major": 2,
       "version_minor": 0
      },
      "text/plain": [
       "  0%|          | 0/404 [00:00<?, ?it/s]"
      ]
     },
     "metadata": {},
     "output_type": "display_data"
    },
    {
     "data": {
      "application/vnd.jupyter.widget-view+json": {
       "model_id": "8a079bb0158a47fe8ea72e4cd1e9627e",
       "version_major": 2,
       "version_minor": 0
      },
      "text/plain": [
       "  0%|          | 0/101 [00:00<?, ?it/s]"
      ]
     },
     "metadata": {},
     "output_type": "display_data"
    },
    {
     "name": "stdout",
     "output_type": "stream",
     "text": [
      "Epoch [7/100], Train Loss: 0.1055, Train Accuracy: 0.9629 Valid Loss: 0.3616, Valid Accuracy: 0.8772\n"
     ]
    },
    {
     "data": {
      "application/vnd.jupyter.widget-view+json": {
       "model_id": "3e5b7426f2f64666ace9de68f7e52ab0",
       "version_major": 2,
       "version_minor": 0
      },
      "text/plain": [
       "  0%|          | 0/404 [00:00<?, ?it/s]"
      ]
     },
     "metadata": {},
     "output_type": "display_data"
    },
    {
     "data": {
      "application/vnd.jupyter.widget-view+json": {
       "model_id": "a6f29a5db89740819f95c79ec2c0baee",
       "version_major": 2,
       "version_minor": 0
      },
      "text/plain": [
       "  0%|          | 0/101 [00:00<?, ?it/s]"
      ]
     },
     "metadata": {},
     "output_type": "display_data"
    },
    {
     "name": "stdout",
     "output_type": "stream",
     "text": [
      "Epoch [8/100], Train Loss: 0.0940, Train Accuracy: 0.9674 Valid Loss: 0.3039, Valid Accuracy: 0.8951\n"
     ]
    },
    {
     "data": {
      "application/vnd.jupyter.widget-view+json": {
       "model_id": "a870b7031f98445da10cedd62aa46286",
       "version_major": 2,
       "version_minor": 0
      },
      "text/plain": [
       "  0%|          | 0/404 [00:00<?, ?it/s]"
      ]
     },
     "metadata": {},
     "output_type": "display_data"
    },
    {
     "data": {
      "application/vnd.jupyter.widget-view+json": {
       "model_id": "274b8fe2b41c48939b5ad32b9667907b",
       "version_major": 2,
       "version_minor": 0
      },
      "text/plain": [
       "  0%|          | 0/101 [00:00<?, ?it/s]"
      ]
     },
     "metadata": {},
     "output_type": "display_data"
    },
    {
     "name": "stdout",
     "output_type": "stream",
     "text": [
      "Epoch [9/100], Train Loss: 0.0891, Train Accuracy: 0.9682 Valid Loss: 0.2101, Valid Accuracy: 0.9291\n"
     ]
    },
    {
     "data": {
      "application/vnd.jupyter.widget-view+json": {
       "model_id": "ea61edc55cd34f3382305810aac67b2e",
       "version_major": 2,
       "version_minor": 0
      },
      "text/plain": [
       "  0%|          | 0/404 [00:00<?, ?it/s]"
      ]
     },
     "metadata": {},
     "output_type": "display_data"
    },
    {
     "data": {
      "application/vnd.jupyter.widget-view+json": {
       "model_id": "5deedec757644a04b5a5479adb3f635a",
       "version_major": 2,
       "version_minor": 0
      },
      "text/plain": [
       "  0%|          | 0/101 [00:00<?, ?it/s]"
      ]
     },
     "metadata": {},
     "output_type": "display_data"
    },
    {
     "name": "stdout",
     "output_type": "stream",
     "text": [
      "Epoch [10/100], Train Loss: 0.0790, Train Accuracy: 0.9725 Valid Loss: 0.2467, Valid Accuracy: 0.9202\n"
     ]
    },
    {
     "data": {
      "application/vnd.jupyter.widget-view+json": {
       "model_id": "26eeed94cbe24fbd8a8a865d5a049d9b",
       "version_major": 2,
       "version_minor": 0
      },
      "text/plain": [
       "  0%|          | 0/404 [00:00<?, ?it/s]"
      ]
     },
     "metadata": {},
     "output_type": "display_data"
    },
    {
     "data": {
      "application/vnd.jupyter.widget-view+json": {
       "model_id": "b7bf53a460064c58a44bd4034208585d",
       "version_major": 2,
       "version_minor": 0
      },
      "text/plain": [
       "  0%|          | 0/101 [00:00<?, ?it/s]"
      ]
     },
     "metadata": {},
     "output_type": "display_data"
    },
    {
     "name": "stdout",
     "output_type": "stream",
     "text": [
      "Epoch [11/100], Train Loss: 0.0741, Train Accuracy: 0.9737 Valid Loss: 0.5206, Valid Accuracy: 0.8236\n"
     ]
    },
    {
     "data": {
      "application/vnd.jupyter.widget-view+json": {
       "model_id": "0aca264ef48445da9d09275c3e1a880f",
       "version_major": 2,
       "version_minor": 0
      },
      "text/plain": [
       "  0%|          | 0/404 [00:00<?, ?it/s]"
      ]
     },
     "metadata": {},
     "output_type": "display_data"
    },
    {
     "data": {
      "application/vnd.jupyter.widget-view+json": {
       "model_id": "59e425d6b40d4d4985fe6ec0bcbd5c22",
       "version_major": 2,
       "version_minor": 0
      },
      "text/plain": [
       "  0%|          | 0/101 [00:00<?, ?it/s]"
      ]
     },
     "metadata": {},
     "output_type": "display_data"
    },
    {
     "name": "stdout",
     "output_type": "stream",
     "text": [
      "Epoch [12/100], Train Loss: 0.0673, Train Accuracy: 0.9768 Valid Loss: 0.1973, Valid Accuracy: 0.9367\n"
     ]
    },
    {
     "data": {
      "application/vnd.jupyter.widget-view+json": {
       "model_id": "709b5203ebc64295a90826adc84213e3",
       "version_major": 2,
       "version_minor": 0
      },
      "text/plain": [
       "  0%|          | 0/404 [00:00<?, ?it/s]"
      ]
     },
     "metadata": {},
     "output_type": "display_data"
    },
    {
     "data": {
      "application/vnd.jupyter.widget-view+json": {
       "model_id": "decb3b70f58f40e093809386cc8deaeb",
       "version_major": 2,
       "version_minor": 0
      },
      "text/plain": [
       "  0%|          | 0/101 [00:00<?, ?it/s]"
      ]
     },
     "metadata": {},
     "output_type": "display_data"
    },
    {
     "name": "stdout",
     "output_type": "stream",
     "text": [
      "Epoch [13/100], Train Loss: 0.0656, Train Accuracy: 0.9774 Valid Loss: 0.3789, Valid Accuracy: 0.8912\n"
     ]
    },
    {
     "data": {
      "application/vnd.jupyter.widget-view+json": {
       "model_id": "cddd8d54e5124acf8bccd154541e82d2",
       "version_major": 2,
       "version_minor": 0
      },
      "text/plain": [
       "  0%|          | 0/404 [00:00<?, ?it/s]"
      ]
     },
     "metadata": {},
     "output_type": "display_data"
    },
    {
     "data": {
      "application/vnd.jupyter.widget-view+json": {
       "model_id": "b8577168f79645409f111b45636d4485",
       "version_major": 2,
       "version_minor": 0
      },
      "text/plain": [
       "  0%|          | 0/101 [00:00<?, ?it/s]"
      ]
     },
     "metadata": {},
     "output_type": "display_data"
    },
    {
     "name": "stdout",
     "output_type": "stream",
     "text": [
      "Epoch [14/100], Train Loss: 0.0647, Train Accuracy: 0.9773 Valid Loss: 0.2273, Valid Accuracy: 0.9254\n"
     ]
    },
    {
     "data": {
      "application/vnd.jupyter.widget-view+json": {
       "model_id": "8e669568731844df88caa7e165b1403a",
       "version_major": 2,
       "version_minor": 0
      },
      "text/plain": [
       "  0%|          | 0/404 [00:00<?, ?it/s]"
      ]
     },
     "metadata": {},
     "output_type": "display_data"
    },
    {
     "data": {
      "application/vnd.jupyter.widget-view+json": {
       "model_id": "d73af027fcf147b39925e267165a5044",
       "version_major": 2,
       "version_minor": 0
      },
      "text/plain": [
       "  0%|          | 0/101 [00:00<?, ?it/s]"
      ]
     },
     "metadata": {},
     "output_type": "display_data"
    },
    {
     "name": "stdout",
     "output_type": "stream",
     "text": [
      "Epoch [15/100], Train Loss: 0.0671, Train Accuracy: 0.9761 Valid Loss: 0.2001, Valid Accuracy: 0.9300\n"
     ]
    },
    {
     "data": {
      "application/vnd.jupyter.widget-view+json": {
       "model_id": "67d82a463304441bada0ff7d0d20edfd",
       "version_major": 2,
       "version_minor": 0
      },
      "text/plain": [
       "  0%|          | 0/404 [00:00<?, ?it/s]"
      ]
     },
     "metadata": {},
     "output_type": "display_data"
    },
    {
     "data": {
      "application/vnd.jupyter.widget-view+json": {
       "model_id": "7e86948d71c94aaf83decee2e4f48829",
       "version_major": 2,
       "version_minor": 0
      },
      "text/plain": [
       "  0%|          | 0/101 [00:00<?, ?it/s]"
      ]
     },
     "metadata": {},
     "output_type": "display_data"
    },
    {
     "name": "stdout",
     "output_type": "stream",
     "text": [
      "Epoch [16/100], Train Loss: 0.0523, Train Accuracy: 0.9821 Valid Loss: 0.2093, Valid Accuracy: 0.9300\n"
     ]
    },
    {
     "data": {
      "application/vnd.jupyter.widget-view+json": {
       "model_id": "86aedb0597e54170a4bd76693b9f616e",
       "version_major": 2,
       "version_minor": 0
      },
      "text/plain": [
       "  0%|          | 0/404 [00:00<?, ?it/s]"
      ]
     },
     "metadata": {},
     "output_type": "display_data"
    },
    {
     "data": {
      "application/vnd.jupyter.widget-view+json": {
       "model_id": "4e051acc2950475aaa145e203e6212ed",
       "version_major": 2,
       "version_minor": 0
      },
      "text/plain": [
       "  0%|          | 0/101 [00:00<?, ?it/s]"
      ]
     },
     "metadata": {},
     "output_type": "display_data"
    },
    {
     "name": "stdout",
     "output_type": "stream",
     "text": [
      "Epoch [17/100], Train Loss: 0.0550, Train Accuracy: 0.9815 Valid Loss: 0.4748, Valid Accuracy: 0.8363\n"
     ]
    },
    {
     "data": {
      "application/vnd.jupyter.widget-view+json": {
       "model_id": "97423f23cb3346df94f7afef9c6d67eb",
       "version_major": 2,
       "version_minor": 0
      },
      "text/plain": [
       "  0%|          | 0/404 [00:00<?, ?it/s]"
      ]
     },
     "metadata": {},
     "output_type": "display_data"
    },
    {
     "data": {
      "application/vnd.jupyter.widget-view+json": {
       "model_id": "1f2e04bd7c254d9db185480204754a5d",
       "version_major": 2,
       "version_minor": 0
      },
      "text/plain": [
       "  0%|          | 0/101 [00:00<?, ?it/s]"
      ]
     },
     "metadata": {},
     "output_type": "display_data"
    },
    {
     "name": "stdout",
     "output_type": "stream",
     "text": [
      "Epoch [18/100], Train Loss: 0.0527, Train Accuracy: 0.9815 Valid Loss: 0.2631, Valid Accuracy: 0.9096\n"
     ]
    },
    {
     "data": {
      "application/vnd.jupyter.widget-view+json": {
       "model_id": "da14b1763f74430ebf772864f86d7551",
       "version_major": 2,
       "version_minor": 0
      },
      "text/plain": [
       "  0%|          | 0/404 [00:00<?, ?it/s]"
      ]
     },
     "metadata": {},
     "output_type": "display_data"
    },
    {
     "data": {
      "application/vnd.jupyter.widget-view+json": {
       "model_id": "11030986a00c422c85659fa32aebc949",
       "version_major": 2,
       "version_minor": 0
      },
      "text/plain": [
       "  0%|          | 0/101 [00:00<?, ?it/s]"
      ]
     },
     "metadata": {},
     "output_type": "display_data"
    },
    {
     "name": "stdout",
     "output_type": "stream",
     "text": [
      "Epoch [19/100], Train Loss: 0.0536, Train Accuracy: 0.9810 Valid Loss: 0.2498, Valid Accuracy: 0.9168\n"
     ]
    },
    {
     "data": {
      "application/vnd.jupyter.widget-view+json": {
       "model_id": "edcd6c6a899245e2a42cca688a80b0e3",
       "version_major": 2,
       "version_minor": 0
      },
      "text/plain": [
       "  0%|          | 0/404 [00:00<?, ?it/s]"
      ]
     },
     "metadata": {},
     "output_type": "display_data"
    },
    {
     "data": {
      "application/vnd.jupyter.widget-view+json": {
       "model_id": "902013bd540b4994aff11f8e92e63013",
       "version_major": 2,
       "version_minor": 0
      },
      "text/plain": [
       "  0%|          | 0/101 [00:00<?, ?it/s]"
      ]
     },
     "metadata": {},
     "output_type": "display_data"
    },
    {
     "name": "stdout",
     "output_type": "stream",
     "text": [
      "Epoch [20/100], Train Loss: 0.0480, Train Accuracy: 0.9823 Valid Loss: 0.1662, Valid Accuracy: 0.9463\n"
     ]
    },
    {
     "data": {
      "application/vnd.jupyter.widget-view+json": {
       "model_id": "d5910000304146cba432099440d6381f",
       "version_major": 2,
       "version_minor": 0
      },
      "text/plain": [
       "  0%|          | 0/404 [00:00<?, ?it/s]"
      ]
     },
     "metadata": {},
     "output_type": "display_data"
    },
    {
     "data": {
      "application/vnd.jupyter.widget-view+json": {
       "model_id": "967610dee9064f2f8d9d6620e3f8bb2c",
       "version_major": 2,
       "version_minor": 0
      },
      "text/plain": [
       "  0%|          | 0/101 [00:00<?, ?it/s]"
      ]
     },
     "metadata": {},
     "output_type": "display_data"
    },
    {
     "name": "stdout",
     "output_type": "stream",
     "text": [
      "Epoch [21/100], Train Loss: 0.0424, Train Accuracy: 0.9859 Valid Loss: 0.3338, Valid Accuracy: 0.9086\n"
     ]
    },
    {
     "data": {
      "application/vnd.jupyter.widget-view+json": {
       "model_id": "98f2ecb8702e483c907c8f59dd5f1fdd",
       "version_major": 2,
       "version_minor": 0
      },
      "text/plain": [
       "  0%|          | 0/404 [00:00<?, ?it/s]"
      ]
     },
     "metadata": {},
     "output_type": "display_data"
    },
    {
     "data": {
      "application/vnd.jupyter.widget-view+json": {
       "model_id": "33a17ba4139948e0a6b6302416dd587d",
       "version_major": 2,
       "version_minor": 0
      },
      "text/plain": [
       "  0%|          | 0/101 [00:00<?, ?it/s]"
      ]
     },
     "metadata": {},
     "output_type": "display_data"
    },
    {
     "name": "stdout",
     "output_type": "stream",
     "text": [
      "Epoch [22/100], Train Loss: 0.0435, Train Accuracy: 0.9852 Valid Loss: 0.1598, Valid Accuracy: 0.9470\n"
     ]
    },
    {
     "data": {
      "application/vnd.jupyter.widget-view+json": {
       "model_id": "6e624a19b6454ebbb938c1c593415a88",
       "version_major": 2,
       "version_minor": 0
      },
      "text/plain": [
       "  0%|          | 0/404 [00:00<?, ?it/s]"
      ]
     },
     "metadata": {},
     "output_type": "display_data"
    },
    {
     "data": {
      "application/vnd.jupyter.widget-view+json": {
       "model_id": "5117ea0a81ad47c0a83121c15d49cc55",
       "version_major": 2,
       "version_minor": 0
      },
      "text/plain": [
       "  0%|          | 0/101 [00:00<?, ?it/s]"
      ]
     },
     "metadata": {},
     "output_type": "display_data"
    },
    {
     "name": "stdout",
     "output_type": "stream",
     "text": [
      "Epoch [23/100], Train Loss: 0.0376, Train Accuracy: 0.9863 Valid Loss: 0.0990, Valid Accuracy: 0.9658\n"
     ]
    },
    {
     "data": {
      "application/vnd.jupyter.widget-view+json": {
       "model_id": "ba81ca5bb653492f94a9b7588955b8be",
       "version_major": 2,
       "version_minor": 0
      },
      "text/plain": [
       "  0%|          | 0/404 [00:00<?, ?it/s]"
      ]
     },
     "metadata": {},
     "output_type": "display_data"
    },
    {
     "data": {
      "application/vnd.jupyter.widget-view+json": {
       "model_id": "7f6e06afe7894aae8b62eadeaebf7abf",
       "version_major": 2,
       "version_minor": 0
      },
      "text/plain": [
       "  0%|          | 0/101 [00:00<?, ?it/s]"
      ]
     },
     "metadata": {},
     "output_type": "display_data"
    },
    {
     "name": "stdout",
     "output_type": "stream",
     "text": [
      "Epoch [24/100], Train Loss: 0.0426, Train Accuracy: 0.9849 Valid Loss: 0.2013, Valid Accuracy: 0.9388\n"
     ]
    },
    {
     "data": {
      "application/vnd.jupyter.widget-view+json": {
       "model_id": "540f5fca704f4c679627dd9c13bbfd2a",
       "version_major": 2,
       "version_minor": 0
      },
      "text/plain": [
       "  0%|          | 0/404 [00:00<?, ?it/s]"
      ]
     },
     "metadata": {},
     "output_type": "display_data"
    },
    {
     "data": {
      "application/vnd.jupyter.widget-view+json": {
       "model_id": "c937b2bfd8b146eeb9bf42f0d2907bd3",
       "version_major": 2,
       "version_minor": 0
      },
      "text/plain": [
       "  0%|          | 0/101 [00:00<?, ?it/s]"
      ]
     },
     "metadata": {},
     "output_type": "display_data"
    },
    {
     "name": "stdout",
     "output_type": "stream",
     "text": [
      "Epoch [25/100], Train Loss: 0.0414, Train Accuracy: 0.9862 Valid Loss: 0.0968, Valid Accuracy: 0.9667\n"
     ]
    },
    {
     "data": {
      "application/vnd.jupyter.widget-view+json": {
       "model_id": "7ae19e8f617c4b70a471f6ceab33d9f4",
       "version_major": 2,
       "version_minor": 0
      },
      "text/plain": [
       "  0%|          | 0/404 [00:00<?, ?it/s]"
      ]
     },
     "metadata": {},
     "output_type": "display_data"
    },
    {
     "data": {
      "application/vnd.jupyter.widget-view+json": {
       "model_id": "1e8502f96bc34145a1f5fe079bfefd34",
       "version_major": 2,
       "version_minor": 0
      },
      "text/plain": [
       "  0%|          | 0/101 [00:00<?, ?it/s]"
      ]
     },
     "metadata": {},
     "output_type": "display_data"
    },
    {
     "name": "stdout",
     "output_type": "stream",
     "text": [
      "Epoch [26/100], Train Loss: 0.0388, Train Accuracy: 0.9863 Valid Loss: 0.0921, Valid Accuracy: 0.9691\n"
     ]
    },
    {
     "data": {
      "application/vnd.jupyter.widget-view+json": {
       "model_id": "13877ade63ff4e458308afb995666413",
       "version_major": 2,
       "version_minor": 0
      },
      "text/plain": [
       "  0%|          | 0/404 [00:00<?, ?it/s]"
      ]
     },
     "metadata": {},
     "output_type": "display_data"
    },
    {
     "data": {
      "application/vnd.jupyter.widget-view+json": {
       "model_id": "9beec3275fc14d06a64dfcb25d365db4",
       "version_major": 2,
       "version_minor": 0
      },
      "text/plain": [
       "  0%|          | 0/101 [00:00<?, ?it/s]"
      ]
     },
     "metadata": {},
     "output_type": "display_data"
    },
    {
     "name": "stdout",
     "output_type": "stream",
     "text": [
      "Epoch [27/100], Train Loss: 0.0389, Train Accuracy: 0.9858 Valid Loss: 0.1544, Valid Accuracy: 0.9478\n"
     ]
    },
    {
     "data": {
      "application/vnd.jupyter.widget-view+json": {
       "model_id": "671a2cd6347b43358f5105abe113340f",
       "version_major": 2,
       "version_minor": 0
      },
      "text/plain": [
       "  0%|          | 0/404 [00:00<?, ?it/s]"
      ]
     },
     "metadata": {},
     "output_type": "display_data"
    },
    {
     "data": {
      "application/vnd.jupyter.widget-view+json": {
       "model_id": "38969fe38e9e48b5be246a24e8b9b573",
       "version_major": 2,
       "version_minor": 0
      },
      "text/plain": [
       "  0%|          | 0/101 [00:00<?, ?it/s]"
      ]
     },
     "metadata": {},
     "output_type": "display_data"
    },
    {
     "name": "stdout",
     "output_type": "stream",
     "text": [
      "Epoch [28/100], Train Loss: 0.0376, Train Accuracy: 0.9863 Valid Loss: 0.3643, Valid Accuracy: 0.9004\n"
     ]
    },
    {
     "data": {
      "application/vnd.jupyter.widget-view+json": {
       "model_id": "e0032876cc1c42408a947f190581d132",
       "version_major": 2,
       "version_minor": 0
      },
      "text/plain": [
       "  0%|          | 0/404 [00:00<?, ?it/s]"
      ]
     },
     "metadata": {},
     "output_type": "display_data"
    },
    {
     "data": {
      "application/vnd.jupyter.widget-view+json": {
       "model_id": "2a599bd033d5400db42facbc6541f283",
       "version_major": 2,
       "version_minor": 0
      },
      "text/plain": [
       "  0%|          | 0/101 [00:00<?, ?it/s]"
      ]
     },
     "metadata": {},
     "output_type": "display_data"
    },
    {
     "name": "stdout",
     "output_type": "stream",
     "text": [
      "Epoch [29/100], Train Loss: 0.0304, Train Accuracy: 0.9895 Valid Loss: 0.1169, Valid Accuracy: 0.9605\n"
     ]
    },
    {
     "data": {
      "application/vnd.jupyter.widget-view+json": {
       "model_id": "df52850b5de44ab5b368100d375658da",
       "version_major": 2,
       "version_minor": 0
      },
      "text/plain": [
       "  0%|          | 0/404 [00:00<?, ?it/s]"
      ]
     },
     "metadata": {},
     "output_type": "display_data"
    },
    {
     "data": {
      "application/vnd.jupyter.widget-view+json": {
       "model_id": "3c934d9dd1004af382d14aae1c9345b9",
       "version_major": 2,
       "version_minor": 0
      },
      "text/plain": [
       "  0%|          | 0/101 [00:00<?, ?it/s]"
      ]
     },
     "metadata": {},
     "output_type": "display_data"
    },
    {
     "name": "stdout",
     "output_type": "stream",
     "text": [
      "Epoch [30/100], Train Loss: 0.0393, Train Accuracy: 0.9863 Valid Loss: 0.2860, Valid Accuracy: 0.9256\n"
     ]
    },
    {
     "data": {
      "application/vnd.jupyter.widget-view+json": {
       "model_id": "6e32fa57eaf24333894b6fb65839668a",
       "version_major": 2,
       "version_minor": 0
      },
      "text/plain": [
       "  0%|          | 0/404 [00:00<?, ?it/s]"
      ]
     },
     "metadata": {},
     "output_type": "display_data"
    },
    {
     "data": {
      "application/vnd.jupyter.widget-view+json": {
       "model_id": "39802d9bb7db4716a55afc8b4da5db58",
       "version_major": 2,
       "version_minor": 0
      },
      "text/plain": [
       "  0%|          | 0/101 [00:00<?, ?it/s]"
      ]
     },
     "metadata": {},
     "output_type": "display_data"
    },
    {
     "name": "stdout",
     "output_type": "stream",
     "text": [
      "Epoch [31/100], Train Loss: 0.0328, Train Accuracy: 0.9888 Valid Loss: 0.2620, Valid Accuracy: 0.9291\n"
     ]
    },
    {
     "data": {
      "application/vnd.jupyter.widget-view+json": {
       "model_id": "3bb3b0bedf5a4ce080ab9b9ba9d5c73e",
       "version_major": 2,
       "version_minor": 0
      },
      "text/plain": [
       "  0%|          | 0/404 [00:00<?, ?it/s]"
      ]
     },
     "metadata": {},
     "output_type": "display_data"
    },
    {
     "data": {
      "application/vnd.jupyter.widget-view+json": {
       "model_id": "e7b4fcec9b5d45a6b2bc78dc6c8a6dd1",
       "version_major": 2,
       "version_minor": 0
      },
      "text/plain": [
       "  0%|          | 0/101 [00:00<?, ?it/s]"
      ]
     },
     "metadata": {},
     "output_type": "display_data"
    },
    {
     "name": "stdout",
     "output_type": "stream",
     "text": [
      "Epoch [32/100], Train Loss: 0.0300, Train Accuracy: 0.9891 Valid Loss: 0.3785, Valid Accuracy: 0.8927\n"
     ]
    },
    {
     "data": {
      "application/vnd.jupyter.widget-view+json": {
       "model_id": "2e2dca562c224084a6a197b4a8fb4391",
       "version_major": 2,
       "version_minor": 0
      },
      "text/plain": [
       "  0%|          | 0/404 [00:00<?, ?it/s]"
      ]
     },
     "metadata": {},
     "output_type": "display_data"
    },
    {
     "data": {
      "application/vnd.jupyter.widget-view+json": {
       "model_id": "79fc2728d50b47a2bbac05a8de618f1f",
       "version_major": 2,
       "version_minor": 0
      },
      "text/plain": [
       "  0%|          | 0/101 [00:00<?, ?it/s]"
      ]
     },
     "metadata": {},
     "output_type": "display_data"
    },
    {
     "name": "stdout",
     "output_type": "stream",
     "text": [
      "Epoch [33/100], Train Loss: 0.0333, Train Accuracy: 0.9886 Valid Loss: 0.0860, Valid Accuracy: 0.9720\n"
     ]
    },
    {
     "data": {
      "application/vnd.jupyter.widget-view+json": {
       "model_id": "5c6a5f3710164ca787c9b6b5bff12e6c",
       "version_major": 2,
       "version_minor": 0
      },
      "text/plain": [
       "  0%|          | 0/404 [00:00<?, ?it/s]"
      ]
     },
     "metadata": {},
     "output_type": "display_data"
    },
    {
     "data": {
      "application/vnd.jupyter.widget-view+json": {
       "model_id": "6f18ffe5eefa4b96ac96d4ff10a72516",
       "version_major": 2,
       "version_minor": 0
      },
      "text/plain": [
       "  0%|          | 0/101 [00:00<?, ?it/s]"
      ]
     },
     "metadata": {},
     "output_type": "display_data"
    },
    {
     "name": "stdout",
     "output_type": "stream",
     "text": [
      "Epoch [34/100], Train Loss: 0.0271, Train Accuracy: 0.9907 Valid Loss: 0.1703, Valid Accuracy: 0.9499\n"
     ]
    },
    {
     "data": {
      "application/vnd.jupyter.widget-view+json": {
       "model_id": "669738cf2e764631b61f3a2dd5384fbb",
       "version_major": 2,
       "version_minor": 0
      },
      "text/plain": [
       "  0%|          | 0/404 [00:00<?, ?it/s]"
      ]
     },
     "metadata": {},
     "output_type": "display_data"
    },
    {
     "data": {
      "application/vnd.jupyter.widget-view+json": {
       "model_id": "928ca3db948e4c4bbeafef6bbb8445f6",
       "version_major": 2,
       "version_minor": 0
      },
      "text/plain": [
       "  0%|          | 0/101 [00:00<?, ?it/s]"
      ]
     },
     "metadata": {},
     "output_type": "display_data"
    },
    {
     "name": "stdout",
     "output_type": "stream",
     "text": [
      "Epoch [35/100], Train Loss: 0.0282, Train Accuracy: 0.9902 Valid Loss: 0.0766, Valid Accuracy: 0.9743\n"
     ]
    },
    {
     "data": {
      "application/vnd.jupyter.widget-view+json": {
       "model_id": "3d2f9c7b300244938f2c559f6a54c61f",
       "version_major": 2,
       "version_minor": 0
      },
      "text/plain": [
       "  0%|          | 0/404 [00:00<?, ?it/s]"
      ]
     },
     "metadata": {},
     "output_type": "display_data"
    },
    {
     "data": {
      "application/vnd.jupyter.widget-view+json": {
       "model_id": "227032475de44401af9f46e6f8173147",
       "version_major": 2,
       "version_minor": 0
      },
      "text/plain": [
       "  0%|          | 0/101 [00:00<?, ?it/s]"
      ]
     },
     "metadata": {},
     "output_type": "display_data"
    },
    {
     "name": "stdout",
     "output_type": "stream",
     "text": [
      "Epoch [36/100], Train Loss: 0.0326, Train Accuracy: 0.9890 Valid Loss: 0.1844, Valid Accuracy: 0.9463\n"
     ]
    },
    {
     "data": {
      "application/vnd.jupyter.widget-view+json": {
       "model_id": "93e1ac6810f24475b6545f1328e516f0",
       "version_major": 2,
       "version_minor": 0
      },
      "text/plain": [
       "  0%|          | 0/404 [00:00<?, ?it/s]"
      ]
     },
     "metadata": {},
     "output_type": "display_data"
    },
    {
     "data": {
      "application/vnd.jupyter.widget-view+json": {
       "model_id": "78b186c4a74e4af4b744b6506b9c5e8d",
       "version_major": 2,
       "version_minor": 0
      },
      "text/plain": [
       "  0%|          | 0/101 [00:00<?, ?it/s]"
      ]
     },
     "metadata": {},
     "output_type": "display_data"
    },
    {
     "name": "stdout",
     "output_type": "stream",
     "text": [
      "Epoch [37/100], Train Loss: 0.0266, Train Accuracy: 0.9906 Valid Loss: 0.5324, Valid Accuracy: 0.8684\n"
     ]
    },
    {
     "data": {
      "application/vnd.jupyter.widget-view+json": {
       "model_id": "79134f4d87224cd69c1ac1e15b49a146",
       "version_major": 2,
       "version_minor": 0
      },
      "text/plain": [
       "  0%|          | 0/404 [00:00<?, ?it/s]"
      ]
     },
     "metadata": {},
     "output_type": "display_data"
    },
    {
     "data": {
      "application/vnd.jupyter.widget-view+json": {
       "model_id": "6bbb57af1849408ea7a71973c64cf2eb",
       "version_major": 2,
       "version_minor": 0
      },
      "text/plain": [
       "  0%|          | 0/101 [00:00<?, ?it/s]"
      ]
     },
     "metadata": {},
     "output_type": "display_data"
    },
    {
     "name": "stdout",
     "output_type": "stream",
     "text": [
      "Epoch [38/100], Train Loss: 0.0257, Train Accuracy: 0.9914 Valid Loss: 0.2574, Valid Accuracy: 0.9312\n"
     ]
    },
    {
     "data": {
      "application/vnd.jupyter.widget-view+json": {
       "model_id": "860e3af1e41f4152923a30f24cb6f068",
       "version_major": 2,
       "version_minor": 0
      },
      "text/plain": [
       "  0%|          | 0/404 [00:00<?, ?it/s]"
      ]
     },
     "metadata": {},
     "output_type": "display_data"
    },
    {
     "data": {
      "application/vnd.jupyter.widget-view+json": {
       "model_id": "6e26c151200645cd8b2ac16ad6b17349",
       "version_major": 2,
       "version_minor": 0
      },
      "text/plain": [
       "  0%|          | 0/101 [00:00<?, ?it/s]"
      ]
     },
     "metadata": {},
     "output_type": "display_data"
    },
    {
     "name": "stdout",
     "output_type": "stream",
     "text": [
      "Epoch [39/100], Train Loss: 0.0286, Train Accuracy: 0.9902 Valid Loss: 0.5998, Valid Accuracy: 0.8749\n"
     ]
    },
    {
     "data": {
      "application/vnd.jupyter.widget-view+json": {
       "model_id": "f2a15dc853f54a20a65b316a0a66d67e",
       "version_major": 2,
       "version_minor": 0
      },
      "text/plain": [
       "  0%|          | 0/404 [00:00<?, ?it/s]"
      ]
     },
     "metadata": {},
     "output_type": "display_data"
    },
    {
     "data": {
      "application/vnd.jupyter.widget-view+json": {
       "model_id": "d37f7299640f43caaf68c99c0268818b",
       "version_major": 2,
       "version_minor": 0
      },
      "text/plain": [
       "  0%|          | 0/101 [00:00<?, ?it/s]"
      ]
     },
     "metadata": {},
     "output_type": "display_data"
    },
    {
     "name": "stdout",
     "output_type": "stream",
     "text": [
      "Epoch [40/100], Train Loss: 0.0263, Train Accuracy: 0.9913 Valid Loss: 0.2093, Valid Accuracy: 0.9437\n"
     ]
    },
    {
     "data": {
      "application/vnd.jupyter.widget-view+json": {
       "model_id": "0db30fe203e64b6b85aabaedcc27edc3",
       "version_major": 2,
       "version_minor": 0
      },
      "text/plain": [
       "  0%|          | 0/404 [00:00<?, ?it/s]"
      ]
     },
     "metadata": {},
     "output_type": "display_data"
    },
    {
     "data": {
      "application/vnd.jupyter.widget-view+json": {
       "model_id": "459d025457cf42be9257202f92855d1f",
       "version_major": 2,
       "version_minor": 0
      },
      "text/plain": [
       "  0%|          | 0/101 [00:00<?, ?it/s]"
      ]
     },
     "metadata": {},
     "output_type": "display_data"
    },
    {
     "name": "stdout",
     "output_type": "stream",
     "text": [
      "Epoch [41/100], Train Loss: 0.0263, Train Accuracy: 0.9915 Valid Loss: 0.0880, Valid Accuracy: 0.9711\n"
     ]
    },
    {
     "data": {
      "application/vnd.jupyter.widget-view+json": {
       "model_id": "3ec2c1238ecd44748ed7a20802304530",
       "version_major": 2,
       "version_minor": 0
      },
      "text/plain": [
       "  0%|          | 0/404 [00:00<?, ?it/s]"
      ]
     },
     "metadata": {},
     "output_type": "display_data"
    },
    {
     "data": {
      "application/vnd.jupyter.widget-view+json": {
       "model_id": "66ac58e433db4ef89a1198791bcfa7e9",
       "version_major": 2,
       "version_minor": 0
      },
      "text/plain": [
       "  0%|          | 0/101 [00:00<?, ?it/s]"
      ]
     },
     "metadata": {},
     "output_type": "display_data"
    },
    {
     "name": "stdout",
     "output_type": "stream",
     "text": [
      "Epoch [42/100], Train Loss: 0.0262, Train Accuracy: 0.9909 Valid Loss: 0.2692, Valid Accuracy: 0.9273\n"
     ]
    },
    {
     "data": {
      "application/vnd.jupyter.widget-view+json": {
       "model_id": "caef9ce8236c4369861200b6715498ac",
       "version_major": 2,
       "version_minor": 0
      },
      "text/plain": [
       "  0%|          | 0/404 [00:00<?, ?it/s]"
      ]
     },
     "metadata": {},
     "output_type": "display_data"
    },
    {
     "data": {
      "application/vnd.jupyter.widget-view+json": {
       "model_id": "0684039c4e354dbdad187d89cfb425bc",
       "version_major": 2,
       "version_minor": 0
      },
      "text/plain": [
       "  0%|          | 0/101 [00:00<?, ?it/s]"
      ]
     },
     "metadata": {},
     "output_type": "display_data"
    },
    {
     "name": "stdout",
     "output_type": "stream",
     "text": [
      "Epoch [43/100], Train Loss: 0.0294, Train Accuracy: 0.9899 Valid Loss: 0.0775, Valid Accuracy: 0.9770\n"
     ]
    },
    {
     "data": {
      "application/vnd.jupyter.widget-view+json": {
       "model_id": "f6d34be1e90e49fab879e131d5e6e296",
       "version_major": 2,
       "version_minor": 0
      },
      "text/plain": [
       "  0%|          | 0/404 [00:00<?, ?it/s]"
      ]
     },
     "metadata": {},
     "output_type": "display_data"
    },
    {
     "data": {
      "application/vnd.jupyter.widget-view+json": {
       "model_id": "fc6c11d809ad4dc0bccd2c10b1b886be",
       "version_major": 2,
       "version_minor": 0
      },
      "text/plain": [
       "  0%|          | 0/101 [00:00<?, ?it/s]"
      ]
     },
     "metadata": {},
     "output_type": "display_data"
    },
    {
     "name": "stdout",
     "output_type": "stream",
     "text": [
      "Epoch [44/100], Train Loss: 0.0237, Train Accuracy: 0.9919 Valid Loss: 0.0939, Valid Accuracy: 0.9708\n"
     ]
    },
    {
     "data": {
      "application/vnd.jupyter.widget-view+json": {
       "model_id": "3778dd42cf504976ba49280c93b84f08",
       "version_major": 2,
       "version_minor": 0
      },
      "text/plain": [
       "  0%|          | 0/404 [00:00<?, ?it/s]"
      ]
     },
     "metadata": {},
     "output_type": "display_data"
    },
    {
     "data": {
      "application/vnd.jupyter.widget-view+json": {
       "model_id": "1da937cba042476caa083d73b75b2618",
       "version_major": 2,
       "version_minor": 0
      },
      "text/plain": [
       "  0%|          | 0/101 [00:00<?, ?it/s]"
      ]
     },
     "metadata": {},
     "output_type": "display_data"
    },
    {
     "name": "stdout",
     "output_type": "stream",
     "text": [
      "Epoch [45/100], Train Loss: 0.0201, Train Accuracy: 0.9932 Valid Loss: 0.5039, Valid Accuracy: 0.8626\n",
      "Early Stopping\n"
     ]
    }
   ],
   "source": [
    "model = training_loop(model, train_dataloader, train_dataset, valid_dataloader, valid_dataset, criterion, optimizer, 100)"
   ]
  },
  {
   "cell_type": "markdown",
   "metadata": {},
   "source": [
    "# Test"
   ]
  },
  {
   "cell_type": "code",
   "execution_count": null,
   "metadata": {},
   "outputs": [
    {
     "ename": "NameError",
     "evalue": "name 'test_dataloader' is not defined",
     "output_type": "error",
     "traceback": [
      "\u001b[0;31m---------------------------------------------------------------------------\u001b[0m",
      "\u001b[0;31mNameError\u001b[0m                                 Traceback (most recent call last)",
      "Cell \u001b[0;32mIn[19], line 8\u001b[0m\n\u001b[1;32m      5\u001b[0m all_preds \u001b[38;5;241m=\u001b[39m []\n\u001b[1;32m      7\u001b[0m \u001b[38;5;28;01mwith\u001b[39;00m torch\u001b[38;5;241m.\u001b[39mno_grad():\n\u001b[0;32m----> 8\u001b[0m     tbar \u001b[38;5;241m=\u001b[39m tqdm(\u001b[43mtest_dataloader\u001b[49m)\n\u001b[1;32m      9\u001b[0m     \u001b[38;5;28;01mfor\u001b[39;00m images, labels \u001b[38;5;129;01min\u001b[39;00m tbar:\n\u001b[1;32m     10\u001b[0m         images, labels \u001b[38;5;241m=\u001b[39m images\u001b[38;5;241m.\u001b[39mto(device), labels\u001b[38;5;241m.\u001b[39mto(device)\n",
      "\u001b[0;31mNameError\u001b[0m: name 'test_dataloader' is not defined"
     ]
    }
   ],
   "source": [
    "model.eval()\n",
    "test_loss = 0.0\n",
    "test_accuracy = 0\n",
    "\n",
    "all_preds = []\n",
    "\n",
    "with torch.no_grad():\n",
    "    tbar = tqdm(test_dataloader)\n",
    "    for images, labels in tbar:\n",
    "        images, labels = images.to(device), labels.to(device)\n",
    "        outputs = model(images)\n",
    "        loss = criterion(outputs, labels)\n",
    "\n",
    "        test_loss += loss.item()\n",
    "        max_prob, predicted = torch.max(outputs, 1)\n",
    "        test_accuracy += (predicted == labels).sum().item()\n",
    "\n",
    "        all_preds.extend(predicted)\n",
    "\n",
    "test_loss = test_loss / len(test_dataloader)\n",
    "test_accuracy = test_accuracy / len(test_dataset)\n",
    "\n",
    "print(f'Test Loss: {test_loss:.4f}, Test Accuracy: {test_accuracy:.4f}')"
   ]
  },
  {
   "cell_type": "code",
   "execution_count": null,
   "metadata": {},
   "outputs": [],
   "source": [
    "plt.figure(figsize=(20, 20))\n",
    "\n",
    "for i in range(20, 40):\n",
    "    ax = plt.subplot(4, 5, (i%20)+1)\n",
    "\n",
    "    plt.imshow(test_dataset[i][0].permute(1, 2, 0))\n",
    "    plt.title(f'real: {test_dataset[i][1]}\\npred: {all_preds[i].cpu()}')"
   ]
  },
  {
   "cell_type": "markdown",
   "metadata": {},
   "source": [
    "# Submission"
   ]
  },
  {
   "cell_type": "code",
   "execution_count": 5,
   "metadata": {},
   "outputs": [],
   "source": [
    "model = timm.create_model(\n",
    "    'resnet34',\n",
    "    pretrained=True,\n",
    "    num_classes=17\n",
    ").to(device)\n",
    "model.load_state_dict(torch.load('/data/ephemeral/home/model/models/model_v3_4_last.pt'))\n",
    "\n",
    "criterion = torch.nn.CrossEntropyLoss()"
   ]
  },
  {
   "cell_type": "code",
   "execution_count": 6,
   "metadata": {},
   "outputs": [],
   "source": [
    "class sub_customdataset(torch.utils.data.Dataset):\n",
    "    def __init__(self, csv, path, transforms):\n",
    "        super().__init__()\n",
    "        self.df = pd.read_csv(csv).values\n",
    "        self.path = path\n",
    "        self.transforms = transforms\n",
    "\n",
    "    def __len__(self):\n",
    "        return len(self.df)\n",
    "    \n",
    "    def __getitem__(self, idx):\n",
    "        name, target = self.df[idx]\n",
    "        img = np.array(Image.open(os.path.join(self.path, name)))\n",
    "        img = self.transforms(img)\n",
    "    \n",
    "        return img, target"
   ]
  },
  {
   "cell_type": "code",
   "execution_count": 7,
   "metadata": {},
   "outputs": [],
   "source": [
    "transforms = T.Compose([\n",
    "    T.ToTensor(),\n",
    "    T.Resize((600, 600))\n",
    "])\n",
    "\n",
    "sub_dataset = sub_customdataset('/data/ephemeral/home/data/sample_submission.csv', '/data/ephemeral/home/data/test/', transforms=transforms)"
   ]
  },
  {
   "cell_type": "code",
   "execution_count": 8,
   "metadata": {},
   "outputs": [],
   "source": [
    "batch_size = 100\n",
    "\n",
    "sub_dataloader = torch.utils.data.DataLoader(sub_dataset, batch_size=batch_size, shuffle=False, num_workers=16)"
   ]
  },
  {
   "cell_type": "code",
   "execution_count": 20,
   "metadata": {},
   "outputs": [
    {
     "data": {
      "application/vnd.jupyter.widget-view+json": {
       "model_id": "8a7611a0b61d46e6b375228b93319f61",
       "version_major": 2,
       "version_minor": 0
      },
      "text/plain": [
       "  0%|          | 0/32 [00:00<?, ?it/s]"
      ]
     },
     "metadata": {},
     "output_type": "display_data"
    }
   ],
   "source": [
    "model.eval()\n",
    "\n",
    "all_preds = []\n",
    "all_labels = []\n",
    "all_images = []\n",
    "\n",
    "with torch.no_grad():\n",
    "    tbar = tqdm(sub_dataloader)\n",
    "    for images, labels in tbar:\n",
    "        images, labels = images.to(device), labels.to(device)\n",
    "        outputs = model(images)\n",
    "\n",
    "        max_prob, predicted = torch.max(outputs, 1)\n",
    "\n",
    "        all_preds.extend(predicted)\n",
    "        all_labels.extend(labels)\n",
    "        all_images.extend(images)\n"
   ]
  },
  {
   "cell_type": "code",
   "execution_count": 21,
   "metadata": {},
   "outputs": [
    {
     "data": {
      "text/plain": [
       "[tensor(2, device='cuda:0'),\n",
       " tensor(10, device='cuda:0'),\n",
       " tensor(5, device='cuda:0'),\n",
       " tensor(4, device='cuda:0'),\n",
       " tensor(2, device='cuda:0'),\n",
       " tensor(15, device='cuda:0'),\n",
       " tensor(0, device='cuda:0'),\n",
       " tensor(8, device='cuda:0'),\n",
       " tensor(15, device='cuda:0'),\n",
       " tensor(11, device='cuda:0'),\n",
       " tensor(5, device='cuda:0'),\n",
       " tensor(4, device='cuda:0'),\n",
       " tensor(16, device='cuda:0'),\n",
       " tensor(9, device='cuda:0'),\n",
       " tensor(3, device='cuda:0'),\n",
       " tensor(4, device='cuda:0'),\n",
       " tensor(4, device='cuda:0'),\n",
       " tensor(5, device='cuda:0'),\n",
       " tensor(13, device='cuda:0'),\n",
       " tensor(10, device='cuda:0'),\n",
       " tensor(12, device='cuda:0'),\n",
       " tensor(12, device='cuda:0'),\n",
       " tensor(1, device='cuda:0'),\n",
       " tensor(15, device='cuda:0'),\n",
       " tensor(3, device='cuda:0'),\n",
       " tensor(0, device='cuda:0'),\n",
       " tensor(14, device='cuda:0'),\n",
       " tensor(13, device='cuda:0'),\n",
       " tensor(13, device='cuda:0'),\n",
       " tensor(6, device='cuda:0'),\n",
       " tensor(3, device='cuda:0'),\n",
       " tensor(13, device='cuda:0'),\n",
       " tensor(13, device='cuda:0'),\n",
       " tensor(2, device='cuda:0'),\n",
       " tensor(5, device='cuda:0'),\n",
       " tensor(16, device='cuda:0'),\n",
       " tensor(13, device='cuda:0'),\n",
       " tensor(14, device='cuda:0'),\n",
       " tensor(4, device='cuda:0'),\n",
       " tensor(13, device='cuda:0'),\n",
       " tensor(5, device='cuda:0'),\n",
       " tensor(9, device='cuda:0'),\n",
       " tensor(3, device='cuda:0'),\n",
       " tensor(9, device='cuda:0'),\n",
       " tensor(0, device='cuda:0'),\n",
       " tensor(8, device='cuda:0'),\n",
       " tensor(5, device='cuda:0'),\n",
       " tensor(7, device='cuda:0'),\n",
       " tensor(4, device='cuda:0'),\n",
       " tensor(3, device='cuda:0'),\n",
       " tensor(10, device='cuda:0'),\n",
       " tensor(10, device='cuda:0'),\n",
       " tensor(10, device='cuda:0'),\n",
       " tensor(10, device='cuda:0'),\n",
       " tensor(4, device='cuda:0'),\n",
       " tensor(12, device='cuda:0'),\n",
       " tensor(9, device='cuda:0'),\n",
       " tensor(5, device='cuda:0'),\n",
       " tensor(13, device='cuda:0'),\n",
       " tensor(13, device='cuda:0'),\n",
       " tensor(12, device='cuda:0'),\n",
       " tensor(7, device='cuda:0'),\n",
       " tensor(7, device='cuda:0'),\n",
       " tensor(5, device='cuda:0'),\n",
       " tensor(6, device='cuda:0'),\n",
       " tensor(4, device='cuda:0'),\n",
       " tensor(5, device='cuda:0'),\n",
       " tensor(4, device='cuda:0'),\n",
       " tensor(4, device='cuda:0'),\n",
       " tensor(6, device='cuda:0'),\n",
       " tensor(7, device='cuda:0'),\n",
       " tensor(10, device='cuda:0'),\n",
       " tensor(8, device='cuda:0'),\n",
       " tensor(15, device='cuda:0'),\n",
       " tensor(13, device='cuda:0'),\n",
       " tensor(15, device='cuda:0'),\n",
       " tensor(4, device='cuda:0'),\n",
       " tensor(12, device='cuda:0'),\n",
       " tensor(12, device='cuda:0'),\n",
       " tensor(3, device='cuda:0'),\n",
       " tensor(8, device='cuda:0'),\n",
       " tensor(9, device='cuda:0'),\n",
       " tensor(9, device='cuda:0'),\n",
       " tensor(14, device='cuda:0'),\n",
       " tensor(4, device='cuda:0'),\n",
       " tensor(10, device='cuda:0'),\n",
       " tensor(5, device='cuda:0'),\n",
       " tensor(13, device='cuda:0'),\n",
       " tensor(10, device='cuda:0'),\n",
       " tensor(0, device='cuda:0'),\n",
       " tensor(10, device='cuda:0'),\n",
       " tensor(8, device='cuda:0'),\n",
       " tensor(4, device='cuda:0'),\n",
       " tensor(15, device='cuda:0'),\n",
       " tensor(4, device='cuda:0'),\n",
       " tensor(16, device='cuda:0'),\n",
       " tensor(4, device='cuda:0'),\n",
       " tensor(11, device='cuda:0'),\n",
       " tensor(14, device='cuda:0'),\n",
       " tensor(16, device='cuda:0'),\n",
       " tensor(4, device='cuda:0'),\n",
       " tensor(4, device='cuda:0'),\n",
       " tensor(13, device='cuda:0'),\n",
       " tensor(1, device='cuda:0'),\n",
       " tensor(15, device='cuda:0'),\n",
       " tensor(11, device='cuda:0'),\n",
       " tensor(2, device='cuda:0'),\n",
       " tensor(6, device='cuda:0'),\n",
       " tensor(16, device='cuda:0'),\n",
       " tensor(3, device='cuda:0'),\n",
       " tensor(6, device='cuda:0'),\n",
       " tensor(2, device='cuda:0'),\n",
       " tensor(14, device='cuda:0'),\n",
       " tensor(4, device='cuda:0'),\n",
       " tensor(12, device='cuda:0'),\n",
       " tensor(16, device='cuda:0'),\n",
       " tensor(2, device='cuda:0'),\n",
       " tensor(7, device='cuda:0'),\n",
       " tensor(3, device='cuda:0'),\n",
       " tensor(4, device='cuda:0'),\n",
       " tensor(2, device='cuda:0'),\n",
       " tensor(10, device='cuda:0'),\n",
       " tensor(5, device='cuda:0'),\n",
       " tensor(8, device='cuda:0'),\n",
       " tensor(10, device='cuda:0'),\n",
       " tensor(6, device='cuda:0'),\n",
       " tensor(4, device='cuda:0'),\n",
       " tensor(4, device='cuda:0'),\n",
       " tensor(4, device='cuda:0'),\n",
       " tensor(6, device='cuda:0'),\n",
       " tensor(5, device='cuda:0'),\n",
       " tensor(14, device='cuda:0'),\n",
       " tensor(15, device='cuda:0'),\n",
       " tensor(10, device='cuda:0'),\n",
       " tensor(16, device='cuda:0'),\n",
       " tensor(16, device='cuda:0'),\n",
       " tensor(3, device='cuda:0'),\n",
       " tensor(6, device='cuda:0'),\n",
       " tensor(12, device='cuda:0'),\n",
       " tensor(8, device='cuda:0'),\n",
       " tensor(4, device='cuda:0'),\n",
       " tensor(7, device='cuda:0'),\n",
       " tensor(7, device='cuda:0'),\n",
       " tensor(2, device='cuda:0'),\n",
       " tensor(12, device='cuda:0'),\n",
       " tensor(8, device='cuda:0'),\n",
       " tensor(3, device='cuda:0'),\n",
       " tensor(5, device='cuda:0'),\n",
       " tensor(9, device='cuda:0'),\n",
       " tensor(3, device='cuda:0'),\n",
       " tensor(6, device='cuda:0'),\n",
       " tensor(8, device='cuda:0'),\n",
       " tensor(16, device='cuda:0'),\n",
       " tensor(12, device='cuda:0'),\n",
       " tensor(11, device='cuda:0'),\n",
       " tensor(16, device='cuda:0'),\n",
       " tensor(9, device='cuda:0'),\n",
       " tensor(15, device='cuda:0'),\n",
       " tensor(6, device='cuda:0'),\n",
       " tensor(10, device='cuda:0'),\n",
       " tensor(5, device='cuda:0'),\n",
       " tensor(5, device='cuda:0'),\n",
       " tensor(10, device='cuda:0'),\n",
       " tensor(10, device='cuda:0'),\n",
       " tensor(16, device='cuda:0'),\n",
       " tensor(7, device='cuda:0'),\n",
       " tensor(9, device='cuda:0'),\n",
       " tensor(12, device='cuda:0'),\n",
       " tensor(16, device='cuda:0'),\n",
       " tensor(5, device='cuda:0'),\n",
       " tensor(2, device='cuda:0'),\n",
       " tensor(10, device='cuda:0'),\n",
       " tensor(10, device='cuda:0'),\n",
       " tensor(16, device='cuda:0'),\n",
       " tensor(9, device='cuda:0'),\n",
       " tensor(7, device='cuda:0'),\n",
       " tensor(16, device='cuda:0'),\n",
       " tensor(16, device='cuda:0'),\n",
       " tensor(3, device='cuda:0'),\n",
       " tensor(4, device='cuda:0'),\n",
       " tensor(16, device='cuda:0'),\n",
       " tensor(15, device='cuda:0'),\n",
       " tensor(9, device='cuda:0'),\n",
       " tensor(9, device='cuda:0'),\n",
       " tensor(2, device='cuda:0'),\n",
       " tensor(4, device='cuda:0'),\n",
       " tensor(11, device='cuda:0'),\n",
       " tensor(4, device='cuda:0'),\n",
       " tensor(9, device='cuda:0'),\n",
       " tensor(0, device='cuda:0'),\n",
       " tensor(4, device='cuda:0'),\n",
       " tensor(13, device='cuda:0'),\n",
       " tensor(16, device='cuda:0'),\n",
       " tensor(5, device='cuda:0'),\n",
       " tensor(14, device='cuda:0'),\n",
       " tensor(3, device='cuda:0'),\n",
       " tensor(5, device='cuda:0'),\n",
       " tensor(12, device='cuda:0'),\n",
       " tensor(6, device='cuda:0'),\n",
       " tensor(4, device='cuda:0'),\n",
       " tensor(13, device='cuda:0'),\n",
       " tensor(2, device='cuda:0'),\n",
       " tensor(6, device='cuda:0'),\n",
       " tensor(13, device='cuda:0'),\n",
       " tensor(16, device='cuda:0'),\n",
       " tensor(4, device='cuda:0'),\n",
       " tensor(8, device='cuda:0'),\n",
       " tensor(9, device='cuda:0'),\n",
       " tensor(3, device='cuda:0'),\n",
       " tensor(10, device='cuda:0'),\n",
       " tensor(5, device='cuda:0'),\n",
       " tensor(1, device='cuda:0'),\n",
       " tensor(4, device='cuda:0'),\n",
       " tensor(4, device='cuda:0'),\n",
       " tensor(12, device='cuda:0'),\n",
       " tensor(2, device='cuda:0'),\n",
       " tensor(0, device='cuda:0'),\n",
       " tensor(7, device='cuda:0'),\n",
       " tensor(0, device='cuda:0'),\n",
       " tensor(13, device='cuda:0'),\n",
       " tensor(12, device='cuda:0'),\n",
       " tensor(0, device='cuda:0'),\n",
       " tensor(16, device='cuda:0'),\n",
       " tensor(4, device='cuda:0'),\n",
       " tensor(12, device='cuda:0'),\n",
       " tensor(5, device='cuda:0'),\n",
       " tensor(7, device='cuda:0'),\n",
       " tensor(0, device='cuda:0'),\n",
       " tensor(14, device='cuda:0'),\n",
       " tensor(6, device='cuda:0'),\n",
       " tensor(0, device='cuda:0'),\n",
       " tensor(4, device='cuda:0'),\n",
       " tensor(12, device='cuda:0'),\n",
       " tensor(12, device='cuda:0'),\n",
       " tensor(9, device='cuda:0'),\n",
       " tensor(4, device='cuda:0'),\n",
       " tensor(9, device='cuda:0'),\n",
       " tensor(10, device='cuda:0'),\n",
       " tensor(9, device='cuda:0'),\n",
       " tensor(3, device='cuda:0'),\n",
       " tensor(10, device='cuda:0'),\n",
       " tensor(4, device='cuda:0'),\n",
       " tensor(9, device='cuda:0'),\n",
       " tensor(10, device='cuda:0'),\n",
       " tensor(12, device='cuda:0'),\n",
       " tensor(0, device='cuda:0'),\n",
       " tensor(10, device='cuda:0'),\n",
       " tensor(11, device='cuda:0'),\n",
       " tensor(12, device='cuda:0'),\n",
       " tensor(6, device='cuda:0'),\n",
       " tensor(4, device='cuda:0'),\n",
       " tensor(7, device='cuda:0'),\n",
       " tensor(4, device='cuda:0'),\n",
       " tensor(4, device='cuda:0'),\n",
       " tensor(14, device='cuda:0'),\n",
       " tensor(15, device='cuda:0'),\n",
       " tensor(4, device='cuda:0'),\n",
       " tensor(12, device='cuda:0'),\n",
       " tensor(12, device='cuda:0'),\n",
       " tensor(4, device='cuda:0'),\n",
       " tensor(14, device='cuda:0'),\n",
       " tensor(15, device='cuda:0'),\n",
       " tensor(13, device='cuda:0'),\n",
       " tensor(4, device='cuda:0'),\n",
       " tensor(12, device='cuda:0'),\n",
       " tensor(12, device='cuda:0'),\n",
       " tensor(1, device='cuda:0'),\n",
       " tensor(4, device='cuda:0'),\n",
       " tensor(9, device='cuda:0'),\n",
       " tensor(0, device='cuda:0'),\n",
       " tensor(3, device='cuda:0'),\n",
       " tensor(4, device='cuda:0'),\n",
       " tensor(4, device='cuda:0'),\n",
       " tensor(5, device='cuda:0'),\n",
       " tensor(0, device='cuda:0'),\n",
       " tensor(0, device='cuda:0'),\n",
       " tensor(4, device='cuda:0'),\n",
       " tensor(0, device='cuda:0'),\n",
       " tensor(9, device='cuda:0'),\n",
       " tensor(12, device='cuda:0'),\n",
       " tensor(1, device='cuda:0'),\n",
       " tensor(4, device='cuda:0'),\n",
       " tensor(4, device='cuda:0'),\n",
       " tensor(10, device='cuda:0'),\n",
       " tensor(12, device='cuda:0'),\n",
       " tensor(4, device='cuda:0'),\n",
       " tensor(15, device='cuda:0'),\n",
       " tensor(9, device='cuda:0'),\n",
       " tensor(4, device='cuda:0'),\n",
       " tensor(15, device='cuda:0'),\n",
       " tensor(9, device='cuda:0'),\n",
       " tensor(4, device='cuda:0'),\n",
       " tensor(8, device='cuda:0'),\n",
       " tensor(3, device='cuda:0'),\n",
       " tensor(15, device='cuda:0'),\n",
       " tensor(1, device='cuda:0'),\n",
       " tensor(9, device='cuda:0'),\n",
       " tensor(4, device='cuda:0'),\n",
       " tensor(8, device='cuda:0'),\n",
       " tensor(4, device='cuda:0'),\n",
       " tensor(14, device='cuda:0'),\n",
       " tensor(11, device='cuda:0'),\n",
       " tensor(4, device='cuda:0'),\n",
       " tensor(5, device='cuda:0'),\n",
       " tensor(13, device='cuda:0'),\n",
       " tensor(4, device='cuda:0'),\n",
       " tensor(13, device='cuda:0'),\n",
       " tensor(15, device='cuda:0'),\n",
       " tensor(13, device='cuda:0'),\n",
       " tensor(9, device='cuda:0'),\n",
       " tensor(4, device='cuda:0'),\n",
       " tensor(6, device='cuda:0'),\n",
       " tensor(2, device='cuda:0'),\n",
       " tensor(16, device='cuda:0'),\n",
       " tensor(4, device='cuda:0'),\n",
       " tensor(4, device='cuda:0'),\n",
       " tensor(12, device='cuda:0'),\n",
       " tensor(15, device='cuda:0'),\n",
       " tensor(8, device='cuda:0'),\n",
       " tensor(15, device='cuda:0'),\n",
       " tensor(13, device='cuda:0'),\n",
       " tensor(15, device='cuda:0'),\n",
       " tensor(11, device='cuda:0'),\n",
       " tensor(10, device='cuda:0'),\n",
       " tensor(2, device='cuda:0'),\n",
       " tensor(12, device='cuda:0'),\n",
       " tensor(16, device='cuda:0'),\n",
       " tensor(6, device='cuda:0'),\n",
       " tensor(5, device='cuda:0'),\n",
       " tensor(9, device='cuda:0'),\n",
       " tensor(16, device='cuda:0'),\n",
       " tensor(11, device='cuda:0'),\n",
       " tensor(16, device='cuda:0'),\n",
       " tensor(0, device='cuda:0'),\n",
       " tensor(16, device='cuda:0'),\n",
       " tensor(9, device='cuda:0'),\n",
       " tensor(15, device='cuda:0'),\n",
       " tensor(10, device='cuda:0'),\n",
       " tensor(6, device='cuda:0'),\n",
       " tensor(6, device='cuda:0'),\n",
       " tensor(1, device='cuda:0'),\n",
       " tensor(15, device='cuda:0'),\n",
       " tensor(1, device='cuda:0'),\n",
       " tensor(12, device='cuda:0'),\n",
       " tensor(5, device='cuda:0'),\n",
       " tensor(4, device='cuda:0'),\n",
       " tensor(4, device='cuda:0'),\n",
       " tensor(13, device='cuda:0'),\n",
       " tensor(7, device='cuda:0'),\n",
       " tensor(3, device='cuda:0'),\n",
       " tensor(16, device='cuda:0'),\n",
       " tensor(10, device='cuda:0'),\n",
       " tensor(4, device='cuda:0'),\n",
       " tensor(3, device='cuda:0'),\n",
       " tensor(5, device='cuda:0'),\n",
       " tensor(7, device='cuda:0'),\n",
       " tensor(12, device='cuda:0'),\n",
       " tensor(7, device='cuda:0'),\n",
       " tensor(7, device='cuda:0'),\n",
       " tensor(6, device='cuda:0'),\n",
       " tensor(4, device='cuda:0'),\n",
       " tensor(7, device='cuda:0'),\n",
       " tensor(4, device='cuda:0'),\n",
       " tensor(10, device='cuda:0'),\n",
       " tensor(3, device='cuda:0'),\n",
       " tensor(4, device='cuda:0'),\n",
       " tensor(12, device='cuda:0'),\n",
       " tensor(10, device='cuda:0'),\n",
       " tensor(5, device='cuda:0'),\n",
       " tensor(9, device='cuda:0'),\n",
       " tensor(15, device='cuda:0'),\n",
       " tensor(13, device='cuda:0'),\n",
       " tensor(12, device='cuda:0'),\n",
       " tensor(10, device='cuda:0'),\n",
       " tensor(9, device='cuda:0'),\n",
       " tensor(1, device='cuda:0'),\n",
       " tensor(8, device='cuda:0'),\n",
       " tensor(3, device='cuda:0'),\n",
       " tensor(4, device='cuda:0'),\n",
       " tensor(4, device='cuda:0'),\n",
       " tensor(6, device='cuda:0'),\n",
       " tensor(0, device='cuda:0'),\n",
       " tensor(6, device='cuda:0'),\n",
       " tensor(4, device='cuda:0'),\n",
       " tensor(16, device='cuda:0'),\n",
       " tensor(10, device='cuda:0'),\n",
       " tensor(4, device='cuda:0'),\n",
       " tensor(9, device='cuda:0'),\n",
       " tensor(0, device='cuda:0'),\n",
       " tensor(13, device='cuda:0'),\n",
       " tensor(9, device='cuda:0'),\n",
       " tensor(2, device='cuda:0'),\n",
       " tensor(7, device='cuda:0'),\n",
       " tensor(3, device='cuda:0'),\n",
       " tensor(1, device='cuda:0'),\n",
       " tensor(7, device='cuda:0'),\n",
       " tensor(0, device='cuda:0'),\n",
       " tensor(2, device='cuda:0'),\n",
       " tensor(4, device='cuda:0'),\n",
       " tensor(12, device='cuda:0'),\n",
       " tensor(16, device='cuda:0'),\n",
       " tensor(0, device='cuda:0'),\n",
       " tensor(15, device='cuda:0'),\n",
       " tensor(16, device='cuda:0'),\n",
       " tensor(9, device='cuda:0'),\n",
       " tensor(12, device='cuda:0'),\n",
       " tensor(11, device='cuda:0'),\n",
       " tensor(10, device='cuda:0'),\n",
       " tensor(5, device='cuda:0'),\n",
       " tensor(12, device='cuda:0'),\n",
       " tensor(16, device='cuda:0'),\n",
       " tensor(4, device='cuda:0'),\n",
       " tensor(10, device='cuda:0'),\n",
       " tensor(2, device='cuda:0'),\n",
       " tensor(10, device='cuda:0'),\n",
       " tensor(16, device='cuda:0'),\n",
       " tensor(4, device='cuda:0'),\n",
       " tensor(7, device='cuda:0'),\n",
       " tensor(11, device='cuda:0'),\n",
       " tensor(4, device='cuda:0'),\n",
       " tensor(10, device='cuda:0'),\n",
       " tensor(3, device='cuda:0'),\n",
       " tensor(13, device='cuda:0'),\n",
       " tensor(10, device='cuda:0'),\n",
       " tensor(3, device='cuda:0'),\n",
       " tensor(4, device='cuda:0'),\n",
       " tensor(5, device='cuda:0'),\n",
       " tensor(7, device='cuda:0'),\n",
       " tensor(4, device='cuda:0'),\n",
       " tensor(9, device='cuda:0'),\n",
       " tensor(4, device='cuda:0'),\n",
       " tensor(14, device='cuda:0'),\n",
       " tensor(8, device='cuda:0'),\n",
       " tensor(9, device='cuda:0'),\n",
       " tensor(12, device='cuda:0'),\n",
       " tensor(3, device='cuda:0'),\n",
       " tensor(11, device='cuda:0'),\n",
       " tensor(16, device='cuda:0'),\n",
       " tensor(4, device='cuda:0'),\n",
       " tensor(5, device='cuda:0'),\n",
       " tensor(16, device='cuda:0'),\n",
       " tensor(4, device='cuda:0'),\n",
       " tensor(3, device='cuda:0'),\n",
       " tensor(1, device='cuda:0'),\n",
       " tensor(0, device='cuda:0'),\n",
       " tensor(12, device='cuda:0'),\n",
       " tensor(0, device='cuda:0'),\n",
       " tensor(0, device='cuda:0'),\n",
       " tensor(9, device='cuda:0'),\n",
       " tensor(11, device='cuda:0'),\n",
       " tensor(15, device='cuda:0'),\n",
       " tensor(4, device='cuda:0'),\n",
       " tensor(4, device='cuda:0'),\n",
       " tensor(2, device='cuda:0'),\n",
       " tensor(4, device='cuda:0'),\n",
       " tensor(7, device='cuda:0'),\n",
       " tensor(4, device='cuda:0'),\n",
       " tensor(11, device='cuda:0'),\n",
       " tensor(14, device='cuda:0'),\n",
       " tensor(2, device='cuda:0'),\n",
       " tensor(3, device='cuda:0'),\n",
       " tensor(4, device='cuda:0'),\n",
       " tensor(12, device='cuda:0'),\n",
       " tensor(2, device='cuda:0'),\n",
       " tensor(9, device='cuda:0'),\n",
       " tensor(2, device='cuda:0'),\n",
       " tensor(9, device='cuda:0'),\n",
       " tensor(2, device='cuda:0'),\n",
       " tensor(10, device='cuda:0'),\n",
       " tensor(5, device='cuda:0'),\n",
       " tensor(12, device='cuda:0'),\n",
       " tensor(4, device='cuda:0'),\n",
       " tensor(7, device='cuda:0'),\n",
       " tensor(7, device='cuda:0'),\n",
       " tensor(8, device='cuda:0'),\n",
       " tensor(0, device='cuda:0'),\n",
       " tensor(16, device='cuda:0'),\n",
       " tensor(10, device='cuda:0'),\n",
       " tensor(9, device='cuda:0'),\n",
       " tensor(15, device='cuda:0'),\n",
       " tensor(10, device='cuda:0'),\n",
       " tensor(3, device='cuda:0'),\n",
       " tensor(0, device='cuda:0'),\n",
       " tensor(8, device='cuda:0'),\n",
       " tensor(13, device='cuda:0'),\n",
       " tensor(3, device='cuda:0'),\n",
       " tensor(15, device='cuda:0'),\n",
       " tensor(6, device='cuda:0'),\n",
       " tensor(10, device='cuda:0'),\n",
       " tensor(10, device='cuda:0'),\n",
       " tensor(12, device='cuda:0'),\n",
       " tensor(7, device='cuda:0'),\n",
       " tensor(16, device='cuda:0'),\n",
       " tensor(3, device='cuda:0'),\n",
       " tensor(7, device='cuda:0'),\n",
       " tensor(6, device='cuda:0'),\n",
       " tensor(9, device='cuda:0'),\n",
       " tensor(10, device='cuda:0'),\n",
       " tensor(8, device='cuda:0'),\n",
       " tensor(16, device='cuda:0'),\n",
       " tensor(6, device='cuda:0'),\n",
       " tensor(4, device='cuda:0'),\n",
       " tensor(12, device='cuda:0'),\n",
       " tensor(0, device='cuda:0'),\n",
       " tensor(4, device='cuda:0'),\n",
       " tensor(0, device='cuda:0'),\n",
       " tensor(7, device='cuda:0'),\n",
       " tensor(8, device='cuda:0'),\n",
       " tensor(6, device='cuda:0'),\n",
       " tensor(12, device='cuda:0'),\n",
       " tensor(13, device='cuda:0'),\n",
       " tensor(2, device='cuda:0'),\n",
       " tensor(8, device='cuda:0'),\n",
       " tensor(10, device='cuda:0'),\n",
       " tensor(15, device='cuda:0'),\n",
       " tensor(3, device='cuda:0'),\n",
       " tensor(3, device='cuda:0'),\n",
       " tensor(15, device='cuda:0'),\n",
       " tensor(10, device='cuda:0'),\n",
       " tensor(16, device='cuda:0'),\n",
       " tensor(4, device='cuda:0'),\n",
       " tensor(8, device='cuda:0'),\n",
       " tensor(4, device='cuda:0'),\n",
       " tensor(14, device='cuda:0'),\n",
       " tensor(7, device='cuda:0'),\n",
       " tensor(4, device='cuda:0'),\n",
       " tensor(4, device='cuda:0'),\n",
       " tensor(2, device='cuda:0'),\n",
       " tensor(13, device='cuda:0'),\n",
       " tensor(5, device='cuda:0'),\n",
       " tensor(0, device='cuda:0'),\n",
       " tensor(4, device='cuda:0'),\n",
       " tensor(9, device='cuda:0'),\n",
       " tensor(16, device='cuda:0'),\n",
       " tensor(7, device='cuda:0'),\n",
       " tensor(0, device='cuda:0'),\n",
       " tensor(4, device='cuda:0'),\n",
       " tensor(10, device='cuda:0'),\n",
       " tensor(3, device='cuda:0'),\n",
       " tensor(14, device='cuda:0'),\n",
       " tensor(11, device='cuda:0'),\n",
       " tensor(10, device='cuda:0'),\n",
       " tensor(2, device='cuda:0'),\n",
       " tensor(12, device='cuda:0'),\n",
       " tensor(12, device='cuda:0'),\n",
       " tensor(15, device='cuda:0'),\n",
       " tensor(11, device='cuda:0'),\n",
       " tensor(3, device='cuda:0'),\n",
       " tensor(5, device='cuda:0'),\n",
       " tensor(2, device='cuda:0'),\n",
       " tensor(7, device='cuda:0'),\n",
       " tensor(16, device='cuda:0'),\n",
       " tensor(13, device='cuda:0'),\n",
       " tensor(15, device='cuda:0'),\n",
       " tensor(5, device='cuda:0'),\n",
       " tensor(2, device='cuda:0'),\n",
       " tensor(8, device='cuda:0'),\n",
       " tensor(4, device='cuda:0'),\n",
       " tensor(2, device='cuda:0'),\n",
       " tensor(7, device='cuda:0'),\n",
       " tensor(15, device='cuda:0'),\n",
       " tensor(9, device='cuda:0'),\n",
       " tensor(4, device='cuda:0'),\n",
       " tensor(4, device='cuda:0'),\n",
       " tensor(9, device='cuda:0'),\n",
       " tensor(9, device='cuda:0'),\n",
       " tensor(3, device='cuda:0'),\n",
       " tensor(7, device='cuda:0'),\n",
       " tensor(12, device='cuda:0'),\n",
       " tensor(15, device='cuda:0'),\n",
       " tensor(4, device='cuda:0'),\n",
       " tensor(4, device='cuda:0'),\n",
       " tensor(7, device='cuda:0'),\n",
       " tensor(9, device='cuda:0'),\n",
       " tensor(8, device='cuda:0'),\n",
       " tensor(16, device='cuda:0'),\n",
       " tensor(7, device='cuda:0'),\n",
       " tensor(5, device='cuda:0'),\n",
       " tensor(6, device='cuda:0'),\n",
       " tensor(14, device='cuda:0'),\n",
       " tensor(4, device='cuda:0'),\n",
       " tensor(4, device='cuda:0'),\n",
       " tensor(2, device='cuda:0'),\n",
       " tensor(5, device='cuda:0'),\n",
       " tensor(10, device='cuda:0'),\n",
       " tensor(10, device='cuda:0'),\n",
       " tensor(7, device='cuda:0'),\n",
       " tensor(10, device='cuda:0'),\n",
       " tensor(15, device='cuda:0'),\n",
       " tensor(10, device='cuda:0'),\n",
       " tensor(7, device='cuda:0'),\n",
       " tensor(3, device='cuda:0'),\n",
       " tensor(13, device='cuda:0'),\n",
       " tensor(9, device='cuda:0'),\n",
       " tensor(3, device='cuda:0'),\n",
       " tensor(7, device='cuda:0'),\n",
       " tensor(12, device='cuda:0'),\n",
       " tensor(9, device='cuda:0'),\n",
       " tensor(2, device='cuda:0'),\n",
       " tensor(0, device='cuda:0'),\n",
       " tensor(5, device='cuda:0'),\n",
       " tensor(15, device='cuda:0'),\n",
       " tensor(7, device='cuda:0'),\n",
       " tensor(10, device='cuda:0'),\n",
       " tensor(7, device='cuda:0'),\n",
       " tensor(14, device='cuda:0'),\n",
       " tensor(2, device='cuda:0'),\n",
       " tensor(6, device='cuda:0'),\n",
       " tensor(7, device='cuda:0'),\n",
       " tensor(0, device='cuda:0'),\n",
       " tensor(6, device='cuda:0'),\n",
       " tensor(2, device='cuda:0'),\n",
       " tensor(5, device='cuda:0'),\n",
       " tensor(13, device='cuda:0'),\n",
       " tensor(4, device='cuda:0'),\n",
       " tensor(14, device='cuda:0'),\n",
       " tensor(5, device='cuda:0'),\n",
       " tensor(10, device='cuda:0'),\n",
       " tensor(16, device='cuda:0'),\n",
       " tensor(15, device='cuda:0'),\n",
       " tensor(5, device='cuda:0'),\n",
       " tensor(7, device='cuda:0'),\n",
       " tensor(7, device='cuda:0'),\n",
       " tensor(4, device='cuda:0'),\n",
       " tensor(4, device='cuda:0'),\n",
       " tensor(4, device='cuda:0'),\n",
       " tensor(3, device='cuda:0'),\n",
       " tensor(16, device='cuda:0'),\n",
       " tensor(16, device='cuda:0'),\n",
       " tensor(4, device='cuda:0'),\n",
       " tensor(10, device='cuda:0'),\n",
       " tensor(0, device='cuda:0'),\n",
       " tensor(15, device='cuda:0'),\n",
       " tensor(7, device='cuda:0'),\n",
       " tensor(10, device='cuda:0'),\n",
       " tensor(4, device='cuda:0'),\n",
       " tensor(4, device='cuda:0'),\n",
       " tensor(4, device='cuda:0'),\n",
       " tensor(3, device='cuda:0'),\n",
       " tensor(12, device='cuda:0'),\n",
       " tensor(12, device='cuda:0'),\n",
       " tensor(12, device='cuda:0'),\n",
       " tensor(11, device='cuda:0'),\n",
       " tensor(4, device='cuda:0'),\n",
       " tensor(4, device='cuda:0'),\n",
       " tensor(12, device='cuda:0'),\n",
       " tensor(2, device='cuda:0'),\n",
       " tensor(4, device='cuda:0'),\n",
       " tensor(2, device='cuda:0'),\n",
       " tensor(3, device='cuda:0'),\n",
       " tensor(4, device='cuda:0'),\n",
       " tensor(10, device='cuda:0'),\n",
       " tensor(16, device='cuda:0'),\n",
       " tensor(5, device='cuda:0'),\n",
       " tensor(16, device='cuda:0'),\n",
       " tensor(2, device='cuda:0'),\n",
       " tensor(12, device='cuda:0'),\n",
       " tensor(2, device='cuda:0'),\n",
       " tensor(9, device='cuda:0'),\n",
       " tensor(10, device='cuda:0'),\n",
       " tensor(4, device='cuda:0'),\n",
       " tensor(16, device='cuda:0'),\n",
       " tensor(15, device='cuda:0'),\n",
       " tensor(12, device='cuda:0'),\n",
       " tensor(4, device='cuda:0'),\n",
       " tensor(9, device='cuda:0'),\n",
       " tensor(4, device='cuda:0'),\n",
       " tensor(2, device='cuda:0'),\n",
       " tensor(4, device='cuda:0'),\n",
       " tensor(4, device='cuda:0'),\n",
       " tensor(13, device='cuda:0'),\n",
       " tensor(16, device='cuda:0'),\n",
       " tensor(4, device='cuda:0'),\n",
       " tensor(7, device='cuda:0'),\n",
       " tensor(9, device='cuda:0'),\n",
       " tensor(0, device='cuda:0'),\n",
       " tensor(3, device='cuda:0'),\n",
       " tensor(7, device='cuda:0'),\n",
       " tensor(11, device='cuda:0'),\n",
       " tensor(4, device='cuda:0'),\n",
       " tensor(4, device='cuda:0'),\n",
       " tensor(3, device='cuda:0'),\n",
       " tensor(14, device='cuda:0'),\n",
       " tensor(9, device='cuda:0'),\n",
       " tensor(7, device='cuda:0'),\n",
       " tensor(2, device='cuda:0'),\n",
       " tensor(3, device='cuda:0'),\n",
       " tensor(2, device='cuda:0'),\n",
       " tensor(7, device='cuda:0'),\n",
       " tensor(3, device='cuda:0'),\n",
       " tensor(12, device='cuda:0'),\n",
       " tensor(1, device='cuda:0'),\n",
       " tensor(13, device='cuda:0'),\n",
       " tensor(16, device='cuda:0'),\n",
       " tensor(5, device='cuda:0'),\n",
       " tensor(2, device='cuda:0'),\n",
       " tensor(12, device='cuda:0'),\n",
       " tensor(7, device='cuda:0'),\n",
       " tensor(2, device='cuda:0'),\n",
       " tensor(15, device='cuda:0'),\n",
       " tensor(10, device='cuda:0'),\n",
       " tensor(11, device='cuda:0'),\n",
       " tensor(10, device='cuda:0'),\n",
       " tensor(10, device='cuda:0'),\n",
       " tensor(4, device='cuda:0'),\n",
       " tensor(5, device='cuda:0'),\n",
       " tensor(0, device='cuda:0'),\n",
       " tensor(2, device='cuda:0'),\n",
       " tensor(14, device='cuda:0'),\n",
       " tensor(6, device='cuda:0'),\n",
       " tensor(0, device='cuda:0'),\n",
       " tensor(4, device='cuda:0'),\n",
       " tensor(4, device='cuda:0'),\n",
       " tensor(6, device='cuda:0'),\n",
       " tensor(5, device='cuda:0'),\n",
       " tensor(8, device='cuda:0'),\n",
       " tensor(4, device='cuda:0'),\n",
       " tensor(2, device='cuda:0'),\n",
       " tensor(9, device='cuda:0'),\n",
       " tensor(4, device='cuda:0'),\n",
       " tensor(10, device='cuda:0'),\n",
       " tensor(4, device='cuda:0'),\n",
       " tensor(16, device='cuda:0'),\n",
       " tensor(2, device='cuda:0'),\n",
       " tensor(14, device='cuda:0'),\n",
       " tensor(1, device='cuda:0'),\n",
       " tensor(5, device='cuda:0'),\n",
       " tensor(12, device='cuda:0'),\n",
       " tensor(10, device='cuda:0'),\n",
       " tensor(9, device='cuda:0'),\n",
       " tensor(0, device='cuda:0'),\n",
       " tensor(12, device='cuda:0'),\n",
       " tensor(2, device='cuda:0'),\n",
       " tensor(5, device='cuda:0'),\n",
       " tensor(13, device='cuda:0'),\n",
       " tensor(11, device='cuda:0'),\n",
       " tensor(9, device='cuda:0'),\n",
       " tensor(4, device='cuda:0'),\n",
       " tensor(9, device='cuda:0'),\n",
       " tensor(5, device='cuda:0'),\n",
       " tensor(4, device='cuda:0'),\n",
       " tensor(3, device='cuda:0'),\n",
       " tensor(4, device='cuda:0'),\n",
       " tensor(13, device='cuda:0'),\n",
       " tensor(4, device='cuda:0'),\n",
       " tensor(5, device='cuda:0'),\n",
       " tensor(11, device='cuda:0'),\n",
       " tensor(14, device='cuda:0'),\n",
       " tensor(3, device='cuda:0'),\n",
       " tensor(4, device='cuda:0'),\n",
       " tensor(12, device='cuda:0'),\n",
       " tensor(1, device='cuda:0'),\n",
       " tensor(3, device='cuda:0'),\n",
       " tensor(5, device='cuda:0'),\n",
       " tensor(4, device='cuda:0'),\n",
       " tensor(5, device='cuda:0'),\n",
       " tensor(14, device='cuda:0'),\n",
       " tensor(12, device='cuda:0'),\n",
       " tensor(10, device='cuda:0'),\n",
       " tensor(11, device='cuda:0'),\n",
       " tensor(9, device='cuda:0'),\n",
       " tensor(4, device='cuda:0'),\n",
       " tensor(4, device='cuda:0'),\n",
       " tensor(3, device='cuda:0'),\n",
       " tensor(4, device='cuda:0'),\n",
       " tensor(9, device='cuda:0'),\n",
       " tensor(7, device='cuda:0'),\n",
       " tensor(7, device='cuda:0'),\n",
       " tensor(3, device='cuda:0'),\n",
       " tensor(13, device='cuda:0'),\n",
       " tensor(4, device='cuda:0'),\n",
       " tensor(1, device='cuda:0'),\n",
       " tensor(16, device='cuda:0'),\n",
       " tensor(4, device='cuda:0'),\n",
       " tensor(13, device='cuda:0'),\n",
       " tensor(5, device='cuda:0'),\n",
       " tensor(10, device='cuda:0'),\n",
       " tensor(3, device='cuda:0'),\n",
       " tensor(10, device='cuda:0'),\n",
       " tensor(10, device='cuda:0'),\n",
       " tensor(3, device='cuda:0'),\n",
       " tensor(4, device='cuda:0'),\n",
       " tensor(10, device='cuda:0'),\n",
       " tensor(8, device='cuda:0'),\n",
       " tensor(11, device='cuda:0'),\n",
       " tensor(10, device='cuda:0'),\n",
       " tensor(8, device='cuda:0'),\n",
       " tensor(8, device='cuda:0'),\n",
       " tensor(3, device='cuda:0'),\n",
       " tensor(7, device='cuda:0'),\n",
       " tensor(10, device='cuda:0'),\n",
       " tensor(12, device='cuda:0'),\n",
       " tensor(3, device='cuda:0'),\n",
       " tensor(12, device='cuda:0'),\n",
       " tensor(3, device='cuda:0'),\n",
       " tensor(9, device='cuda:0'),\n",
       " tensor(14, device='cuda:0'),\n",
       " tensor(2, device='cuda:0'),\n",
       " tensor(2, device='cuda:0'),\n",
       " tensor(4, device='cuda:0'),\n",
       " tensor(5, device='cuda:0'),\n",
       " tensor(1, device='cuda:0'),\n",
       " tensor(12, device='cuda:0'),\n",
       " tensor(2, device='cuda:0'),\n",
       " tensor(4, device='cuda:0'),\n",
       " tensor(4, device='cuda:0'),\n",
       " tensor(9, device='cuda:0'),\n",
       " tensor(4, device='cuda:0'),\n",
       " tensor(4, device='cuda:0'),\n",
       " tensor(9, device='cuda:0'),\n",
       " tensor(0, device='cuda:0'),\n",
       " tensor(13, device='cuda:0'),\n",
       " tensor(12, device='cuda:0'),\n",
       " tensor(10, device='cuda:0'),\n",
       " tensor(4, device='cuda:0'),\n",
       " tensor(10, device='cuda:0'),\n",
       " tensor(6, device='cuda:0'),\n",
       " tensor(13, device='cuda:0'),\n",
       " tensor(4, device='cuda:0'),\n",
       " tensor(6, device='cuda:0'),\n",
       " tensor(3, device='cuda:0'),\n",
       " tensor(2, device='cuda:0'),\n",
       " tensor(4, device='cuda:0'),\n",
       " tensor(15, device='cuda:0'),\n",
       " tensor(8, device='cuda:0'),\n",
       " tensor(3, device='cuda:0'),\n",
       " tensor(4, device='cuda:0'),\n",
       " tensor(12, device='cuda:0'),\n",
       " tensor(13, device='cuda:0'),\n",
       " tensor(13, device='cuda:0'),\n",
       " tensor(5, device='cuda:0'),\n",
       " tensor(7, device='cuda:0'),\n",
       " tensor(7, device='cuda:0'),\n",
       " tensor(10, device='cuda:0'),\n",
       " tensor(10, device='cuda:0'),\n",
       " tensor(13, device='cuda:0'),\n",
       " tensor(16, device='cuda:0'),\n",
       " tensor(4, device='cuda:0'),\n",
       " tensor(10, device='cuda:0'),\n",
       " tensor(6, device='cuda:0'),\n",
       " tensor(1, device='cuda:0'),\n",
       " tensor(16, device='cuda:0'),\n",
       " tensor(3, device='cuda:0'),\n",
       " tensor(3, device='cuda:0'),\n",
       " tensor(7, device='cuda:0'),\n",
       " tensor(4, device='cuda:0'),\n",
       " tensor(15, device='cuda:0'),\n",
       " tensor(12, device='cuda:0'),\n",
       " tensor(4, device='cuda:0'),\n",
       " tensor(9, device='cuda:0'),\n",
       " tensor(11, device='cuda:0'),\n",
       " tensor(10, device='cuda:0'),\n",
       " tensor(4, device='cuda:0'),\n",
       " tensor(8, device='cuda:0'),\n",
       " tensor(4, device='cuda:0'),\n",
       " tensor(16, device='cuda:0'),\n",
       " tensor(9, device='cuda:0'),\n",
       " tensor(7, device='cuda:0'),\n",
       " tensor(15, device='cuda:0'),\n",
       " tensor(7, device='cuda:0'),\n",
       " tensor(12, device='cuda:0'),\n",
       " tensor(11, device='cuda:0'),\n",
       " tensor(14, device='cuda:0'),\n",
       " tensor(0, device='cuda:0'),\n",
       " tensor(10, device='cuda:0'),\n",
       " tensor(3, device='cuda:0'),\n",
       " tensor(2, device='cuda:0'),\n",
       " tensor(8, device='cuda:0'),\n",
       " tensor(11, device='cuda:0'),\n",
       " tensor(4, device='cuda:0'),\n",
       " tensor(16, device='cuda:0'),\n",
       " tensor(6, device='cuda:0'),\n",
       " tensor(3, device='cuda:0'),\n",
       " tensor(9, device='cuda:0'),\n",
       " tensor(15, device='cuda:0'),\n",
       " tensor(11, device='cuda:0'),\n",
       " tensor(5, device='cuda:0'),\n",
       " tensor(15, device='cuda:0'),\n",
       " tensor(2, device='cuda:0'),\n",
       " tensor(0, device='cuda:0'),\n",
       " tensor(10, device='cuda:0'),\n",
       " tensor(13, device='cuda:0'),\n",
       " tensor(15, device='cuda:0'),\n",
       " tensor(7, device='cuda:0'),\n",
       " tensor(8, device='cuda:0'),\n",
       " tensor(11, device='cuda:0'),\n",
       " tensor(16, device='cuda:0'),\n",
       " tensor(4, device='cuda:0'),\n",
       " tensor(9, device='cuda:0'),\n",
       " tensor(8, device='cuda:0'),\n",
       " tensor(4, device='cuda:0'),\n",
       " tensor(1, device='cuda:0'),\n",
       " tensor(12, device='cuda:0'),\n",
       " tensor(10, device='cuda:0'),\n",
       " tensor(9, device='cuda:0'),\n",
       " tensor(4, device='cuda:0'),\n",
       " tensor(12, device='cuda:0'),\n",
       " tensor(4, device='cuda:0'),\n",
       " tensor(2, device='cuda:0'),\n",
       " tensor(15, device='cuda:0'),\n",
       " tensor(12, device='cuda:0'),\n",
       " tensor(11, device='cuda:0'),\n",
       " tensor(12, device='cuda:0'),\n",
       " tensor(12, device='cuda:0'),\n",
       " tensor(3, device='cuda:0'),\n",
       " tensor(13, device='cuda:0'),\n",
       " tensor(16, device='cuda:0'),\n",
       " tensor(4, device='cuda:0'),\n",
       " tensor(5, device='cuda:0'),\n",
       " tensor(8, device='cuda:0'),\n",
       " tensor(4, device='cuda:0'),\n",
       " tensor(11, device='cuda:0'),\n",
       " tensor(9, device='cuda:0'),\n",
       " tensor(12, device='cuda:0'),\n",
       " tensor(6, device='cuda:0'),\n",
       " tensor(15, device='cuda:0'),\n",
       " tensor(4, device='cuda:0'),\n",
       " tensor(8, device='cuda:0'),\n",
       " tensor(9, device='cuda:0'),\n",
       " tensor(16, device='cuda:0'),\n",
       " tensor(3, device='cuda:0'),\n",
       " tensor(6, device='cuda:0'),\n",
       " tensor(14, device='cuda:0'),\n",
       " tensor(10, device='cuda:0'),\n",
       " tensor(4, device='cuda:0'),\n",
       " tensor(16, device='cuda:0'),\n",
       " tensor(0, device='cuda:0'),\n",
       " tensor(12, device='cuda:0'),\n",
       " tensor(14, device='cuda:0'),\n",
       " tensor(4, device='cuda:0'),\n",
       " tensor(12, device='cuda:0'),\n",
       " tensor(10, device='cuda:0'),\n",
       " tensor(3, device='cuda:0'),\n",
       " tensor(3, device='cuda:0'),\n",
       " tensor(9, device='cuda:0'),\n",
       " tensor(0, device='cuda:0'),\n",
       " tensor(5, device='cuda:0'),\n",
       " tensor(11, device='cuda:0'),\n",
       " tensor(3, device='cuda:0'),\n",
       " tensor(10, device='cuda:0'),\n",
       " tensor(8, device='cuda:0'),\n",
       " tensor(4, device='cuda:0'),\n",
       " tensor(0, device='cuda:0'),\n",
       " tensor(2, device='cuda:0'),\n",
       " tensor(2, device='cuda:0'),\n",
       " tensor(3, device='cuda:0'),\n",
       " tensor(7, device='cuda:0'),\n",
       " tensor(15, device='cuda:0'),\n",
       " tensor(9, device='cuda:0'),\n",
       " tensor(4, device='cuda:0'),\n",
       " tensor(4, device='cuda:0'),\n",
       " tensor(8, device='cuda:0'),\n",
       " tensor(9, device='cuda:0'),\n",
       " tensor(9, device='cuda:0'),\n",
       " tensor(15, device='cuda:0'),\n",
       " tensor(4, device='cuda:0'),\n",
       " tensor(10, device='cuda:0'),\n",
       " tensor(7, device='cuda:0'),\n",
       " tensor(2, device='cuda:0'),\n",
       " tensor(0, device='cuda:0'),\n",
       " tensor(14, device='cuda:0'),\n",
       " tensor(16, device='cuda:0'),\n",
       " tensor(11, device='cuda:0'),\n",
       " tensor(15, device='cuda:0'),\n",
       " tensor(6, device='cuda:0'),\n",
       " tensor(4, device='cuda:0'),\n",
       " tensor(2, device='cuda:0'),\n",
       " tensor(16, device='cuda:0'),\n",
       " tensor(2, device='cuda:0'),\n",
       " tensor(4, device='cuda:0'),\n",
       " tensor(0, device='cuda:0'),\n",
       " tensor(10, device='cuda:0'),\n",
       " tensor(12, device='cuda:0'),\n",
       " tensor(11, device='cuda:0'),\n",
       " tensor(10, device='cuda:0'),\n",
       " tensor(16, device='cuda:0'),\n",
       " tensor(5, device='cuda:0'),\n",
       " tensor(4, device='cuda:0'),\n",
       " tensor(0, device='cuda:0'),\n",
       " tensor(10, device='cuda:0'),\n",
       " tensor(9, device='cuda:0'),\n",
       " tensor(5, device='cuda:0'),\n",
       " tensor(15, device='cuda:0'),\n",
       " tensor(16, device='cuda:0'),\n",
       " tensor(10, device='cuda:0'),\n",
       " tensor(7, device='cuda:0'),\n",
       " tensor(16, device='cuda:0'),\n",
       " tensor(11, device='cuda:0'),\n",
       " tensor(7, device='cuda:0'),\n",
       " tensor(13, device='cuda:0'),\n",
       " tensor(10, device='cuda:0'),\n",
       " tensor(9, device='cuda:0'),\n",
       " tensor(4, device='cuda:0'),\n",
       " tensor(6, device='cuda:0'),\n",
       " tensor(4, device='cuda:0'),\n",
       " tensor(3, device='cuda:0'),\n",
       " tensor(9, device='cuda:0'),\n",
       " tensor(4, device='cuda:0'),\n",
       " tensor(15, device='cuda:0'),\n",
       " tensor(1, device='cuda:0'),\n",
       " ...]"
      ]
     },
     "execution_count": 21,
     "metadata": {},
     "output_type": "execute_result"
    }
   ],
   "source": [
    "all_preds"
   ]
  },
  {
   "cell_type": "code",
   "execution_count": 22,
   "metadata": {},
   "outputs": [
    {
     "data": {
      "text/html": [
       "<div>\n",
       "<style scoped>\n",
       "    .dataframe tbody tr th:only-of-type {\n",
       "        vertical-align: middle;\n",
       "    }\n",
       "\n",
       "    .dataframe tbody tr th {\n",
       "        vertical-align: top;\n",
       "    }\n",
       "\n",
       "    .dataframe thead th {\n",
       "        text-align: right;\n",
       "    }\n",
       "</style>\n",
       "<table border=\"1\" class=\"dataframe\">\n",
       "  <thead>\n",
       "    <tr style=\"text-align: right;\">\n",
       "      <th></th>\n",
       "      <th>ID</th>\n",
       "      <th>target</th>\n",
       "    </tr>\n",
       "  </thead>\n",
       "  <tbody>\n",
       "    <tr>\n",
       "      <th>0</th>\n",
       "      <td>0008fdb22ddce0ce.jpg</td>\n",
       "      <td>0</td>\n",
       "    </tr>\n",
       "    <tr>\n",
       "      <th>1</th>\n",
       "      <td>00091bffdffd83de.jpg</td>\n",
       "      <td>0</td>\n",
       "    </tr>\n",
       "    <tr>\n",
       "      <th>2</th>\n",
       "      <td>00396fbc1f6cc21d.jpg</td>\n",
       "      <td>0</td>\n",
       "    </tr>\n",
       "    <tr>\n",
       "      <th>3</th>\n",
       "      <td>00471f8038d9c4b6.jpg</td>\n",
       "      <td>0</td>\n",
       "    </tr>\n",
       "    <tr>\n",
       "      <th>4</th>\n",
       "      <td>00901f504008d884.jpg</td>\n",
       "      <td>0</td>\n",
       "    </tr>\n",
       "    <tr>\n",
       "      <th>...</th>\n",
       "      <td>...</td>\n",
       "      <td>...</td>\n",
       "    </tr>\n",
       "    <tr>\n",
       "      <th>3135</th>\n",
       "      <td>ffb4b6f619fb60ea.jpg</td>\n",
       "      <td>0</td>\n",
       "    </tr>\n",
       "    <tr>\n",
       "      <th>3136</th>\n",
       "      <td>ffb54299b1ad4159.jpg</td>\n",
       "      <td>0</td>\n",
       "    </tr>\n",
       "    <tr>\n",
       "      <th>3137</th>\n",
       "      <td>ffc2c91dff8cf2c0.jpg</td>\n",
       "      <td>0</td>\n",
       "    </tr>\n",
       "    <tr>\n",
       "      <th>3138</th>\n",
       "      <td>ffc4e330a5353a2a.jpg</td>\n",
       "      <td>0</td>\n",
       "    </tr>\n",
       "    <tr>\n",
       "      <th>3139</th>\n",
       "      <td>ffc71fed753d90c1.jpg</td>\n",
       "      <td>0</td>\n",
       "    </tr>\n",
       "  </tbody>\n",
       "</table>\n",
       "<p>3140 rows × 2 columns</p>\n",
       "</div>"
      ],
      "text/plain": [
       "                        ID  target\n",
       "0     0008fdb22ddce0ce.jpg       0\n",
       "1     00091bffdffd83de.jpg       0\n",
       "2     00396fbc1f6cc21d.jpg       0\n",
       "3     00471f8038d9c4b6.jpg       0\n",
       "4     00901f504008d884.jpg       0\n",
       "...                    ...     ...\n",
       "3135  ffb4b6f619fb60ea.jpg       0\n",
       "3136  ffb54299b1ad4159.jpg       0\n",
       "3137  ffc2c91dff8cf2c0.jpg       0\n",
       "3138  ffc4e330a5353a2a.jpg       0\n",
       "3139  ffc71fed753d90c1.jpg       0\n",
       "\n",
       "[3140 rows x 2 columns]"
      ]
     },
     "execution_count": 22,
     "metadata": {},
     "output_type": "execute_result"
    }
   ],
   "source": [
    "sub_df = pd.read_csv('/data/ephemeral/home/data/sample_submission.csv')\n",
    "sub_df"
   ]
  },
  {
   "cell_type": "code",
   "execution_count": 23,
   "metadata": {},
   "outputs": [],
   "source": [
    "for i in range(3140):\n",
    "    sub_df.iloc[i, 1] = int(all_preds[i].cpu())"
   ]
  },
  {
   "cell_type": "code",
   "execution_count": 24,
   "metadata": {},
   "outputs": [
    {
     "data": {
      "text/html": [
       "<div>\n",
       "<style scoped>\n",
       "    .dataframe tbody tr th:only-of-type {\n",
       "        vertical-align: middle;\n",
       "    }\n",
       "\n",
       "    .dataframe tbody tr th {\n",
       "        vertical-align: top;\n",
       "    }\n",
       "\n",
       "    .dataframe thead th {\n",
       "        text-align: right;\n",
       "    }\n",
       "</style>\n",
       "<table border=\"1\" class=\"dataframe\">\n",
       "  <thead>\n",
       "    <tr style=\"text-align: right;\">\n",
       "      <th></th>\n",
       "      <th>ID</th>\n",
       "      <th>target</th>\n",
       "    </tr>\n",
       "  </thead>\n",
       "  <tbody>\n",
       "    <tr>\n",
       "      <th>29</th>\n",
       "      <td>02ac23941313841b.jpg</td>\n",
       "      <td>6</td>\n",
       "    </tr>\n",
       "    <tr>\n",
       "      <th>64</th>\n",
       "      <td>06a484eb2afab068.jpg</td>\n",
       "      <td>6</td>\n",
       "    </tr>\n",
       "    <tr>\n",
       "      <th>69</th>\n",
       "      <td>0716d938d4ee1685.jpg</td>\n",
       "      <td>6</td>\n",
       "    </tr>\n",
       "    <tr>\n",
       "      <th>107</th>\n",
       "      <td>0a0302cbe2dcdd40.jpg</td>\n",
       "      <td>6</td>\n",
       "    </tr>\n",
       "    <tr>\n",
       "      <th>110</th>\n",
       "      <td>0a46d57f7a0b0407.jpg</td>\n",
       "      <td>6</td>\n",
       "    </tr>\n",
       "    <tr>\n",
       "      <th>125</th>\n",
       "      <td>0b49d225b1648438.jpg</td>\n",
       "      <td>6</td>\n",
       "    </tr>\n",
       "    <tr>\n",
       "      <th>129</th>\n",
       "      <td>0b9483ad39e27019.jpg</td>\n",
       "      <td>6</td>\n",
       "    </tr>\n",
       "    <tr>\n",
       "      <th>137</th>\n",
       "      <td>0c62c4ec8d5042a7.jpg</td>\n",
       "      <td>6</td>\n",
       "    </tr>\n",
       "    <tr>\n",
       "      <th>150</th>\n",
       "      <td>0dca6453aea515b9.jpg</td>\n",
       "      <td>6</td>\n",
       "    </tr>\n",
       "    <tr>\n",
       "      <th>158</th>\n",
       "      <td>0e82d902e8be0e62.jpg</td>\n",
       "      <td>6</td>\n",
       "    </tr>\n",
       "  </tbody>\n",
       "</table>\n",
       "</div>"
      ],
      "text/plain": [
       "                       ID  target\n",
       "29   02ac23941313841b.jpg       6\n",
       "64   06a484eb2afab068.jpg       6\n",
       "69   0716d938d4ee1685.jpg       6\n",
       "107  0a0302cbe2dcdd40.jpg       6\n",
       "110  0a46d57f7a0b0407.jpg       6\n",
       "125  0b49d225b1648438.jpg       6\n",
       "129  0b9483ad39e27019.jpg       6\n",
       "137  0c62c4ec8d5042a7.jpg       6\n",
       "150  0dca6453aea515b9.jpg       6\n",
       "158  0e82d902e8be0e62.jpg       6"
      ]
     },
     "execution_count": 24,
     "metadata": {},
     "output_type": "execute_result"
    }
   ],
   "source": [
    "sub_df[sub_df['target']==6].head(10)"
   ]
  },
  {
   "cell_type": "code",
   "execution_count": 25,
   "metadata": {},
   "outputs": [],
   "source": [
    "sub_df.to_csv('/data/ephemeral/home/preds/v3_4_last_preds.csv', index=False)"
   ]
  }
 ],
 "metadata": {
  "kernelspec": {
   "display_name": "base",
   "language": "python",
   "name": "python3"
  },
  "language_info": {
   "codemirror_mode": {
    "name": "ipython",
    "version": 3
   },
   "file_extension": ".py",
   "mimetype": "text/x-python",
   "name": "python",
   "nbconvert_exporter": "python",
   "pygments_lexer": "ipython3",
   "version": "3.10.13"
  }
 },
 "nbformat": 4,
 "nbformat_minor": 2
}
