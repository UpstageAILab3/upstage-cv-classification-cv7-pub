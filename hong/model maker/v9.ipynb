{
 "cells": [
  {
   "cell_type": "markdown",
   "metadata": {},
   "source": [
    "# V.9\n",
    "\n",
    "- ResNet50 사용\n",
    "- 이미지 상단 제목 데이터 추가"
   ]
  },
  {
   "cell_type": "code",
   "execution_count": 1,
   "metadata": {},
   "outputs": [],
   "source": [
    "import pandas as pd\n",
    "import numpy as np\n",
    "import os\n",
    "import time\n",
    "import random\n",
    "from PIL import Image\n",
    "from tqdm.notebook import tqdm\n",
    "import matplotlib.pyplot as plt\n",
    "\n",
    "import timm\n",
    "import torch\n",
    "import albumentations as A\n",
    "import torch.nn as nn\n",
    "from albumentations.pytorch import ToTensorV2\n",
    "from torch.optim import Adam\n",
    "from torchvision import transforms\n",
    "import torchvision.transforms as T\n",
    "from torch.utils.data import Dataset, DataLoader\n",
    "\n",
    "from augraphy import *\n",
    "\n",
    "from sklearn.metrics import accuracy_score, f1_score\n",
    "\n",
    "import wandb\n",
    "\n",
    "import warnings\n",
    "warnings.filterwarnings(\"ignore\")"
   ]
  },
  {
   "cell_type": "code",
   "execution_count": 2,
   "metadata": {},
   "outputs": [
    {
     "name": "stderr",
     "output_type": "stream",
     "text": [
      "Failed to detect the name of this notebook, you can set it manually with the WANDB_NOTEBOOK_NAME environment variable to enable code saving.\n",
      "\u001b[34m\u001b[1mwandb\u001b[0m: Currently logged in as: \u001b[33mgreedjar74\u001b[0m (\u001b[33mgreedjar7498\u001b[0m). Use \u001b[1m`wandb login --relogin`\u001b[0m to force relogin\n",
      "\u001b[34m\u001b[1mwandb\u001b[0m: \u001b[33mWARNING\u001b[0m If you're specifying your api key in code, ensure this code is not shared publicly.\n",
      "\u001b[34m\u001b[1mwandb\u001b[0m: \u001b[33mWARNING\u001b[0m Consider setting the WANDB_API_KEY environment variable, or running `wandb login` from the command line.\n",
      "\u001b[34m\u001b[1mwandb\u001b[0m: Appending key for api.wandb.ai to your netrc file: /data/ephemeral/home/.netrc\n"
     ]
    },
    {
     "data": {
      "text/html": [
       "Tracking run with wandb version 0.17.5"
      ],
      "text/plain": [
       "<IPython.core.display.HTML object>"
      ]
     },
     "metadata": {},
     "output_type": "display_data"
    },
    {
     "data": {
      "text/html": [
       "Run data is saved locally in <code>/data/ephemeral/home/model/model maker/wandb/run-20240807_134913-hkhr35gu</code>"
      ],
      "text/plain": [
       "<IPython.core.display.HTML object>"
      ]
     },
     "metadata": {},
     "output_type": "display_data"
    },
    {
     "data": {
      "text/html": [
       "Syncing run <strong><a href='https://wandb.ai/greedjar7498/CV_contest_V9/runs/hkhr35gu' target=\"_blank\">training</a></strong> to <a href='https://wandb.ai/greedjar7498/CV_contest_V9' target=\"_blank\">Weights & Biases</a> (<a href='https://wandb.me/run' target=\"_blank\">docs</a>)<br/>"
      ],
      "text/plain": [
       "<IPython.core.display.HTML object>"
      ]
     },
     "metadata": {},
     "output_type": "display_data"
    },
    {
     "data": {
      "text/html": [
       " View project at <a href='https://wandb.ai/greedjar7498/CV_contest_V9' target=\"_blank\">https://wandb.ai/greedjar7498/CV_contest_V9</a>"
      ],
      "text/plain": [
       "<IPython.core.display.HTML object>"
      ]
     },
     "metadata": {},
     "output_type": "display_data"
    },
    {
     "data": {
      "text/html": [
       " View run at <a href='https://wandb.ai/greedjar7498/CV_contest_V9/runs/hkhr35gu' target=\"_blank\">https://wandb.ai/greedjar7498/CV_contest_V9/runs/hkhr35gu</a>"
      ],
      "text/plain": [
       "<IPython.core.display.HTML object>"
      ]
     },
     "metadata": {},
     "output_type": "display_data"
    }
   ],
   "source": [
    "wandb.login(key='')\n",
    "run = wandb.init(project='CV_contest_V9', name='training')"
   ]
  },
  {
   "cell_type": "code",
   "execution_count": 2,
   "metadata": {},
   "outputs": [],
   "source": [
    "# 시드를 고정합니다.\n",
    "SEED = 42\n",
    "os.environ['PYTHONHASHSEED'] = str(SEED)\n",
    "random.seed(SEED)\n",
    "np.random.seed(SEED)\n",
    "torch.manual_seed(SEED)\n",
    "torch.cuda.manual_seed(SEED)\n",
    "torch.cuda.manual_seed_all(SEED)\n",
    "torch.backends.cudnn.benchmark = True"
   ]
  },
  {
   "cell_type": "code",
   "execution_count": 3,
   "metadata": {},
   "outputs": [],
   "source": [
    "device = torch.device('cuda' if torch.cuda.is_available() else 'cpu')"
   ]
  },
  {
   "cell_type": "code",
   "execution_count": 4,
   "metadata": {},
   "outputs": [
    {
     "data": {
      "text/plain": [
       "device(type='cuda')"
      ]
     },
     "execution_count": 4,
     "metadata": {},
     "output_type": "execute_result"
    }
   ],
   "source": [
    "device"
   ]
  },
  {
   "cell_type": "markdown",
   "metadata": {},
   "source": [
    "# CustomDataset"
   ]
  },
  {
   "cell_type": "code",
   "execution_count": 6,
   "metadata": {},
   "outputs": [],
   "source": [
    "class customdataset(torch.utils.data.Dataset):\n",
    "    def __init__(self, csv, path, transforms, pipeline):\n",
    "        super().__init__()\n",
    "        self.df = pd.read_csv(csv).values\n",
    "        self.path = path\n",
    "        self.transforms = transforms\n",
    "        self.pipeline = pipeline\n",
    "\n",
    "    def __len__(self):\n",
    "        return len(self.df)\n",
    "    \n",
    "    def __getitem__(self, idx):\n",
    "        name, target = self.df[idx]\n",
    "        img = np.array(Image.open(os.path.join(self.path, name)))\n",
    "        img = self.pipeline(img)\n",
    "        img = self.transforms(img)\n",
    "    \n",
    "        return img, target"
   ]
  },
  {
   "cell_type": "code",
   "execution_count": 7,
   "metadata": {},
   "outputs": [],
   "source": [
    "class RandomPadding:\n",
    "    def __init__(self, padding_range=(0, 50), fill=0):\n",
    "        self.padding_range = padding_range\n",
    "        self.fill = fill\n",
    "\n",
    "    def __call__(self, image):\n",
    "        # 각 방향에 대해 랜덤한 패딩 값 생성\n",
    "        pad_top = random.randint(*self.padding_range)\n",
    "        pad_bottom = random.randint(*self.padding_range)\n",
    "        pad_left = random.randint(*self.padding_range)\n",
    "        pad_right = random.randint(*self.padding_range)\n",
    "        \n",
    "        # 패딩 추가\n",
    "        padding = (pad_left, pad_top, pad_right, pad_bottom)\n",
    "        return T.functional.pad(image, padding, fill=self.fill)"
   ]
  },
  {
   "cell_type": "code",
   "execution_count": 10,
   "metadata": {},
   "outputs": [],
   "source": [
    "aug_transforms = T.Compose([\n",
    "    T.ToTensor(),\n",
    "    T.RandomRotation(180),\n",
    "    T.RandomHorizontalFlip(p=0.5),\n",
    "    RandomPadding(padding_range=(10, 20), fill=50),  # 랜덤 패딩 추가\n",
    "    T.RandomResizedCrop(size=(550,550), scale=(0.5, 1.0)),\n",
    "    T.Resize((500, 500))\n",
    "])\n",
    "\n",
    "augmentations = [\n",
    "    NoiseTexturize(sigma_range=(6, 10),\n",
    "                  turbulence_range=(5, 10),\n",
    "                  texture_width_range=(50, 500),\n",
    "                  texture_height_range=(50, 500)),\n",
    "    BrightnessTexturize(texturize_range=(0.9, 0.99), deviation=0.2),\n",
    "    Folding(fold_count=2,\n",
    "            fold_noise=0.0,\n",
    "            fold_angle_range = (-180,180),\n",
    "            gradient_width=(0.01, 0.05),\n",
    "            gradient_height=(0.01, 0.05),\n",
    "            backdrop_color = (0,0,0)),\n",
    "    BadPhotoCopy(\n",
    "        noise_type=-1,\n",
    "        noise_side=\"random\",\n",
    "        noise_iteration=(1, 2),\n",
    "        noise_size=(1, 3),\n",
    "        noise_value=(128, 196),\n",
    "        noise_sparsity=(0.3, 0.6),\n",
    "        noise_concentration=(0.1, 0.6),\n",
    "        blur_noise=random.choice([True, False]),\n",
    "        blur_noise_kernel=random.choice([(3, 3), (5, 5), (7, 7)]),\n",
    "        wave_pattern=random.choice([True, False]),\n",
    "        edge_effect=random.choice([True, False]),\n",
    "        p=0.33,\n",
    "    ),    \n",
    "]\n",
    "\n",
    "pipeline = AugraphyPipeline(augmentations)\n",
    "\n",
    "train_dataset = customdataset('/data/ephemeral/home/data/modified_train.csv', '/data/ephemeral/home/data/train', transforms=aug_transforms, pipeline=pipeline)"
   ]
  },
  {
   "cell_type": "code",
   "execution_count": 11,
   "metadata": {},
   "outputs": [
    {
     "data": {
      "text/plain": [
       "1570"
      ]
     },
     "execution_count": 11,
     "metadata": {},
     "output_type": "execute_result"
    }
   ],
   "source": [
    "len(train_dataset)"
   ]
  },
  {
   "cell_type": "code",
   "execution_count": 20,
   "metadata": {},
   "outputs": [
    {
     "name": "stderr",
     "output_type": "stream",
     "text": [
      "Clipping input data to the valid range for imshow with RGB data ([0..1] for floats or [0..255] for integers). Got range [0.0..50.0].\n"
     ]
    },
    {
     "data": {
      "text/plain": [
       "<matplotlib.image.AxesImage at 0x7f1fc0179ed0>"
      ]
     },
     "execution_count": 20,
     "metadata": {},
     "output_type": "execute_result"
    },
    {
     "data": {
      "image/png": "[encoded data removed]",
      "text/plain": [
       "<Figure size 640x480 with 1 Axes>"
      ]
     },
     "metadata": {},
     "output_type": "display_data"
    }
   ],
   "source": [
    "plt.imshow(train_dataset[1][0].permute(1, 2, 0))"
   ]
  },
  {
   "cell_type": "markdown",
   "metadata": {},
   "source": [
    "# valid dataset"
   ]
  },
  {
   "cell_type": "markdown",
   "metadata": {},
   "source": [
    "## 민준형 최고 점수 결과 사용"
   ]
  },
  {
   "cell_type": "code",
   "execution_count": 21,
   "metadata": {},
   "outputs": [],
   "source": [
    "valid_transforms = T.Compose([\n",
    "    T.ToTensor(),\n",
    "    T.Resize((500, 500))\n",
    "])\n",
    "\n",
    "pipeline = AugraphyPipeline()\n",
    "\n",
    "valid_dataset = customdataset('/data/ephemeral/home/preds/minjun_best_score_3.csv', '/data/ephemeral/home/data/test/', transforms=valid_transforms, pipeline=pipeline) # valid dataset"
   ]
  },
  {
   "cell_type": "code",
   "execution_count": 22,
   "metadata": {},
   "outputs": [
    {
     "data": {
      "text/plain": [
       "3140"
      ]
     },
     "execution_count": 22,
     "metadata": {},
     "output_type": "execute_result"
    }
   ],
   "source": [
    "len(valid_dataset)"
   ]
  },
  {
   "cell_type": "code",
   "execution_count": 23,
   "metadata": {},
   "outputs": [
    {
     "data": {
      "image/png": "[encoded data removed]",
      "text/plain": [
       "<Figure size 300x300 with 1 Axes>"
      ]
     },
     "metadata": {},
     "output_type": "display_data"
    }
   ],
   "source": [
    "plt.figure(figsize=(3, 3))\n",
    "plt.imshow(valid_dataset[0][0].permute(1, 2, 0))\n",
    "plt.title(valid_dataset[0][1])\n",
    "plt.show()"
   ]
  },
  {
   "cell_type": "code",
   "execution_count": 25,
   "metadata": {},
   "outputs": [],
   "source": [
    "batch_size = 16\n",
    "\n",
    "train_dataloader = torch.utils.data.DataLoader(train_dataset, batch_size, shuffle=True, num_workers=16)\n",
    "valid_dataloader = torch.utils.data.DataLoader(valid_dataset, batch_size, shuffle=False, num_workers=16)"
   ]
  },
  {
   "cell_type": "markdown",
   "metadata": {},
   "source": [
    "# 학습"
   ]
  },
  {
   "cell_type": "markdown",
   "metadata": {},
   "source": [
    "### 학습전 모델 이름 바꿔주기!!"
   ]
  },
  {
   "cell_type": "code",
   "execution_count": 1,
   "metadata": {},
   "outputs": [],
   "source": [
    "def training(model, train_dataloader, train_dataset, criterion, optimizer, epoch, num_epochs):\n",
    "    model.train()\n",
    "    train_loss = 0.0\n",
    "    train_accuracy = 0\n",
    "\n",
    "    tbar = tqdm(train_dataloader)\n",
    "    for images, labels in tbar:\n",
    "        images, labels = images.to(device), labels.to(device)\n",
    "        outputs = model(images)\n",
    "        loss = criterion(outputs, labels)\n",
    "\n",
    "        optimizer.zero_grad()\n",
    "        loss.backward()\n",
    "        optimizer.step()\n",
    "\n",
    "        train_loss += loss.item()\n",
    "        max_prob, predicted = torch.max(outputs, 1)\n",
    "        train_accuracy += (predicted == labels).sum().item()\n",
    "\n",
    "        tbar.set_description(f'Epoch/Epochs [{epoch+1}/{num_epochs}], Train Loss: {loss.item():.4f}')\n",
    "\n",
    "    train_loss = train_loss / len(train_dataloader)\n",
    "    train_accuracy = train_accuracy / len(train_dataset)\n",
    "\n",
    "    return model, train_loss, train_accuracy\n",
    "\n",
    "def evalutaion(model, valid_dataloader, valid_accuracy, criterion, epoch, num_epochs):\n",
    "    model.eval()\n",
    "    valid_loss = 0.0\n",
    "    valid_accuracy = 0\n",
    "\n",
    "    with torch.no_grad():\n",
    "        tbar = tqdm(valid_dataloader)\n",
    "        for images, labels in tbar:\n",
    "            images, labels = images.to(device), labels.to(device)\n",
    "            outputs = model(images)\n",
    "            loss = criterion(outputs, labels)\n",
    "\n",
    "            valid_loss += loss.item()\n",
    "            max_prob, predicted = torch.max(outputs, 1)\n",
    "            valid_accuracy += (predicted == labels).sum().item()\n",
    "\n",
    "            tbar.set_description(f'Epoch/Epochs [{epoch+1}/{num_epochs}], Valid Loss: {loss.item():.4f}')\n",
    "\n",
    "    valid_loss = valid_loss / len(valid_dataloader)\n",
    "    valid_accuracy = valid_accuracy / len(valid_dataset)\n",
    "\n",
    "    return model, valid_loss, valid_accuracy\n",
    "\n",
    "def training_loop(model, train_dataloader, train_dataset, valid_dataloader, valid_dataset, criterion, optimizer, num_epochs):\n",
    "    best_valid_loss = float('inf')\n",
    "    early_stop_cnt = 0\n",
    "    valid_max_accuracy = -1\n",
    "\n",
    "    for epoch in range(num_epochs):\n",
    "        model, train_loss, train_accuracy = training(model, train_dataloader, train_dataset, criterion, optimizer, epoch, num_epochs)\n",
    "        model, valid_loss, valid_accuracy = evalutaion(model, valid_dataloader, valid_dataset, criterion, epoch, num_epochs)\n",
    "\n",
    "        monitoring_values = {'Train Loss': train_loss, 'Valid Loss': valid_loss, 'Train Accuracy': train_accuracy, 'Valid Accuracy': valid_accuracy}\n",
    "        run.log(monitoring_values, step=epoch)\n",
    "\n",
    "        if valid_accuracy > valid_max_accuracy:\n",
    "            valid_max_accuracy = valid_accuracy\n",
    "\n",
    "        if valid_loss < best_valid_loss:\n",
    "            torch.save(model.state_dict(), f\"/data/ephemeral/home/model/models/model_v9_best.pt\")\n",
    "            best_valid_loss = valid_loss\n",
    "            early_stop_cnt = 0\n",
    "\n",
    "        else :\n",
    "            early_stop_cnt += 1\n",
    "\n",
    "        print(f\"Epoch [{epoch + 1}/{num_epochs}], Train Loss: {train_loss:.4f}, Train Accuracy: {train_accuracy:.4f} Valid Loss: {valid_loss:.4f}, Valid Accuracy: {valid_accuracy:.4f}\")\n",
    "\n",
    "        if early_stop_cnt >= 50:\n",
    "            torch.save(model.state_dict(), f\"/data/ephemeral/home/model/models/model_v9_last.pt\")\n",
    "            print('Early Stopping')\n",
    "            break\n",
    "\n",
    "    return model"
   ]
  },
  {
   "cell_type": "code",
   "execution_count": 27,
   "metadata": {},
   "outputs": [
    {
     "data": {
      "application/vnd.jupyter.widget-view+json": {
       "model_id": "e185d68d410d4d0ba2f45cada53d009b",
       "version_major": 2,
       "version_minor": 0
      },
      "text/plain": [
       "model.safetensors:   0%|          | 0.00/241M [00:00<?, ?B/s]"
      ]
     },
     "metadata": {},
     "output_type": "display_data"
    }
   ],
   "source": [
    "model = timm.create_model(\n",
    "    'resnet152',\n",
    "    pretrained=True,\n",
    "    num_classes=17\n",
    ").to(device)\n",
    "\n",
    "criterion = torch.nn.CrossEntropyLoss()\n",
    "optimizer = torch.optim.Adam(model.parameters(), lr=0.001)"
   ]
  },
  {
   "cell_type": "code",
   "execution_count": 29,
   "metadata": {},
   "outputs": [
    {
     "data": {
      "application/vnd.jupyter.widget-view+json": {
       "model_id": "7debcfdc67524e5c951ef88e6039bc78",
       "version_major": 2,
       "version_minor": 0
      },
      "text/plain": [
       "  0%|          | 0/99 [00:00<?, ?it/s]"
      ]
     },
     "metadata": {},
     "output_type": "display_data"
    },
    {
     "data": {
      "application/vnd.jupyter.widget-view+json": {
       "model_id": "3fe66831d2724537a63cd4136cd7ab0f",
       "version_major": 2,
       "version_minor": 0
      },
      "text/plain": [
       "  0%|          | 0/197 [00:00<?, ?it/s]"
      ]
     },
     "metadata": {},
     "output_type": "display_data"
    },
    {
     "name": "stdout",
     "output_type": "stream",
     "text": [
      "Epoch [1/500], Train Loss: 2.7955, Train Accuracy: 0.0720 Valid Loss: 2.9072, Valid Accuracy: 0.0640\n"
     ]
    },
    {
     "data": {
      "application/vnd.jupyter.widget-view+json": {
       "model_id": "f0d9549401144b989dd7666c93578aaa",
       "version_major": 2,
       "version_minor": 0
      },
      "text/plain": [
       "  0%|          | 0/99 [00:00<?, ?it/s]"
      ]
     },
     "metadata": {},
     "output_type": "display_data"
    },
    {
     "data": {
      "application/vnd.jupyter.widget-view+json": {
       "model_id": "af6eaf7292b74e2ba51d0ee5da5be08b",
       "version_major": 2,
       "version_minor": 0
      },
      "text/plain": [
       "  0%|          | 0/197 [00:00<?, ?it/s]"
      ]
     },
     "metadata": {},
     "output_type": "display_data"
    },
    {
     "name": "stdout",
     "output_type": "stream",
     "text": [
      "Epoch [2/500], Train Loss: 2.4521, Train Accuracy: 0.1471 Valid Loss: 11.6695, Valid Accuracy: 0.0618\n"
     ]
    },
    {
     "data": {
      "application/vnd.jupyter.widget-view+json": {
       "model_id": "a0ad1cce6f8746f8a3b50cf2ed91ffe2",
       "version_major": 2,
       "version_minor": 0
      },
      "text/plain": [
       "  0%|          | 0/99 [00:00<?, ?it/s]"
      ]
     },
     "metadata": {},
     "output_type": "display_data"
    },
    {
     "data": {
      "application/vnd.jupyter.widget-view+json": {
       "model_id": "84d081b3e39c4c609295d1fc71f5a5c3",
       "version_major": 2,
       "version_minor": 0
      },
      "text/plain": [
       "  0%|          | 0/197 [00:00<?, ?it/s]"
      ]
     },
     "metadata": {},
     "output_type": "display_data"
    },
    {
     "name": "stdout",
     "output_type": "stream",
     "text": [
      "Epoch [3/500], Train Loss: 2.2053, Train Accuracy: 0.2210 Valid Loss: 2.6725, Valid Accuracy: 0.0930\n"
     ]
    },
    {
     "data": {
      "application/vnd.jupyter.widget-view+json": {
       "model_id": "0f3f9ca739a241899719be81b6b57baa",
       "version_major": 2,
       "version_minor": 0
      },
      "text/plain": [
       "  0%|          | 0/99 [00:00<?, ?it/s]"
      ]
     },
     "metadata": {},
     "output_type": "display_data"
    },
    {
     "data": {
      "application/vnd.jupyter.widget-view+json": {
       "model_id": "bfebbc820dca48b89d5dad658aabe413",
       "version_major": 2,
       "version_minor": 0
      },
      "text/plain": [
       "  0%|          | 0/197 [00:00<?, ?it/s]"
      ]
     },
     "metadata": {},
     "output_type": "display_data"
    },
    {
     "name": "stdout",
     "output_type": "stream",
     "text": [
      "Epoch [4/500], Train Loss: 2.0883, Train Accuracy: 0.2522 Valid Loss: 4.4885, Valid Accuracy: 0.0640\n"
     ]
    },
    {
     "data": {
      "application/vnd.jupyter.widget-view+json": {
       "model_id": "7e771f6fd7f54e12aa5d5419164eaf9d",
       "version_major": 2,
       "version_minor": 0
      },
      "text/plain": [
       "  0%|          | 0/99 [00:00<?, ?it/s]"
      ]
     },
     "metadata": {},
     "output_type": "display_data"
    },
    {
     "data": {
      "application/vnd.jupyter.widget-view+json": {
       "model_id": "2d445c352aa64b4c9c37fd0797f20926",
       "version_major": 2,
       "version_minor": 0
      },
      "text/plain": [
       "  0%|          | 0/197 [00:00<?, ?it/s]"
      ]
     },
     "metadata": {},
     "output_type": "display_data"
    },
    {
     "name": "stdout",
     "output_type": "stream",
     "text": [
      "Epoch [5/500], Train Loss: 1.9190, Train Accuracy: 0.3268 Valid Loss: 4.3533, Valid Accuracy: 0.0780\n"
     ]
    },
    {
     "data": {
      "application/vnd.jupyter.widget-view+json": {
       "model_id": "92a22d5ea7184d96b51d3a777b16d8d2",
       "version_major": 2,
       "version_minor": 0
      },
      "text/plain": [
       "  0%|          | 0/99 [00:00<?, ?it/s]"
      ]
     },
     "metadata": {},
     "output_type": "display_data"
    },
    {
     "data": {
      "application/vnd.jupyter.widget-view+json": {
       "model_id": "a471303c10b14d9ab379158f232b3aa0",
       "version_major": 2,
       "version_minor": 0
      },
      "text/plain": [
       "  0%|          | 0/197 [00:00<?, ?it/s]"
      ]
     },
     "metadata": {},
     "output_type": "display_data"
    },
    {
     "name": "stdout",
     "output_type": "stream",
     "text": [
      "Epoch [6/500], Train Loss: 1.8879, Train Accuracy: 0.3420 Valid Loss: 5.1747, Valid Accuracy: 0.0653\n"
     ]
    },
    {
     "data": {
      "application/vnd.jupyter.widget-view+json": {
       "model_id": "48d73d613c67471ebc140a43e4857e4a",
       "version_major": 2,
       "version_minor": 0
      },
      "text/plain": [
       "  0%|          | 0/99 [00:00<?, ?it/s]"
      ]
     },
     "metadata": {},
     "output_type": "display_data"
    },
    {
     "data": {
      "application/vnd.jupyter.widget-view+json": {
       "model_id": "8ff45837f397479fbc416b614068b725",
       "version_major": 2,
       "version_minor": 0
      },
      "text/plain": [
       "  0%|          | 0/197 [00:00<?, ?it/s]"
      ]
     },
     "metadata": {},
     "output_type": "display_data"
    },
    {
     "name": "stdout",
     "output_type": "stream",
     "text": [
      "Epoch [7/500], Train Loss: 1.7242, Train Accuracy: 0.4013 Valid Loss: 2.5197, Valid Accuracy: 0.1987\n"
     ]
    },
    {
     "data": {
      "application/vnd.jupyter.widget-view+json": {
       "model_id": "ae2e1742553143adb27dbdec4e7e864c",
       "version_major": 2,
       "version_minor": 0
      },
      "text/plain": [
       "  0%|          | 0/99 [00:00<?, ?it/s]"
      ]
     },
     "metadata": {},
     "output_type": "display_data"
    },
    {
     "data": {
      "application/vnd.jupyter.widget-view+json": {
       "model_id": "ce4c782d6d9f4e5a9b4818ef7c97263f",
       "version_major": 2,
       "version_minor": 0
      },
      "text/plain": [
       "  0%|          | 0/197 [00:00<?, ?it/s]"
      ]
     },
     "metadata": {},
     "output_type": "display_data"
    },
    {
     "name": "stdout",
     "output_type": "stream",
     "text": [
      "Epoch [8/500], Train Loss: 1.5410, Train Accuracy: 0.4631 Valid Loss: 9.2063, Valid Accuracy: 0.0627\n"
     ]
    },
    {
     "data": {
      "application/vnd.jupyter.widget-view+json": {
       "model_id": "b543fa112fb04ca98ff14f026523aaa2",
       "version_major": 2,
       "version_minor": 0
      },
      "text/plain": [
       "  0%|          | 0/99 [00:00<?, ?it/s]"
      ]
     },
     "metadata": {},
     "output_type": "display_data"
    },
    {
     "data": {
      "application/vnd.jupyter.widget-view+json": {
       "model_id": "705724ba5d984473be8bab3df4fae969",
       "version_major": 2,
       "version_minor": 0
      },
      "text/plain": [
       "  0%|          | 0/197 [00:00<?, ?it/s]"
      ]
     },
     "metadata": {},
     "output_type": "display_data"
    },
    {
     "name": "stdout",
     "output_type": "stream",
     "text": [
      "Epoch [9/500], Train Loss: 1.4800, Train Accuracy: 0.5025 Valid Loss: 4.1157, Valid Accuracy: 0.1131\n"
     ]
    },
    {
     "data": {
      "application/vnd.jupyter.widget-view+json": {
       "model_id": "17c3dad3b65a4404b8115e0e6b736a0d",
       "version_major": 2,
       "version_minor": 0
      },
      "text/plain": [
       "  0%|          | 0/99 [00:00<?, ?it/s]"
      ]
     },
     "metadata": {},
     "output_type": "display_data"
    },
    {
     "data": {
      "application/vnd.jupyter.widget-view+json": {
       "model_id": "72bf0fe5e8f74fd7871540742af848bb",
       "version_major": 2,
       "version_minor": 0
      },
      "text/plain": [
       "  0%|          | 0/197 [00:00<?, ?it/s]"
      ]
     },
     "metadata": {},
     "output_type": "display_data"
    },
    {
     "name": "stdout",
     "output_type": "stream",
     "text": [
      "Epoch [10/500], Train Loss: 1.3821, Train Accuracy: 0.5146 Valid Loss: 3.3949, Valid Accuracy: 0.2140\n"
     ]
    },
    {
     "data": {
      "application/vnd.jupyter.widget-view+json": {
       "model_id": "d1efb5f48cf948338666dc6c0b0114c5",
       "version_major": 2,
       "version_minor": 0
      },
      "text/plain": [
       "  0%|          | 0/99 [00:00<?, ?it/s]"
      ]
     },
     "metadata": {},
     "output_type": "display_data"
    },
    {
     "data": {
      "application/vnd.jupyter.widget-view+json": {
       "model_id": "55b1bd00b2fe4bff8d09e51122a06f92",
       "version_major": 2,
       "version_minor": 0
      },
      "text/plain": [
       "  0%|          | 0/197 [00:00<?, ?it/s]"
      ]
     },
     "metadata": {},
     "output_type": "display_data"
    },
    {
     "name": "stdout",
     "output_type": "stream",
     "text": [
      "Epoch [11/500], Train Loss: 1.2862, Train Accuracy: 0.5548 Valid Loss: 3.9084, Valid Accuracy: 0.1908\n"
     ]
    },
    {
     "data": {
      "application/vnd.jupyter.widget-view+json": {
       "model_id": "7ba8686e83cc45ee97ce2e8f9bbe400b",
       "version_major": 2,
       "version_minor": 0
      },
      "text/plain": [
       "  0%|          | 0/99 [00:00<?, ?it/s]"
      ]
     },
     "metadata": {},
     "output_type": "display_data"
    },
    {
     "data": {
      "application/vnd.jupyter.widget-view+json": {
       "model_id": "849409d2a4974be3800292253461d1cd",
       "version_major": 2,
       "version_minor": 0
      },
      "text/plain": [
       "  0%|          | 0/197 [00:00<?, ?it/s]"
      ]
     },
     "metadata": {},
     "output_type": "display_data"
    },
    {
     "name": "stdout",
     "output_type": "stream",
     "text": [
      "Epoch [12/500], Train Loss: 1.2277, Train Accuracy: 0.5726 Valid Loss: 2.7881, Valid Accuracy: 0.1013\n"
     ]
    },
    {
     "data": {
      "application/vnd.jupyter.widget-view+json": {
       "model_id": "c2b08f498bfe42bca3ac62082fe8967e",
       "version_major": 2,
       "version_minor": 0
      },
      "text/plain": [
       "  0%|          | 0/99 [00:00<?, ?it/s]"
      ]
     },
     "metadata": {},
     "output_type": "display_data"
    },
    {
     "data": {
      "application/vnd.jupyter.widget-view+json": {
       "model_id": "450b1a3676ce4036adf09eb621aecb08",
       "version_major": 2,
       "version_minor": 0
      },
      "text/plain": [
       "  0%|          | 0/197 [00:00<?, ?it/s]"
      ]
     },
     "metadata": {},
     "output_type": "display_data"
    },
    {
     "name": "stdout",
     "output_type": "stream",
     "text": [
      "Epoch [13/500], Train Loss: 1.2692, Train Accuracy: 0.5707 Valid Loss: 5.3497, Valid Accuracy: 0.2478\n"
     ]
    },
    {
     "data": {
      "application/vnd.jupyter.widget-view+json": {
       "model_id": "240cd5e0ff29433b94a176b9e996f6e0",
       "version_major": 2,
       "version_minor": 0
      },
      "text/plain": [
       "  0%|          | 0/99 [00:00<?, ?it/s]"
      ]
     },
     "metadata": {},
     "output_type": "display_data"
    },
    {
     "data": {
      "application/vnd.jupyter.widget-view+json": {
       "model_id": "f3ee1301dd1e469289c096979f59f3f7",
       "version_major": 2,
       "version_minor": 0
      },
      "text/plain": [
       "  0%|          | 0/197 [00:00<?, ?it/s]"
      ]
     },
     "metadata": {},
     "output_type": "display_data"
    },
    {
     "name": "stdout",
     "output_type": "stream",
     "text": [
      "Epoch [14/500], Train Loss: 1.2642, Train Accuracy: 0.5669 Valid Loss: 4.1263, Valid Accuracy: 0.2385\n"
     ]
    },
    {
     "data": {
      "application/vnd.jupyter.widget-view+json": {
       "model_id": "cd2991c9f15d4a4ba3723bfc4a365ed1",
       "version_major": 2,
       "version_minor": 0
      },
      "text/plain": [
       "  0%|          | 0/99 [00:00<?, ?it/s]"
      ]
     },
     "metadata": {},
     "output_type": "display_data"
    },
    {
     "data": {
      "application/vnd.jupyter.widget-view+json": {
       "model_id": "3b4f7424f77f4c0ebc4218e8ccad350a",
       "version_major": 2,
       "version_minor": 0
      },
      "text/plain": [
       "  0%|          | 0/197 [00:00<?, ?it/s]"
      ]
     },
     "metadata": {},
     "output_type": "display_data"
    },
    {
     "name": "stdout",
     "output_type": "stream",
     "text": [
      "Epoch [15/500], Train Loss: 1.1234, Train Accuracy: 0.6000 Valid Loss: 10.3349, Valid Accuracy: 0.1398\n"
     ]
    },
    {
     "data": {
      "application/vnd.jupyter.widget-view+json": {
       "model_id": "ae6738dc458845e29e4e6b9abb1f6a9c",
       "version_major": 2,
       "version_minor": 0
      },
      "text/plain": [
       "  0%|          | 0/99 [00:00<?, ?it/s]"
      ]
     },
     "metadata": {},
     "output_type": "display_data"
    },
    {
     "data": {
      "application/vnd.jupyter.widget-view+json": {
       "model_id": "c8940d304d0f4863bb2a861bd77b0fcd",
       "version_major": 2,
       "version_minor": 0
      },
      "text/plain": [
       "  0%|          | 0/197 [00:00<?, ?it/s]"
      ]
     },
     "metadata": {},
     "output_type": "display_data"
    },
    {
     "name": "stdout",
     "output_type": "stream",
     "text": [
      "Epoch [16/500], Train Loss: 1.2018, Train Accuracy: 0.5834 Valid Loss: 6.5265, Valid Accuracy: 0.0672\n"
     ]
    },
    {
     "data": {
      "application/vnd.jupyter.widget-view+json": {
       "model_id": "5759bb933d0248fea2a27614707901a4",
       "version_major": 2,
       "version_minor": 0
      },
      "text/plain": [
       "  0%|          | 0/99 [00:00<?, ?it/s]"
      ]
     },
     "metadata": {},
     "output_type": "display_data"
    },
    {
     "data": {
      "application/vnd.jupyter.widget-view+json": {
       "model_id": "e1f2ba0a9ded4134b378976bda9426a6",
       "version_major": 2,
       "version_minor": 0
      },
      "text/plain": [
       "  0%|          | 0/197 [00:00<?, ?it/s]"
      ]
     },
     "metadata": {},
     "output_type": "display_data"
    },
    {
     "name": "stdout",
     "output_type": "stream",
     "text": [
      "Epoch [17/500], Train Loss: 1.0481, Train Accuracy: 0.6287 Valid Loss: 3.0545, Valid Accuracy: 0.0650\n"
     ]
    },
    {
     "data": {
      "application/vnd.jupyter.widget-view+json": {
       "model_id": "d4dd782bf05f49ac86c8b6c5f40b1a07",
       "version_major": 2,
       "version_minor": 0
      },
      "text/plain": [
       "  0%|          | 0/99 [00:00<?, ?it/s]"
      ]
     },
     "metadata": {},
     "output_type": "display_data"
    },
    {
     "data": {
      "application/vnd.jupyter.widget-view+json": {
       "model_id": "6a0fc328864e48a486693bcf798fee65",
       "version_major": 2,
       "version_minor": 0
      },
      "text/plain": [
       "  0%|          | 0/197 [00:00<?, ?it/s]"
      ]
     },
     "metadata": {},
     "output_type": "display_data"
    },
    {
     "name": "stdout",
     "output_type": "stream",
     "text": [
      "Epoch [18/500], Train Loss: 1.0756, Train Accuracy: 0.6242 Valid Loss: 4.5259, Valid Accuracy: 0.1127\n"
     ]
    },
    {
     "data": {
      "application/vnd.jupyter.widget-view+json": {
       "model_id": "2cbbbb8241f948cb9e24feeffeadccd7",
       "version_major": 2,
       "version_minor": 0
      },
      "text/plain": [
       "  0%|          | 0/99 [00:00<?, ?it/s]"
      ]
     },
     "metadata": {},
     "output_type": "display_data"
    },
    {
     "data": {
      "application/vnd.jupyter.widget-view+json": {
       "model_id": "cfc7ee66d4d946eeabbf3738cc1de6e8",
       "version_major": 2,
       "version_minor": 0
      },
      "text/plain": [
       "  0%|          | 0/197 [00:00<?, ?it/s]"
      ]
     },
     "metadata": {},
     "output_type": "display_data"
    },
    {
     "name": "stdout",
     "output_type": "stream",
     "text": [
      "Epoch [19/500], Train Loss: 1.0167, Train Accuracy: 0.6554 Valid Loss: 12.1840, Valid Accuracy: 0.0844\n"
     ]
    },
    {
     "data": {
      "application/vnd.jupyter.widget-view+json": {
       "model_id": "c5ebcc6d56b74498906850bbf57ff742",
       "version_major": 2,
       "version_minor": 0
      },
      "text/plain": [
       "  0%|          | 0/99 [00:00<?, ?it/s]"
      ]
     },
     "metadata": {},
     "output_type": "display_data"
    },
    {
     "data": {
      "application/vnd.jupyter.widget-view+json": {
       "model_id": "bee5d6e15d4946f8bccf5285ddf9f136",
       "version_major": 2,
       "version_minor": 0
      },
      "text/plain": [
       "  0%|          | 0/197 [00:00<?, ?it/s]"
      ]
     },
     "metadata": {},
     "output_type": "display_data"
    },
    {
     "name": "stdout",
     "output_type": "stream",
     "text": [
      "Epoch [20/500], Train Loss: 1.0074, Train Accuracy: 0.6637 Valid Loss: 11.0258, Valid Accuracy: 0.0583\n"
     ]
    },
    {
     "data": {
      "application/vnd.jupyter.widget-view+json": {
       "model_id": "3b691e46fae24b70b87396c175b12ba6",
       "version_major": 2,
       "version_minor": 0
      },
      "text/plain": [
       "  0%|          | 0/99 [00:00<?, ?it/s]"
      ]
     },
     "metadata": {},
     "output_type": "display_data"
    },
    {
     "data": {
      "application/vnd.jupyter.widget-view+json": {
       "model_id": "8b7cc221c19a49b98555c06a9d26eed6",
       "version_major": 2,
       "version_minor": 0
      },
      "text/plain": [
       "  0%|          | 0/197 [00:00<?, ?it/s]"
      ]
     },
     "metadata": {},
     "output_type": "display_data"
    },
    {
     "name": "stdout",
     "output_type": "stream",
     "text": [
      "Epoch [21/500], Train Loss: 0.9793, Train Accuracy: 0.6726 Valid Loss: 2.3005, Valid Accuracy: 0.3446\n"
     ]
    },
    {
     "data": {
      "application/vnd.jupyter.widget-view+json": {
       "model_id": "648287d58abe4826a33b498008756fc2",
       "version_major": 2,
       "version_minor": 0
      },
      "text/plain": [
       "  0%|          | 0/99 [00:00<?, ?it/s]"
      ]
     },
     "metadata": {},
     "output_type": "display_data"
    },
    {
     "data": {
      "application/vnd.jupyter.widget-view+json": {
       "model_id": "f341830c65784607952df7128e494b08",
       "version_major": 2,
       "version_minor": 0
      },
      "text/plain": [
       "  0%|          | 0/197 [00:00<?, ?it/s]"
      ]
     },
     "metadata": {},
     "output_type": "display_data"
    },
    {
     "name": "stdout",
     "output_type": "stream",
     "text": [
      "Epoch [22/500], Train Loss: 0.9869, Train Accuracy: 0.6516 Valid Loss: 5.2695, Valid Accuracy: 0.2220\n"
     ]
    },
    {
     "data": {
      "application/vnd.jupyter.widget-view+json": {
       "model_id": "b74d36652395488ab8e33fbbc9c984cb",
       "version_major": 2,
       "version_minor": 0
      },
      "text/plain": [
       "  0%|          | 0/99 [00:00<?, ?it/s]"
      ]
     },
     "metadata": {},
     "output_type": "display_data"
    },
    {
     "data": {
      "application/vnd.jupyter.widget-view+json": {
       "model_id": "d9bbbc459a004cf891fb5cd5ad86d168",
       "version_major": 2,
       "version_minor": 0
      },
      "text/plain": [
       "  0%|          | 0/197 [00:00<?, ?it/s]"
      ]
     },
     "metadata": {},
     "output_type": "display_data"
    },
    {
     "name": "stdout",
     "output_type": "stream",
     "text": [
      "Epoch [23/500], Train Loss: 0.9594, Train Accuracy: 0.6656 Valid Loss: 1.7148, Valid Accuracy: 0.4745\n"
     ]
    },
    {
     "data": {
      "application/vnd.jupyter.widget-view+json": {
       "model_id": "c35abc8325b94a7d929a19301621885f",
       "version_major": 2,
       "version_minor": 0
      },
      "text/plain": [
       "  0%|          | 0/99 [00:00<?, ?it/s]"
      ]
     },
     "metadata": {},
     "output_type": "display_data"
    },
    {
     "data": {
      "application/vnd.jupyter.widget-view+json": {
       "model_id": "233e642f4b874c519126d73780e69173",
       "version_major": 2,
       "version_minor": 0
      },
      "text/plain": [
       "  0%|          | 0/197 [00:00<?, ?it/s]"
      ]
     },
     "metadata": {},
     "output_type": "display_data"
    },
    {
     "name": "stdout",
     "output_type": "stream",
     "text": [
      "Epoch [24/500], Train Loss: 0.8741, Train Accuracy: 0.7051 Valid Loss: 6.1579, Valid Accuracy: 0.2280\n"
     ]
    },
    {
     "data": {
      "application/vnd.jupyter.widget-view+json": {
       "model_id": "2439fdfcbb754b14b886f719987e2e49",
       "version_major": 2,
       "version_minor": 0
      },
      "text/plain": [
       "  0%|          | 0/99 [00:00<?, ?it/s]"
      ]
     },
     "metadata": {},
     "output_type": "display_data"
    },
    {
     "data": {
      "application/vnd.jupyter.widget-view+json": {
       "model_id": "fefd4882162a4df7a337b0729f819ef1",
       "version_major": 2,
       "version_minor": 0
      },
      "text/plain": [
       "  0%|          | 0/197 [00:00<?, ?it/s]"
      ]
     },
     "metadata": {},
     "output_type": "display_data"
    },
    {
     "name": "stdout",
     "output_type": "stream",
     "text": [
      "Epoch [25/500], Train Loss: 0.8989, Train Accuracy: 0.7000 Valid Loss: 3.9670, Valid Accuracy: 0.2344\n"
     ]
    },
    {
     "data": {
      "application/vnd.jupyter.widget-view+json": {
       "model_id": "b40dfad9967b4d07a6a852fd893f9ed1",
       "version_major": 2,
       "version_minor": 0
      },
      "text/plain": [
       "  0%|          | 0/99 [00:00<?, ?it/s]"
      ]
     },
     "metadata": {},
     "output_type": "display_data"
    },
    {
     "data": {
      "application/vnd.jupyter.widget-view+json": {
       "model_id": "d90e7b35315142a6b50736775638e003",
       "version_major": 2,
       "version_minor": 0
      },
      "text/plain": [
       "  0%|          | 0/197 [00:00<?, ?it/s]"
      ]
     },
     "metadata": {},
     "output_type": "display_data"
    },
    {
     "name": "stdout",
     "output_type": "stream",
     "text": [
      "Epoch [26/500], Train Loss: 0.8444, Train Accuracy: 0.7191 Valid Loss: 6.4196, Valid Accuracy: 0.0975\n"
     ]
    },
    {
     "data": {
      "application/vnd.jupyter.widget-view+json": {
       "model_id": "c3fdd0e46b5445398fb4577938b94de6",
       "version_major": 2,
       "version_minor": 0
      },
      "text/plain": [
       "  0%|          | 0/99 [00:00<?, ?it/s]"
      ]
     },
     "metadata": {},
     "output_type": "display_data"
    },
    {
     "data": {
      "application/vnd.jupyter.widget-view+json": {
       "model_id": "82c2456bb1a342b88c03c5dcbb7fc155",
       "version_major": 2,
       "version_minor": 0
      },
      "text/plain": [
       "  0%|          | 0/197 [00:00<?, ?it/s]"
      ]
     },
     "metadata": {},
     "output_type": "display_data"
    },
    {
     "name": "stdout",
     "output_type": "stream",
     "text": [
      "Epoch [27/500], Train Loss: 0.7908, Train Accuracy: 0.7261 Valid Loss: 4.4937, Valid Accuracy: 0.1618\n"
     ]
    },
    {
     "data": {
      "application/vnd.jupyter.widget-view+json": {
       "model_id": "7171ac95f69a437790dc630a0ad2f733",
       "version_major": 2,
       "version_minor": 0
      },
      "text/plain": [
       "  0%|          | 0/99 [00:00<?, ?it/s]"
      ]
     },
     "metadata": {},
     "output_type": "display_data"
    },
    {
     "data": {
      "application/vnd.jupyter.widget-view+json": {
       "model_id": "2cff3a2ff6b145bcbe6450e37f581f0d",
       "version_major": 2,
       "version_minor": 0
      },
      "text/plain": [
       "  0%|          | 0/197 [00:00<?, ?it/s]"
      ]
     },
     "metadata": {},
     "output_type": "display_data"
    },
    {
     "name": "stdout",
     "output_type": "stream",
     "text": [
      "Epoch [28/500], Train Loss: 0.7799, Train Accuracy: 0.7261 Valid Loss: 2.5360, Valid Accuracy: 0.2694\n"
     ]
    },
    {
     "data": {
      "application/vnd.jupyter.widget-view+json": {
       "model_id": "76d88a4814c7426ba078fe2974ca89ac",
       "version_major": 2,
       "version_minor": 0
      },
      "text/plain": [
       "  0%|          | 0/99 [00:00<?, ?it/s]"
      ]
     },
     "metadata": {},
     "output_type": "display_data"
    },
    {
     "data": {
      "application/vnd.jupyter.widget-view+json": {
       "model_id": "810cf537aaf24c749d914ddf5aa8c304",
       "version_major": 2,
       "version_minor": 0
      },
      "text/plain": [
       "  0%|          | 0/197 [00:00<?, ?it/s]"
      ]
     },
     "metadata": {},
     "output_type": "display_data"
    },
    {
     "name": "stdout",
     "output_type": "stream",
     "text": [
      "Epoch [29/500], Train Loss: 0.7390, Train Accuracy: 0.7401 Valid Loss: 9.3683, Valid Accuracy: 0.2013\n"
     ]
    },
    {
     "data": {
      "application/vnd.jupyter.widget-view+json": {
       "model_id": "a4220f49b6f144af898ecea64bda0b6f",
       "version_major": 2,
       "version_minor": 0
      },
      "text/plain": [
       "  0%|          | 0/99 [00:00<?, ?it/s]"
      ]
     },
     "metadata": {},
     "output_type": "display_data"
    },
    {
     "data": {
      "application/vnd.jupyter.widget-view+json": {
       "model_id": "2e12121297be4aa19a9204ff885be3f8",
       "version_major": 2,
       "version_minor": 0
      },
      "text/plain": [
       "  0%|          | 0/197 [00:00<?, ?it/s]"
      ]
     },
     "metadata": {},
     "output_type": "display_data"
    },
    {
     "name": "stdout",
     "output_type": "stream",
     "text": [
      "Epoch [30/500], Train Loss: 0.7493, Train Accuracy: 0.7287 Valid Loss: 3.4007, Valid Accuracy: 0.2736\n"
     ]
    },
    {
     "data": {
      "application/vnd.jupyter.widget-view+json": {
       "model_id": "30cf1cf4612349279d610673c89970ec",
       "version_major": 2,
       "version_minor": 0
      },
      "text/plain": [
       "  0%|          | 0/99 [00:00<?, ?it/s]"
      ]
     },
     "metadata": {},
     "output_type": "display_data"
    },
    {
     "data": {
      "application/vnd.jupyter.widget-view+json": {
       "model_id": "3244e6e786574491a5581c3ebc7654df",
       "version_major": 2,
       "version_minor": 0
      },
      "text/plain": [
       "  0%|          | 0/197 [00:00<?, ?it/s]"
      ]
     },
     "metadata": {},
     "output_type": "display_data"
    },
    {
     "name": "stdout",
     "output_type": "stream",
     "text": [
      "Epoch [31/500], Train Loss: 0.7081, Train Accuracy: 0.7516 Valid Loss: 1.6190, Valid Accuracy: 0.5232\n"
     ]
    },
    {
     "data": {
      "application/vnd.jupyter.widget-view+json": {
       "model_id": "46b38c1fc0cd46b2b377d0dfa971a656",
       "version_major": 2,
       "version_minor": 0
      },
      "text/plain": [
       "  0%|          | 0/99 [00:00<?, ?it/s]"
      ]
     },
     "metadata": {},
     "output_type": "display_data"
    },
    {
     "data": {
      "application/vnd.jupyter.widget-view+json": {
       "model_id": "7bdd91e311a64284a86380857da2b518",
       "version_major": 2,
       "version_minor": 0
      },
      "text/plain": [
       "  0%|          | 0/197 [00:00<?, ?it/s]"
      ]
     },
     "metadata": {},
     "output_type": "display_data"
    },
    {
     "name": "stdout",
     "output_type": "stream",
     "text": [
      "Epoch [32/500], Train Loss: 0.6520, Train Accuracy: 0.7682 Valid Loss: 7.7200, Valid Accuracy: 0.2462\n"
     ]
    },
    {
     "data": {
      "application/vnd.jupyter.widget-view+json": {
       "model_id": "10c25c4b2ada4c11ae61b2ee4f9a3a8c",
       "version_major": 2,
       "version_minor": 0
      },
      "text/plain": [
       "  0%|          | 0/99 [00:00<?, ?it/s]"
      ]
     },
     "metadata": {},
     "output_type": "display_data"
    },
    {
     "data": {
      "application/vnd.jupyter.widget-view+json": {
       "model_id": "aed9bbc05d8147c399dca021064e9cc8",
       "version_major": 2,
       "version_minor": 0
      },
      "text/plain": [
       "  0%|          | 0/197 [00:00<?, ?it/s]"
      ]
     },
     "metadata": {},
     "output_type": "display_data"
    },
    {
     "name": "stdout",
     "output_type": "stream",
     "text": [
      "Epoch [33/500], Train Loss: 0.6411, Train Accuracy: 0.7758 Valid Loss: 2.7546, Valid Accuracy: 0.2857\n"
     ]
    },
    {
     "data": {
      "application/vnd.jupyter.widget-view+json": {
       "model_id": "a87eb1c4297f48009902b740c571676a",
       "version_major": 2,
       "version_minor": 0
      },
      "text/plain": [
       "  0%|          | 0/99 [00:00<?, ?it/s]"
      ]
     },
     "metadata": {},
     "output_type": "display_data"
    },
    {
     "data": {
      "application/vnd.jupyter.widget-view+json": {
       "model_id": "fee872a51327451c8c22c885ad7537c4",
       "version_major": 2,
       "version_minor": 0
      },
      "text/plain": [
       "  0%|          | 0/197 [00:00<?, ?it/s]"
      ]
     },
     "metadata": {},
     "output_type": "display_data"
    },
    {
     "name": "stdout",
     "output_type": "stream",
     "text": [
      "Epoch [34/500], Train Loss: 0.6548, Train Accuracy: 0.7682 Valid Loss: 3.5049, Valid Accuracy: 0.2602\n"
     ]
    },
    {
     "data": {
      "application/vnd.jupyter.widget-view+json": {
       "model_id": "d5e16579f9b845bc9aecce0d03573513",
       "version_major": 2,
       "version_minor": 0
      },
      "text/plain": [
       "  0%|          | 0/99 [00:00<?, ?it/s]"
      ]
     },
     "metadata": {},
     "output_type": "display_data"
    },
    {
     "data": {
      "application/vnd.jupyter.widget-view+json": {
       "model_id": "061cfb6599914b6faf90f5253fc08f30",
       "version_major": 2,
       "version_minor": 0
      },
      "text/plain": [
       "  0%|          | 0/197 [00:00<?, ?it/s]"
      ]
     },
     "metadata": {},
     "output_type": "display_data"
    },
    {
     "name": "stdout",
     "output_type": "stream",
     "text": [
      "Epoch [35/500], Train Loss: 0.6308, Train Accuracy: 0.7815 Valid Loss: 4.2205, Valid Accuracy: 0.1061\n"
     ]
    },
    {
     "data": {
      "application/vnd.jupyter.widget-view+json": {
       "model_id": "d05107b65ff948a8aa722af6fe6f5901",
       "version_major": 2,
       "version_minor": 0
      },
      "text/plain": [
       "  0%|          | 0/99 [00:00<?, ?it/s]"
      ]
     },
     "metadata": {},
     "output_type": "display_data"
    },
    {
     "data": {
      "application/vnd.jupyter.widget-view+json": {
       "model_id": "0b34762d67984b5f9c927d1905aaf461",
       "version_major": 2,
       "version_minor": 0
      },
      "text/plain": [
       "  0%|          | 0/197 [00:00<?, ?it/s]"
      ]
     },
     "metadata": {},
     "output_type": "display_data"
    },
    {
     "name": "stdout",
     "output_type": "stream",
     "text": [
      "Epoch [36/500], Train Loss: 0.6369, Train Accuracy: 0.7796 Valid Loss: 12.2640, Valid Accuracy: 0.1162\n"
     ]
    },
    {
     "data": {
      "application/vnd.jupyter.widget-view+json": {
       "model_id": "c9d472fd768d42eda1e2403ad13ab0b9",
       "version_major": 2,
       "version_minor": 0
      },
      "text/plain": [
       "  0%|          | 0/99 [00:00<?, ?it/s]"
      ]
     },
     "metadata": {},
     "output_type": "display_data"
    },
    {
     "data": {
      "application/vnd.jupyter.widget-view+json": {
       "model_id": "f5ffd07b187642a893118ff052ed7a7c",
       "version_major": 2,
       "version_minor": 0
      },
      "text/plain": [
       "  0%|          | 0/197 [00:00<?, ?it/s]"
      ]
     },
     "metadata": {},
     "output_type": "display_data"
    },
    {
     "name": "stdout",
     "output_type": "stream",
     "text": [
      "Epoch [37/500], Train Loss: 0.6270, Train Accuracy: 0.7803 Valid Loss: 24.6091, Valid Accuracy: 0.0879\n"
     ]
    },
    {
     "data": {
      "application/vnd.jupyter.widget-view+json": {
       "model_id": "2d0d05020e944060b972c03882453b2e",
       "version_major": 2,
       "version_minor": 0
      },
      "text/plain": [
       "  0%|          | 0/99 [00:00<?, ?it/s]"
      ]
     },
     "metadata": {},
     "output_type": "display_data"
    },
    {
     "data": {
      "application/vnd.jupyter.widget-view+json": {
       "model_id": "3444724b5e5e40f897a02b804b3ca6d1",
       "version_major": 2,
       "version_minor": 0
      },
      "text/plain": [
       "  0%|          | 0/197 [00:00<?, ?it/s]"
      ]
     },
     "metadata": {},
     "output_type": "display_data"
    },
    {
     "name": "stdout",
     "output_type": "stream",
     "text": [
      "Epoch [38/500], Train Loss: 0.5933, Train Accuracy: 0.7968 Valid Loss: 1.8616, Valid Accuracy: 0.4404\n"
     ]
    },
    {
     "data": {
      "application/vnd.jupyter.widget-view+json": {
       "model_id": "e6e4ceca09db44cf9e46dc3563478f57",
       "version_major": 2,
       "version_minor": 0
      },
      "text/plain": [
       "  0%|          | 0/99 [00:00<?, ?it/s]"
      ]
     },
     "metadata": {},
     "output_type": "display_data"
    },
    {
     "data": {
      "application/vnd.jupyter.widget-view+json": {
       "model_id": "0fb19cdb0e87489899617eda4e268ba4",
       "version_major": 2,
       "version_minor": 0
      },
      "text/plain": [
       "  0%|          | 0/197 [00:00<?, ?it/s]"
      ]
     },
     "metadata": {},
     "output_type": "display_data"
    },
    {
     "name": "stdout",
     "output_type": "stream",
     "text": [
      "Epoch [39/500], Train Loss: 0.5980, Train Accuracy: 0.7707 Valid Loss: 3.0488, Valid Accuracy: 0.2720\n"
     ]
    },
    {
     "data": {
      "application/vnd.jupyter.widget-view+json": {
       "model_id": "a7f9013ee87d46ac946b2ad4983a5557",
       "version_major": 2,
       "version_minor": 0
      },
      "text/plain": [
       "  0%|          | 0/99 [00:00<?, ?it/s]"
      ]
     },
     "metadata": {},
     "output_type": "display_data"
    },
    {
     "data": {
      "application/vnd.jupyter.widget-view+json": {
       "model_id": "6139c276f2aa4a27be3638171f8c71a7",
       "version_major": 2,
       "version_minor": 0
      },
      "text/plain": [
       "  0%|          | 0/197 [00:00<?, ?it/s]"
      ]
     },
     "metadata": {},
     "output_type": "display_data"
    },
    {
     "name": "stdout",
     "output_type": "stream",
     "text": [
      "Epoch [40/500], Train Loss: 0.5557, Train Accuracy: 0.8108 Valid Loss: 1.3967, Valid Accuracy: 0.6096\n"
     ]
    },
    {
     "data": {
      "application/vnd.jupyter.widget-view+json": {
       "model_id": "283279ddfbe74f4f82c9a67f9a123242",
       "version_major": 2,
       "version_minor": 0
      },
      "text/plain": [
       "  0%|          | 0/99 [00:00<?, ?it/s]"
      ]
     },
     "metadata": {},
     "output_type": "display_data"
    },
    {
     "data": {
      "application/vnd.jupyter.widget-view+json": {
       "model_id": "3c9c377f85944a94ac0c54e4bc9fc916",
       "version_major": 2,
       "version_minor": 0
      },
      "text/plain": [
       "  0%|          | 0/197 [00:00<?, ?it/s]"
      ]
     },
     "metadata": {},
     "output_type": "display_data"
    },
    {
     "name": "stdout",
     "output_type": "stream",
     "text": [
      "Epoch [41/500], Train Loss: 0.5799, Train Accuracy: 0.7943 Valid Loss: 1.9624, Valid Accuracy: 0.5118\n"
     ]
    },
    {
     "data": {
      "application/vnd.jupyter.widget-view+json": {
       "model_id": "e3da15f2f2714920b83cb83c9faeb09f",
       "version_major": 2,
       "version_minor": 0
      },
      "text/plain": [
       "  0%|          | 0/99 [00:00<?, ?it/s]"
      ]
     },
     "metadata": {},
     "output_type": "display_data"
    },
    {
     "data": {
      "application/vnd.jupyter.widget-view+json": {
       "model_id": "b7cf7e7091664f54b5c70640ae3ffc37",
       "version_major": 2,
       "version_minor": 0
      },
      "text/plain": [
       "  0%|          | 0/197 [00:00<?, ?it/s]"
      ]
     },
     "metadata": {},
     "output_type": "display_data"
    },
    {
     "name": "stdout",
     "output_type": "stream",
     "text": [
      "Epoch [42/500], Train Loss: 0.5850, Train Accuracy: 0.7930 Valid Loss: 3.8708, Valid Accuracy: 0.1373\n"
     ]
    },
    {
     "data": {
      "application/vnd.jupyter.widget-view+json": {
       "model_id": "66093ef6a4e0439e876b2c71339408db",
       "version_major": 2,
       "version_minor": 0
      },
      "text/plain": [
       "  0%|          | 0/99 [00:00<?, ?it/s]"
      ]
     },
     "metadata": {},
     "output_type": "display_data"
    },
    {
     "data": {
      "application/vnd.jupyter.widget-view+json": {
       "model_id": "f93bb6c56efb4e53b70ee24257fe3501",
       "version_major": 2,
       "version_minor": 0
      },
      "text/plain": [
       "  0%|          | 0/197 [00:00<?, ?it/s]"
      ]
     },
     "metadata": {},
     "output_type": "display_data"
    },
    {
     "name": "stdout",
     "output_type": "stream",
     "text": [
      "Epoch [43/500], Train Loss: 0.5754, Train Accuracy: 0.8032 Valid Loss: 6.2307, Valid Accuracy: 0.1115\n"
     ]
    },
    {
     "data": {
      "application/vnd.jupyter.widget-view+json": {
       "model_id": "556d0383569f42c095dfc2776451724f",
       "version_major": 2,
       "version_minor": 0
      },
      "text/plain": [
       "  0%|          | 0/99 [00:00<?, ?it/s]"
      ]
     },
     "metadata": {},
     "output_type": "display_data"
    },
    {
     "data": {
      "application/vnd.jupyter.widget-view+json": {
       "model_id": "d2e85e545fa9438b8b1c7c18a4717314",
       "version_major": 2,
       "version_minor": 0
      },
      "text/plain": [
       "  0%|          | 0/197 [00:00<?, ?it/s]"
      ]
     },
     "metadata": {},
     "output_type": "display_data"
    },
    {
     "name": "stdout",
     "output_type": "stream",
     "text": [
      "Epoch [44/500], Train Loss: 0.5761, Train Accuracy: 0.7981 Valid Loss: 3.1151, Valid Accuracy: 0.1439\n"
     ]
    },
    {
     "data": {
      "application/vnd.jupyter.widget-view+json": {
       "model_id": "44984f340bb849c889d69860809fbef4",
       "version_major": 2,
       "version_minor": 0
      },
      "text/plain": [
       "  0%|          | 0/99 [00:00<?, ?it/s]"
      ]
     },
     "metadata": {},
     "output_type": "display_data"
    },
    {
     "data": {
      "application/vnd.jupyter.widget-view+json": {
       "model_id": "38221f2c95d64b60991e9804678482bd",
       "version_major": 2,
       "version_minor": 0
      },
      "text/plain": [
       "  0%|          | 0/197 [00:00<?, ?it/s]"
      ]
     },
     "metadata": {},
     "output_type": "display_data"
    },
    {
     "name": "stdout",
     "output_type": "stream",
     "text": [
      "Epoch [45/500], Train Loss: 0.5744, Train Accuracy: 0.8000 Valid Loss: 8.5595, Valid Accuracy: 0.2303\n"
     ]
    },
    {
     "data": {
      "application/vnd.jupyter.widget-view+json": {
       "model_id": "1f6436890b9e4d4a9c6ea16fff9d8d19",
       "version_major": 2,
       "version_minor": 0
      },
      "text/plain": [
       "  0%|          | 0/99 [00:00<?, ?it/s]"
      ]
     },
     "metadata": {},
     "output_type": "display_data"
    },
    {
     "data": {
      "application/vnd.jupyter.widget-view+json": {
       "model_id": "aa135740699d4fc9b25a794a84821f04",
       "version_major": 2,
       "version_minor": 0
      },
      "text/plain": [
       "  0%|          | 0/197 [00:00<?, ?it/s]"
      ]
     },
     "metadata": {},
     "output_type": "display_data"
    },
    {
     "name": "stdout",
     "output_type": "stream",
     "text": [
      "Epoch [46/500], Train Loss: 0.5201, Train Accuracy: 0.8134 Valid Loss: 15.3679, Valid Accuracy: 0.0936\n"
     ]
    },
    {
     "data": {
      "application/vnd.jupyter.widget-view+json": {
       "model_id": "f797561c50174e41bee8f2c36dc29799",
       "version_major": 2,
       "version_minor": 0
      },
      "text/plain": [
       "  0%|          | 0/99 [00:00<?, ?it/s]"
      ]
     },
     "metadata": {},
     "output_type": "display_data"
    },
    {
     "data": {
      "application/vnd.jupyter.widget-view+json": {
       "model_id": "de122187c7974555864c1ea985a0434f",
       "version_major": 2,
       "version_minor": 0
      },
      "text/plain": [
       "  0%|          | 0/197 [00:00<?, ?it/s]"
      ]
     },
     "metadata": {},
     "output_type": "display_data"
    },
    {
     "name": "stdout",
     "output_type": "stream",
     "text": [
      "Epoch [47/500], Train Loss: 0.5090, Train Accuracy: 0.8223 Valid Loss: 1.8705, Valid Accuracy: 0.4866\n"
     ]
    },
    {
     "data": {
      "application/vnd.jupyter.widget-view+json": {
       "model_id": "6547742098e44e50ae23e042084bf9be",
       "version_major": 2,
       "version_minor": 0
      },
      "text/plain": [
       "  0%|          | 0/99 [00:00<?, ?it/s]"
      ]
     },
     "metadata": {},
     "output_type": "display_data"
    },
    {
     "data": {
      "application/vnd.jupyter.widget-view+json": {
       "model_id": "194badb18b7a4712b30ebd5ad35ce632",
       "version_major": 2,
       "version_minor": 0
      },
      "text/plain": [
       "  0%|          | 0/197 [00:00<?, ?it/s]"
      ]
     },
     "metadata": {},
     "output_type": "display_data"
    },
    {
     "name": "stdout",
     "output_type": "stream",
     "text": [
      "Epoch [48/500], Train Loss: 0.4969, Train Accuracy: 0.8229 Valid Loss: 2.9728, Valid Accuracy: 0.2825\n"
     ]
    },
    {
     "data": {
      "application/vnd.jupyter.widget-view+json": {
       "model_id": "96dcd88c038d4bb2984f4ac077054f20",
       "version_major": 2,
       "version_minor": 0
      },
      "text/plain": [
       "  0%|          | 0/99 [00:00<?, ?it/s]"
      ]
     },
     "metadata": {},
     "output_type": "display_data"
    },
    {
     "data": {
      "application/vnd.jupyter.widget-view+json": {
       "model_id": "54ce017e7fb14889b620f74423bcf14c",
       "version_major": 2,
       "version_minor": 0
      },
      "text/plain": [
       "  0%|          | 0/197 [00:00<?, ?it/s]"
      ]
     },
     "metadata": {},
     "output_type": "display_data"
    },
    {
     "name": "stdout",
     "output_type": "stream",
     "text": [
      "Epoch [49/500], Train Loss: 0.5163, Train Accuracy: 0.8229 Valid Loss: 3.4108, Valid Accuracy: 0.3382\n"
     ]
    },
    {
     "data": {
      "application/vnd.jupyter.widget-view+json": {
       "model_id": "50f5544654d1462db535cfa83e7e4a2d",
       "version_major": 2,
       "version_minor": 0
      },
      "text/plain": [
       "  0%|          | 0/99 [00:00<?, ?it/s]"
      ]
     },
     "metadata": {},
     "output_type": "display_data"
    },
    {
     "data": {
      "application/vnd.jupyter.widget-view+json": {
       "model_id": "6603dfb494044d0e911c4e88bf40c9eb",
       "version_major": 2,
       "version_minor": 0
      },
      "text/plain": [
       "  0%|          | 0/197 [00:00<?, ?it/s]"
      ]
     },
     "metadata": {},
     "output_type": "display_data"
    },
    {
     "name": "stdout",
     "output_type": "stream",
     "text": [
      "Epoch [50/500], Train Loss: 0.4773, Train Accuracy: 0.8338 Valid Loss: 2.7715, Valid Accuracy: 0.3497\n"
     ]
    },
    {
     "data": {
      "application/vnd.jupyter.widget-view+json": {
       "model_id": "063f831b889a40f381733559d0cc6f6f",
       "version_major": 2,
       "version_minor": 0
      },
      "text/plain": [
       "  0%|          | 0/99 [00:00<?, ?it/s]"
      ]
     },
     "metadata": {},
     "output_type": "display_data"
    },
    {
     "data": {
      "application/vnd.jupyter.widget-view+json": {
       "model_id": "6cda9f5d0ea34afab50ad72de647bcaa",
       "version_major": 2,
       "version_minor": 0
      },
      "text/plain": [
       "  0%|          | 0/197 [00:00<?, ?it/s]"
      ]
     },
     "metadata": {},
     "output_type": "display_data"
    },
    {
     "name": "stdout",
     "output_type": "stream",
     "text": [
      "Epoch [51/500], Train Loss: 0.4550, Train Accuracy: 0.8446 Valid Loss: 2.9059, Valid Accuracy: 0.3325\n"
     ]
    },
    {
     "data": {
      "application/vnd.jupyter.widget-view+json": {
       "model_id": "22ea495ef2164fd8963fc4cc79a3b73e",
       "version_major": 2,
       "version_minor": 0
      },
      "text/plain": [
       "  0%|          | 0/99 [00:00<?, ?it/s]"
      ]
     },
     "metadata": {},
     "output_type": "display_data"
    },
    {
     "data": {
      "application/vnd.jupyter.widget-view+json": {
       "model_id": "4721e62cc750477083d808a8175de2cf",
       "version_major": 2,
       "version_minor": 0
      },
      "text/plain": [
       "  0%|          | 0/197 [00:00<?, ?it/s]"
      ]
     },
     "metadata": {},
     "output_type": "display_data"
    },
    {
     "name": "stdout",
     "output_type": "stream",
     "text": [
      "Epoch [52/500], Train Loss: 0.4447, Train Accuracy: 0.8465 Valid Loss: 2.9346, Valid Accuracy: 0.3774\n"
     ]
    },
    {
     "data": {
      "application/vnd.jupyter.widget-view+json": {
       "model_id": "e1dbd1348e764487a6775e2510286f24",
       "version_major": 2,
       "version_minor": 0
      },
      "text/plain": [
       "  0%|          | 0/99 [00:00<?, ?it/s]"
      ]
     },
     "metadata": {},
     "output_type": "display_data"
    },
    {
     "data": {
      "application/vnd.jupyter.widget-view+json": {
       "model_id": "c7f75bab023446578e5af4e88727141e",
       "version_major": 2,
       "version_minor": 0
      },
      "text/plain": [
       "  0%|          | 0/197 [00:00<?, ?it/s]"
      ]
     },
     "metadata": {},
     "output_type": "display_data"
    },
    {
     "name": "stdout",
     "output_type": "stream",
     "text": [
      "Epoch [53/500], Train Loss: 0.5149, Train Accuracy: 0.8350 Valid Loss: 4.7371, Valid Accuracy: 0.2080\n"
     ]
    },
    {
     "data": {
      "application/vnd.jupyter.widget-view+json": {
       "model_id": "3a15d67f04a5418fb61b09d99decb5ed",
       "version_major": 2,
       "version_minor": 0
      },
      "text/plain": [
       "  0%|          | 0/99 [00:00<?, ?it/s]"
      ]
     },
     "metadata": {},
     "output_type": "display_data"
    },
    {
     "data": {
      "application/vnd.jupyter.widget-view+json": {
       "model_id": "c101368e59d3422b9dda0f988aa5cba6",
       "version_major": 2,
       "version_minor": 0
      },
      "text/plain": [
       "  0%|          | 0/197 [00:00<?, ?it/s]"
      ]
     },
     "metadata": {},
     "output_type": "display_data"
    },
    {
     "name": "stdout",
     "output_type": "stream",
     "text": [
      "Epoch [54/500], Train Loss: 0.4831, Train Accuracy: 0.8185 Valid Loss: 6.1522, Valid Accuracy: 0.1608\n"
     ]
    },
    {
     "data": {
      "application/vnd.jupyter.widget-view+json": {
       "model_id": "de082cdae9a94de98424668ab2bcc160",
       "version_major": 2,
       "version_minor": 0
      },
      "text/plain": [
       "  0%|          | 0/99 [00:00<?, ?it/s]"
      ]
     },
     "metadata": {},
     "output_type": "display_data"
    },
    {
     "data": {
      "application/vnd.jupyter.widget-view+json": {
       "model_id": "ef222b6b19344d48ae3407bd95ee8d2a",
       "version_major": 2,
       "version_minor": 0
      },
      "text/plain": [
       "  0%|          | 0/197 [00:00<?, ?it/s]"
      ]
     },
     "metadata": {},
     "output_type": "display_data"
    },
    {
     "name": "stdout",
     "output_type": "stream",
     "text": [
      "Epoch [55/500], Train Loss: 0.4570, Train Accuracy: 0.8401 Valid Loss: 2.6583, Valid Accuracy: 0.4411\n"
     ]
    },
    {
     "data": {
      "application/vnd.jupyter.widget-view+json": {
       "model_id": "f942a47db5594a4082e71acd904b5948",
       "version_major": 2,
       "version_minor": 0
      },
      "text/plain": [
       "  0%|          | 0/99 [00:00<?, ?it/s]"
      ]
     },
     "metadata": {},
     "output_type": "display_data"
    },
    {
     "data": {
      "application/vnd.jupyter.widget-view+json": {
       "model_id": "f72a2a871c054e06bf373ed15e723a29",
       "version_major": 2,
       "version_minor": 0
      },
      "text/plain": [
       "  0%|          | 0/197 [00:00<?, ?it/s]"
      ]
     },
     "metadata": {},
     "output_type": "display_data"
    },
    {
     "name": "stdout",
     "output_type": "stream",
     "text": [
      "Epoch [56/500], Train Loss: 0.4524, Train Accuracy: 0.8389 Valid Loss: 2.5514, Valid Accuracy: 0.3908\n"
     ]
    },
    {
     "data": {
      "application/vnd.jupyter.widget-view+json": {
       "model_id": "8bcdd753261042269efef6a75496165e",
       "version_major": 2,
       "version_minor": 0
      },
      "text/plain": [
       "  0%|          | 0/99 [00:00<?, ?it/s]"
      ]
     },
     "metadata": {},
     "output_type": "display_data"
    },
    {
     "data": {
      "application/vnd.jupyter.widget-view+json": {
       "model_id": "0c388f610c884bb9b83c268ab8d948b1",
       "version_major": 2,
       "version_minor": 0
      },
      "text/plain": [
       "  0%|          | 0/197 [00:00<?, ?it/s]"
      ]
     },
     "metadata": {},
     "output_type": "display_data"
    },
    {
     "name": "stdout",
     "output_type": "stream",
     "text": [
      "Epoch [57/500], Train Loss: 0.4414, Train Accuracy: 0.8395 Valid Loss: 2.8421, Valid Accuracy: 0.3427\n"
     ]
    },
    {
     "data": {
      "application/vnd.jupyter.widget-view+json": {
       "model_id": "468591300f4546c0b0d13123eee3d03a",
       "version_major": 2,
       "version_minor": 0
      },
      "text/plain": [
       "  0%|          | 0/99 [00:00<?, ?it/s]"
      ]
     },
     "metadata": {},
     "output_type": "display_data"
    },
    {
     "data": {
      "application/vnd.jupyter.widget-view+json": {
       "model_id": "afe3774f6e4a4fd1bdc6c7b22e9da184",
       "version_major": 2,
       "version_minor": 0
      },
      "text/plain": [
       "  0%|          | 0/197 [00:00<?, ?it/s]"
      ]
     },
     "metadata": {},
     "output_type": "display_data"
    },
    {
     "name": "stdout",
     "output_type": "stream",
     "text": [
      "Epoch [58/500], Train Loss: 0.4624, Train Accuracy: 0.8420 Valid Loss: 4.0174, Valid Accuracy: 0.0904\n"
     ]
    },
    {
     "data": {
      "application/vnd.jupyter.widget-view+json": {
       "model_id": "3be2f41b9ede4f25bbc912000e855348",
       "version_major": 2,
       "version_minor": 0
      },
      "text/plain": [
       "  0%|          | 0/99 [00:00<?, ?it/s]"
      ]
     },
     "metadata": {},
     "output_type": "display_data"
    },
    {
     "data": {
      "application/vnd.jupyter.widget-view+json": {
       "model_id": "d601c40db7e64d96a3a5086fd8daeb83",
       "version_major": 2,
       "version_minor": 0
      },
      "text/plain": [
       "  0%|          | 0/197 [00:00<?, ?it/s]"
      ]
     },
     "metadata": {},
     "output_type": "display_data"
    },
    {
     "name": "stdout",
     "output_type": "stream",
     "text": [
      "Epoch [59/500], Train Loss: 0.4333, Train Accuracy: 0.8420 Valid Loss: 3.5891, Valid Accuracy: 0.3131\n"
     ]
    },
    {
     "data": {
      "application/vnd.jupyter.widget-view+json": {
       "model_id": "340505586b4c488b9f5b253a590be956",
       "version_major": 2,
       "version_minor": 0
      },
      "text/plain": [
       "  0%|          | 0/99 [00:00<?, ?it/s]"
      ]
     },
     "metadata": {},
     "output_type": "display_data"
    },
    {
     "data": {
      "application/vnd.jupyter.widget-view+json": {
       "model_id": "501ecc0bec7d4d44b8b7ab62766fd37d",
       "version_major": 2,
       "version_minor": 0
      },
      "text/plain": [
       "  0%|          | 0/197 [00:00<?, ?it/s]"
      ]
     },
     "metadata": {},
     "output_type": "display_data"
    },
    {
     "name": "stdout",
     "output_type": "stream",
     "text": [
      "Epoch [60/500], Train Loss: 0.4139, Train Accuracy: 0.8465 Valid Loss: 2.2019, Valid Accuracy: 0.4029\n"
     ]
    },
    {
     "data": {
      "application/vnd.jupyter.widget-view+json": {
       "model_id": "6a2388fd25dd4d8686d8772214b49cc5",
       "version_major": 2,
       "version_minor": 0
      },
      "text/plain": [
       "  0%|          | 0/99 [00:00<?, ?it/s]"
      ]
     },
     "metadata": {},
     "output_type": "display_data"
    },
    {
     "data": {
      "application/vnd.jupyter.widget-view+json": {
       "model_id": "59c4a9193ca54521aa38129c42df0e98",
       "version_major": 2,
       "version_minor": 0
      },
      "text/plain": [
       "  0%|          | 0/197 [00:00<?, ?it/s]"
      ]
     },
     "metadata": {},
     "output_type": "display_data"
    },
    {
     "name": "stdout",
     "output_type": "stream",
     "text": [
      "Epoch [61/500], Train Loss: 0.4259, Train Accuracy: 0.8510 Valid Loss: 1.9581, Valid Accuracy: 0.5309\n"
     ]
    },
    {
     "data": {
      "application/vnd.jupyter.widget-view+json": {
       "model_id": "ce7ce79a1e94401dad329bb33469a79e",
       "version_major": 2,
       "version_minor": 0
      },
      "text/plain": [
       "  0%|          | 0/99 [00:00<?, ?it/s]"
      ]
     },
     "metadata": {},
     "output_type": "display_data"
    },
    {
     "data": {
      "application/vnd.jupyter.widget-view+json": {
       "model_id": "0cb0ee06b5894a6e8ac696a49121df58",
       "version_major": 2,
       "version_minor": 0
      },
      "text/plain": [
       "  0%|          | 0/197 [00:00<?, ?it/s]"
      ]
     },
     "metadata": {},
     "output_type": "display_data"
    },
    {
     "name": "stdout",
     "output_type": "stream",
     "text": [
      "Epoch [62/500], Train Loss: 0.3835, Train Accuracy: 0.8675 Valid Loss: 2.7567, Valid Accuracy: 0.3685\n"
     ]
    },
    {
     "data": {
      "application/vnd.jupyter.widget-view+json": {
       "model_id": "aa6f9314cbdd48c8b9143a479979aa75",
       "version_major": 2,
       "version_minor": 0
      },
      "text/plain": [
       "  0%|          | 0/99 [00:00<?, ?it/s]"
      ]
     },
     "metadata": {},
     "output_type": "display_data"
    },
    {
     "data": {
      "application/vnd.jupyter.widget-view+json": {
       "model_id": "7731775d9ede4b8490af7c5651f84f0c",
       "version_major": 2,
       "version_minor": 0
      },
      "text/plain": [
       "  0%|          | 0/197 [00:00<?, ?it/s]"
      ]
     },
     "metadata": {},
     "output_type": "display_data"
    },
    {
     "name": "stdout",
     "output_type": "stream",
     "text": [
      "Epoch [63/500], Train Loss: 0.4384, Train Accuracy: 0.8535 Valid Loss: 4.4803, Valid Accuracy: 0.0752\n"
     ]
    },
    {
     "data": {
      "application/vnd.jupyter.widget-view+json": {
       "model_id": "247a7add25d840a5b42393c0d52f162d",
       "version_major": 2,
       "version_minor": 0
      },
      "text/plain": [
       "  0%|          | 0/99 [00:00<?, ?it/s]"
      ]
     },
     "metadata": {},
     "output_type": "display_data"
    },
    {
     "data": {
      "application/vnd.jupyter.widget-view+json": {
       "model_id": "37e2ec05bf2743e9b207e29b726bbfea",
       "version_major": 2,
       "version_minor": 0
      },
      "text/plain": [
       "  0%|          | 0/197 [00:00<?, ?it/s]"
      ]
     },
     "metadata": {},
     "output_type": "display_data"
    },
    {
     "name": "stdout",
     "output_type": "stream",
     "text": [
      "Epoch [64/500], Train Loss: 0.4134, Train Accuracy: 0.8516 Valid Loss: 5.9755, Valid Accuracy: 0.1296\n"
     ]
    },
    {
     "data": {
      "application/vnd.jupyter.widget-view+json": {
       "model_id": "8380e1b6dfe64b0da0a2fa85cd5bc9d0",
       "version_major": 2,
       "version_minor": 0
      },
      "text/plain": [
       "  0%|          | 0/99 [00:00<?, ?it/s]"
      ]
     },
     "metadata": {},
     "output_type": "display_data"
    },
    {
     "data": {
      "application/vnd.jupyter.widget-view+json": {
       "model_id": "58b8a66340a840d1b6f846de581966ef",
       "version_major": 2,
       "version_minor": 0
      },
      "text/plain": [
       "  0%|          | 0/197 [00:00<?, ?it/s]"
      ]
     },
     "metadata": {},
     "output_type": "display_data"
    },
    {
     "name": "stdout",
     "output_type": "stream",
     "text": [
      "Epoch [65/500], Train Loss: 0.4369, Train Accuracy: 0.8465 Valid Loss: 6.7465, Valid Accuracy: 0.0688\n"
     ]
    },
    {
     "data": {
      "application/vnd.jupyter.widget-view+json": {
       "model_id": "d0c608e2cdfe444cb76b9c2c7f3d0272",
       "version_major": 2,
       "version_minor": 0
      },
      "text/plain": [
       "  0%|          | 0/99 [00:00<?, ?it/s]"
      ]
     },
     "metadata": {},
     "output_type": "display_data"
    },
    {
     "data": {
      "application/vnd.jupyter.widget-view+json": {
       "model_id": "b3b7fac2516c41f880b99fe920c051a5",
       "version_major": 2,
       "version_minor": 0
      },
      "text/plain": [
       "  0%|          | 0/197 [00:00<?, ?it/s]"
      ]
     },
     "metadata": {},
     "output_type": "display_data"
    },
    {
     "name": "stdout",
     "output_type": "stream",
     "text": [
      "Epoch [66/500], Train Loss: 0.4482, Train Accuracy: 0.8420 Valid Loss: 2.8787, Valid Accuracy: 0.3395\n"
     ]
    },
    {
     "data": {
      "application/vnd.jupyter.widget-view+json": {
       "model_id": "d12528a537bd4bf3a3e9c829ca466e07",
       "version_major": 2,
       "version_minor": 0
      },
      "text/plain": [
       "  0%|          | 0/99 [00:00<?, ?it/s]"
      ]
     },
     "metadata": {},
     "output_type": "display_data"
    },
    {
     "data": {
      "application/vnd.jupyter.widget-view+json": {
       "model_id": "02648d74dfc74a3a9a0c5538e4d0757d",
       "version_major": 2,
       "version_minor": 0
      },
      "text/plain": [
       "  0%|          | 0/197 [00:00<?, ?it/s]"
      ]
     },
     "metadata": {},
     "output_type": "display_data"
    },
    {
     "name": "stdout",
     "output_type": "stream",
     "text": [
      "Epoch [67/500], Train Loss: 0.4173, Train Accuracy: 0.8446 Valid Loss: 4.3131, Valid Accuracy: 0.4309\n"
     ]
    },
    {
     "data": {
      "application/vnd.jupyter.widget-view+json": {
       "model_id": "11958aa6f7d34d36a3ea654b4910c68c",
       "version_major": 2,
       "version_minor": 0
      },
      "text/plain": [
       "  0%|          | 0/99 [00:00<?, ?it/s]"
      ]
     },
     "metadata": {},
     "output_type": "display_data"
    },
    {
     "data": {
      "application/vnd.jupyter.widget-view+json": {
       "model_id": "1168076431824db587ef6aeea8f805d6",
       "version_major": 2,
       "version_minor": 0
      },
      "text/plain": [
       "  0%|          | 0/197 [00:00<?, ?it/s]"
      ]
     },
     "metadata": {},
     "output_type": "display_data"
    },
    {
     "name": "stdout",
     "output_type": "stream",
     "text": [
      "Epoch [68/500], Train Loss: 0.4435, Train Accuracy: 0.8510 Valid Loss: 5.5401, Valid Accuracy: 0.3930\n"
     ]
    },
    {
     "data": {
      "application/vnd.jupyter.widget-view+json": {
       "model_id": "6ecaf3aab79a4616ab2329bb835d3732",
       "version_major": 2,
       "version_minor": 0
      },
      "text/plain": [
       "  0%|          | 0/99 [00:00<?, ?it/s]"
      ]
     },
     "metadata": {},
     "output_type": "display_data"
    },
    {
     "data": {
      "application/vnd.jupyter.widget-view+json": {
       "model_id": "aefd5a76a1184f71b69b9512c4bbc18e",
       "version_major": 2,
       "version_minor": 0
      },
      "text/plain": [
       "  0%|          | 0/197 [00:00<?, ?it/s]"
      ]
     },
     "metadata": {},
     "output_type": "display_data"
    },
    {
     "name": "stdout",
     "output_type": "stream",
     "text": [
      "Epoch [69/500], Train Loss: 0.4080, Train Accuracy: 0.8592 Valid Loss: 9.2398, Valid Accuracy: 0.2541\n"
     ]
    },
    {
     "data": {
      "application/vnd.jupyter.widget-view+json": {
       "model_id": "89e88592948f475db4344aba31e2af67",
       "version_major": 2,
       "version_minor": 0
      },
      "text/plain": [
       "  0%|          | 0/99 [00:00<?, ?it/s]"
      ]
     },
     "metadata": {},
     "output_type": "display_data"
    },
    {
     "data": {
      "application/vnd.jupyter.widget-view+json": {
       "model_id": "62c91bbfdc8e4f32844f5b0336c6c516",
       "version_major": 2,
       "version_minor": 0
      },
      "text/plain": [
       "  0%|          | 0/197 [00:00<?, ?it/s]"
      ]
     },
     "metadata": {},
     "output_type": "display_data"
    },
    {
     "name": "stdout",
     "output_type": "stream",
     "text": [
      "Epoch [70/500], Train Loss: 0.3657, Train Accuracy: 0.8650 Valid Loss: 9.6569, Valid Accuracy: 0.0758\n"
     ]
    },
    {
     "data": {
      "application/vnd.jupyter.widget-view+json": {
       "model_id": "6cfc430efbca4e28afee6cb4616c67b0",
       "version_major": 2,
       "version_minor": 0
      },
      "text/plain": [
       "  0%|          | 0/99 [00:00<?, ?it/s]"
      ]
     },
     "metadata": {},
     "output_type": "display_data"
    },
    {
     "data": {
      "application/vnd.jupyter.widget-view+json": {
       "model_id": "8c4c96814ead48c3b090dfce2188aa73",
       "version_major": 2,
       "version_minor": 0
      },
      "text/plain": [
       "  0%|          | 0/197 [00:00<?, ?it/s]"
      ]
     },
     "metadata": {},
     "output_type": "display_data"
    },
    {
     "name": "stdout",
     "output_type": "stream",
     "text": [
      "Epoch [71/500], Train Loss: 0.3807, Train Accuracy: 0.8675 Valid Loss: 1.4114, Valid Accuracy: 0.6293\n"
     ]
    },
    {
     "data": {
      "application/vnd.jupyter.widget-view+json": {
       "model_id": "4c89629e4ab24db8b18b1ca8743d6f61",
       "version_major": 2,
       "version_minor": 0
      },
      "text/plain": [
       "  0%|          | 0/99 [00:00<?, ?it/s]"
      ]
     },
     "metadata": {},
     "output_type": "display_data"
    },
    {
     "data": {
      "application/vnd.jupyter.widget-view+json": {
       "model_id": "17e42bb017c34e18a1ba84e545b63f37",
       "version_major": 2,
       "version_minor": 0
      },
      "text/plain": [
       "  0%|          | 0/197 [00:00<?, ?it/s]"
      ]
     },
     "metadata": {},
     "output_type": "display_data"
    },
    {
     "name": "stdout",
     "output_type": "stream",
     "text": [
      "Epoch [72/500], Train Loss: 0.3671, Train Accuracy: 0.8777 Valid Loss: 12.0751, Valid Accuracy: 0.1554\n"
     ]
    },
    {
     "data": {
      "application/vnd.jupyter.widget-view+json": {
       "model_id": "a2b5fe991a604199a5ee9c9887b14821",
       "version_major": 2,
       "version_minor": 0
      },
      "text/plain": [
       "  0%|          | 0/99 [00:00<?, ?it/s]"
      ]
     },
     "metadata": {},
     "output_type": "display_data"
    },
    {
     "data": {
      "application/vnd.jupyter.widget-view+json": {
       "model_id": "410685ee7f954326870016f65b4dcd43",
       "version_major": 2,
       "version_minor": 0
      },
      "text/plain": [
       "  0%|          | 0/197 [00:00<?, ?it/s]"
      ]
     },
     "metadata": {},
     "output_type": "display_data"
    },
    {
     "name": "stdout",
     "output_type": "stream",
     "text": [
      "Epoch [73/500], Train Loss: 0.3756, Train Accuracy: 0.8662 Valid Loss: 2.7755, Valid Accuracy: 0.4497\n"
     ]
    },
    {
     "data": {
      "application/vnd.jupyter.widget-view+json": {
       "model_id": "3281de577de64edd95efcd1afb7bb281",
       "version_major": 2,
       "version_minor": 0
      },
      "text/plain": [
       "  0%|          | 0/99 [00:00<?, ?it/s]"
      ]
     },
     "metadata": {},
     "output_type": "display_data"
    },
    {
     "data": {
      "application/vnd.jupyter.widget-view+json": {
       "model_id": "bf3e17a6a7d5422b908f88b504c59fcc",
       "version_major": 2,
       "version_minor": 0
      },
      "text/plain": [
       "  0%|          | 0/197 [00:00<?, ?it/s]"
      ]
     },
     "metadata": {},
     "output_type": "display_data"
    },
    {
     "name": "stdout",
     "output_type": "stream",
     "text": [
      "Epoch [74/500], Train Loss: 0.3622, Train Accuracy: 0.8688 Valid Loss: 4.9408, Valid Accuracy: 0.1099\n"
     ]
    },
    {
     "data": {
      "application/vnd.jupyter.widget-view+json": {
       "model_id": "3d31267fa64944c28c3b62b4e690088a",
       "version_major": 2,
       "version_minor": 0
      },
      "text/plain": [
       "  0%|          | 0/99 [00:00<?, ?it/s]"
      ]
     },
     "metadata": {},
     "output_type": "display_data"
    },
    {
     "data": {
      "application/vnd.jupyter.widget-view+json": {
       "model_id": "8cba2ba296574841a2f010bc3f46db12",
       "version_major": 2,
       "version_minor": 0
      },
      "text/plain": [
       "  0%|          | 0/197 [00:00<?, ?it/s]"
      ]
     },
     "metadata": {},
     "output_type": "display_data"
    },
    {
     "name": "stdout",
     "output_type": "stream",
     "text": [
      "Epoch [75/500], Train Loss: 0.4456, Train Accuracy: 0.8529 Valid Loss: 16.4158, Valid Accuracy: 0.1732\n"
     ]
    },
    {
     "data": {
      "application/vnd.jupyter.widget-view+json": {
       "model_id": "1a427e574d104969be77b21dfd2509b2",
       "version_major": 2,
       "version_minor": 0
      },
      "text/plain": [
       "  0%|          | 0/99 [00:00<?, ?it/s]"
      ]
     },
     "metadata": {},
     "output_type": "display_data"
    },
    {
     "data": {
      "application/vnd.jupyter.widget-view+json": {
       "model_id": "f885b5bf65f148e2909594dfd2ee9d1c",
       "version_major": 2,
       "version_minor": 0
      },
      "text/plain": [
       "  0%|          | 0/197 [00:00<?, ?it/s]"
      ]
     },
     "metadata": {},
     "output_type": "display_data"
    },
    {
     "name": "stdout",
     "output_type": "stream",
     "text": [
      "Epoch [76/500], Train Loss: 0.4628, Train Accuracy: 0.8446 Valid Loss: 6.1394, Valid Accuracy: 0.0271\n"
     ]
    },
    {
     "data": {
      "application/vnd.jupyter.widget-view+json": {
       "model_id": "edaecdc09f894cbab9453871df6e9940",
       "version_major": 2,
       "version_minor": 0
      },
      "text/plain": [
       "  0%|          | 0/99 [00:00<?, ?it/s]"
      ]
     },
     "metadata": {},
     "output_type": "display_data"
    },
    {
     "data": {
      "application/vnd.jupyter.widget-view+json": {
       "model_id": "4e9433b9baaf441f8f323be015959f78",
       "version_major": 2,
       "version_minor": 0
      },
      "text/plain": [
       "  0%|          | 0/197 [00:00<?, ?it/s]"
      ]
     },
     "metadata": {},
     "output_type": "display_data"
    },
    {
     "name": "stdout",
     "output_type": "stream",
     "text": [
      "Epoch [77/500], Train Loss: 0.3666, Train Accuracy: 0.8656 Valid Loss: 2.3415, Valid Accuracy: 0.5140\n"
     ]
    },
    {
     "data": {
      "application/vnd.jupyter.widget-view+json": {
       "model_id": "94885ac0de574722964ea5228f31d0d5",
       "version_major": 2,
       "version_minor": 0
      },
      "text/plain": [
       "  0%|          | 0/99 [00:00<?, ?it/s]"
      ]
     },
     "metadata": {},
     "output_type": "display_data"
    },
    {
     "data": {
      "application/vnd.jupyter.widget-view+json": {
       "model_id": "434dc074a8654777bc4d08e8d1f3f821",
       "version_major": 2,
       "version_minor": 0
      },
      "text/plain": [
       "  0%|          | 0/197 [00:00<?, ?it/s]"
      ]
     },
     "metadata": {},
     "output_type": "display_data"
    },
    {
     "name": "stdout",
     "output_type": "stream",
     "text": [
      "Epoch [78/500], Train Loss: 0.3630, Train Accuracy: 0.8643 Valid Loss: 1.9050, Valid Accuracy: 0.5478\n"
     ]
    },
    {
     "data": {
      "application/vnd.jupyter.widget-view+json": {
       "model_id": "6e67cab54f6b410aa96f64a75e026562",
       "version_major": 2,
       "version_minor": 0
      },
      "text/plain": [
       "  0%|          | 0/99 [00:00<?, ?it/s]"
      ]
     },
     "metadata": {},
     "output_type": "display_data"
    },
    {
     "data": {
      "application/vnd.jupyter.widget-view+json": {
       "model_id": "33871d7e432f4dc8ac3f36836809a4ea",
       "version_major": 2,
       "version_minor": 0
      },
      "text/plain": [
       "  0%|          | 0/197 [00:00<?, ?it/s]"
      ]
     },
     "metadata": {},
     "output_type": "display_data"
    },
    {
     "name": "stdout",
     "output_type": "stream",
     "text": [
      "Epoch [79/500], Train Loss: 0.3786, Train Accuracy: 0.8752 Valid Loss: 4.9296, Valid Accuracy: 0.1943\n"
     ]
    },
    {
     "data": {
      "application/vnd.jupyter.widget-view+json": {
       "model_id": "3fc8db15ec7644e9b00e065dc124804e",
       "version_major": 2,
       "version_minor": 0
      },
      "text/plain": [
       "  0%|          | 0/99 [00:00<?, ?it/s]"
      ]
     },
     "metadata": {},
     "output_type": "display_data"
    },
    {
     "data": {
      "application/vnd.jupyter.widget-view+json": {
       "model_id": "c6a8b2d5dd50498cbe40ba985e61ebc0",
       "version_major": 2,
       "version_minor": 0
      },
      "text/plain": [
       "  0%|          | 0/197 [00:00<?, ?it/s]"
      ]
     },
     "metadata": {},
     "output_type": "display_data"
    },
    {
     "name": "stdout",
     "output_type": "stream",
     "text": [
      "Epoch [80/500], Train Loss: 0.4020, Train Accuracy: 0.8586 Valid Loss: 2.5591, Valid Accuracy: 0.3650\n"
     ]
    },
    {
     "data": {
      "application/vnd.jupyter.widget-view+json": {
       "model_id": "c00c979a488c4a73bfac6d237817e49d",
       "version_major": 2,
       "version_minor": 0
      },
      "text/plain": [
       "  0%|          | 0/99 [00:00<?, ?it/s]"
      ]
     },
     "metadata": {},
     "output_type": "display_data"
    },
    {
     "data": {
      "application/vnd.jupyter.widget-view+json": {
       "model_id": "42605564837c4c2983c14ba902942869",
       "version_major": 2,
       "version_minor": 0
      },
      "text/plain": [
       "  0%|          | 0/197 [00:00<?, ?it/s]"
      ]
     },
     "metadata": {},
     "output_type": "display_data"
    },
    {
     "name": "stdout",
     "output_type": "stream",
     "text": [
      "Epoch [81/500], Train Loss: 0.3625, Train Accuracy: 0.8637 Valid Loss: 1.9219, Valid Accuracy: 0.5516\n"
     ]
    },
    {
     "data": {
      "application/vnd.jupyter.widget-view+json": {
       "model_id": "20e28c3f54944733987e093d236f585c",
       "version_major": 2,
       "version_minor": 0
      },
      "text/plain": [
       "  0%|          | 0/99 [00:00<?, ?it/s]"
      ]
     },
     "metadata": {},
     "output_type": "display_data"
    },
    {
     "data": {
      "application/vnd.jupyter.widget-view+json": {
       "model_id": "938be78e67c04038b6459824bfce93cd",
       "version_major": 2,
       "version_minor": 0
      },
      "text/plain": [
       "  0%|          | 0/197 [00:00<?, ?it/s]"
      ]
     },
     "metadata": {},
     "output_type": "display_data"
    },
    {
     "name": "stdout",
     "output_type": "stream",
     "text": [
      "Epoch [82/500], Train Loss: 0.3381, Train Accuracy: 0.8694 Valid Loss: 1.5747, Valid Accuracy: 0.6213\n"
     ]
    },
    {
     "data": {
      "application/vnd.jupyter.widget-view+json": {
       "model_id": "51aa8d09fff548739a685dbe48ff257d",
       "version_major": 2,
       "version_minor": 0
      },
      "text/plain": [
       "  0%|          | 0/99 [00:00<?, ?it/s]"
      ]
     },
     "metadata": {},
     "output_type": "display_data"
    },
    {
     "data": {
      "application/vnd.jupyter.widget-view+json": {
       "model_id": "8302a2de32b44df794439a562cd51688",
       "version_major": 2,
       "version_minor": 0
      },
      "text/plain": [
       "  0%|          | 0/197 [00:00<?, ?it/s]"
      ]
     },
     "metadata": {},
     "output_type": "display_data"
    },
    {
     "name": "stdout",
     "output_type": "stream",
     "text": [
      "Epoch [83/500], Train Loss: 0.3389, Train Accuracy: 0.8675 Valid Loss: 8.3135, Valid Accuracy: 0.0545\n"
     ]
    },
    {
     "data": {
      "application/vnd.jupyter.widget-view+json": {
       "model_id": "f019cd2967ef4fa59fa6592dc8741c8b",
       "version_major": 2,
       "version_minor": 0
      },
      "text/plain": [
       "  0%|          | 0/99 [00:00<?, ?it/s]"
      ]
     },
     "metadata": {},
     "output_type": "display_data"
    },
    {
     "data": {
      "application/vnd.jupyter.widget-view+json": {
       "model_id": "b869f8c46ba641d4a6190f16a1825ba3",
       "version_major": 2,
       "version_minor": 0
      },
      "text/plain": [
       "  0%|          | 0/197 [00:00<?, ?it/s]"
      ]
     },
     "metadata": {},
     "output_type": "display_data"
    },
    {
     "name": "stdout",
     "output_type": "stream",
     "text": [
      "Epoch [84/500], Train Loss: 0.3658, Train Accuracy: 0.8764 Valid Loss: 1.8362, Valid Accuracy: 0.5525\n"
     ]
    },
    {
     "data": {
      "application/vnd.jupyter.widget-view+json": {
       "model_id": "7b784b73045c469d93aac17f7ce61fdf",
       "version_major": 2,
       "version_minor": 0
      },
      "text/plain": [
       "  0%|          | 0/99 [00:00<?, ?it/s]"
      ]
     },
     "metadata": {},
     "output_type": "display_data"
    },
    {
     "data": {
      "application/vnd.jupyter.widget-view+json": {
       "model_id": "b4777c7409d94708a206286bd5948b1d",
       "version_major": 2,
       "version_minor": 0
      },
      "text/plain": [
       "  0%|          | 0/197 [00:00<?, ?it/s]"
      ]
     },
     "metadata": {},
     "output_type": "display_data"
    },
    {
     "name": "stdout",
     "output_type": "stream",
     "text": [
      "Epoch [85/500], Train Loss: 0.3422, Train Accuracy: 0.8713 Valid Loss: 1.5310, Valid Accuracy: 0.6236\n"
     ]
    },
    {
     "data": {
      "application/vnd.jupyter.widget-view+json": {
       "model_id": "2330086f93f948f28486cb4587060372",
       "version_major": 2,
       "version_minor": 0
      },
      "text/plain": [
       "  0%|          | 0/99 [00:00<?, ?it/s]"
      ]
     },
     "metadata": {},
     "output_type": "display_data"
    },
    {
     "data": {
      "application/vnd.jupyter.widget-view+json": {
       "model_id": "0095004fa82141879253186bc6a9a119",
       "version_major": 2,
       "version_minor": 0
      },
      "text/plain": [
       "  0%|          | 0/197 [00:00<?, ?it/s]"
      ]
     },
     "metadata": {},
     "output_type": "display_data"
    },
    {
     "name": "stdout",
     "output_type": "stream",
     "text": [
      "Epoch [86/500], Train Loss: 0.3412, Train Accuracy: 0.8764 Valid Loss: 5.2604, Valid Accuracy: 0.1573\n"
     ]
    },
    {
     "data": {
      "application/vnd.jupyter.widget-view+json": {
       "model_id": "4cd3a014c0cc4cc68b8649453f7f88c4",
       "version_major": 2,
       "version_minor": 0
      },
      "text/plain": [
       "  0%|          | 0/99 [00:00<?, ?it/s]"
      ]
     },
     "metadata": {},
     "output_type": "display_data"
    },
    {
     "data": {
      "application/vnd.jupyter.widget-view+json": {
       "model_id": "558be54c021946218ee63775be72320a",
       "version_major": 2,
       "version_minor": 0
      },
      "text/plain": [
       "  0%|          | 0/197 [00:00<?, ?it/s]"
      ]
     },
     "metadata": {},
     "output_type": "display_data"
    },
    {
     "name": "stdout",
     "output_type": "stream",
     "text": [
      "Epoch [87/500], Train Loss: 0.3370, Train Accuracy: 0.8771 Valid Loss: 11.9723, Valid Accuracy: 0.0946\n"
     ]
    },
    {
     "data": {
      "application/vnd.jupyter.widget-view+json": {
       "model_id": "fa152191871f4a74a06d390a3682b455",
       "version_major": 2,
       "version_minor": 0
      },
      "text/plain": [
       "  0%|          | 0/99 [00:00<?, ?it/s]"
      ]
     },
     "metadata": {},
     "output_type": "display_data"
    },
    {
     "data": {
      "application/vnd.jupyter.widget-view+json": {
       "model_id": "770b5cea2c334f2ca5d08a427022e2ea",
       "version_major": 2,
       "version_minor": 0
      },
      "text/plain": [
       "  0%|          | 0/197 [00:00<?, ?it/s]"
      ]
     },
     "metadata": {},
     "output_type": "display_data"
    },
    {
     "name": "stdout",
     "output_type": "stream",
     "text": [
      "Epoch [88/500], Train Loss: 0.3249, Train Accuracy: 0.8924 Valid Loss: 6.9127, Valid Accuracy: 0.2207\n"
     ]
    },
    {
     "data": {
      "application/vnd.jupyter.widget-view+json": {
       "model_id": "84d99dbef87b4c04889434eb0a5781a4",
       "version_major": 2,
       "version_minor": 0
      },
      "text/plain": [
       "  0%|          | 0/99 [00:00<?, ?it/s]"
      ]
     },
     "metadata": {},
     "output_type": "display_data"
    },
    {
     "data": {
      "application/vnd.jupyter.widget-view+json": {
       "model_id": "9a51abf3fbef4ef29717196124dbb0c2",
       "version_major": 2,
       "version_minor": 0
      },
      "text/plain": [
       "  0%|          | 0/197 [00:00<?, ?it/s]"
      ]
     },
     "metadata": {},
     "output_type": "display_data"
    },
    {
     "name": "stdout",
     "output_type": "stream",
     "text": [
      "Epoch [89/500], Train Loss: 0.3218, Train Accuracy: 0.8822 Valid Loss: 4.5992, Valid Accuracy: 0.2596\n"
     ]
    },
    {
     "data": {
      "application/vnd.jupyter.widget-view+json": {
       "model_id": "61fa5fb23c8d4f47abfe865a65ab5ae2",
       "version_major": 2,
       "version_minor": 0
      },
      "text/plain": [
       "  0%|          | 0/99 [00:00<?, ?it/s]"
      ]
     },
     "metadata": {},
     "output_type": "display_data"
    },
    {
     "data": {
      "application/vnd.jupyter.widget-view+json": {
       "model_id": "0e63bc857af44b118753cccc8b41a2c3",
       "version_major": 2,
       "version_minor": 0
      },
      "text/plain": [
       "  0%|          | 0/197 [00:00<?, ?it/s]"
      ]
     },
     "metadata": {},
     "output_type": "display_data"
    },
    {
     "name": "stdout",
     "output_type": "stream",
     "text": [
      "Epoch [90/500], Train Loss: 0.3641, Train Accuracy: 0.8611 Valid Loss: 3.8001, Valid Accuracy: 0.3414\n",
      "Early Stopping\n"
     ]
    }
   ],
   "source": [
    "model = training_loop(model, train_dataloader, train_dataset, valid_dataloader, valid_dataset, criterion, optimizer, 500)"
   ]
  },
  {
   "cell_type": "markdown",
   "metadata": {},
   "source": [
    "# Submission"
   ]
  },
  {
   "cell_type": "code",
   "execution_count": 5,
   "metadata": {},
   "outputs": [],
   "source": [
    "model = timm.create_model(\n",
    "    'resnet152',\n",
    "    pretrained=True,\n",
    "    num_classes=17\n",
    ").to(device)\n",
    "model.load_state_dict(torch.load('/data/ephemeral/home/model/models/model_v9_best.pt'))\n",
    "\n",
    "criterion = torch.nn.CrossEntropyLoss()"
   ]
  },
  {
   "cell_type": "code",
   "execution_count": 6,
   "metadata": {},
   "outputs": [],
   "source": [
    "class sub_customdataset(torch.utils.data.Dataset):\n",
    "    def __init__(self, csv, path, transforms):\n",
    "        super().__init__()\n",
    "        self.df = pd.read_csv(csv).values\n",
    "        self.path = path\n",
    "        self.transforms = transforms\n",
    "\n",
    "    def __len__(self):\n",
    "        return len(self.df)\n",
    "    \n",
    "    def __getitem__(self, idx):\n",
    "        name, target = self.df[idx]\n",
    "        img = np.array(Image.open(os.path.join(self.path, name)))\n",
    "        img = self.transforms(img)\n",
    "    \n",
    "        return img, target"
   ]
  },
  {
   "cell_type": "code",
   "execution_count": 7,
   "metadata": {},
   "outputs": [],
   "source": [
    "transforms = T.Compose([\n",
    "    T.ToTensor(),\n",
    "    T.Resize((500, 500))\n",
    "])\n",
    "\n",
    "sub_dataset = sub_customdataset('/data/ephemeral/home/data/sample_submission.csv', '/data/ephemeral/home/data/test/', transforms=transforms)"
   ]
  },
  {
   "cell_type": "code",
   "execution_count": 8,
   "metadata": {},
   "outputs": [],
   "source": [
    "batch_size = 8\n",
    "\n",
    "sub_dataloader = torch.utils.data.DataLoader(sub_dataset, batch_size=batch_size, shuffle=False, num_workers=16)"
   ]
  },
  {
   "cell_type": "code",
   "execution_count": 9,
   "metadata": {},
   "outputs": [
    {
     "data": {
      "application/vnd.jupyter.widget-view+json": {
       "model_id": "7977cc7ef0944abea9e1c96b0153e0da",
       "version_major": 2,
       "version_minor": 0
      },
      "text/plain": [
       "  0%|          | 0/393 [00:00<?, ?it/s]"
      ]
     },
     "metadata": {},
     "output_type": "display_data"
    }
   ],
   "source": [
    "model.eval()\n",
    "\n",
    "all_preds = []\n",
    "all_labels = []\n",
    "all_images = []\n",
    "\n",
    "with torch.no_grad():\n",
    "    tbar = tqdm(sub_dataloader)\n",
    "    for images, labels in tbar:\n",
    "        images, labels = images.to(device), labels.to(device)\n",
    "        outputs = model(images)\n",
    "\n",
    "        max_prob, predicted = torch.max(outputs, 1)\n",
    "\n",
    "        all_preds.extend(predicted)\n",
    "        all_labels.extend(labels)\n",
    "        all_images.extend(images)\n"
   ]
  },
  {
   "cell_type": "code",
   "execution_count": 10,
   "metadata": {},
   "outputs": [
    {
     "data": {
      "text/plain": [
       "[tensor(2, device='cuda:0'),\n",
       " tensor(12, device='cuda:0'),\n",
       " tensor(8, device='cuda:0'),\n",
       " tensor(3, device='cuda:0'),\n",
       " tensor(2, device='cuda:0'),\n",
       " tensor(15, device='cuda:0'),\n",
       " tensor(0, device='cuda:0'),\n",
       " tensor(8, device='cuda:0'),\n",
       " tensor(15, device='cuda:0'),\n",
       " tensor(11, device='cuda:0'),\n",
       " tensor(8, device='cuda:0'),\n",
       " tensor(4, device='cuda:0'),\n",
       " tensor(2, device='cuda:0'),\n",
       " tensor(9, device='cuda:0'),\n",
       " tensor(12, device='cuda:0'),\n",
       " tensor(4, device='cuda:0'),\n",
       " tensor(14, device='cuda:0'),\n",
       " tensor(16, device='cuda:0'),\n",
       " tensor(0, device='cuda:0'),\n",
       " tensor(11, device='cuda:0'),\n",
       " tensor(12, device='cuda:0'),\n",
       " tensor(12, device='cuda:0'),\n",
       " tensor(1, device='cuda:0'),\n",
       " tensor(6, device='cuda:0'),\n",
       " tensor(3, device='cuda:0'),\n",
       " tensor(0, device='cuda:0'),\n",
       " tensor(3, device='cuda:0'),\n",
       " tensor(2, device='cuda:0'),\n",
       " tensor(0, device='cuda:0'),\n",
       " tensor(6, device='cuda:0'),\n",
       " tensor(11, device='cuda:0'),\n",
       " tensor(0, device='cuda:0'),\n",
       " tensor(0, device='cuda:0'),\n",
       " tensor(2, device='cuda:0'),\n",
       " tensor(16, device='cuda:0'),\n",
       " tensor(16, device='cuda:0'),\n",
       " tensor(15, device='cuda:0'),\n",
       " tensor(4, device='cuda:0'),\n",
       " tensor(4, device='cuda:0'),\n",
       " tensor(0, device='cuda:0'),\n",
       " tensor(0, device='cuda:0'),\n",
       " tensor(9, device='cuda:0'),\n",
       " tensor(3, device='cuda:0'),\n",
       " tensor(6, device='cuda:0'),\n",
       " tensor(0, device='cuda:0'),\n",
       " tensor(8, device='cuda:0'),\n",
       " tensor(5, device='cuda:0'),\n",
       " tensor(0, device='cuda:0'),\n",
       " tensor(16, device='cuda:0'),\n",
       " tensor(14, device='cuda:0'),\n",
       " tensor(11, device='cuda:0'),\n",
       " tensor(10, device='cuda:0'),\n",
       " tensor(10, device='cuda:0'),\n",
       " tensor(0, device='cuda:0'),\n",
       " tensor(7, device='cuda:0'),\n",
       " tensor(12, device='cuda:0'),\n",
       " tensor(9, device='cuda:0'),\n",
       " tensor(16, device='cuda:0'),\n",
       " tensor(7, device='cuda:0'),\n",
       " tensor(13, device='cuda:0'),\n",
       " tensor(12, device='cuda:0'),\n",
       " tensor(3, device='cuda:0'),\n",
       " tensor(0, device='cuda:0'),\n",
       " tensor(16, device='cuda:0'),\n",
       " tensor(4, device='cuda:0'),\n",
       " tensor(12, device='cuda:0'),\n",
       " tensor(16, device='cuda:0'),\n",
       " tensor(3, device='cuda:0'),\n",
       " tensor(10, device='cuda:0'),\n",
       " tensor(6, device='cuda:0'),\n",
       " tensor(14, device='cuda:0'),\n",
       " tensor(10, device='cuda:0'),\n",
       " tensor(8, device='cuda:0'),\n",
       " tensor(4, device='cuda:0'),\n",
       " tensor(7, device='cuda:0'),\n",
       " tensor(15, device='cuda:0'),\n",
       " tensor(6, device='cuda:0'),\n",
       " tensor(12, device='cuda:0'),\n",
       " tensor(11, device='cuda:0'),\n",
       " tensor(3, device='cuda:0'),\n",
       " tensor(8, device='cuda:0'),\n",
       " tensor(9, device='cuda:0'),\n",
       " tensor(9, device='cuda:0'),\n",
       " tensor(11, device='cuda:0'),\n",
       " tensor(14, device='cuda:0'),\n",
       " tensor(10, device='cuda:0'),\n",
       " tensor(5, device='cuda:0'),\n",
       " tensor(6, device='cuda:0'),\n",
       " tensor(10, device='cuda:0'),\n",
       " tensor(0, device='cuda:0'),\n",
       " tensor(12, device='cuda:0'),\n",
       " tensor(8, device='cuda:0'),\n",
       " tensor(11, device='cuda:0'),\n",
       " tensor(15, device='cuda:0'),\n",
       " tensor(3, device='cuda:0'),\n",
       " tensor(16, device='cuda:0'),\n",
       " tensor(12, device='cuda:0'),\n",
       " tensor(11, device='cuda:0'),\n",
       " tensor(3, device='cuda:0'),\n",
       " tensor(11, device='cuda:0'),\n",
       " tensor(7, device='cuda:0'),\n",
       " tensor(4, device='cuda:0'),\n",
       " tensor(13, device='cuda:0'),\n",
       " tensor(10, device='cuda:0'),\n",
       " tensor(15, device='cuda:0'),\n",
       " tensor(11, device='cuda:0'),\n",
       " tensor(2, device='cuda:0'),\n",
       " tensor(14, device='cuda:0'),\n",
       " tensor(2, device='cuda:0'),\n",
       " tensor(8, device='cuda:0'),\n",
       " tensor(12, device='cuda:0'),\n",
       " tensor(2, device='cuda:0'),\n",
       " tensor(8, device='cuda:0'),\n",
       " tensor(4, device='cuda:0'),\n",
       " tensor(12, device='cuda:0'),\n",
       " tensor(16, device='cuda:0'),\n",
       " tensor(2, device='cuda:0'),\n",
       " tensor(4, device='cuda:0'),\n",
       " tensor(14, device='cuda:0'),\n",
       " tensor(4, device='cuda:0'),\n",
       " tensor(2, device='cuda:0'),\n",
       " tensor(6, device='cuda:0'),\n",
       " tensor(16, device='cuda:0'),\n",
       " tensor(8, device='cuda:0'),\n",
       " tensor(10, device='cuda:0'),\n",
       " tensor(11, device='cuda:0'),\n",
       " tensor(4, device='cuda:0'),\n",
       " tensor(4, device='cuda:0'),\n",
       " tensor(7, device='cuda:0'),\n",
       " tensor(12, device='cuda:0'),\n",
       " tensor(8, device='cuda:0'),\n",
       " tensor(4, device='cuda:0'),\n",
       " tensor(15, device='cuda:0'),\n",
       " tensor(10, device='cuda:0'),\n",
       " tensor(16, device='cuda:0'),\n",
       " tensor(16, device='cuda:0'),\n",
       " tensor(4, device='cuda:0'),\n",
       " tensor(12, device='cuda:0'),\n",
       " tensor(10, device='cuda:0'),\n",
       " tensor(8, device='cuda:0'),\n",
       " tensor(4, device='cuda:0'),\n",
       " tensor(2, device='cuda:0'),\n",
       " tensor(11, device='cuda:0'),\n",
       " tensor(2, device='cuda:0'),\n",
       " tensor(12, device='cuda:0'),\n",
       " tensor(8, device='cuda:0'),\n",
       " tensor(3, device='cuda:0'),\n",
       " tensor(16, device='cuda:0'),\n",
       " tensor(9, device='cuda:0'),\n",
       " tensor(8, device='cuda:0'),\n",
       " tensor(6, device='cuda:0'),\n",
       " tensor(8, device='cuda:0'),\n",
       " tensor(16, device='cuda:0'),\n",
       " tensor(12, device='cuda:0'),\n",
       " tensor(11, device='cuda:0'),\n",
       " tensor(16, device='cuda:0'),\n",
       " tensor(9, device='cuda:0'),\n",
       " tensor(4, device='cuda:0'),\n",
       " tensor(6, device='cuda:0'),\n",
       " tensor(8, device='cuda:0'),\n",
       " tensor(16, device='cuda:0'),\n",
       " tensor(16, device='cuda:0'),\n",
       " tensor(9, device='cuda:0'),\n",
       " tensor(10, device='cuda:0'),\n",
       " tensor(2, device='cuda:0'),\n",
       " tensor(3, device='cuda:0'),\n",
       " tensor(9, device='cuda:0'),\n",
       " tensor(12, device='cuda:0'),\n",
       " tensor(16, device='cuda:0'),\n",
       " tensor(16, device='cuda:0'),\n",
       " tensor(2, device='cuda:0'),\n",
       " tensor(8, device='cuda:0'),\n",
       " tensor(8, device='cuda:0'),\n",
       " tensor(16, device='cuda:0'),\n",
       " tensor(9, device='cuda:0'),\n",
       " tensor(8, device='cuda:0'),\n",
       " tensor(2, device='cuda:0'),\n",
       " tensor(16, device='cuda:0'),\n",
       " tensor(3, device='cuda:0'),\n",
       " tensor(4, device='cuda:0'),\n",
       " tensor(2, device='cuda:0'),\n",
       " tensor(15, device='cuda:0'),\n",
       " tensor(11, device='cuda:0'),\n",
       " tensor(9, device='cuda:0'),\n",
       " tensor(2, device='cuda:0'),\n",
       " tensor(4, device='cuda:0'),\n",
       " tensor(11, device='cuda:0'),\n",
       " tensor(10, device='cuda:0'),\n",
       " tensor(9, device='cuda:0'),\n",
       " tensor(0, device='cuda:0'),\n",
       " tensor(4, device='cuda:0'),\n",
       " tensor(0, device='cuda:0'),\n",
       " tensor(2, device='cuda:0'),\n",
       " tensor(16, device='cuda:0'),\n",
       " tensor(4, device='cuda:0'),\n",
       " tensor(11, device='cuda:0'),\n",
       " tensor(16, device='cuda:0'),\n",
       " tensor(11, device='cuda:0'),\n",
       " tensor(8, device='cuda:0'),\n",
       " tensor(4, device='cuda:0'),\n",
       " tensor(15, device='cuda:0'),\n",
       " tensor(2, device='cuda:0'),\n",
       " tensor(12, device='cuda:0'),\n",
       " tensor(16, device='cuda:0'),\n",
       " tensor(16, device='cuda:0'),\n",
       " tensor(10, device='cuda:0'),\n",
       " tensor(8, device='cuda:0'),\n",
       " tensor(9, device='cuda:0'),\n",
       " tensor(0, device='cuda:0'),\n",
       " tensor(10, device='cuda:0'),\n",
       " tensor(5, device='cuda:0'),\n",
       " tensor(1, device='cuda:0'),\n",
       " tensor(4, device='cuda:0'),\n",
       " tensor(3, device='cuda:0'),\n",
       " tensor(11, device='cuda:0'),\n",
       " tensor(2, device='cuda:0'),\n",
       " tensor(0, device='cuda:0'),\n",
       " tensor(4, device='cuda:0'),\n",
       " tensor(0, device='cuda:0'),\n",
       " tensor(15, device='cuda:0'),\n",
       " tensor(4, device='cuda:0'),\n",
       " tensor(0, device='cuda:0'),\n",
       " tensor(16, device='cuda:0'),\n",
       " tensor(3, device='cuda:0'),\n",
       " tensor(6, device='cuda:0'),\n",
       " tensor(5, device='cuda:0'),\n",
       " tensor(3, device='cuda:0'),\n",
       " tensor(0, device='cuda:0'),\n",
       " tensor(4, device='cuda:0'),\n",
       " tensor(6, device='cuda:0'),\n",
       " tensor(0, device='cuda:0'),\n",
       " tensor(3, device='cuda:0'),\n",
       " tensor(11, device='cuda:0'),\n",
       " tensor(12, device='cuda:0'),\n",
       " tensor(9, device='cuda:0'),\n",
       " tensor(11, device='cuda:0'),\n",
       " tensor(9, device='cuda:0'),\n",
       " tensor(10, device='cuda:0'),\n",
       " tensor(9, device='cuda:0'),\n",
       " tensor(15, device='cuda:0'),\n",
       " tensor(10, device='cuda:0'),\n",
       " tensor(7, device='cuda:0'),\n",
       " tensor(9, device='cuda:0'),\n",
       " tensor(11, device='cuda:0'),\n",
       " tensor(10, device='cuda:0'),\n",
       " tensor(0, device='cuda:0'),\n",
       " tensor(1, device='cuda:0'),\n",
       " tensor(11, device='cuda:0'),\n",
       " tensor(12, device='cuda:0'),\n",
       " tensor(10, device='cuda:0'),\n",
       " tensor(10, device='cuda:0'),\n",
       " tensor(3, device='cuda:0'),\n",
       " tensor(3, device='cuda:0'),\n",
       " tensor(4, device='cuda:0'),\n",
       " tensor(3, device='cuda:0'),\n",
       " tensor(15, device='cuda:0'),\n",
       " tensor(3, device='cuda:0'),\n",
       " tensor(3, device='cuda:0'),\n",
       " tensor(3, device='cuda:0'),\n",
       " tensor(4, device='cuda:0'),\n",
       " tensor(2, device='cuda:0'),\n",
       " tensor(7, device='cuda:0'),\n",
       " tensor(4, device='cuda:0'),\n",
       " tensor(11, device='cuda:0'),\n",
       " tensor(10, device='cuda:0'),\n",
       " tensor(12, device='cuda:0'),\n",
       " tensor(8, device='cuda:0'),\n",
       " tensor(4, device='cuda:0'),\n",
       " tensor(9, device='cuda:0'),\n",
       " tensor(0, device='cuda:0'),\n",
       " tensor(8, device='cuda:0'),\n",
       " tensor(3, device='cuda:0'),\n",
       " tensor(4, device='cuda:0'),\n",
       " tensor(16, device='cuda:0'),\n",
       " tensor(0, device='cuda:0'),\n",
       " tensor(0, device='cuda:0'),\n",
       " tensor(4, device='cuda:0'),\n",
       " tensor(0, device='cuda:0'),\n",
       " tensor(9, device='cuda:0'),\n",
       " tensor(12, device='cuda:0'),\n",
       " tensor(12, device='cuda:0'),\n",
       " tensor(4, device='cuda:0'),\n",
       " tensor(7, device='cuda:0'),\n",
       " tensor(8, device='cuda:0'),\n",
       " tensor(12, device='cuda:0'),\n",
       " tensor(4, device='cuda:0'),\n",
       " tensor(15, device='cuda:0'),\n",
       " tensor(9, device='cuda:0'),\n",
       " tensor(15, device='cuda:0'),\n",
       " tensor(15, device='cuda:0'),\n",
       " tensor(9, device='cuda:0'),\n",
       " tensor(4, device='cuda:0'),\n",
       " tensor(8, device='cuda:0'),\n",
       " tensor(3, device='cuda:0'),\n",
       " tensor(15, device='cuda:0'),\n",
       " tensor(1, device='cuda:0'),\n",
       " tensor(9, device='cuda:0'),\n",
       " tensor(3, device='cuda:0'),\n",
       " tensor(8, device='cuda:0'),\n",
       " tensor(14, device='cuda:0'),\n",
       " tensor(4, device='cuda:0'),\n",
       " tensor(11, device='cuda:0'),\n",
       " tensor(0, device='cuda:0'),\n",
       " tensor(2, device='cuda:0'),\n",
       " tensor(13, device='cuda:0'),\n",
       " tensor(2, device='cuda:0'),\n",
       " tensor(4, device='cuda:0'),\n",
       " tensor(15, device='cuda:0'),\n",
       " tensor(8, device='cuda:0'),\n",
       " tensor(11, device='cuda:0'),\n",
       " tensor(4, device='cuda:0'),\n",
       " tensor(2, device='cuda:0'),\n",
       " tensor(2, device='cuda:0'),\n",
       " tensor(16, device='cuda:0'),\n",
       " tensor(3, device='cuda:0'),\n",
       " tensor(3, device='cuda:0'),\n",
       " tensor(7, device='cuda:0'),\n",
       " tensor(15, device='cuda:0'),\n",
       " tensor(8, device='cuda:0'),\n",
       " tensor(15, device='cuda:0'),\n",
       " tensor(7, device='cuda:0'),\n",
       " tensor(15, device='cuda:0'),\n",
       " tensor(11, device='cuda:0'),\n",
       " tensor(10, device='cuda:0'),\n",
       " tensor(2, device='cuda:0'),\n",
       " tensor(3, device='cuda:0'),\n",
       " tensor(16, device='cuda:0'),\n",
       " tensor(6, device='cuda:0'),\n",
       " tensor(8, device='cuda:0'),\n",
       " tensor(9, device='cuda:0'),\n",
       " tensor(16, device='cuda:0'),\n",
       " tensor(2, device='cuda:0'),\n",
       " tensor(16, device='cuda:0'),\n",
       " tensor(0, device='cuda:0'),\n",
       " tensor(2, device='cuda:0'),\n",
       " tensor(9, device='cuda:0'),\n",
       " tensor(15, device='cuda:0'),\n",
       " tensor(11, device='cuda:0'),\n",
       " tensor(6, device='cuda:0'),\n",
       " tensor(12, device='cuda:0'),\n",
       " tensor(1, device='cuda:0'),\n",
       " tensor(15, device='cuda:0'),\n",
       " tensor(1, device='cuda:0'),\n",
       " tensor(8, device='cuda:0'),\n",
       " tensor(16, device='cuda:0'),\n",
       " tensor(10, device='cuda:0'),\n",
       " tensor(4, device='cuda:0'),\n",
       " tensor(7, device='cuda:0'),\n",
       " tensor(3, device='cuda:0'),\n",
       " tensor(1, device='cuda:0'),\n",
       " tensor(2, device='cuda:0'),\n",
       " tensor(10, device='cuda:0'),\n",
       " tensor(4, device='cuda:0'),\n",
       " tensor(3, device='cuda:0'),\n",
       " tensor(2, device='cuda:0'),\n",
       " tensor(3, device='cuda:0'),\n",
       " tensor(12, device='cuda:0'),\n",
       " tensor(3, device='cuda:0'),\n",
       " tensor(7, device='cuda:0'),\n",
       " tensor(12, device='cuda:0'),\n",
       " tensor(4, device='cuda:0'),\n",
       " tensor(7, device='cuda:0'),\n",
       " tensor(3, device='cuda:0'),\n",
       " tensor(10, device='cuda:0'),\n",
       " tensor(7, device='cuda:0'),\n",
       " tensor(3, device='cuda:0'),\n",
       " tensor(12, device='cuda:0'),\n",
       " tensor(10, device='cuda:0'),\n",
       " tensor(8, device='cuda:0'),\n",
       " tensor(9, device='cuda:0'),\n",
       " tensor(2, device='cuda:0'),\n",
       " tensor(13, device='cuda:0'),\n",
       " tensor(12, device='cuda:0'),\n",
       " tensor(10, device='cuda:0'),\n",
       " tensor(9, device='cuda:0'),\n",
       " tensor(1, device='cuda:0'),\n",
       " tensor(8, device='cuda:0'),\n",
       " tensor(3, device='cuda:0'),\n",
       " tensor(4, device='cuda:0'),\n",
       " tensor(2, device='cuda:0'),\n",
       " tensor(11, device='cuda:0'),\n",
       " tensor(0, device='cuda:0'),\n",
       " tensor(10, device='cuda:0'),\n",
       " tensor(7, device='cuda:0'),\n",
       " tensor(2, device='cuda:0'),\n",
       " tensor(10, device='cuda:0'),\n",
       " tensor(10, device='cuda:0'),\n",
       " tensor(9, device='cuda:0'),\n",
       " tensor(0, device='cuda:0'),\n",
       " tensor(15, device='cuda:0'),\n",
       " tensor(2, device='cuda:0'),\n",
       " tensor(2, device='cuda:0'),\n",
       " tensor(4, device='cuda:0'),\n",
       " tensor(6, device='cuda:0'),\n",
       " tensor(11, device='cuda:0'),\n",
       " tensor(14, device='cuda:0'),\n",
       " tensor(0, device='cuda:0'),\n",
       " tensor(2, device='cuda:0'),\n",
       " tensor(4, device='cuda:0'),\n",
       " tensor(11, device='cuda:0'),\n",
       " tensor(2, device='cuda:0'),\n",
       " tensor(0, device='cuda:0'),\n",
       " tensor(15, device='cuda:0'),\n",
       " tensor(2, device='cuda:0'),\n",
       " tensor(9, device='cuda:0'),\n",
       " tensor(12, device='cuda:0'),\n",
       " tensor(11, device='cuda:0'),\n",
       " tensor(10, device='cuda:0'),\n",
       " tensor(8, device='cuda:0'),\n",
       " tensor(8, device='cuda:0'),\n",
       " tensor(2, device='cuda:0'),\n",
       " tensor(3, device='cuda:0'),\n",
       " tensor(10, device='cuda:0'),\n",
       " tensor(2, device='cuda:0'),\n",
       " tensor(10, device='cuda:0'),\n",
       " tensor(2, device='cuda:0'),\n",
       " tensor(11, device='cuda:0'),\n",
       " tensor(4, device='cuda:0'),\n",
       " tensor(11, device='cuda:0'),\n",
       " tensor(0, device='cuda:0'),\n",
       " tensor(10, device='cuda:0'),\n",
       " tensor(5, device='cuda:0'),\n",
       " tensor(13, device='cuda:0'),\n",
       " tensor(10, device='cuda:0'),\n",
       " tensor(3, device='cuda:0'),\n",
       " tensor(11, device='cuda:0'),\n",
       " tensor(5, device='cuda:0'),\n",
       " tensor(11, device='cuda:0'),\n",
       " tensor(4, device='cuda:0'),\n",
       " tensor(9, device='cuda:0'),\n",
       " tensor(4, device='cuda:0'),\n",
       " tensor(3, device='cuda:0'),\n",
       " tensor(8, device='cuda:0'),\n",
       " tensor(9, device='cuda:0'),\n",
       " tensor(3, device='cuda:0'),\n",
       " tensor(8, device='cuda:0'),\n",
       " tensor(11, device='cuda:0'),\n",
       " tensor(2, device='cuda:0'),\n",
       " tensor(3, device='cuda:0'),\n",
       " tensor(5, device='cuda:0'),\n",
       " tensor(2, device='cuda:0'),\n",
       " tensor(11, device='cuda:0'),\n",
       " tensor(3, device='cuda:0'),\n",
       " tensor(1, device='cuda:0'),\n",
       " tensor(0, device='cuda:0'),\n",
       " tensor(12, device='cuda:0'),\n",
       " tensor(0, device='cuda:0'),\n",
       " tensor(0, device='cuda:0'),\n",
       " tensor(9, device='cuda:0'),\n",
       " tensor(11, device='cuda:0'),\n",
       " tensor(15, device='cuda:0'),\n",
       " tensor(4, device='cuda:0'),\n",
       " tensor(3, device='cuda:0'),\n",
       " tensor(2, device='cuda:0'),\n",
       " tensor(11, device='cuda:0'),\n",
       " tensor(7, device='cuda:0'),\n",
       " tensor(0, device='cuda:0'),\n",
       " tensor(11, device='cuda:0'),\n",
       " tensor(7, device='cuda:0'),\n",
       " tensor(2, device='cuda:0'),\n",
       " tensor(3, device='cuda:0'),\n",
       " tensor(2, device='cuda:0'),\n",
       " tensor(6, device='cuda:0'),\n",
       " tensor(2, device='cuda:0'),\n",
       " tensor(15, device='cuda:0'),\n",
       " tensor(2, device='cuda:0'),\n",
       " tensor(9, device='cuda:0'),\n",
       " tensor(2, device='cuda:0'),\n",
       " tensor(10, device='cuda:0'),\n",
       " tensor(11, device='cuda:0'),\n",
       " tensor(12, device='cuda:0'),\n",
       " tensor(10, device='cuda:0'),\n",
       " tensor(15, device='cuda:0'),\n",
       " tensor(3, device='cuda:0'),\n",
       " tensor(8, device='cuda:0'),\n",
       " tensor(0, device='cuda:0'),\n",
       " tensor(16, device='cuda:0'),\n",
       " tensor(10, device='cuda:0'),\n",
       " tensor(9, device='cuda:0'),\n",
       " tensor(4, device='cuda:0'),\n",
       " tensor(10, device='cuda:0'),\n",
       " tensor(12, device='cuda:0'),\n",
       " tensor(0, device='cuda:0'),\n",
       " tensor(8, device='cuda:0'),\n",
       " tensor(14, device='cuda:0'),\n",
       " tensor(3, device='cuda:0'),\n",
       " tensor(15, device='cuda:0'),\n",
       " tensor(12, device='cuda:0'),\n",
       " tensor(10, device='cuda:0'),\n",
       " tensor(10, device='cuda:0'),\n",
       " tensor(3, device='cuda:0'),\n",
       " tensor(3, device='cuda:0'),\n",
       " tensor(16, device='cuda:0'),\n",
       " tensor(3, device='cuda:0'),\n",
       " tensor(7, device='cuda:0'),\n",
       " tensor(10, device='cuda:0'),\n",
       " tensor(6, device='cuda:0'),\n",
       " tensor(10, device='cuda:0'),\n",
       " tensor(8, device='cuda:0'),\n",
       " tensor(2, device='cuda:0'),\n",
       " tensor(12, device='cuda:0'),\n",
       " tensor(11, device='cuda:0'),\n",
       " tensor(0, device='cuda:0'),\n",
       " tensor(0, device='cuda:0'),\n",
       " tensor(11, device='cuda:0'),\n",
       " tensor(0, device='cuda:0'),\n",
       " tensor(11, device='cuda:0'),\n",
       " tensor(8, device='cuda:0'),\n",
       " tensor(11, device='cuda:0'),\n",
       " tensor(4, device='cuda:0'),\n",
       " tensor(13, device='cuda:0'),\n",
       " tensor(2, device='cuda:0'),\n",
       " tensor(8, device='cuda:0'),\n",
       " tensor(11, device='cuda:0'),\n",
       " tensor(15, device='cuda:0'),\n",
       " tensor(3, device='cuda:0'),\n",
       " tensor(3, device='cuda:0'),\n",
       " tensor(7, device='cuda:0'),\n",
       " tensor(10, device='cuda:0'),\n",
       " tensor(16, device='cuda:0'),\n",
       " tensor(2, device='cuda:0'),\n",
       " tensor(8, device='cuda:0'),\n",
       " tensor(3, device='cuda:0'),\n",
       " tensor(0, device='cuda:0'),\n",
       " tensor(7, device='cuda:0'),\n",
       " tensor(4, device='cuda:0'),\n",
       " tensor(3, device='cuda:0'),\n",
       " tensor(2, device='cuda:0'),\n",
       " tensor(7, device='cuda:0'),\n",
       " tensor(16, device='cuda:0'),\n",
       " tensor(0, device='cuda:0'),\n",
       " tensor(4, device='cuda:0'),\n",
       " tensor(9, device='cuda:0'),\n",
       " tensor(2, device='cuda:0'),\n",
       " tensor(3, device='cuda:0'),\n",
       " tensor(0, device='cuda:0'),\n",
       " tensor(3, device='cuda:0'),\n",
       " tensor(10, device='cuda:0'),\n",
       " tensor(3, device='cuda:0'),\n",
       " tensor(3, device='cuda:0'),\n",
       " tensor(11, device='cuda:0'),\n",
       " tensor(10, device='cuda:0'),\n",
       " tensor(2, device='cuda:0'),\n",
       " tensor(1, device='cuda:0'),\n",
       " tensor(12, device='cuda:0'),\n",
       " tensor(11, device='cuda:0'),\n",
       " tensor(11, device='cuda:0'),\n",
       " tensor(7, device='cuda:0'),\n",
       " tensor(2, device='cuda:0'),\n",
       " tensor(2, device='cuda:0'),\n",
       " tensor(2, device='cuda:0'),\n",
       " tensor(2, device='cuda:0'),\n",
       " tensor(15, device='cuda:0'),\n",
       " tensor(13, device='cuda:0'),\n",
       " tensor(5, device='cuda:0'),\n",
       " tensor(2, device='cuda:0'),\n",
       " tensor(8, device='cuda:0'),\n",
       " tensor(11, device='cuda:0'),\n",
       " tensor(2, device='cuda:0'),\n",
       " tensor(2, device='cuda:0'),\n",
       " tensor(15, device='cuda:0'),\n",
       " tensor(9, device='cuda:0'),\n",
       " tensor(3, device='cuda:0'),\n",
       " tensor(10, device='cuda:0'),\n",
       " tensor(9, device='cuda:0'),\n",
       " tensor(9, device='cuda:0'),\n",
       " tensor(0, device='cuda:0'),\n",
       " tensor(6, device='cuda:0'),\n",
       " tensor(12, device='cuda:0'),\n",
       " tensor(15, device='cuda:0'),\n",
       " tensor(3, device='cuda:0'),\n",
       " tensor(4, device='cuda:0'),\n",
       " tensor(7, device='cuda:0'),\n",
       " tensor(11, device='cuda:0'),\n",
       " tensor(8, device='cuda:0'),\n",
       " tensor(16, device='cuda:0'),\n",
       " tensor(10, device='cuda:0'),\n",
       " tensor(16, device='cuda:0'),\n",
       " tensor(6, device='cuda:0'),\n",
       " tensor(3, device='cuda:0'),\n",
       " tensor(7, device='cuda:0'),\n",
       " tensor(3, device='cuda:0'),\n",
       " tensor(2, device='cuda:0'),\n",
       " tensor(2, device='cuda:0'),\n",
       " tensor(8, device='cuda:0'),\n",
       " tensor(1, device='cuda:0'),\n",
       " tensor(3, device='cuda:0'),\n",
       " tensor(14, device='cuda:0'),\n",
       " tensor(7, device='cuda:0'),\n",
       " tensor(2, device='cuda:0'),\n",
       " tensor(4, device='cuda:0'),\n",
       " tensor(3, device='cuda:0'),\n",
       " tensor(13, device='cuda:0'),\n",
       " tensor(8, device='cuda:0'),\n",
       " tensor(4, device='cuda:0'),\n",
       " tensor(11, device='cuda:0'),\n",
       " tensor(2, device='cuda:0'),\n",
       " tensor(9, device='cuda:0'),\n",
       " tensor(10, device='cuda:0'),\n",
       " tensor(0, device='cuda:0'),\n",
       " tensor(8, device='cuda:0'),\n",
       " tensor(15, device='cuda:0'),\n",
       " tensor(4, device='cuda:0'),\n",
       " tensor(12, device='cuda:0'),\n",
       " tensor(7, device='cuda:0'),\n",
       " tensor(3, device='cuda:0'),\n",
       " tensor(2, device='cuda:0'),\n",
       " tensor(12, device='cuda:0'),\n",
       " tensor(12, device='cuda:0'),\n",
       " tensor(0, device='cuda:0'),\n",
       " tensor(6, device='cuda:0'),\n",
       " tensor(2, device='cuda:0'),\n",
       " tensor(16, device='cuda:0'),\n",
       " tensor(4, device='cuda:0'),\n",
       " tensor(3, device='cuda:0'),\n",
       " tensor(14, device='cuda:0'),\n",
       " tensor(8, device='cuda:0'),\n",
       " tensor(11, device='cuda:0'),\n",
       " tensor(16, device='cuda:0'),\n",
       " tensor(8, device='cuda:0'),\n",
       " tensor(5, device='cuda:0'),\n",
       " tensor(3, device='cuda:0'),\n",
       " tensor(10, device='cuda:0'),\n",
       " tensor(4, device='cuda:0'),\n",
       " tensor(0, device='cuda:0'),\n",
       " tensor(4, device='cuda:0'),\n",
       " tensor(8, device='cuda:0'),\n",
       " tensor(16, device='cuda:0'),\n",
       " tensor(16, device='cuda:0'),\n",
       " tensor(3, device='cuda:0'),\n",
       " tensor(10, device='cuda:0'),\n",
       " tensor(0, device='cuda:0'),\n",
       " tensor(15, device='cuda:0'),\n",
       " tensor(7, device='cuda:0'),\n",
       " tensor(12, device='cuda:0'),\n",
       " tensor(3, device='cuda:0'),\n",
       " tensor(3, device='cuda:0'),\n",
       " tensor(4, device='cuda:0'),\n",
       " tensor(8, device='cuda:0'),\n",
       " tensor(12, device='cuda:0'),\n",
       " tensor(3, device='cuda:0'),\n",
       " tensor(2, device='cuda:0'),\n",
       " tensor(2, device='cuda:0'),\n",
       " tensor(3, device='cuda:0'),\n",
       " tensor(7, device='cuda:0'),\n",
       " tensor(12, device='cuda:0'),\n",
       " tensor(2, device='cuda:0'),\n",
       " tensor(10, device='cuda:0'),\n",
       " tensor(2, device='cuda:0'),\n",
       " tensor(6, device='cuda:0'),\n",
       " tensor(2, device='cuda:0'),\n",
       " tensor(10, device='cuda:0'),\n",
       " tensor(2, device='cuda:0'),\n",
       " tensor(16, device='cuda:0'),\n",
       " tensor(2, device='cuda:0'),\n",
       " tensor(2, device='cuda:0'),\n",
       " tensor(12, device='cuda:0'),\n",
       " tensor(2, device='cuda:0'),\n",
       " tensor(9, device='cuda:0'),\n",
       " tensor(6, device='cuda:0'),\n",
       " tensor(2, device='cuda:0'),\n",
       " tensor(16, device='cuda:0'),\n",
       " tensor(15, device='cuda:0'),\n",
       " tensor(12, device='cuda:0'),\n",
       " tensor(10, device='cuda:0'),\n",
       " tensor(9, device='cuda:0'),\n",
       " tensor(11, device='cuda:0'),\n",
       " tensor(2, device='cuda:0'),\n",
       " tensor(11, device='cuda:0'),\n",
       " tensor(3, device='cuda:0'),\n",
       " tensor(0, device='cuda:0'),\n",
       " tensor(2, device='cuda:0'),\n",
       " tensor(4, device='cuda:0'),\n",
       " tensor(4, device='cuda:0'),\n",
       " tensor(9, device='cuda:0'),\n",
       " tensor(0, device='cuda:0'),\n",
       " tensor(4, device='cuda:0'),\n",
       " tensor(7, device='cuda:0'),\n",
       " tensor(11, device='cuda:0'),\n",
       " tensor(4, device='cuda:0'),\n",
       " tensor(12, device='cuda:0'),\n",
       " tensor(3, device='cuda:0'),\n",
       " tensor(0, device='cuda:0'),\n",
       " tensor(9, device='cuda:0'),\n",
       " tensor(12, device='cuda:0'),\n",
       " tensor(2, device='cuda:0'),\n",
       " tensor(3, device='cuda:0'),\n",
       " tensor(2, device='cuda:0'),\n",
       " tensor(3, device='cuda:0'),\n",
       " tensor(7, device='cuda:0'),\n",
       " tensor(12, device='cuda:0'),\n",
       " tensor(1, device='cuda:0'),\n",
       " tensor(15, device='cuda:0'),\n",
       " tensor(16, device='cuda:0'),\n",
       " tensor(16, device='cuda:0'),\n",
       " tensor(2, device='cuda:0'),\n",
       " tensor(4, device='cuda:0'),\n",
       " tensor(3, device='cuda:0'),\n",
       " tensor(2, device='cuda:0'),\n",
       " tensor(15, device='cuda:0'),\n",
       " tensor(8, device='cuda:0'),\n",
       " tensor(12, device='cuda:0'),\n",
       " tensor(6, device='cuda:0'),\n",
       " tensor(12, device='cuda:0'),\n",
       " tensor(3, device='cuda:0'),\n",
       " tensor(16, device='cuda:0'),\n",
       " tensor(0, device='cuda:0'),\n",
       " tensor(2, device='cuda:0'),\n",
       " tensor(7, device='cuda:0'),\n",
       " tensor(12, device='cuda:0'),\n",
       " tensor(0, device='cuda:0'),\n",
       " tensor(4, device='cuda:0'),\n",
       " tensor(3, device='cuda:0'),\n",
       " tensor(6, device='cuda:0'),\n",
       " tensor(16, device='cuda:0'),\n",
       " tensor(11, device='cuda:0'),\n",
       " tensor(4, device='cuda:0'),\n",
       " tensor(2, device='cuda:0'),\n",
       " tensor(9, device='cuda:0'),\n",
       " tensor(10, device='cuda:0'),\n",
       " tensor(10, device='cuda:0'),\n",
       " tensor(4, device='cuda:0'),\n",
       " tensor(8, device='cuda:0'),\n",
       " tensor(2, device='cuda:0'),\n",
       " tensor(3, device='cuda:0'),\n",
       " tensor(12, device='cuda:0'),\n",
       " tensor(16, device='cuda:0'),\n",
       " tensor(12, device='cuda:0'),\n",
       " tensor(10, device='cuda:0'),\n",
       " tensor(9, device='cuda:0'),\n",
       " tensor(0, device='cuda:0'),\n",
       " tensor(12, device='cuda:0'),\n",
       " tensor(2, device='cuda:0'),\n",
       " tensor(16, device='cuda:0'),\n",
       " tensor(10, device='cuda:0'),\n",
       " tensor(12, device='cuda:0'),\n",
       " tensor(9, device='cuda:0'),\n",
       " tensor(4, device='cuda:0'),\n",
       " tensor(9, device='cuda:0'),\n",
       " tensor(16, device='cuda:0'),\n",
       " tensor(3, device='cuda:0'),\n",
       " tensor(8, device='cuda:0'),\n",
       " tensor(3, device='cuda:0'),\n",
       " tensor(15, device='cuda:0'),\n",
       " tensor(2, device='cuda:0'),\n",
       " tensor(16, device='cuda:0'),\n",
       " tensor(11, device='cuda:0'),\n",
       " tensor(4, device='cuda:0'),\n",
       " tensor(3, device='cuda:0'),\n",
       " tensor(11, device='cuda:0'),\n",
       " tensor(14, device='cuda:0'),\n",
       " tensor(1, device='cuda:0'),\n",
       " tensor(12, device='cuda:0'),\n",
       " tensor(16, device='cuda:0'),\n",
       " tensor(12, device='cuda:0'),\n",
       " tensor(5, device='cuda:0'),\n",
       " tensor(7, device='cuda:0'),\n",
       " tensor(8, device='cuda:0'),\n",
       " tensor(10, device='cuda:0'),\n",
       " tensor(12, device='cuda:0'),\n",
       " tensor(8, device='cuda:0'),\n",
       " tensor(4, device='cuda:0'),\n",
       " tensor(4, device='cuda:0'),\n",
       " tensor(11, device='cuda:0'),\n",
       " tensor(3, device='cuda:0'),\n",
       " tensor(9, device='cuda:0'),\n",
       " tensor(10, device='cuda:0'),\n",
       " tensor(9, device='cuda:0'),\n",
       " tensor(8, device='cuda:0'),\n",
       " tensor(2, device='cuda:0'),\n",
       " tensor(4, device='cuda:0'),\n",
       " tensor(10, device='cuda:0'),\n",
       " tensor(16, device='cuda:0'),\n",
       " tensor(10, device='cuda:0'),\n",
       " tensor(14, device='cuda:0'),\n",
       " tensor(16, device='cuda:0'),\n",
       " tensor(12, device='cuda:0'),\n",
       " tensor(3, device='cuda:0'),\n",
       " tensor(10, device='cuda:0'),\n",
       " tensor(6, device='cuda:0'),\n",
       " tensor(7, device='cuda:0'),\n",
       " tensor(2, device='cuda:0'),\n",
       " tensor(8, device='cuda:0'),\n",
       " tensor(8, device='cuda:0'),\n",
       " tensor(11, device='cuda:0'),\n",
       " tensor(10, device='cuda:0'),\n",
       " tensor(8, device='cuda:0'),\n",
       " tensor(8, device='cuda:0'),\n",
       " tensor(8, device='cuda:0'),\n",
       " tensor(11, device='cuda:0'),\n",
       " tensor(0, device='cuda:0'),\n",
       " tensor(12, device='cuda:0'),\n",
       " tensor(3, device='cuda:0'),\n",
       " tensor(12, device='cuda:0'),\n",
       " tensor(10, device='cuda:0'),\n",
       " tensor(9, device='cuda:0'),\n",
       " tensor(4, device='cuda:0'),\n",
       " tensor(2, device='cuda:0'),\n",
       " tensor(2, device='cuda:0'),\n",
       " tensor(4, device='cuda:0'),\n",
       " tensor(16, device='cuda:0'),\n",
       " tensor(11, device='cuda:0'),\n",
       " tensor(12, device='cuda:0'),\n",
       " tensor(2, device='cuda:0'),\n",
       " tensor(14, device='cuda:0'),\n",
       " tensor(4, device='cuda:0'),\n",
       " tensor(9, device='cuda:0'),\n",
       " tensor(11, device='cuda:0'),\n",
       " tensor(4, device='cuda:0'),\n",
       " tensor(8, device='cuda:0'),\n",
       " tensor(0, device='cuda:0'),\n",
       " tensor(13, device='cuda:0'),\n",
       " tensor(12, device='cuda:0'),\n",
       " tensor(10, device='cuda:0'),\n",
       " tensor(4, device='cuda:0'),\n",
       " tensor(8, device='cuda:0'),\n",
       " tensor(10, device='cuda:0'),\n",
       " tensor(7, device='cuda:0'),\n",
       " tensor(4, device='cuda:0'),\n",
       " tensor(6, device='cuda:0'),\n",
       " tensor(3, device='cuda:0'),\n",
       " tensor(2, device='cuda:0'),\n",
       " tensor(3, device='cuda:0'),\n",
       " tensor(15, device='cuda:0'),\n",
       " tensor(8, device='cuda:0'),\n",
       " tensor(11, device='cuda:0'),\n",
       " tensor(10, device='cuda:0'),\n",
       " tensor(12, device='cuda:0'),\n",
       " tensor(11, device='cuda:0'),\n",
       " tensor(4, device='cuda:0'),\n",
       " tensor(16, device='cuda:0'),\n",
       " tensor(11, device='cuda:0'),\n",
       " tensor(8, device='cuda:0'),\n",
       " tensor(11, device='cuda:0'),\n",
       " tensor(10, device='cuda:0'),\n",
       " tensor(3, device='cuda:0'),\n",
       " tensor(16, device='cuda:0'),\n",
       " tensor(12, device='cuda:0'),\n",
       " tensor(10, device='cuda:0'),\n",
       " tensor(14, device='cuda:0'),\n",
       " tensor(1, device='cuda:0'),\n",
       " tensor(16, device='cuda:0'),\n",
       " tensor(8, device='cuda:0'),\n",
       " tensor(3, device='cuda:0'),\n",
       " tensor(7, device='cuda:0'),\n",
       " tensor(4, device='cuda:0'),\n",
       " tensor(15, device='cuda:0'),\n",
       " tensor(1, device='cuda:0'),\n",
       " tensor(3, device='cuda:0'),\n",
       " tensor(9, device='cuda:0'),\n",
       " tensor(11, device='cuda:0'),\n",
       " tensor(1, device='cuda:0'),\n",
       " tensor(4, device='cuda:0'),\n",
       " tensor(8, device='cuda:0'),\n",
       " tensor(10, device='cuda:0'),\n",
       " tensor(2, device='cuda:0'),\n",
       " tensor(9, device='cuda:0'),\n",
       " tensor(15, device='cuda:0'),\n",
       " tensor(15, device='cuda:0'),\n",
       " tensor(3, device='cuda:0'),\n",
       " tensor(12, device='cuda:0'),\n",
       " tensor(11, device='cuda:0'),\n",
       " tensor(0, device='cuda:0'),\n",
       " tensor(0, device='cuda:0'),\n",
       " tensor(10, device='cuda:0'),\n",
       " tensor(11, device='cuda:0'),\n",
       " tensor(2, device='cuda:0'),\n",
       " tensor(11, device='cuda:0'),\n",
       " tensor(3, device='cuda:0'),\n",
       " tensor(2, device='cuda:0'),\n",
       " tensor(2, device='cuda:0'),\n",
       " tensor(1, device='cuda:0'),\n",
       " tensor(3, device='cuda:0'),\n",
       " tensor(11, device='cuda:0'),\n",
       " tensor(15, device='cuda:0'),\n",
       " tensor(11, device='cuda:0'),\n",
       " tensor(16, device='cuda:0'),\n",
       " tensor(15, device='cuda:0'),\n",
       " tensor(2, device='cuda:0'),\n",
       " tensor(0, device='cuda:0'),\n",
       " tensor(10, device='cuda:0'),\n",
       " tensor(11, device='cuda:0'),\n",
       " tensor(3, device='cuda:0'),\n",
       " tensor(1, device='cuda:0'),\n",
       " tensor(8, device='cuda:0'),\n",
       " tensor(11, device='cuda:0'),\n",
       " tensor(16, device='cuda:0'),\n",
       " tensor(11, device='cuda:0'),\n",
       " tensor(9, device='cuda:0'),\n",
       " tensor(8, device='cuda:0'),\n",
       " tensor(4, device='cuda:0'),\n",
       " tensor(1, device='cuda:0'),\n",
       " tensor(14, device='cuda:0'),\n",
       " tensor(10, device='cuda:0'),\n",
       " tensor(9, device='cuda:0'),\n",
       " tensor(10, device='cuda:0'),\n",
       " tensor(12, device='cuda:0'),\n",
       " tensor(4, device='cuda:0'),\n",
       " tensor(2, device='cuda:0'),\n",
       " tensor(15, device='cuda:0'),\n",
       " tensor(12, device='cuda:0'),\n",
       " tensor(11, device='cuda:0'),\n",
       " tensor(12, device='cuda:0'),\n",
       " tensor(1, device='cuda:0'),\n",
       " tensor(3, device='cuda:0'),\n",
       " tensor(4, device='cuda:0'),\n",
       " tensor(16, device='cuda:0'),\n",
       " tensor(16, device='cuda:0'),\n",
       " tensor(16, device='cuda:0'),\n",
       " tensor(8, device='cuda:0'),\n",
       " tensor(2, device='cuda:0'),\n",
       " tensor(11, device='cuda:0'),\n",
       " tensor(9, device='cuda:0'),\n",
       " tensor(12, device='cuda:0'),\n",
       " tensor(6, device='cuda:0'),\n",
       " tensor(7, device='cuda:0'),\n",
       " tensor(11, device='cuda:0'),\n",
       " tensor(8, device='cuda:0'),\n",
       " tensor(9, device='cuda:0'),\n",
       " tensor(16, device='cuda:0'),\n",
       " tensor(12, device='cuda:0'),\n",
       " tensor(6, device='cuda:0'),\n",
       " tensor(4, device='cuda:0'),\n",
       " tensor(10, device='cuda:0'),\n",
       " tensor(11, device='cuda:0'),\n",
       " tensor(2, device='cuda:0'),\n",
       " tensor(0, device='cuda:0'),\n",
       " tensor(1, device='cuda:0'),\n",
       " tensor(11, device='cuda:0'),\n",
       " tensor(4, device='cuda:0'),\n",
       " tensor(11, device='cuda:0'),\n",
       " tensor(1, device='cuda:0'),\n",
       " tensor(11, device='cuda:0'),\n",
       " tensor(3, device='cuda:0'),\n",
       " tensor(9, device='cuda:0'),\n",
       " tensor(0, device='cuda:0'),\n",
       " tensor(5, device='cuda:0'),\n",
       " tensor(11, device='cuda:0'),\n",
       " tensor(3, device='cuda:0'),\n",
       " tensor(4, device='cuda:0'),\n",
       " tensor(0, device='cuda:0'),\n",
       " tensor(3, device='cuda:0'),\n",
       " tensor(0, device='cuda:0'),\n",
       " tensor(2, device='cuda:0'),\n",
       " tensor(2, device='cuda:0'),\n",
       " tensor(3, device='cuda:0'),\n",
       " tensor(4, device='cuda:0'),\n",
       " tensor(15, device='cuda:0'),\n",
       " tensor(9, device='cuda:0'),\n",
       " tensor(4, device='cuda:0'),\n",
       " tensor(4, device='cuda:0'),\n",
       " tensor(8, device='cuda:0'),\n",
       " tensor(9, device='cuda:0'),\n",
       " tensor(9, device='cuda:0'),\n",
       " tensor(15, device='cuda:0'),\n",
       " tensor(4, device='cuda:0'),\n",
       " tensor(3, device='cuda:0'),\n",
       " tensor(10, device='cuda:0'),\n",
       " tensor(2, device='cuda:0'),\n",
       " tensor(0, device='cuda:0'),\n",
       " tensor(3, device='cuda:0'),\n",
       " tensor(2, device='cuda:0'),\n",
       " tensor(11, device='cuda:0'),\n",
       " tensor(15, device='cuda:0'),\n",
       " tensor(6, device='cuda:0'),\n",
       " tensor(4, device='cuda:0'),\n",
       " tensor(2, device='cuda:0'),\n",
       " tensor(16, device='cuda:0'),\n",
       " tensor(2, device='cuda:0'),\n",
       " tensor(0, device='cuda:0'),\n",
       " tensor(0, device='cuda:0'),\n",
       " tensor(6, device='cuda:0'),\n",
       " tensor(8, device='cuda:0'),\n",
       " tensor(11, device='cuda:0'),\n",
       " tensor(10, device='cuda:0'),\n",
       " tensor(2, device='cuda:0'),\n",
       " tensor(2, device='cuda:0'),\n",
       " tensor(10, device='cuda:0'),\n",
       " tensor(0, device='cuda:0'),\n",
       " tensor(6, device='cuda:0'),\n",
       " tensor(16, device='cuda:0'),\n",
       " tensor(5, device='cuda:0'),\n",
       " tensor(15, device='cuda:0'),\n",
       " tensor(16, device='cuda:0'),\n",
       " tensor(10, device='cuda:0'),\n",
       " tensor(3, device='cuda:0'),\n",
       " tensor(16, device='cuda:0'),\n",
       " tensor(11, device='cuda:0'),\n",
       " tensor(3, device='cuda:0'),\n",
       " tensor(13, device='cuda:0'),\n",
       " tensor(10, device='cuda:0'),\n",
       " tensor(8, device='cuda:0'),\n",
       " tensor(2, device='cuda:0'),\n",
       " tensor(6, device='cuda:0'),\n",
       " tensor(4, device='cuda:0'),\n",
       " tensor(2, device='cuda:0'),\n",
       " tensor(9, device='cuda:0'),\n",
       " tensor(9, device='cuda:0'),\n",
       " tensor(15, device='cuda:0'),\n",
       " tensor(1, device='cuda:0'),\n",
       " ...]"
      ]
     },
     "execution_count": 10,
     "metadata": {},
     "output_type": "execute_result"
    }
   ],
   "source": [
    "all_preds"
   ]
  },
  {
   "cell_type": "code",
   "execution_count": 11,
   "metadata": {},
   "outputs": [
    {
     "data": {
      "text/html": [
       "<div>\n",
       "<style scoped>\n",
       "    .dataframe tbody tr th:only-of-type {\n",
       "        vertical-align: middle;\n",
       "    }\n",
       "\n",
       "    .dataframe tbody tr th {\n",
       "        vertical-align: top;\n",
       "    }\n",
       "\n",
       "    .dataframe thead th {\n",
       "        text-align: right;\n",
       "    }\n",
       "</style>\n",
       "<table border=\"1\" class=\"dataframe\">\n",
       "  <thead>\n",
       "    <tr style=\"text-align: right;\">\n",
       "      <th></th>\n",
       "      <th>ID</th>\n",
       "      <th>target</th>\n",
       "    </tr>\n",
       "  </thead>\n",
       "  <tbody>\n",
       "    <tr>\n",
       "      <th>0</th>\n",
       "      <td>0008fdb22ddce0ce.jpg</td>\n",
       "      <td>0</td>\n",
       "    </tr>\n",
       "    <tr>\n",
       "      <th>1</th>\n",
       "      <td>00091bffdffd83de.jpg</td>\n",
       "      <td>0</td>\n",
       "    </tr>\n",
       "    <tr>\n",
       "      <th>2</th>\n",
       "      <td>00396fbc1f6cc21d.jpg</td>\n",
       "      <td>0</td>\n",
       "    </tr>\n",
       "    <tr>\n",
       "      <th>3</th>\n",
       "      <td>00471f8038d9c4b6.jpg</td>\n",
       "      <td>0</td>\n",
       "    </tr>\n",
       "    <tr>\n",
       "      <th>4</th>\n",
       "      <td>00901f504008d884.jpg</td>\n",
       "      <td>0</td>\n",
       "    </tr>\n",
       "    <tr>\n",
       "      <th>...</th>\n",
       "      <td>...</td>\n",
       "      <td>...</td>\n",
       "    </tr>\n",
       "    <tr>\n",
       "      <th>3135</th>\n",
       "      <td>ffb4b6f619fb60ea.jpg</td>\n",
       "      <td>0</td>\n",
       "    </tr>\n",
       "    <tr>\n",
       "      <th>3136</th>\n",
       "      <td>ffb54299b1ad4159.jpg</td>\n",
       "      <td>0</td>\n",
       "    </tr>\n",
       "    <tr>\n",
       "      <th>3137</th>\n",
       "      <td>ffc2c91dff8cf2c0.jpg</td>\n",
       "      <td>0</td>\n",
       "    </tr>\n",
       "    <tr>\n",
       "      <th>3138</th>\n",
       "      <td>ffc4e330a5353a2a.jpg</td>\n",
       "      <td>0</td>\n",
       "    </tr>\n",
       "    <tr>\n",
       "      <th>3139</th>\n",
       "      <td>ffc71fed753d90c1.jpg</td>\n",
       "      <td>0</td>\n",
       "    </tr>\n",
       "  </tbody>\n",
       "</table>\n",
       "<p>3140 rows × 2 columns</p>\n",
       "</div>"
      ],
      "text/plain": [
       "                        ID  target\n",
       "0     0008fdb22ddce0ce.jpg       0\n",
       "1     00091bffdffd83de.jpg       0\n",
       "2     00396fbc1f6cc21d.jpg       0\n",
       "3     00471f8038d9c4b6.jpg       0\n",
       "4     00901f504008d884.jpg       0\n",
       "...                    ...     ...\n",
       "3135  ffb4b6f619fb60ea.jpg       0\n",
       "3136  ffb54299b1ad4159.jpg       0\n",
       "3137  ffc2c91dff8cf2c0.jpg       0\n",
       "3138  ffc4e330a5353a2a.jpg       0\n",
       "3139  ffc71fed753d90c1.jpg       0\n",
       "\n",
       "[3140 rows x 2 columns]"
      ]
     },
     "execution_count": 11,
     "metadata": {},
     "output_type": "execute_result"
    }
   ],
   "source": [
    "sub_df = pd.read_csv('/data/ephemeral/home/data/sample_submission.csv')\n",
    "sub_df"
   ]
  },
  {
   "cell_type": "code",
   "execution_count": 12,
   "metadata": {},
   "outputs": [],
   "source": [
    "for i in range(3140):\n",
    "    sub_df.iloc[i, 1] = int(all_preds[i].cpu())"
   ]
  },
  {
   "cell_type": "code",
   "execution_count": 13,
   "metadata": {},
   "outputs": [],
   "source": [
    "sub_df.to_csv('/data/ephemeral/home/preds/v9_best_preds.csv', index=False)"
   ]
  },
  {
   "cell_type": "code",
   "execution_count": 14,
   "metadata": {},
   "outputs": [
    {
     "name": "stdout",
     "output_type": "stream",
     "text": [
      "[0, 0, 0, 0, 0, 0, 0, 0, 0, 0, 0, 0, 0, 0, 0, 0, 0, 212, 75, 379, 329, 264, 55, 100, 104, 222, 180, 272, 297, 219, 26, 31, 171, 204]\n"
     ]
    }
   ],
   "source": [
    "cnt_list = [0 for _ in range(17)]\n",
    "\n",
    "for i in range(17):\n",
    "    cnt_list.append(sub_df[sub_df['target']==i].shape[0])\n",
    "\n",
    "print(cnt_list)"
   ]
  }
 ],
 "metadata": {
  "kernelspec": {
   "display_name": "base",
   "language": "python",
   "name": "python3"
  },
  "language_info": {
   "codemirror_mode": {
    "name": "ipython",
    "version": 3
   },
   "file_extension": ".py",
   "mimetype": "text/x-python",
   "name": "python",
   "nbconvert_exporter": "python",
   "pygments_lexer": "ipython3",
   "version": "3.10.13"
  }
 },
 "nbformat": 4,
 "nbformat_minor": 2
}
