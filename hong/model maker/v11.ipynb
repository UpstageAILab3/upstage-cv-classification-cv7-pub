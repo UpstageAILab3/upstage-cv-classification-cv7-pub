{
 "cells": [
  {
   "cell_type": "markdown",
   "metadata": {},
   "source": [
    "# ResNet\n",
    "- v.1과 동일\n",
    "- early stopping 횟수를 증가"
   ]
  },
  {
   "cell_type": "code",
   "execution_count": 1,
   "metadata": {},
   "outputs": [],
   "source": [
    "import pandas as pd\n",
    "import numpy as np\n",
    "import os\n",
    "import time\n",
    "import random\n",
    "from PIL import Image\n",
    "from tqdm.notebook import tqdm\n",
    "import matplotlib.pyplot as plt\n",
    "\n",
    "import timm\n",
    "import torch\n",
    "import albumentations as A\n",
    "import torch.nn as nn\n",
    "from albumentations.pytorch import ToTensorV2\n",
    "from torch.optim import Adam\n",
    "from torchvision import transforms\n",
    "import torchvision.transforms as T\n",
    "from torch.utils.data import Dataset, DataLoader\n",
    "\n",
    "from sklearn.metrics import accuracy_score, f1_score\n",
    "\n",
    "import wandb"
   ]
  },
  {
   "cell_type": "code",
   "execution_count": 2,
   "metadata": {},
   "outputs": [
    {
     "name": "stderr",
     "output_type": "stream",
     "text": [
      "Failed to detect the name of this notebook, you can set it manually with the WANDB_NOTEBOOK_NAME environment variable to enable code saving.\n",
      "\u001b[34m\u001b[1mwandb\u001b[0m: Currently logged in as: \u001b[33mgreedjar74\u001b[0m (\u001b[33mgreedjar7498\u001b[0m). Use \u001b[1m`wandb login --relogin`\u001b[0m to force relogin\n"
     ]
    },
    {
     "data": {
      "text/html": [
       "Tracking run with wandb version 0.17.5"
      ],
      "text/plain": [
       "<IPython.core.display.HTML object>"
      ]
     },
     "metadata": {},
     "output_type": "display_data"
    },
    {
     "data": {
      "text/html": [
       "Run data is saved locally in <code>/data/ephemeral/home/model/model maker/wandb/run-20240807_161454-xd2ucr6v</code>"
      ],
      "text/plain": [
       "<IPython.core.display.HTML object>"
      ]
     },
     "metadata": {},
     "output_type": "display_data"
    },
    {
     "data": {
      "text/html": [
       "Syncing run <strong><a href='https://wandb.ai/greedjar7498/CV_contest_V10/runs/xd2ucr6v' target=\"_blank\">training</a></strong> to <a href='https://wandb.ai/greedjar7498/CV_contest_V10' target=\"_blank\">Weights & Biases</a> (<a href='https://wandb.me/run' target=\"_blank\">docs</a>)<br/>"
      ],
      "text/plain": [
       "<IPython.core.display.HTML object>"
      ]
     },
     "metadata": {},
     "output_type": "display_data"
    },
    {
     "data": {
      "text/html": [
       " View project at <a href='https://wandb.ai/greedjar7498/CV_contest_V10' target=\"_blank\">https://wandb.ai/greedjar7498/CV_contest_V10</a>"
      ],
      "text/plain": [
       "<IPython.core.display.HTML object>"
      ]
     },
     "metadata": {},
     "output_type": "display_data"
    },
    {
     "data": {
      "text/html": [
       " View run at <a href='https://wandb.ai/greedjar7498/CV_contest_V10/runs/xd2ucr6v' target=\"_blank\">https://wandb.ai/greedjar7498/CV_contest_V10/runs/xd2ucr6v</a>"
      ],
      "text/plain": [
       "<IPython.core.display.HTML object>"
      ]
     },
     "metadata": {},
     "output_type": "display_data"
    }
   ],
   "source": [
    "wandb.login(key='')\n",
    "run = wandb.init(project='CV_contest_V10', name='training')"
   ]
  },
  {
   "cell_type": "code",
   "execution_count": 2,
   "metadata": {},
   "outputs": [],
   "source": [
    "# 시드를 고정합니다.\n",
    "SEED = 42\n",
    "os.environ['PYTHONHASHSEED'] = str(SEED)\n",
    "random.seed(SEED)\n",
    "np.random.seed(SEED)\n",
    "torch.manual_seed(SEED)\n",
    "torch.cuda.manual_seed(SEED)\n",
    "torch.cuda.manual_seed_all(SEED)\n",
    "torch.backends.cudnn.benchmark = True"
   ]
  },
  {
   "cell_type": "code",
   "execution_count": 3,
   "metadata": {},
   "outputs": [],
   "source": [
    "device = torch.device('cuda' if torch.cuda.is_available() else 'cpu')"
   ]
  },
  {
   "cell_type": "code",
   "execution_count": 4,
   "metadata": {},
   "outputs": [
    {
     "data": {
      "text/plain": [
       "device(type='cuda')"
      ]
     },
     "execution_count": 4,
     "metadata": {},
     "output_type": "execute_result"
    }
   ],
   "source": [
    "device"
   ]
  },
  {
   "cell_type": "markdown",
   "metadata": {},
   "source": [
    "# CustomDataset"
   ]
  },
  {
   "cell_type": "code",
   "execution_count": 6,
   "metadata": {},
   "outputs": [],
   "source": [
    "class customdataset(torch.utils.data.Dataset):\n",
    "    def __init__(self, csv, path, transforms):\n",
    "        super().__init__()\n",
    "        self.df = pd.read_csv(csv).values\n",
    "        self.path = path\n",
    "        self.transforms = transforms\n",
    "\n",
    "    def __len__(self):\n",
    "        return len(self.df)\n",
    "    \n",
    "    def __getitem__(self, idx):\n",
    "        name, target = self.df[idx]\n",
    "        img = np.array(Image.open(os.path.join(self.path, name)))\n",
    "        img = self.transforms(img)\n",
    "    \n",
    "        return img, target"
   ]
  },
  {
   "cell_type": "code",
   "execution_count": 7,
   "metadata": {},
   "outputs": [],
   "source": [
    "class RandomPadding:\n",
    "    def __init__(self, padding_range=(0, 50), fill=0):\n",
    "        self.padding_range = padding_range\n",
    "        self.fill = fill\n",
    "\n",
    "    def __call__(self, image):\n",
    "        # 각 방향에 대해 랜덤한 패딩 값 생성\n",
    "        pad_top = random.randint(*self.padding_range)\n",
    "        pad_bottom = random.randint(*self.padding_range)\n",
    "        pad_left = random.randint(*self.padding_range)\n",
    "        pad_right = random.randint(*self.padding_range)\n",
    "        \n",
    "        # 패딩 추가\n",
    "        padding = (pad_left, pad_top, pad_right, pad_bottom)\n",
    "        return T.functional.pad(image, padding, fill=self.fill)"
   ]
  },
  {
   "cell_type": "code",
   "execution_count": 8,
   "metadata": {},
   "outputs": [],
   "source": [
    "aug_transforms = T.Compose([\n",
    "    T.ToTensor(),\n",
    "    T.RandomRotation(180),\n",
    "    T.RandomHorizontalFlip(p=0.5),\n",
    "    RandomPadding(padding_range=(10, 20), fill=50),  # 랜덤 패딩 추가\n",
    "    T.RandomResizedCrop(size=(600,600), scale=(0.5, 1.0)),\n",
    "])\n",
    "\n",
    "simple_transforms = T.Compose([\n",
    "    T.ToTensor(),\n",
    "    T.RandomRotation(180),\n",
    "    T.RandomHorizontalFlip(p=0.5),\n",
    "    T.Resize((600, 600))\n",
    "])\n",
    "\n",
    "origin_transforms = T.Compose([\n",
    "    T.ToTensor(),\n",
    "    T.Resize((600, 600))\n",
    "    ])\n",
    "\n",
    "aug_dataset_1 = customdataset('/data/ephemeral/home/data/train.csv', '/data/ephemeral/home/data/Augmentation/augraphy/augmented', transforms=aug_transforms)\n",
    "aug_dataset_2 = customdataset('/data/ephemeral/home/data/train.csv', '/data/ephemeral/home/data/Augmentation/augraphy/augmented2', transforms=aug_transforms)\n",
    "aug_dataset_3 = customdataset('/data/ephemeral/home/data/train.csv', '/data/ephemeral/home/data/Augmentation/augraphy/augmented3', transforms=aug_transforms)\n",
    "aug_dataset_4 = customdataset('/data/ephemeral/home/data/train.csv', '/data/ephemeral/home/data/Augmentation/augraphy/augmented4', transforms=aug_transforms)\n",
    "aug_dataset_5 = customdataset('/data/ephemeral/home/data/train.csv', '/data/ephemeral/home/data/Augmentation/augraphy/augmented5', transforms=aug_transforms)\n",
    "aug_dataset_6 = customdataset('/data/ephemeral/home/data/train.csv', '/data/ephemeral/home/data/Augmentation/augraphy/augmented6', transforms=aug_transforms)\n",
    "aug_dataset_7 = customdataset('/data/ephemeral/home/data/train.csv', '/data/ephemeral/home/data/Augmentation/augraphy/augmented7', transforms=aug_transforms)\n",
    "aug_dataset_8 = customdataset('/data/ephemeral/home/data/train.csv', '/data/ephemeral/home/data/Augmentation/augraphy/augmented8', transforms=aug_transforms)\n",
    "aug_dataset_9 = customdataset('/data/ephemeral/home/data/train.csv', '/data/ephemeral/home/data/Augmentation/augraphy/augmented9', transforms=aug_transforms)\n",
    "aug_dataset_10 = customdataset('/data/ephemeral/home/data/train.csv', '/data/ephemeral/home/data/Augmentation/augraphy/augmented10', transforms=aug_transforms)\n",
    "\n",
    "simple_aug_dataset_1 = customdataset('/data/ephemeral/home/data/train.csv', '/data/ephemeral/home/data/train/', transforms=simple_transforms)\n",
    "simple_aug_dataset_2 = customdataset('/data/ephemeral/home/data/train.csv', '/data/ephemeral/home/data/train/', transforms=simple_transforms)\n",
    "simple_aug_dataset_3 = customdataset('/data/ephemeral/home/data/train.csv', '/data/ephemeral/home/data/train/', transforms=simple_transforms)\n",
    "simple_aug_dataset_4 = customdataset('/data/ephemeral/home/data/train.csv', '/data/ephemeral/home/data/train/', transforms=simple_transforms)\n",
    "simple_aug_dataset_5 = customdataset('/data/ephemeral/home/data/train.csv', '/data/ephemeral/home/data/train/', transforms=simple_transforms)\n",
    "\n",
    "origin_dataset_1 = customdataset('/data/ephemeral/home/data/train.csv', '/data/ephemeral/home/data/train/', transforms=origin_transforms)"
   ]
  },
  {
   "cell_type": "code",
   "execution_count": 9,
   "metadata": {},
   "outputs": [],
   "source": [
    "train_dataset = torch.utils.data.ConcatDataset([aug_dataset_1, aug_dataset_2, aug_dataset_3, \n",
    "                                                aug_dataset_4, aug_dataset_5, aug_dataset_6, \n",
    "                                                aug_dataset_7, aug_dataset_8, aug_dataset_9, \n",
    "                                                aug_dataset_10,\n",
    "\n",
    "                                                simple_aug_dataset_1, simple_aug_dataset_2, simple_aug_dataset_3,\n",
    "                                                simple_aug_dataset_4, simple_aug_dataset_5,\n",
    "\n",
    "                                                origin_dataset_1])"
   ]
  },
  {
   "cell_type": "code",
   "execution_count": 10,
   "metadata": {},
   "outputs": [
    {
     "name": "stderr",
     "output_type": "stream",
     "text": [
      "/opt/conda/lib/python3.10/site-packages/torchvision/transforms/functional.py:1603: UserWarning: The default value of the antialias parameter of all the resizing transforms (Resize(), RandomResizedCrop(), etc.) will change from None to True in v0.17, in order to be consistent across the PIL and Tensor backends. To suppress this warning, directly pass antialias=True (recommended, future default), antialias=None (current default, which means False for Tensors and True for PIL), or antialias=False (only works on Tensors - PIL will still use antialiasing). This also applies if you are using the inference transforms from the models weights: update the call to weights.transforms(antialias=True).\n",
      "  warnings.warn(\n",
      "Clipping input data to the valid range for imshow with RGB data ([0..1] for floats or [0..255] for integers). Got range [0.0..50.0].\n"
     ]
    },
    {
     "data": {
      "image/png": "[encoded data removed]",
      "text/plain": [
       "<Figure size 300x300 with 1 Axes>"
      ]
     },
     "metadata": {},
     "output_type": "display_data"
    }
   ],
   "source": [
    "plt.figure(figsize=(3, 3))\n",
    "plt.imshow(train_dataset[10][0].permute(1, 2, 0))\n",
    "plt.show()"
   ]
  },
  {
   "cell_type": "code",
   "execution_count": 11,
   "metadata": {},
   "outputs": [],
   "source": [
    "valid_transforms = T.Compose([\n",
    "    T.ToTensor(),\n",
    "    T.Resize((500, 500))\n",
    "])\n",
    "\n",
    "valid_dataset = customdataset('/data/ephemeral/home/preds/minjun_best_score_3.csv', '/data/ephemeral/home/data/test/', transforms=valid_transforms) # valid dataset"
   ]
  },
  {
   "cell_type": "code",
   "execution_count": 12,
   "metadata": {},
   "outputs": [
    {
     "data": {
      "text/plain": [
       "3140"
      ]
     },
     "execution_count": 12,
     "metadata": {},
     "output_type": "execute_result"
    }
   ],
   "source": [
    "len(valid_dataset)"
   ]
  },
  {
   "cell_type": "code",
   "execution_count": 13,
   "metadata": {},
   "outputs": [
    {
     "name": "stderr",
     "output_type": "stream",
     "text": [
      "/opt/conda/lib/python3.10/site-packages/torchvision/transforms/functional.py:1603: UserWarning: The default value of the antialias parameter of all the resizing transforms (Resize(), RandomResizedCrop(), etc.) will change from None to True in v0.17, in order to be consistent across the PIL and Tensor backends. To suppress this warning, directly pass antialias=True (recommended, future default), antialias=None (current default, which means False for Tensors and True for PIL), or antialias=False (only works on Tensors - PIL will still use antialiasing). This also applies if you are using the inference transforms from the models weights: update the call to weights.transforms(antialias=True).\n",
      "  warnings.warn(\n"
     ]
    },
    {
     "data": {
      "image/png": "[encoded data removed]",
      "text/plain": [
       "<Figure size 300x300 with 1 Axes>"
      ]
     },
     "metadata": {},
     "output_type": "display_data"
    }
   ],
   "source": [
    "plt.figure(figsize=(3, 3))\n",
    "plt.imshow(valid_dataset[0][0].permute(1, 2, 0))\n",
    "plt.title(valid_dataset[0][1])\n",
    "plt.show()"
   ]
  },
  {
   "cell_type": "code",
   "execution_count": 14,
   "metadata": {},
   "outputs": [],
   "source": [
    "batch_size = 100\n",
    "\n",
    "train_dataloader = torch.utils.data.DataLoader(train_dataset, batch_size, shuffle=True, num_workers=16)\n",
    "valid_dataloader = torch.utils.data.DataLoader(valid_dataset, batch_size, shuffle=False, num_workers=16)"
   ]
  },
  {
   "cell_type": "markdown",
   "metadata": {},
   "source": [
    "# 학습"
   ]
  },
  {
   "cell_type": "code",
   "execution_count": 15,
   "metadata": {},
   "outputs": [],
   "source": [
    "def training(model, train_dataloader, train_dataset, criterion, optimizer, epoch, num_epochs):\n",
    "    model.train()\n",
    "    train_loss = 0.0\n",
    "    train_accuracy = 0\n",
    "\n",
    "    tbar = tqdm(train_dataloader)\n",
    "    for images, labels in tbar:\n",
    "        images, labels = images.to(device), labels.to(device)\n",
    "        outputs = model(images)\n",
    "        loss = criterion(outputs, labels)\n",
    "\n",
    "        optimizer.zero_grad()\n",
    "        loss.backward()\n",
    "        optimizer.step()\n",
    "\n",
    "        train_loss += loss.item()\n",
    "        max_prob, predicted = torch.max(outputs, 1)\n",
    "        train_accuracy += (predicted == labels).sum().item()\n",
    "\n",
    "        tbar.set_description(f'Epoch/Epochs [{epoch+1}/{num_epochs}], Train Loss: {loss.item():.4f}')\n",
    "\n",
    "    train_loss = train_loss / len(train_dataloader)\n",
    "    train_accuracy = train_accuracy / len(train_dataset)\n",
    "\n",
    "    return model, train_loss, train_accuracy\n",
    "\n",
    "def evalutaion(model, valid_dataloader, valid_accuracy, criterion, epoch, num_epochs):\n",
    "    model.eval()\n",
    "    valid_loss = 0.0\n",
    "    valid_accuracy = 0\n",
    "\n",
    "    with torch.no_grad():\n",
    "        tbar = tqdm(valid_dataloader)\n",
    "        for images, labels in tbar:\n",
    "            images, labels = images.to(device), labels.to(device)\n",
    "            outputs = model(images)\n",
    "            loss = criterion(outputs, labels)\n",
    "\n",
    "            valid_loss += loss.item()\n",
    "            max_prob, predicted = torch.max(outputs, 1)\n",
    "            valid_accuracy += (predicted == labels).sum().item()\n",
    "\n",
    "            tbar.set_description(f'Epoch/Epochs [{epoch+1}/{num_epochs}], Valid Loss: {loss.item():.4f}')\n",
    "\n",
    "    valid_loss = valid_loss / len(valid_dataloader)\n",
    "    valid_accuracy = valid_accuracy / len(valid_dataset)\n",
    "\n",
    "    return model, valid_loss, valid_accuracy\n",
    "\n",
    "def training_loop(model, train_dataloader, train_dataset, valid_dataloader, valid_dataset, criterion, optimizer, num_epochs):\n",
    "    best_valid_loss = float('inf')\n",
    "    early_stop_cnt = 0\n",
    "    valid_max_accuracy = -1\n",
    "\n",
    "    for epoch in range(num_epochs):\n",
    "        model, train_loss, train_accuracy = training(model, train_dataloader, train_dataset, criterion, optimizer, epoch, num_epochs)\n",
    "        model, valid_loss, valid_accuracy = evalutaion(model, valid_dataloader, valid_dataset, criterion, epoch, num_epochs)\n",
    "\n",
    "        monitoring_values = {'Train Loss': train_loss, 'Valid Loss': valid_loss, 'Train Accuracy': train_accuracy, 'Valid Accuracy': valid_accuracy}\n",
    "        run.log(monitoring_values, step=epoch)\n",
    "\n",
    "        if valid_accuracy > valid_max_accuracy:\n",
    "            valid_max_accuracy = valid_accuracy\n",
    "\n",
    "        if valid_loss < best_valid_loss:\n",
    "            torch.save(model.state_dict(), f\"/data/ephemeral/home/model/models/model_v10_best.pt\")\n",
    "            best_valid_loss = valid_loss\n",
    "            early_stop_cnt = 0\n",
    "\n",
    "        else :\n",
    "            early_stop_cnt += 1\n",
    "\n",
    "        print(f\"Epoch [{epoch + 1}/{num_epochs}], Train Loss: {train_loss:.4f}, Train Accuracy: {train_accuracy:.4f} Valid Loss: {valid_loss:.4f}, Valid Accuracy: {valid_accuracy:.4f}\")\n",
    "\n",
    "        if early_stop_cnt >= 50:\n",
    "            torch.save(model.state_dict(), f\"/data/ephemeral/home/model/models/model_v10_last.pt\")\n",
    "            print('Early Stopping')\n",
    "            break\n",
    "\n",
    "    return model"
   ]
  },
  {
   "cell_type": "code",
   "execution_count": 16,
   "metadata": {},
   "outputs": [],
   "source": [
    "model = timm.create_model(\n",
    "    'resnet34',\n",
    "    pretrained=True,\n",
    "    num_classes=17\n",
    ").to(device)\n",
    "\n",
    "criterion = torch.nn.CrossEntropyLoss()\n",
    "optimizer = torch.optim.Adam(model.parameters(), lr=0.001)"
   ]
  },
  {
   "cell_type": "code",
   "execution_count": 18,
   "metadata": {},
   "outputs": [
    {
     "data": {
      "application/vnd.jupyter.widget-view+json": {
       "model_id": "fcdca06fed6f478785c0a3eb5efc8f70",
       "version_major": 2,
       "version_minor": 0
      },
      "text/plain": [
       "  0%|          | 0/252 [00:00<?, ?it/s]"
      ]
     },
     "metadata": {},
     "output_type": "display_data"
    },
    {
     "data": {
      "application/vnd.jupyter.widget-view+json": {
       "model_id": "6608724afb46461c8ba1d89e1de52afa",
       "version_major": 2,
       "version_minor": 0
      },
      "text/plain": [
       "  0%|          | 0/32 [00:00<?, ?it/s]"
      ]
     },
     "metadata": {},
     "output_type": "display_data"
    },
    {
     "name": "stdout",
     "output_type": "stream",
     "text": [
      "Epoch [1/500], Train Loss: 1.0075, Train Accuracy: 0.6647 Valid Loss: 0.7624, Valid Accuracy: 0.7452\n"
     ]
    },
    {
     "data": {
      "application/vnd.jupyter.widget-view+json": {
       "model_id": "dae71962228948e6a7c5e70d02feeb4d",
       "version_major": 2,
       "version_minor": 0
      },
      "text/plain": [
       "  0%|          | 0/252 [00:00<?, ?it/s]"
      ]
     },
     "metadata": {},
     "output_type": "display_data"
    },
    {
     "data": {
      "application/vnd.jupyter.widget-view+json": {
       "model_id": "131c48de814e4f3f99e79b7391901095",
       "version_major": 2,
       "version_minor": 0
      },
      "text/plain": [
       "  0%|          | 0/32 [00:00<?, ?it/s]"
      ]
     },
     "metadata": {},
     "output_type": "display_data"
    },
    {
     "name": "stdout",
     "output_type": "stream",
     "text": [
      "Epoch [2/500], Train Loss: 0.3325, Train Accuracy: 0.8781 Valid Loss: 0.5936, Valid Accuracy: 0.7949\n"
     ]
    },
    {
     "data": {
      "application/vnd.jupyter.widget-view+json": {
       "model_id": "69d1efc35eed4d97b84c0f3c9ef7e9fc",
       "version_major": 2,
       "version_minor": 0
      },
      "text/plain": [
       "  0%|          | 0/252 [00:00<?, ?it/s]"
      ]
     },
     "metadata": {},
     "output_type": "display_data"
    },
    {
     "data": {
      "application/vnd.jupyter.widget-view+json": {
       "model_id": "3d027b1884444c9c8a41e3805391460e",
       "version_major": 2,
       "version_minor": 0
      },
      "text/plain": [
       "  0%|          | 0/32 [00:00<?, ?it/s]"
      ]
     },
     "metadata": {},
     "output_type": "display_data"
    },
    {
     "name": "stdout",
     "output_type": "stream",
     "text": [
      "Epoch [3/500], Train Loss: 0.2390, Train Accuracy: 0.9140 Valid Loss: 0.7737, Valid Accuracy: 0.7452\n"
     ]
    },
    {
     "data": {
      "application/vnd.jupyter.widget-view+json": {
       "model_id": "4ccd5c7fc99942f3b9bd8e7c852d12b6",
       "version_major": 2,
       "version_minor": 0
      },
      "text/plain": [
       "  0%|          | 0/252 [00:00<?, ?it/s]"
      ]
     },
     "metadata": {},
     "output_type": "display_data"
    },
    {
     "data": {
      "application/vnd.jupyter.widget-view+json": {
       "model_id": "cc74f8358ef94c7196e7c9fc1c4830d9",
       "version_major": 2,
       "version_minor": 0
      },
      "text/plain": [
       "  0%|          | 0/32 [00:00<?, ?it/s]"
      ]
     },
     "metadata": {},
     "output_type": "display_data"
    },
    {
     "name": "stdout",
     "output_type": "stream",
     "text": [
      "Epoch [4/500], Train Loss: 0.1970, Train Accuracy: 0.9281 Valid Loss: 0.8158, Valid Accuracy: 0.7691\n"
     ]
    },
    {
     "data": {
      "application/vnd.jupyter.widget-view+json": {
       "model_id": "e500b8f17c784ab48f2ada0a8ff1458d",
       "version_major": 2,
       "version_minor": 0
      },
      "text/plain": [
       "  0%|          | 0/252 [00:00<?, ?it/s]"
      ]
     },
     "metadata": {},
     "output_type": "display_data"
    },
    {
     "data": {
      "application/vnd.jupyter.widget-view+json": {
       "model_id": "4cc75bafbc8f4797b576d81bf16c36b4",
       "version_major": 2,
       "version_minor": 0
      },
      "text/plain": [
       "  0%|          | 0/32 [00:00<?, ?it/s]"
      ]
     },
     "metadata": {},
     "output_type": "display_data"
    },
    {
     "name": "stdout",
     "output_type": "stream",
     "text": [
      "Epoch [5/500], Train Loss: 0.1456, Train Accuracy: 0.9465 Valid Loss: 0.3749, Valid Accuracy: 0.8790\n"
     ]
    },
    {
     "data": {
      "application/vnd.jupyter.widget-view+json": {
       "model_id": "27c2aadac80e46a690781bcf2d47c21d",
       "version_major": 2,
       "version_minor": 0
      },
      "text/plain": [
       "  0%|          | 0/252 [00:00<?, ?it/s]"
      ]
     },
     "metadata": {},
     "output_type": "display_data"
    },
    {
     "data": {
      "application/vnd.jupyter.widget-view+json": {
       "model_id": "9265f01332dc4080a1531030c224b6b2",
       "version_major": 2,
       "version_minor": 0
      },
      "text/plain": [
       "  0%|          | 0/32 [00:00<?, ?it/s]"
      ]
     },
     "metadata": {},
     "output_type": "display_data"
    },
    {
     "name": "stdout",
     "output_type": "stream",
     "text": [
      "Epoch [6/500], Train Loss: 0.1244, Train Accuracy: 0.9558 Valid Loss: 0.5752, Valid Accuracy: 0.8347\n"
     ]
    },
    {
     "data": {
      "application/vnd.jupyter.widget-view+json": {
       "model_id": "20f352a3e4f04970a7347669cfcbc24d",
       "version_major": 2,
       "version_minor": 0
      },
      "text/plain": [
       "  0%|          | 0/252 [00:00<?, ?it/s]"
      ]
     },
     "metadata": {},
     "output_type": "display_data"
    },
    {
     "data": {
      "application/vnd.jupyter.widget-view+json": {
       "model_id": "6e6e70a09c674bf7ae02ae6633db5efa",
       "version_major": 2,
       "version_minor": 0
      },
      "text/plain": [
       "  0%|          | 0/32 [00:00<?, ?it/s]"
      ]
     },
     "metadata": {},
     "output_type": "display_data"
    },
    {
     "name": "stdout",
     "output_type": "stream",
     "text": [
      "Epoch [7/500], Train Loss: 0.1118, Train Accuracy: 0.9609 Valid Loss: 0.5550, Valid Accuracy: 0.8564\n"
     ]
    },
    {
     "data": {
      "application/vnd.jupyter.widget-view+json": {
       "model_id": "6af64613a3254c89b84b95d68441b045",
       "version_major": 2,
       "version_minor": 0
      },
      "text/plain": [
       "  0%|          | 0/252 [00:00<?, ?it/s]"
      ]
     },
     "metadata": {},
     "output_type": "display_data"
    },
    {
     "data": {
      "application/vnd.jupyter.widget-view+json": {
       "model_id": "11cbaf8b5f4240cba146a84e38abbda3",
       "version_major": 2,
       "version_minor": 0
      },
      "text/plain": [
       "  0%|          | 0/32 [00:00<?, ?it/s]"
      ]
     },
     "metadata": {},
     "output_type": "display_data"
    },
    {
     "name": "stdout",
     "output_type": "stream",
     "text": [
      "Epoch [8/500], Train Loss: 0.0927, Train Accuracy: 0.9674 Valid Loss: 0.7152, Valid Accuracy: 0.8188\n"
     ]
    },
    {
     "data": {
      "application/vnd.jupyter.widget-view+json": {
       "model_id": "89315d6222fa483c8c3e680d2770cd95",
       "version_major": 2,
       "version_minor": 0
      },
      "text/plain": [
       "  0%|          | 0/252 [00:00<?, ?it/s]"
      ]
     },
     "metadata": {},
     "output_type": "display_data"
    },
    {
     "data": {
      "application/vnd.jupyter.widget-view+json": {
       "model_id": "4533fa14fc3646a18471dc4ab6891917",
       "version_major": 2,
       "version_minor": 0
      },
      "text/plain": [
       "  0%|          | 0/32 [00:00<?, ?it/s]"
      ]
     },
     "metadata": {},
     "output_type": "display_data"
    },
    {
     "name": "stdout",
     "output_type": "stream",
     "text": [
      "Epoch [9/500], Train Loss: 0.0848, Train Accuracy: 0.9713 Valid Loss: 0.4640, Valid Accuracy: 0.8662\n"
     ]
    },
    {
     "data": {
      "application/vnd.jupyter.widget-view+json": {
       "model_id": "934342f14e7e4dcaa90f7c3748b0916f",
       "version_major": 2,
       "version_minor": 0
      },
      "text/plain": [
       "  0%|          | 0/252 [00:00<?, ?it/s]"
      ]
     },
     "metadata": {},
     "output_type": "display_data"
    },
    {
     "data": {
      "application/vnd.jupyter.widget-view+json": {
       "model_id": "e4afe0b964f34ec789edea511e73e37b",
       "version_major": 2,
       "version_minor": 0
      },
      "text/plain": [
       "  0%|          | 0/32 [00:00<?, ?it/s]"
      ]
     },
     "metadata": {},
     "output_type": "display_data"
    },
    {
     "name": "stdout",
     "output_type": "stream",
     "text": [
      "Epoch [10/500], Train Loss: 0.0775, Train Accuracy: 0.9734 Valid Loss: 0.6933, Valid Accuracy: 0.8318\n"
     ]
    },
    {
     "data": {
      "application/vnd.jupyter.widget-view+json": {
       "model_id": "a4f51b00ec32418da1f67f9bd923c7c2",
       "version_major": 2,
       "version_minor": 0
      },
      "text/plain": [
       "  0%|          | 0/252 [00:00<?, ?it/s]"
      ]
     },
     "metadata": {},
     "output_type": "display_data"
    },
    {
     "data": {
      "application/vnd.jupyter.widget-view+json": {
       "model_id": "5ec6c17561174a368ee55f3d2c366f2e",
       "version_major": 2,
       "version_minor": 0
      },
      "text/plain": [
       "  0%|          | 0/32 [00:00<?, ?it/s]"
      ]
     },
     "metadata": {},
     "output_type": "display_data"
    },
    {
     "name": "stdout",
     "output_type": "stream",
     "text": [
      "Epoch [11/500], Train Loss: 0.0708, Train Accuracy: 0.9752 Valid Loss: 0.4377, Valid Accuracy: 0.8783\n"
     ]
    },
    {
     "data": {
      "application/vnd.jupyter.widget-view+json": {
       "model_id": "23a28baeeb84419e847e0172c30c3a19",
       "version_major": 2,
       "version_minor": 0
      },
      "text/plain": [
       "  0%|          | 0/252 [00:00<?, ?it/s]"
      ]
     },
     "metadata": {},
     "output_type": "display_data"
    },
    {
     "data": {
      "application/vnd.jupyter.widget-view+json": {
       "model_id": "9217b8f5983c4a96a904a7707d14c34e",
       "version_major": 2,
       "version_minor": 0
      },
      "text/plain": [
       "  0%|          | 0/32 [00:00<?, ?it/s]"
      ]
     },
     "metadata": {},
     "output_type": "display_data"
    },
    {
     "name": "stdout",
     "output_type": "stream",
     "text": [
      "Epoch [12/500], Train Loss: 0.0647, Train Accuracy: 0.9779 Valid Loss: 0.5217, Valid Accuracy: 0.8764\n"
     ]
    },
    {
     "data": {
      "application/vnd.jupyter.widget-view+json": {
       "model_id": "4756094f907246cd8b8dd5e1af212e1f",
       "version_major": 2,
       "version_minor": 0
      },
      "text/plain": [
       "  0%|          | 0/252 [00:00<?, ?it/s]"
      ]
     },
     "metadata": {},
     "output_type": "display_data"
    },
    {
     "data": {
      "application/vnd.jupyter.widget-view+json": {
       "model_id": "22daede9ef58404fab35e0041f486877",
       "version_major": 2,
       "version_minor": 0
      },
      "text/plain": [
       "  0%|          | 0/32 [00:00<?, ?it/s]"
      ]
     },
     "metadata": {},
     "output_type": "display_data"
    },
    {
     "name": "stdout",
     "output_type": "stream",
     "text": [
      "Epoch [13/500], Train Loss: 0.0611, Train Accuracy: 0.9793 Valid Loss: 0.6776, Valid Accuracy: 0.8376\n"
     ]
    },
    {
     "data": {
      "application/vnd.jupyter.widget-view+json": {
       "model_id": "cc74ab831b334820a04db46783c5e3b4",
       "version_major": 2,
       "version_minor": 0
      },
      "text/plain": [
       "  0%|          | 0/252 [00:00<?, ?it/s]"
      ]
     },
     "metadata": {},
     "output_type": "display_data"
    },
    {
     "data": {
      "application/vnd.jupyter.widget-view+json": {
       "model_id": "3050738608c94941846e8fef4f19ef5c",
       "version_major": 2,
       "version_minor": 0
      },
      "text/plain": [
       "  0%|          | 0/32 [00:00<?, ?it/s]"
      ]
     },
     "metadata": {},
     "output_type": "display_data"
    },
    {
     "name": "stdout",
     "output_type": "stream",
     "text": [
      "Epoch [14/500], Train Loss: 0.0615, Train Accuracy: 0.9789 Valid Loss: 0.4996, Valid Accuracy: 0.8739\n"
     ]
    },
    {
     "data": {
      "application/vnd.jupyter.widget-view+json": {
       "model_id": "3c6af04f45c14992a689cb8e362543ff",
       "version_major": 2,
       "version_minor": 0
      },
      "text/plain": [
       "  0%|          | 0/252 [00:00<?, ?it/s]"
      ]
     },
     "metadata": {},
     "output_type": "display_data"
    },
    {
     "data": {
      "application/vnd.jupyter.widget-view+json": {
       "model_id": "e7b6b352b21841fc974dbc26ecde5b24",
       "version_major": 2,
       "version_minor": 0
      },
      "text/plain": [
       "  0%|          | 0/32 [00:00<?, ?it/s]"
      ]
     },
     "metadata": {},
     "output_type": "display_data"
    },
    {
     "name": "stdout",
     "output_type": "stream",
     "text": [
      "Epoch [15/500], Train Loss: 0.0543, Train Accuracy: 0.9803 Valid Loss: 0.6911, Valid Accuracy: 0.8561\n"
     ]
    },
    {
     "data": {
      "application/vnd.jupyter.widget-view+json": {
       "model_id": "be8fe923a89d49ada852a00f8f1ea659",
       "version_major": 2,
       "version_minor": 0
      },
      "text/plain": [
       "  0%|          | 0/252 [00:00<?, ?it/s]"
      ]
     },
     "metadata": {},
     "output_type": "display_data"
    },
    {
     "data": {
      "application/vnd.jupyter.widget-view+json": {
       "model_id": "b0db234017d94893be20133cf78b79e0",
       "version_major": 2,
       "version_minor": 0
      },
      "text/plain": [
       "  0%|          | 0/32 [00:00<?, ?it/s]"
      ]
     },
     "metadata": {},
     "output_type": "display_data"
    },
    {
     "name": "stdout",
     "output_type": "stream",
     "text": [
      "Epoch [16/500], Train Loss: 0.0544, Train Accuracy: 0.9816 Valid Loss: 0.4617, Valid Accuracy: 0.8796\n"
     ]
    },
    {
     "data": {
      "application/vnd.jupyter.widget-view+json": {
       "model_id": "e3a4cb23688d48ce8faecf91f217d510",
       "version_major": 2,
       "version_minor": 0
      },
      "text/plain": [
       "  0%|          | 0/252 [00:00<?, ?it/s]"
      ]
     },
     "metadata": {},
     "output_type": "display_data"
    },
    {
     "data": {
      "application/vnd.jupyter.widget-view+json": {
       "model_id": "4843c913b1164bde8baacc7698431a37",
       "version_major": 2,
       "version_minor": 0
      },
      "text/plain": [
       "  0%|          | 0/32 [00:00<?, ?it/s]"
      ]
     },
     "metadata": {},
     "output_type": "display_data"
    },
    {
     "name": "stdout",
     "output_type": "stream",
     "text": [
      "Epoch [17/500], Train Loss: 0.0480, Train Accuracy: 0.9829 Valid Loss: 0.6249, Valid Accuracy: 0.8659\n"
     ]
    },
    {
     "data": {
      "application/vnd.jupyter.widget-view+json": {
       "model_id": "af481f1982cd492a89e255fe808d8677",
       "version_major": 2,
       "version_minor": 0
      },
      "text/plain": [
       "  0%|          | 0/252 [00:00<?, ?it/s]"
      ]
     },
     "metadata": {},
     "output_type": "display_data"
    },
    {
     "data": {
      "application/vnd.jupyter.widget-view+json": {
       "model_id": "54a40eb4d2ca4fbe8d99d1f53a3329ba",
       "version_major": 2,
       "version_minor": 0
      },
      "text/plain": [
       "  0%|          | 0/32 [00:00<?, ?it/s]"
      ]
     },
     "metadata": {},
     "output_type": "display_data"
    },
    {
     "name": "stdout",
     "output_type": "stream",
     "text": [
      "Epoch [18/500], Train Loss: 0.0456, Train Accuracy: 0.9850 Valid Loss: 0.9674, Valid Accuracy: 0.8315\n"
     ]
    },
    {
     "data": {
      "application/vnd.jupyter.widget-view+json": {
       "model_id": "4456179242c04bf9b8a9ebfdfbe1003f",
       "version_major": 2,
       "version_minor": 0
      },
      "text/plain": [
       "  0%|          | 0/252 [00:00<?, ?it/s]"
      ]
     },
     "metadata": {},
     "output_type": "display_data"
    },
    {
     "data": {
      "application/vnd.jupyter.widget-view+json": {
       "model_id": "309bf02eb5ed4becbf33ce30e3e2470d",
       "version_major": 2,
       "version_minor": 0
      },
      "text/plain": [
       "  0%|          | 0/32 [00:00<?, ?it/s]"
      ]
     },
     "metadata": {},
     "output_type": "display_data"
    },
    {
     "name": "stdout",
     "output_type": "stream",
     "text": [
      "Epoch [19/500], Train Loss: 0.0463, Train Accuracy: 0.9836 Valid Loss: 0.5810, Valid Accuracy: 0.8532\n"
     ]
    },
    {
     "data": {
      "application/vnd.jupyter.widget-view+json": {
       "model_id": "2171ace3e99a4755a634fe73f17a2934",
       "version_major": 2,
       "version_minor": 0
      },
      "text/plain": [
       "  0%|          | 0/252 [00:00<?, ?it/s]"
      ]
     },
     "metadata": {},
     "output_type": "display_data"
    },
    {
     "data": {
      "application/vnd.jupyter.widget-view+json": {
       "model_id": "b304a1e189a54c5ab3e8e1efce59106a",
       "version_major": 2,
       "version_minor": 0
      },
      "text/plain": [
       "  0%|          | 0/32 [00:00<?, ?it/s]"
      ]
     },
     "metadata": {},
     "output_type": "display_data"
    },
    {
     "name": "stdout",
     "output_type": "stream",
     "text": [
      "Epoch [20/500], Train Loss: 0.0463, Train Accuracy: 0.9842 Valid Loss: 0.5886, Valid Accuracy: 0.8675\n"
     ]
    },
    {
     "data": {
      "application/vnd.jupyter.widget-view+json": {
       "model_id": "988c3d9b777a42508d84bcb2a3139273",
       "version_major": 2,
       "version_minor": 0
      },
      "text/plain": [
       "  0%|          | 0/252 [00:00<?, ?it/s]"
      ]
     },
     "metadata": {},
     "output_type": "display_data"
    },
    {
     "data": {
      "application/vnd.jupyter.widget-view+json": {
       "model_id": "dec59da0837a465eb91f34f5810361e6",
       "version_major": 2,
       "version_minor": 0
      },
      "text/plain": [
       "  0%|          | 0/32 [00:00<?, ?it/s]"
      ]
     },
     "metadata": {},
     "output_type": "display_data"
    },
    {
     "name": "stdout",
     "output_type": "stream",
     "text": [
      "Epoch [21/500], Train Loss: 0.0392, Train Accuracy: 0.9862 Valid Loss: 0.5547, Valid Accuracy: 0.8774\n"
     ]
    },
    {
     "data": {
      "application/vnd.jupyter.widget-view+json": {
       "model_id": "7ce5f80583aa49a7b2d8b87c3cae8d3d",
       "version_major": 2,
       "version_minor": 0
      },
      "text/plain": [
       "  0%|          | 0/252 [00:00<?, ?it/s]"
      ]
     },
     "metadata": {},
     "output_type": "display_data"
    },
    {
     "data": {
      "application/vnd.jupyter.widget-view+json": {
       "model_id": "04b9a3b9de9745fe893b17833c2dedd5",
       "version_major": 2,
       "version_minor": 0
      },
      "text/plain": [
       "  0%|          | 0/32 [00:00<?, ?it/s]"
      ]
     },
     "metadata": {},
     "output_type": "display_data"
    },
    {
     "name": "stdout",
     "output_type": "stream",
     "text": [
      "Epoch [22/500], Train Loss: 0.0431, Train Accuracy: 0.9847 Valid Loss: 0.7558, Valid Accuracy: 0.8605\n"
     ]
    },
    {
     "data": {
      "application/vnd.jupyter.widget-view+json": {
       "model_id": "f510fd22b1b54b10ab6a9484acdc74a3",
       "version_major": 2,
       "version_minor": 0
      },
      "text/plain": [
       "  0%|          | 0/252 [00:00<?, ?it/s]"
      ]
     },
     "metadata": {},
     "output_type": "display_data"
    },
    {
     "data": {
      "application/vnd.jupyter.widget-view+json": {
       "model_id": "55426da0667b416aaa96af8e3bbcfc29",
       "version_major": 2,
       "version_minor": 0
      },
      "text/plain": [
       "  0%|          | 0/32 [00:00<?, ?it/s]"
      ]
     },
     "metadata": {},
     "output_type": "display_data"
    },
    {
     "name": "stdout",
     "output_type": "stream",
     "text": [
      "Epoch [23/500], Train Loss: 0.0406, Train Accuracy: 0.9860 Valid Loss: 0.5533, Valid Accuracy: 0.8736\n"
     ]
    },
    {
     "data": {
      "application/vnd.jupyter.widget-view+json": {
       "model_id": "60b3883bd0d541659bc027b07c799702",
       "version_major": 2,
       "version_minor": 0
      },
      "text/plain": [
       "  0%|          | 0/252 [00:00<?, ?it/s]"
      ]
     },
     "metadata": {},
     "output_type": "display_data"
    },
    {
     "data": {
      "application/vnd.jupyter.widget-view+json": {
       "model_id": "a10fa92d528d46a784cba68c1a4f3432",
       "version_major": 2,
       "version_minor": 0
      },
      "text/plain": [
       "  0%|          | 0/32 [00:00<?, ?it/s]"
      ]
     },
     "metadata": {},
     "output_type": "display_data"
    },
    {
     "name": "stdout",
     "output_type": "stream",
     "text": [
      "Epoch [24/500], Train Loss: 0.0373, Train Accuracy: 0.9878 Valid Loss: 0.6814, Valid Accuracy: 0.8615\n"
     ]
    },
    {
     "data": {
      "application/vnd.jupyter.widget-view+json": {
       "model_id": "0ab6d1d6ef1543c1b6173eef53382fd5",
       "version_major": 2,
       "version_minor": 0
      },
      "text/plain": [
       "  0%|          | 0/252 [00:00<?, ?it/s]"
      ]
     },
     "metadata": {},
     "output_type": "display_data"
    },
    {
     "data": {
      "application/vnd.jupyter.widget-view+json": {
       "model_id": "e65268273e054ccc9dde5bdd3b9af37d",
       "version_major": 2,
       "version_minor": 0
      },
      "text/plain": [
       "  0%|          | 0/32 [00:00<?, ?it/s]"
      ]
     },
     "metadata": {},
     "output_type": "display_data"
    },
    {
     "name": "stdout",
     "output_type": "stream",
     "text": [
      "Epoch [25/500], Train Loss: 0.0399, Train Accuracy: 0.9855 Valid Loss: 0.6545, Valid Accuracy: 0.8580\n"
     ]
    },
    {
     "data": {
      "application/vnd.jupyter.widget-view+json": {
       "model_id": "b6156815730a4cbfb10765fb1e9ba262",
       "version_major": 2,
       "version_minor": 0
      },
      "text/plain": [
       "  0%|          | 0/252 [00:00<?, ?it/s]"
      ]
     },
     "metadata": {},
     "output_type": "display_data"
    },
    {
     "data": {
      "application/vnd.jupyter.widget-view+json": {
       "model_id": "bf1df0478d2d4307ae7832c63d1bb06a",
       "version_major": 2,
       "version_minor": 0
      },
      "text/plain": [
       "  0%|          | 0/32 [00:00<?, ?it/s]"
      ]
     },
     "metadata": {},
     "output_type": "display_data"
    },
    {
     "name": "stdout",
     "output_type": "stream",
     "text": [
      "Epoch [26/500], Train Loss: 0.0337, Train Accuracy: 0.9876 Valid Loss: 0.7841, Valid Accuracy: 0.8459\n"
     ]
    },
    {
     "data": {
      "application/vnd.jupyter.widget-view+json": {
       "model_id": "261462de21764bd495140082eef671d5",
       "version_major": 2,
       "version_minor": 0
      },
      "text/plain": [
       "  0%|          | 0/252 [00:00<?, ?it/s]"
      ]
     },
     "metadata": {},
     "output_type": "display_data"
    },
    {
     "data": {
      "application/vnd.jupyter.widget-view+json": {
       "model_id": "04c98d9462e54352af07765cfde8de66",
       "version_major": 2,
       "version_minor": 0
      },
      "text/plain": [
       "  0%|          | 0/32 [00:00<?, ?it/s]"
      ]
     },
     "metadata": {},
     "output_type": "display_data"
    },
    {
     "name": "stdout",
     "output_type": "stream",
     "text": [
      "Epoch [27/500], Train Loss: 0.0364, Train Accuracy: 0.9875 Valid Loss: 1.8485, Valid Accuracy: 0.7592\n"
     ]
    },
    {
     "data": {
      "application/vnd.jupyter.widget-view+json": {
       "model_id": "2add6172ffa44564b8a3da25476fedc5",
       "version_major": 2,
       "version_minor": 0
      },
      "text/plain": [
       "  0%|          | 0/252 [00:00<?, ?it/s]"
      ]
     },
     "metadata": {},
     "output_type": "display_data"
    },
    {
     "data": {
      "application/vnd.jupyter.widget-view+json": {
       "model_id": "ffcfa1d4f7e04695abe3292f0732eafa",
       "version_major": 2,
       "version_minor": 0
      },
      "text/plain": [
       "  0%|          | 0/32 [00:00<?, ?it/s]"
      ]
     },
     "metadata": {},
     "output_type": "display_data"
    },
    {
     "name": "stdout",
     "output_type": "stream",
     "text": [
      "Epoch [28/500], Train Loss: 0.0472, Train Accuracy: 0.9840 Valid Loss: 0.6690, Valid Accuracy: 0.8618\n"
     ]
    },
    {
     "data": {
      "application/vnd.jupyter.widget-view+json": {
       "model_id": "4301b570314645768a61f1f6b54135e7",
       "version_major": 2,
       "version_minor": 0
      },
      "text/plain": [
       "  0%|          | 0/252 [00:00<?, ?it/s]"
      ]
     },
     "metadata": {},
     "output_type": "display_data"
    },
    {
     "data": {
      "application/vnd.jupyter.widget-view+json": {
       "model_id": "448daf27a1104f86b23340768a82f309",
       "version_major": 2,
       "version_minor": 0
      },
      "text/plain": [
       "  0%|          | 0/32 [00:00<?, ?it/s]"
      ]
     },
     "metadata": {},
     "output_type": "display_data"
    },
    {
     "name": "stdout",
     "output_type": "stream",
     "text": [
      "Epoch [29/500], Train Loss: 0.0380, Train Accuracy: 0.9878 Valid Loss: 0.6031, Valid Accuracy: 0.8732\n"
     ]
    },
    {
     "data": {
      "application/vnd.jupyter.widget-view+json": {
       "model_id": "32317eebe9984a9cab08f878819cea64",
       "version_major": 2,
       "version_minor": 0
      },
      "text/plain": [
       "  0%|          | 0/252 [00:00<?, ?it/s]"
      ]
     },
     "metadata": {},
     "output_type": "display_data"
    },
    {
     "data": {
      "application/vnd.jupyter.widget-view+json": {
       "model_id": "b550f6d80e074a72989769e8cc8cb591",
       "version_major": 2,
       "version_minor": 0
      },
      "text/plain": [
       "  0%|          | 0/32 [00:00<?, ?it/s]"
      ]
     },
     "metadata": {},
     "output_type": "display_data"
    },
    {
     "name": "stdout",
     "output_type": "stream",
     "text": [
      "Epoch [30/500], Train Loss: 0.0301, Train Accuracy: 0.9898 Valid Loss: 0.8668, Valid Accuracy: 0.8252\n"
     ]
    },
    {
     "data": {
      "application/vnd.jupyter.widget-view+json": {
       "model_id": "23de07015cd64fd0a949b94bda4e32a6",
       "version_major": 2,
       "version_minor": 0
      },
      "text/plain": [
       "  0%|          | 0/252 [00:00<?, ?it/s]"
      ]
     },
     "metadata": {},
     "output_type": "display_data"
    },
    {
     "data": {
      "application/vnd.jupyter.widget-view+json": {
       "model_id": "e6f959e4dd254ed588268109c51ab9a7",
       "version_major": 2,
       "version_minor": 0
      },
      "text/plain": [
       "  0%|          | 0/32 [00:00<?, ?it/s]"
      ]
     },
     "metadata": {},
     "output_type": "display_data"
    },
    {
     "name": "stdout",
     "output_type": "stream",
     "text": [
      "Epoch [31/500], Train Loss: 0.0296, Train Accuracy: 0.9901 Valid Loss: 0.6123, Valid Accuracy: 0.8691\n"
     ]
    },
    {
     "data": {
      "application/vnd.jupyter.widget-view+json": {
       "model_id": "81181590cb42477d906b7560dbfbe8ed",
       "version_major": 2,
       "version_minor": 0
      },
      "text/plain": [
       "  0%|          | 0/252 [00:00<?, ?it/s]"
      ]
     },
     "metadata": {},
     "output_type": "display_data"
    },
    {
     "data": {
      "application/vnd.jupyter.widget-view+json": {
       "model_id": "7bcc4f19f9a54c758e87be8012677021",
       "version_major": 2,
       "version_minor": 0
      },
      "text/plain": [
       "  0%|          | 0/32 [00:00<?, ?it/s]"
      ]
     },
     "metadata": {},
     "output_type": "display_data"
    },
    {
     "name": "stdout",
     "output_type": "stream",
     "text": [
      "Epoch [32/500], Train Loss: 0.0280, Train Accuracy: 0.9902 Valid Loss: 0.6278, Valid Accuracy: 0.8780\n"
     ]
    },
    {
     "data": {
      "application/vnd.jupyter.widget-view+json": {
       "model_id": "133d63c648fb469aa44f90dfcb91aa78",
       "version_major": 2,
       "version_minor": 0
      },
      "text/plain": [
       "  0%|          | 0/252 [00:00<?, ?it/s]"
      ]
     },
     "metadata": {},
     "output_type": "display_data"
    },
    {
     "data": {
      "application/vnd.jupyter.widget-view+json": {
       "model_id": "bf868654b387480e8d8eb211d22e23ce",
       "version_major": 2,
       "version_minor": 0
      },
      "text/plain": [
       "  0%|          | 0/32 [00:00<?, ?it/s]"
      ]
     },
     "metadata": {},
     "output_type": "display_data"
    },
    {
     "name": "stdout",
     "output_type": "stream",
     "text": [
      "Epoch [33/500], Train Loss: 0.0260, Train Accuracy: 0.9909 Valid Loss: 0.8564, Valid Accuracy: 0.8611\n"
     ]
    },
    {
     "data": {
      "application/vnd.jupyter.widget-view+json": {
       "model_id": "4a859a6e50c04f999a8691ce9244055b",
       "version_major": 2,
       "version_minor": 0
      },
      "text/plain": [
       "  0%|          | 0/252 [00:00<?, ?it/s]"
      ]
     },
     "metadata": {},
     "output_type": "display_data"
    },
    {
     "data": {
      "application/vnd.jupyter.widget-view+json": {
       "model_id": "d6e28fe493d849b0821b629cde45cb94",
       "version_major": 2,
       "version_minor": 0
      },
      "text/plain": [
       "  0%|          | 0/32 [00:00<?, ?it/s]"
      ]
     },
     "metadata": {},
     "output_type": "display_data"
    },
    {
     "name": "stdout",
     "output_type": "stream",
     "text": [
      "Epoch [34/500], Train Loss: 0.0337, Train Accuracy: 0.9882 Valid Loss: 0.6997, Valid Accuracy: 0.8732\n"
     ]
    },
    {
     "data": {
      "application/vnd.jupyter.widget-view+json": {
       "model_id": "c36431a4a5d844609e06a6814ccaa456",
       "version_major": 2,
       "version_minor": 0
      },
      "text/plain": [
       "  0%|          | 0/252 [00:00<?, ?it/s]"
      ]
     },
     "metadata": {},
     "output_type": "display_data"
    },
    {
     "ename": "KeyboardInterrupt",
     "evalue": "",
     "output_type": "error",
     "traceback": [
      "\u001b[0;31m---------------------------------------------------------------------------\u001b[0m",
      "\u001b[0;31mKeyboardInterrupt\u001b[0m                         Traceback (most recent call last)",
      "Cell \u001b[0;32mIn[18], line 1\u001b[0m\n\u001b[0;32m----> 1\u001b[0m model \u001b[38;5;241m=\u001b[39m \u001b[43mtraining_loop\u001b[49m\u001b[43m(\u001b[49m\u001b[43mmodel\u001b[49m\u001b[43m,\u001b[49m\u001b[43m \u001b[49m\u001b[43mtrain_dataloader\u001b[49m\u001b[43m,\u001b[49m\u001b[43m \u001b[49m\u001b[43mtrain_dataset\u001b[49m\u001b[43m,\u001b[49m\u001b[43m \u001b[49m\u001b[43mvalid_dataloader\u001b[49m\u001b[43m,\u001b[49m\u001b[43m \u001b[49m\u001b[43mvalid_dataset\u001b[49m\u001b[43m,\u001b[49m\u001b[43m \u001b[49m\u001b[43mcriterion\u001b[49m\u001b[43m,\u001b[49m\u001b[43m \u001b[49m\u001b[43moptimizer\u001b[49m\u001b[43m,\u001b[49m\u001b[43m \u001b[49m\u001b[38;5;241;43m500\u001b[39;49m\u001b[43m)\u001b[49m\n",
      "Cell \u001b[0;32mIn[15], line 56\u001b[0m, in \u001b[0;36mtraining_loop\u001b[0;34m(model, train_dataloader, train_dataset, valid_dataloader, valid_dataset, criterion, optimizer, num_epochs)\u001b[0m\n\u001b[1;32m     53\u001b[0m valid_max_accuracy \u001b[38;5;241m=\u001b[39m \u001b[38;5;241m-\u001b[39m\u001b[38;5;241m1\u001b[39m\n\u001b[1;32m     55\u001b[0m \u001b[38;5;28;01mfor\u001b[39;00m epoch \u001b[38;5;129;01min\u001b[39;00m \u001b[38;5;28mrange\u001b[39m(num_epochs):\n\u001b[0;32m---> 56\u001b[0m     model, train_loss, train_accuracy \u001b[38;5;241m=\u001b[39m \u001b[43mtraining\u001b[49m\u001b[43m(\u001b[49m\u001b[43mmodel\u001b[49m\u001b[43m,\u001b[49m\u001b[43m \u001b[49m\u001b[43mtrain_dataloader\u001b[49m\u001b[43m,\u001b[49m\u001b[43m \u001b[49m\u001b[43mtrain_dataset\u001b[49m\u001b[43m,\u001b[49m\u001b[43m \u001b[49m\u001b[43mcriterion\u001b[49m\u001b[43m,\u001b[49m\u001b[43m \u001b[49m\u001b[43moptimizer\u001b[49m\u001b[43m,\u001b[49m\u001b[43m \u001b[49m\u001b[43mepoch\u001b[49m\u001b[43m,\u001b[49m\u001b[43m \u001b[49m\u001b[43mnum_epochs\u001b[49m\u001b[43m)\u001b[49m\n\u001b[1;32m     57\u001b[0m     model, valid_loss, valid_accuracy \u001b[38;5;241m=\u001b[39m evalutaion(model, valid_dataloader, valid_dataset, criterion, epoch, num_epochs)\n\u001b[1;32m     59\u001b[0m     monitoring_values \u001b[38;5;241m=\u001b[39m {\u001b[38;5;124m'\u001b[39m\u001b[38;5;124mTrain Loss\u001b[39m\u001b[38;5;124m'\u001b[39m: train_loss, \u001b[38;5;124m'\u001b[39m\u001b[38;5;124mValid Loss\u001b[39m\u001b[38;5;124m'\u001b[39m: valid_loss, \u001b[38;5;124m'\u001b[39m\u001b[38;5;124mTrain Accuracy\u001b[39m\u001b[38;5;124m'\u001b[39m: train_accuracy, \u001b[38;5;124m'\u001b[39m\u001b[38;5;124mValid Accuracy\u001b[39m\u001b[38;5;124m'\u001b[39m: valid_accuracy}\n",
      "Cell \u001b[0;32mIn[15], line 16\u001b[0m, in \u001b[0;36mtraining\u001b[0;34m(model, train_dataloader, train_dataset, criterion, optimizer, epoch, num_epochs)\u001b[0m\n\u001b[1;32m     13\u001b[0m loss\u001b[38;5;241m.\u001b[39mbackward()\n\u001b[1;32m     14\u001b[0m optimizer\u001b[38;5;241m.\u001b[39mstep()\n\u001b[0;32m---> 16\u001b[0m train_loss \u001b[38;5;241m+\u001b[39m\u001b[38;5;241m=\u001b[39m \u001b[43mloss\u001b[49m\u001b[38;5;241;43m.\u001b[39;49m\u001b[43mitem\u001b[49m\u001b[43m(\u001b[49m\u001b[43m)\u001b[49m\n\u001b[1;32m     17\u001b[0m max_prob, predicted \u001b[38;5;241m=\u001b[39m torch\u001b[38;5;241m.\u001b[39mmax(outputs, \u001b[38;5;241m1\u001b[39m)\n\u001b[1;32m     18\u001b[0m train_accuracy \u001b[38;5;241m+\u001b[39m\u001b[38;5;241m=\u001b[39m (predicted \u001b[38;5;241m==\u001b[39m labels)\u001b[38;5;241m.\u001b[39msum()\u001b[38;5;241m.\u001b[39mitem()\n",
      "\u001b[0;31mKeyboardInterrupt\u001b[0m: "
     ]
    }
   ],
   "source": [
    "model = training_loop(model, train_dataloader, train_dataset, valid_dataloader, valid_dataset, criterion, optimizer, 500)"
   ]
  },
  {
   "cell_type": "markdown",
   "metadata": {},
   "source": [
    "# Submission"
   ]
  },
  {
   "cell_type": "code",
   "execution_count": 5,
   "metadata": {},
   "outputs": [],
   "source": [
    "model = timm.create_model(\n",
    "    'resnet34',\n",
    "    pretrained=True,\n",
    "    num_classes=17\n",
    ").to(device)\n",
    "model.load_state_dict(torch.load('/data/ephemeral/home/model/models/model_v10_best.pt'))\n",
    "criterion = torch.nn.CrossEntropyLoss()"
   ]
  },
  {
   "cell_type": "code",
   "execution_count": 6,
   "metadata": {},
   "outputs": [],
   "source": [
    "class sub_customdataset(torch.utils.data.Dataset):\n",
    "    def __init__(self, csv, path, transforms):\n",
    "        super().__init__()\n",
    "        self.df = pd.read_csv(csv).values\n",
    "        self.path = path\n",
    "        self.transforms = transforms\n",
    "\n",
    "    def __len__(self):\n",
    "        return len(self.df)\n",
    "    \n",
    "    def __getitem__(self, idx):\n",
    "        name, target = self.df[idx]\n",
    "        img = np.array(Image.open(os.path.join(self.path, name)))\n",
    "        img = self.transforms(img)\n",
    "    \n",
    "        return img, target"
   ]
  },
  {
   "cell_type": "code",
   "execution_count": 7,
   "metadata": {},
   "outputs": [],
   "source": [
    "transforms = T.Compose([\n",
    "    T.ToTensor(),\n",
    "    T.Resize((600, 600))\n",
    "])\n",
    "\n",
    "sub_dataset = sub_customdataset('/data/ephemeral/home/data/sample_submission.csv', '/data/ephemeral/home/data/test/', transforms=transforms)"
   ]
  },
  {
   "cell_type": "code",
   "execution_count": 8,
   "metadata": {},
   "outputs": [],
   "source": [
    "batch_size = 64\n",
    "\n",
    "sub_dataloader = torch.utils.data.DataLoader(sub_dataset, batch_size=batch_size, shuffle=False, num_workers=16)"
   ]
  },
  {
   "cell_type": "code",
   "execution_count": 9,
   "metadata": {},
   "outputs": [
    {
     "data": {
      "application/vnd.jupyter.widget-view+json": {
       "model_id": "405e0b1770af4729a531f8225d8454e4",
       "version_major": 2,
       "version_minor": 0
      },
      "text/plain": [
       "  0%|          | 0/50 [00:00<?, ?it/s]"
      ]
     },
     "metadata": {},
     "output_type": "display_data"
    },
    {
     "name": "stderr",
     "output_type": "stream",
     "text": [
      "/opt/conda/lib/python3.10/site-packages/torchvision/transforms/functional.py:1603: UserWarning: The default value of the antialias parameter of all the resizing transforms (Resize(), RandomResizedCrop(), etc.) will change from None to True in v0.17, in order to be consistent across the PIL and Tensor backends. To suppress this warning, directly pass antialias=True (recommended, future default), antialias=None (current default, which means False for Tensors and True for PIL), or antialias=False (only works on Tensors - PIL will still use antialiasing). This also applies if you are using the inference transforms from the models weights: update the call to weights.transforms(antialias=True).\n",
      "  warnings.warn(\n",
      "/opt/conda/lib/python3.10/site-packages/torchvision/transforms/functional.py:1603: UserWarning: The default value of the antialias parameter of all the resizing transforms (Resize(), RandomResizedCrop(), etc.) will change from None to True in v0.17, in order to be consistent across the PIL and Tensor backends. To suppress this warning, directly pass antialias=True (recommended, future default), antialias=None (current default, which means False for Tensors and True for PIL), or antialias=False (only works on Tensors - PIL will still use antialiasing). This also applies if you are using the inference transforms from the models weights: update the call to weights.transforms(antialias=True).\n",
      "  warnings.warn(\n",
      "/opt/conda/lib/python3.10/site-packages/torchvision/transforms/functional.py:1603: UserWarning: The default value of the antialias parameter of all the resizing transforms (Resize(), RandomResizedCrop(), etc.) will change from None to True in v0.17, in order to be consistent across the PIL and Tensor backends. To suppress this warning, directly pass antialias=True (recommended, future default), antialias=None (current default, which means False for Tensors and True for PIL), or antialias=False (only works on Tensors - PIL will still use antialiasing). This also applies if you are using the inference transforms from the models weights: update the call to weights.transforms(antialias=True).\n",
      "  warnings.warn(\n",
      "/opt/conda/lib/python3.10/site-packages/torchvision/transforms/functional.py:1603: UserWarning: The default value of the antialias parameter of all the resizing transforms (Resize(), RandomResizedCrop(), etc.) will change from None to True in v0.17, in order to be consistent across the PIL and Tensor backends. To suppress this warning, directly pass antialias=True (recommended, future default), antialias=None (current default, which means False for Tensors and True for PIL), or antialias=False (only works on Tensors - PIL will still use antialiasing). This also applies if you are using the inference transforms from the models weights: update the call to weights.transforms(antialias=True).\n",
      "  warnings.warn(\n",
      "/opt/conda/lib/python3.10/site-packages/torchvision/transforms/functional.py:1603: UserWarning: The default value of the antialias parameter of all the resizing transforms (Resize(), RandomResizedCrop(), etc.) will change from None to True in v0.17, in order to be consistent across the PIL and Tensor backends. To suppress this warning, directly pass antialias=True (recommended, future default), antialias=None (current default, which means False for Tensors and True for PIL), or antialias=False (only works on Tensors - PIL will still use antialiasing). This also applies if you are using the inference transforms from the models weights: update the call to weights.transforms(antialias=True).\n",
      "  warnings.warn(\n",
      "/opt/conda/lib/python3.10/site-packages/torchvision/transforms/functional.py:1603: UserWarning: The default value of the antialias parameter of all the resizing transforms (Resize(), RandomResizedCrop(), etc.) will change from None to True in v0.17, in order to be consistent across the PIL and Tensor backends. To suppress this warning, directly pass antialias=True (recommended, future default), antialias=None (current default, which means False for Tensors and True for PIL), or antialias=False (only works on Tensors - PIL will still use antialiasing). This also applies if you are using the inference transforms from the models weights: update the call to weights.transforms(antialias=True).\n",
      "  warnings.warn(\n",
      "/opt/conda/lib/python3.10/site-packages/torchvision/transforms/functional.py:1603: UserWarning: The default value of the antialias parameter of all the resizing transforms (Resize(), RandomResizedCrop(), etc.) will change from None to True in v0.17, in order to be consistent across the PIL and Tensor backends. To suppress this warning, directly pass antialias=True (recommended, future default), antialias=None (current default, which means False for Tensors and True for PIL), or antialias=False (only works on Tensors - PIL will still use antialiasing). This also applies if you are using the inference transforms from the models weights: update the call to weights.transforms(antialias=True).\n",
      "  warnings.warn(\n",
      "/opt/conda/lib/python3.10/site-packages/torchvision/transforms/functional.py:1603: UserWarning: The default value of the antialias parameter of all the resizing transforms (Resize(), RandomResizedCrop(), etc.) will change from None to True in v0.17, in order to be consistent across the PIL and Tensor backends. To suppress this warning, directly pass antialias=True (recommended, future default), antialias=None (current default, which means False for Tensors and True for PIL), or antialias=False (only works on Tensors - PIL will still use antialiasing). This also applies if you are using the inference transforms from the models weights: update the call to weights.transforms(antialias=True).\n",
      "  warnings.warn(\n",
      "/opt/conda/lib/python3.10/site-packages/torchvision/transforms/functional.py:1603: UserWarning: The default value of the antialias parameter of all the resizing transforms (Resize(), RandomResizedCrop(), etc.) will change from None to True in v0.17, in order to be consistent across the PIL and Tensor backends. To suppress this warning, directly pass antialias=True (recommended, future default), antialias=None (current default, which means False for Tensors and True for PIL), or antialias=False (only works on Tensors - PIL will still use antialiasing). This also applies if you are using the inference transforms from the models weights: update the call to weights.transforms(antialias=True).\n",
      "  warnings.warn(\n",
      "/opt/conda/lib/python3.10/site-packages/torchvision/transforms/functional.py:1603: UserWarning: The default value of the antialias parameter of all the resizing transforms (Resize(), RandomResizedCrop(), etc.) will change from None to True in v0.17, in order to be consistent across the PIL and Tensor backends. To suppress this warning, directly pass antialias=True (recommended, future default), antialias=None (current default, which means False for Tensors and True for PIL), or antialias=False (only works on Tensors - PIL will still use antialiasing). This also applies if you are using the inference transforms from the models weights: update the call to weights.transforms(antialias=True).\n",
      "  warnings.warn(\n",
      "/opt/conda/lib/python3.10/site-packages/torchvision/transforms/functional.py:1603: UserWarning: The default value of the antialias parameter of all the resizing transforms (Resize(), RandomResizedCrop(), etc.) will change from None to True in v0.17, in order to be consistent across the PIL and Tensor backends. To suppress this warning, directly pass antialias=True (recommended, future default), antialias=None (current default, which means False for Tensors and True for PIL), or antialias=False (only works on Tensors - PIL will still use antialiasing). This also applies if you are using the inference transforms from the models weights: update the call to weights.transforms(antialias=True).\n",
      "  warnings.warn(\n",
      "/opt/conda/lib/python3.10/site-packages/torchvision/transforms/functional.py:1603: UserWarning: The default value of the antialias parameter of all the resizing transforms (Resize(), RandomResizedCrop(), etc.) will change from None to True in v0.17, in order to be consistent across the PIL and Tensor backends. To suppress this warning, directly pass antialias=True (recommended, future default), antialias=None (current default, which means False for Tensors and True for PIL), or antialias=False (only works on Tensors - PIL will still use antialiasing). This also applies if you are using the inference transforms from the models weights: update the call to weights.transforms(antialias=True).\n",
      "  warnings.warn(\n",
      "/opt/conda/lib/python3.10/site-packages/torchvision/transforms/functional.py:1603: UserWarning: The default value of the antialias parameter of all the resizing transforms (Resize(), RandomResizedCrop(), etc.) will change from None to True in v0.17, in order to be consistent across the PIL and Tensor backends. To suppress this warning, directly pass antialias=True (recommended, future default), antialias=None (current default, which means False for Tensors and True for PIL), or antialias=False (only works on Tensors - PIL will still use antialiasing). This also applies if you are using the inference transforms from the models weights: update the call to weights.transforms(antialias=True).\n",
      "  warnings.warn(\n",
      "/opt/conda/lib/python3.10/site-packages/torchvision/transforms/functional.py:1603: UserWarning: The default value of the antialias parameter of all the resizing transforms (Resize(), RandomResizedCrop(), etc.) will change from None to True in v0.17, in order to be consistent across the PIL and Tensor backends. To suppress this warning, directly pass antialias=True (recommended, future default), antialias=None (current default, which means False for Tensors and True for PIL), or antialias=False (only works on Tensors - PIL will still use antialiasing). This also applies if you are using the inference transforms from the models weights: update the call to weights.transforms(antialias=True).\n",
      "  warnings.warn(\n",
      "/opt/conda/lib/python3.10/site-packages/torchvision/transforms/functional.py:1603: UserWarning: The default value of the antialias parameter of all the resizing transforms (Resize(), RandomResizedCrop(), etc.) will change from None to True in v0.17, in order to be consistent across the PIL and Tensor backends. To suppress this warning, directly pass antialias=True (recommended, future default), antialias=None (current default, which means False for Tensors and True for PIL), or antialias=False (only works on Tensors - PIL will still use antialiasing). This also applies if you are using the inference transforms from the models weights: update the call to weights.transforms(antialias=True).\n",
      "  warnings.warn(\n",
      "/opt/conda/lib/python3.10/site-packages/torchvision/transforms/functional.py:1603: UserWarning: The default value of the antialias parameter of all the resizing transforms (Resize(), RandomResizedCrop(), etc.) will change from None to True in v0.17, in order to be consistent across the PIL and Tensor backends. To suppress this warning, directly pass antialias=True (recommended, future default), antialias=None (current default, which means False for Tensors and True for PIL), or antialias=False (only works on Tensors - PIL will still use antialiasing). This also applies if you are using the inference transforms from the models weights: update the call to weights.transforms(antialias=True).\n",
      "  warnings.warn(\n"
     ]
    }
   ],
   "source": [
    "model.eval()\n",
    "\n",
    "all_preds = []\n",
    "all_labels = []\n",
    "all_images = []\n",
    "\n",
    "with torch.no_grad():\n",
    "    tbar = tqdm(sub_dataloader)\n",
    "    for images, labels in tbar:\n",
    "        images, labels = images.to(device), labels.to(device)\n",
    "        outputs = model(images)\n",
    "\n",
    "        max_prob, predicted = torch.max(outputs, 1)\n",
    "\n",
    "        all_preds.extend(predicted)\n",
    "        all_labels.extend(labels)\n",
    "        all_images.extend(images)\n"
   ]
  },
  {
   "cell_type": "code",
   "execution_count": 10,
   "metadata": {},
   "outputs": [
    {
     "data": {
      "text/plain": [
       "[tensor(2, device='cuda:0'),\n",
       " tensor(12, device='cuda:0'),\n",
       " tensor(5, device='cuda:0'),\n",
       " tensor(12, device='cuda:0'),\n",
       " tensor(2, device='cuda:0'),\n",
       " tensor(15, device='cuda:0'),\n",
       " tensor(0, device='cuda:0'),\n",
       " tensor(8, device='cuda:0'),\n",
       " tensor(15, device='cuda:0'),\n",
       " tensor(11, device='cuda:0'),\n",
       " tensor(5, device='cuda:0'),\n",
       " tensor(7, device='cuda:0'),\n",
       " tensor(16, device='cuda:0'),\n",
       " tensor(9, device='cuda:0'),\n",
       " tensor(15, device='cuda:0'),\n",
       " tensor(4, device='cuda:0'),\n",
       " tensor(14, device='cuda:0'),\n",
       " tensor(5, device='cuda:0'),\n",
       " tensor(13, device='cuda:0'),\n",
       " tensor(11, device='cuda:0'),\n",
       " tensor(12, device='cuda:0'),\n",
       " tensor(12, device='cuda:0'),\n",
       " tensor(1, device='cuda:0'),\n",
       " tensor(6, device='cuda:0'),\n",
       " tensor(3, device='cuda:0'),\n",
       " tensor(0, device='cuda:0'),\n",
       " tensor(14, device='cuda:0'),\n",
       " tensor(16, device='cuda:0'),\n",
       " tensor(12, device='cuda:0'),\n",
       " tensor(6, device='cuda:0'),\n",
       " tensor(3, device='cuda:0'),\n",
       " tensor(0, device='cuda:0'),\n",
       " tensor(13, device='cuda:0'),\n",
       " tensor(2, device='cuda:0'),\n",
       " tensor(5, device='cuda:0'),\n",
       " tensor(16, device='cuda:0'),\n",
       " tensor(13, device='cuda:0'),\n",
       " tensor(14, device='cuda:0'),\n",
       " tensor(3, device='cuda:0'),\n",
       " tensor(0, device='cuda:0'),\n",
       " tensor(5, device='cuda:0'),\n",
       " tensor(9, device='cuda:0'),\n",
       " tensor(12, device='cuda:0'),\n",
       " tensor(9, device='cuda:0'),\n",
       " tensor(0, device='cuda:0'),\n",
       " tensor(8, device='cuda:0'),\n",
       " tensor(5, device='cuda:0'),\n",
       " tensor(0, device='cuda:0'),\n",
       " tensor(11, device='cuda:0'),\n",
       " tensor(3, device='cuda:0'),\n",
       " tensor(10, device='cuda:0'),\n",
       " tensor(10, device='cuda:0'),\n",
       " tensor(10, device='cuda:0'),\n",
       " tensor(6, device='cuda:0'),\n",
       " tensor(3, device='cuda:0'),\n",
       " tensor(12, device='cuda:0'),\n",
       " tensor(9, device='cuda:0'),\n",
       " tensor(5, device='cuda:0'),\n",
       " tensor(13, device='cuda:0'),\n",
       " tensor(13, device='cuda:0'),\n",
       " tensor(12, device='cuda:0'),\n",
       " tensor(4, device='cuda:0'),\n",
       " tensor(5, device='cuda:0'),\n",
       " tensor(5, device='cuda:0'),\n",
       " tensor(6, device='cuda:0'),\n",
       " tensor(1, device='cuda:0'),\n",
       " tensor(5, device='cuda:0'),\n",
       " tensor(3, device='cuda:0'),\n",
       " tensor(10, device='cuda:0'),\n",
       " tensor(6, device='cuda:0'),\n",
       " tensor(3, device='cuda:0'),\n",
       " tensor(10, device='cuda:0'),\n",
       " tensor(8, device='cuda:0'),\n",
       " tensor(15, device='cuda:0'),\n",
       " tensor(7, device='cuda:0'),\n",
       " tensor(15, device='cuda:0'),\n",
       " tensor(6, device='cuda:0'),\n",
       " tensor(12, device='cuda:0'),\n",
       " tensor(12, device='cuda:0'),\n",
       " tensor(13, device='cuda:0'),\n",
       " tensor(8, device='cuda:0'),\n",
       " tensor(9, device='cuda:0'),\n",
       " tensor(9, device='cuda:0'),\n",
       " tensor(7, device='cuda:0'),\n",
       " tensor(10, device='cuda:0'),\n",
       " tensor(10, device='cuda:0'),\n",
       " tensor(5, device='cuda:0'),\n",
       " tensor(13, device='cuda:0'),\n",
       " tensor(10, device='cuda:0'),\n",
       " tensor(0, device='cuda:0'),\n",
       " tensor(10, device='cuda:0'),\n",
       " tensor(8, device='cuda:0'),\n",
       " tensor(5, device='cuda:0'),\n",
       " tensor(15, device='cuda:0'),\n",
       " tensor(7, device='cuda:0'),\n",
       " tensor(16, device='cuda:0'),\n",
       " tensor(11, device='cuda:0'),\n",
       " tensor(11, device='cuda:0'),\n",
       " tensor(7, device='cuda:0'),\n",
       " tensor(11, device='cuda:0'),\n",
       " tensor(14, device='cuda:0'),\n",
       " tensor(14, device='cuda:0'),\n",
       " tensor(13, device='cuda:0'),\n",
       " tensor(1, device='cuda:0'),\n",
       " tensor(15, device='cuda:0'),\n",
       " tensor(11, device='cuda:0'),\n",
       " tensor(2, device='cuda:0'),\n",
       " tensor(12, device='cuda:0'),\n",
       " tensor(16, device='cuda:0'),\n",
       " tensor(8, device='cuda:0'),\n",
       " tensor(6, device='cuda:0'),\n",
       " tensor(2, device='cuda:0'),\n",
       " tensor(0, device='cuda:0'),\n",
       " tensor(4, device='cuda:0'),\n",
       " tensor(12, device='cuda:0'),\n",
       " tensor(16, device='cuda:0'),\n",
       " tensor(2, device='cuda:0'),\n",
       " tensor(7, device='cuda:0'),\n",
       " tensor(11, device='cuda:0'),\n",
       " tensor(4, device='cuda:0'),\n",
       " tensor(2, device='cuda:0'),\n",
       " tensor(6, device='cuda:0'),\n",
       " tensor(5, device='cuda:0'),\n",
       " tensor(8, device='cuda:0'),\n",
       " tensor(10, device='cuda:0'),\n",
       " tensor(6, device='cuda:0'),\n",
       " tensor(4, device='cuda:0'),\n",
       " tensor(4, device='cuda:0'),\n",
       " tensor(14, device='cuda:0'),\n",
       " tensor(6, device='cuda:0'),\n",
       " tensor(5, device='cuda:0'),\n",
       " tensor(4, device='cuda:0'),\n",
       " tensor(15, device='cuda:0'),\n",
       " tensor(10, device='cuda:0'),\n",
       " tensor(16, device='cuda:0'),\n",
       " tensor(16, device='cuda:0'),\n",
       " tensor(7, device='cuda:0'),\n",
       " tensor(6, device='cuda:0'),\n",
       " tensor(6, device='cuda:0'),\n",
       " tensor(8, device='cuda:0'),\n",
       " tensor(4, device='cuda:0'),\n",
       " tensor(8, device='cuda:0'),\n",
       " tensor(14, device='cuda:0'),\n",
       " tensor(2, device='cuda:0'),\n",
       " tensor(12, device='cuda:0'),\n",
       " tensor(8, device='cuda:0'),\n",
       " tensor(3, device='cuda:0'),\n",
       " tensor(5, device='cuda:0'),\n",
       " tensor(9, device='cuda:0'),\n",
       " tensor(8, device='cuda:0'),\n",
       " tensor(6, device='cuda:0'),\n",
       " tensor(8, device='cuda:0'),\n",
       " tensor(16, device='cuda:0'),\n",
       " tensor(12, device='cuda:0'),\n",
       " tensor(11, device='cuda:0'),\n",
       " tensor(16, device='cuda:0'),\n",
       " tensor(9, device='cuda:0'),\n",
       " tensor(15, device='cuda:0'),\n",
       " tensor(6, device='cuda:0'),\n",
       " tensor(8, device='cuda:0'),\n",
       " tensor(5, device='cuda:0'),\n",
       " tensor(5, device='cuda:0'),\n",
       " tensor(10, device='cuda:0'),\n",
       " tensor(10, device='cuda:0'),\n",
       " tensor(16, device='cuda:0'),\n",
       " tensor(15, device='cuda:0'),\n",
       " tensor(9, device='cuda:0'),\n",
       " tensor(12, device='cuda:0'),\n",
       " tensor(16, device='cuda:0'),\n",
       " tensor(5, device='cuda:0'),\n",
       " tensor(2, device='cuda:0'),\n",
       " tensor(8, device='cuda:0'),\n",
       " tensor(8, device='cuda:0'),\n",
       " tensor(16, device='cuda:0'),\n",
       " tensor(9, device='cuda:0'),\n",
       " tensor(8, device='cuda:0'),\n",
       " tensor(16, device='cuda:0'),\n",
       " tensor(16, device='cuda:0'),\n",
       " tensor(3, device='cuda:0'),\n",
       " tensor(4, device='cuda:0'),\n",
       " tensor(11, device='cuda:0'),\n",
       " tensor(15, device='cuda:0'),\n",
       " tensor(9, device='cuda:0'),\n",
       " tensor(9, device='cuda:0'),\n",
       " tensor(2, device='cuda:0'),\n",
       " tensor(3, device='cuda:0'),\n",
       " tensor(11, device='cuda:0'),\n",
       " tensor(10, device='cuda:0'),\n",
       " tensor(9, device='cuda:0'),\n",
       " tensor(0, device='cuda:0'),\n",
       " tensor(4, device='cuda:0'),\n",
       " tensor(0, device='cuda:0'),\n",
       " tensor(16, device='cuda:0'),\n",
       " tensor(5, device='cuda:0'),\n",
       " tensor(14, device='cuda:0'),\n",
       " tensor(15, device='cuda:0'),\n",
       " tensor(5, device='cuda:0'),\n",
       " tensor(12, device='cuda:0'),\n",
       " tensor(0, device='cuda:0'),\n",
       " tensor(4, device='cuda:0'),\n",
       " tensor(13, device='cuda:0'),\n",
       " tensor(2, device='cuda:0'),\n",
       " tensor(6, device='cuda:0'),\n",
       " tensor(16, device='cuda:0'),\n",
       " tensor(16, device='cuda:0'),\n",
       " tensor(10, device='cuda:0'),\n",
       " tensor(8, device='cuda:0'),\n",
       " tensor(9, device='cuda:0'),\n",
       " tensor(0, device='cuda:0'),\n",
       " tensor(10, device='cuda:0'),\n",
       " tensor(5, device='cuda:0'),\n",
       " tensor(1, device='cuda:0'),\n",
       " tensor(13, device='cuda:0'),\n",
       " tensor(3, device='cuda:0'),\n",
       " tensor(11, device='cuda:0'),\n",
       " tensor(2, device='cuda:0'),\n",
       " tensor(0, device='cuda:0'),\n",
       " tensor(7, device='cuda:0'),\n",
       " tensor(0, device='cuda:0'),\n",
       " tensor(13, device='cuda:0'),\n",
       " tensor(12, device='cuda:0'),\n",
       " tensor(0, device='cuda:0'),\n",
       " tensor(16, device='cuda:0'),\n",
       " tensor(3, device='cuda:0'),\n",
       " tensor(12, device='cuda:0'),\n",
       " tensor(5, device='cuda:0'),\n",
       " tensor(3, device='cuda:0'),\n",
       " tensor(0, device='cuda:0'),\n",
       " tensor(14, device='cuda:0'),\n",
       " tensor(6, device='cuda:0'),\n",
       " tensor(0, device='cuda:0'),\n",
       " tensor(3, device='cuda:0'),\n",
       " tensor(12, device='cuda:0'),\n",
       " tensor(12, device='cuda:0'),\n",
       " tensor(9, device='cuda:0'),\n",
       " tensor(12, device='cuda:0'),\n",
       " tensor(9, device='cuda:0'),\n",
       " tensor(10, device='cuda:0'),\n",
       " tensor(9, device='cuda:0'),\n",
       " tensor(15, device='cuda:0'),\n",
       " tensor(10, device='cuda:0'),\n",
       " tensor(7, device='cuda:0'),\n",
       " tensor(9, device='cuda:0'),\n",
       " tensor(7, device='cuda:0'),\n",
       " tensor(12, device='cuda:0'),\n",
       " tensor(0, device='cuda:0'),\n",
       " tensor(1, device='cuda:0'),\n",
       " tensor(11, device='cuda:0'),\n",
       " tensor(12, device='cuda:0'),\n",
       " tensor(6, device='cuda:0'),\n",
       " tensor(3, device='cuda:0'),\n",
       " tensor(3, device='cuda:0'),\n",
       " tensor(4, device='cuda:0'),\n",
       " tensor(7, device='cuda:0'),\n",
       " tensor(14, device='cuda:0'),\n",
       " tensor(15, device='cuda:0'),\n",
       " tensor(4, device='cuda:0'),\n",
       " tensor(12, device='cuda:0'),\n",
       " tensor(4, device='cuda:0'),\n",
       " tensor(4, device='cuda:0'),\n",
       " tensor(0, device='cuda:0'),\n",
       " tensor(15, device='cuda:0'),\n",
       " tensor(13, device='cuda:0'),\n",
       " tensor(11, device='cuda:0'),\n",
       " tensor(12, device='cuda:0'),\n",
       " tensor(12, device='cuda:0'),\n",
       " tensor(8, device='cuda:0'),\n",
       " tensor(3, device='cuda:0'),\n",
       " tensor(9, device='cuda:0'),\n",
       " tensor(0, device='cuda:0'),\n",
       " tensor(8, device='cuda:0'),\n",
       " tensor(3, device='cuda:0'),\n",
       " tensor(4, device='cuda:0'),\n",
       " tensor(5, device='cuda:0'),\n",
       " tensor(0, device='cuda:0'),\n",
       " tensor(0, device='cuda:0'),\n",
       " tensor(4, device='cuda:0'),\n",
       " tensor(0, device='cuda:0'),\n",
       " tensor(9, device='cuda:0'),\n",
       " tensor(12, device='cuda:0'),\n",
       " tensor(15, device='cuda:0'),\n",
       " tensor(7, device='cuda:0'),\n",
       " tensor(7, device='cuda:0'),\n",
       " tensor(8, device='cuda:0'),\n",
       " tensor(12, device='cuda:0'),\n",
       " tensor(4, device='cuda:0'),\n",
       " tensor(15, device='cuda:0'),\n",
       " tensor(9, device='cuda:0'),\n",
       " tensor(15, device='cuda:0'),\n",
       " tensor(15, device='cuda:0'),\n",
       " tensor(9, device='cuda:0'),\n",
       " tensor(4, device='cuda:0'),\n",
       " tensor(8, device='cuda:0'),\n",
       " tensor(3, device='cuda:0'),\n",
       " tensor(15, device='cuda:0'),\n",
       " tensor(1, device='cuda:0'),\n",
       " tensor(9, device='cuda:0'),\n",
       " tensor(7, device='cuda:0'),\n",
       " tensor(8, device='cuda:0'),\n",
       " tensor(11, device='cuda:0'),\n",
       " tensor(13, device='cuda:0'),\n",
       " tensor(11, device='cuda:0'),\n",
       " tensor(6, device='cuda:0'),\n",
       " tensor(5, device='cuda:0'),\n",
       " tensor(13, device='cuda:0'),\n",
       " tensor(16, device='cuda:0'),\n",
       " tensor(13, device='cuda:0'),\n",
       " tensor(15, device='cuda:0'),\n",
       " tensor(5, device='cuda:0'),\n",
       " tensor(9, device='cuda:0'),\n",
       " tensor(4, device='cuda:0'),\n",
       " tensor(6, device='cuda:0'),\n",
       " tensor(2, device='cuda:0'),\n",
       " tensor(16, device='cuda:0'),\n",
       " tensor(7, device='cuda:0'),\n",
       " tensor(3, device='cuda:0'),\n",
       " tensor(7, device='cuda:0'),\n",
       " tensor(15, device='cuda:0'),\n",
       " tensor(8, device='cuda:0'),\n",
       " tensor(15, device='cuda:0'),\n",
       " tensor(13, device='cuda:0'),\n",
       " tensor(15, device='cuda:0'),\n",
       " tensor(11, device='cuda:0'),\n",
       " tensor(12, device='cuda:0'),\n",
       " tensor(2, device='cuda:0'),\n",
       " tensor(12, device='cuda:0'),\n",
       " tensor(16, device='cuda:0'),\n",
       " tensor(6, device='cuda:0'),\n",
       " tensor(5, device='cuda:0'),\n",
       " tensor(9, device='cuda:0'),\n",
       " tensor(16, device='cuda:0'),\n",
       " tensor(7, device='cuda:0'),\n",
       " tensor(16, device='cuda:0'),\n",
       " tensor(0, device='cuda:0'),\n",
       " tensor(16, device='cuda:0'),\n",
       " tensor(9, device='cuda:0'),\n",
       " tensor(15, device='cuda:0'),\n",
       " tensor(10, device='cuda:0'),\n",
       " tensor(6, device='cuda:0'),\n",
       " tensor(6, device='cuda:0'),\n",
       " tensor(1, device='cuda:0'),\n",
       " tensor(15, device='cuda:0'),\n",
       " tensor(1, device='cuda:0'),\n",
       " tensor(5, device='cuda:0'),\n",
       " tensor(5, device='cuda:0'),\n",
       " tensor(4, device='cuda:0'),\n",
       " tensor(7, device='cuda:0'),\n",
       " tensor(13, device='cuda:0'),\n",
       " tensor(3, device='cuda:0'),\n",
       " tensor(1, device='cuda:0'),\n",
       " tensor(16, device='cuda:0'),\n",
       " tensor(10, device='cuda:0'),\n",
       " tensor(4, device='cuda:0'),\n",
       " tensor(3, device='cuda:0'),\n",
       " tensor(5, device='cuda:0'),\n",
       " tensor(3, device='cuda:0'),\n",
       " tensor(12, device='cuda:0'),\n",
       " tensor(3, device='cuda:0'),\n",
       " tensor(3, device='cuda:0'),\n",
       " tensor(6, device='cuda:0'),\n",
       " tensor(3, device='cuda:0'),\n",
       " tensor(3, device='cuda:0'),\n",
       " tensor(4, device='cuda:0'),\n",
       " tensor(10, device='cuda:0'),\n",
       " tensor(3, device='cuda:0'),\n",
       " tensor(4, device='cuda:0'),\n",
       " tensor(12, device='cuda:0'),\n",
       " tensor(10, device='cuda:0'),\n",
       " tensor(5, device='cuda:0'),\n",
       " tensor(9, device='cuda:0'),\n",
       " tensor(15, device='cuda:0'),\n",
       " tensor(13, device='cuda:0'),\n",
       " tensor(11, device='cuda:0'),\n",
       " tensor(6, device='cuda:0'),\n",
       " tensor(9, device='cuda:0'),\n",
       " tensor(1, device='cuda:0'),\n",
       " tensor(8, device='cuda:0'),\n",
       " tensor(3, device='cuda:0'),\n",
       " tensor(4, device='cuda:0'),\n",
       " tensor(16, device='cuda:0'),\n",
       " tensor(6, device='cuda:0'),\n",
       " tensor(0, device='cuda:0'),\n",
       " tensor(12, device='cuda:0'),\n",
       " tensor(7, device='cuda:0'),\n",
       " tensor(16, device='cuda:0'),\n",
       " tensor(10, device='cuda:0'),\n",
       " tensor(4, device='cuda:0'),\n",
       " tensor(9, device='cuda:0'),\n",
       " tensor(0, device='cuda:0'),\n",
       " tensor(13, device='cuda:0'),\n",
       " tensor(9, device='cuda:0'),\n",
       " tensor(2, device='cuda:0'),\n",
       " tensor(13, device='cuda:0'),\n",
       " tensor(12, device='cuda:0'),\n",
       " tensor(8, device='cuda:0'),\n",
       " tensor(14, device='cuda:0'),\n",
       " tensor(0, device='cuda:0'),\n",
       " tensor(2, device='cuda:0'),\n",
       " tensor(4, device='cuda:0'),\n",
       " tensor(12, device='cuda:0'),\n",
       " tensor(16, device='cuda:0'),\n",
       " tensor(0, device='cuda:0'),\n",
       " tensor(15, device='cuda:0'),\n",
       " tensor(16, device='cuda:0'),\n",
       " tensor(9, device='cuda:0'),\n",
       " tensor(12, device='cuda:0'),\n",
       " tensor(11, device='cuda:0'),\n",
       " tensor(10, device='cuda:0'),\n",
       " tensor(5, device='cuda:0'),\n",
       " tensor(8, device='cuda:0'),\n",
       " tensor(16, device='cuda:0'),\n",
       " tensor(14, device='cuda:0'),\n",
       " tensor(10, device='cuda:0'),\n",
       " tensor(2, device='cuda:0'),\n",
       " tensor(10, device='cuda:0'),\n",
       " tensor(16, device='cuda:0'),\n",
       " tensor(3, device='cuda:0'),\n",
       " tensor(7, device='cuda:0'),\n",
       " tensor(11, device='cuda:0'),\n",
       " tensor(11, device='cuda:0'),\n",
       " tensor(10, device='cuda:0'),\n",
       " tensor(5, device='cuda:0'),\n",
       " tensor(13, device='cuda:0'),\n",
       " tensor(10, device='cuda:0'),\n",
       " tensor(3, device='cuda:0'),\n",
       " tensor(11, device='cuda:0'),\n",
       " tensor(5, device='cuda:0'),\n",
       " tensor(7, device='cuda:0'),\n",
       " tensor(4, device='cuda:0'),\n",
       " tensor(9, device='cuda:0'),\n",
       " tensor(14, device='cuda:0'),\n",
       " tensor(7, device='cuda:0'),\n",
       " tensor(8, device='cuda:0'),\n",
       " tensor(9, device='cuda:0'),\n",
       " tensor(4, device='cuda:0'),\n",
       " tensor(8, device='cuda:0'),\n",
       " tensor(11, device='cuda:0'),\n",
       " tensor(16, device='cuda:0'),\n",
       " tensor(3, device='cuda:0'),\n",
       " tensor(5, device='cuda:0'),\n",
       " tensor(16, device='cuda:0'),\n",
       " tensor(11, device='cuda:0'),\n",
       " tensor(3, device='cuda:0'),\n",
       " tensor(1, device='cuda:0'),\n",
       " tensor(0, device='cuda:0'),\n",
       " tensor(12, device='cuda:0'),\n",
       " tensor(0, device='cuda:0'),\n",
       " tensor(0, device='cuda:0'),\n",
       " tensor(9, device='cuda:0'),\n",
       " tensor(11, device='cuda:0'),\n",
       " tensor(15, device='cuda:0'),\n",
       " tensor(4, device='cuda:0'),\n",
       " tensor(14, device='cuda:0'),\n",
       " tensor(2, device='cuda:0'),\n",
       " tensor(11, device='cuda:0'),\n",
       " tensor(3, device='cuda:0'),\n",
       " tensor(6, device='cuda:0'),\n",
       " tensor(11, device='cuda:0'),\n",
       " tensor(7, device='cuda:0'),\n",
       " tensor(2, device='cuda:0'),\n",
       " tensor(3, device='cuda:0'),\n",
       " tensor(7, device='cuda:0'),\n",
       " tensor(12, device='cuda:0'),\n",
       " tensor(2, device='cuda:0'),\n",
       " tensor(9, device='cuda:0'),\n",
       " tensor(2, device='cuda:0'),\n",
       " tensor(9, device='cuda:0'),\n",
       " tensor(2, device='cuda:0'),\n",
       " tensor(10, device='cuda:0'),\n",
       " tensor(5, device='cuda:0'),\n",
       " tensor(12, device='cuda:0'),\n",
       " tensor(6, device='cuda:0'),\n",
       " tensor(15, device='cuda:0'),\n",
       " tensor(4, device='cuda:0'),\n",
       " tensor(8, device='cuda:0'),\n",
       " tensor(0, device='cuda:0'),\n",
       " tensor(16, device='cuda:0'),\n",
       " tensor(10, device='cuda:0'),\n",
       " tensor(9, device='cuda:0'),\n",
       " tensor(15, device='cuda:0'),\n",
       " tensor(10, device='cuda:0'),\n",
       " tensor(12, device='cuda:0'),\n",
       " tensor(0, device='cuda:0'),\n",
       " tensor(8, device='cuda:0'),\n",
       " tensor(13, device='cuda:0'),\n",
       " tensor(3, device='cuda:0'),\n",
       " tensor(15, device='cuda:0'),\n",
       " tensor(6, device='cuda:0'),\n",
       " tensor(10, device='cuda:0'),\n",
       " tensor(10, device='cuda:0'),\n",
       " tensor(3, device='cuda:0'),\n",
       " tensor(3, device='cuda:0'),\n",
       " tensor(16, device='cuda:0'),\n",
       " tensor(3, device='cuda:0'),\n",
       " tensor(3, device='cuda:0'),\n",
       " tensor(6, device='cuda:0'),\n",
       " tensor(9, device='cuda:0'),\n",
       " tensor(10, device='cuda:0'),\n",
       " tensor(8, device='cuda:0'),\n",
       " tensor(16, device='cuda:0'),\n",
       " tensor(6, device='cuda:0'),\n",
       " tensor(3, device='cuda:0'),\n",
       " tensor(12, device='cuda:0'),\n",
       " tensor(0, device='cuda:0'),\n",
       " tensor(3, device='cuda:0'),\n",
       " tensor(0, device='cuda:0'),\n",
       " tensor(3, device='cuda:0'),\n",
       " tensor(8, device='cuda:0'),\n",
       " tensor(6, device='cuda:0'),\n",
       " tensor(11, device='cuda:0'),\n",
       " tensor(13, device='cuda:0'),\n",
       " tensor(2, device='cuda:0'),\n",
       " tensor(8, device='cuda:0'),\n",
       " tensor(6, device='cuda:0'),\n",
       " tensor(15, device='cuda:0'),\n",
       " tensor(13, device='cuda:0'),\n",
       " tensor(3, device='cuda:0'),\n",
       " tensor(15, device='cuda:0'),\n",
       " tensor(10, device='cuda:0'),\n",
       " tensor(16, device='cuda:0'),\n",
       " tensor(11, device='cuda:0'),\n",
       " tensor(8, device='cuda:0'),\n",
       " tensor(3, device='cuda:0'),\n",
       " tensor(0, device='cuda:0'),\n",
       " tensor(15, device='cuda:0'),\n",
       " tensor(12, device='cuda:0'),\n",
       " tensor(1, device='cuda:0'),\n",
       " tensor(2, device='cuda:0'),\n",
       " tensor(13, device='cuda:0'),\n",
       " tensor(5, device='cuda:0'),\n",
       " tensor(0, device='cuda:0'),\n",
       " tensor(4, device='cuda:0'),\n",
       " tensor(9, device='cuda:0'),\n",
       " tensor(16, device='cuda:0'),\n",
       " tensor(3, device='cuda:0'),\n",
       " tensor(0, device='cuda:0'),\n",
       " tensor(7, device='cuda:0'),\n",
       " tensor(10, device='cuda:0'),\n",
       " tensor(3, device='cuda:0'),\n",
       " tensor(14, device='cuda:0'),\n",
       " tensor(11, device='cuda:0'),\n",
       " tensor(6, device='cuda:0'),\n",
       " tensor(2, device='cuda:0'),\n",
       " tensor(12, device='cuda:0'),\n",
       " tensor(12, device='cuda:0'),\n",
       " tensor(15, device='cuda:0'),\n",
       " tensor(11, device='cuda:0'),\n",
       " tensor(3, device='cuda:0'),\n",
       " tensor(5, device='cuda:0'),\n",
       " tensor(2, device='cuda:0'),\n",
       " tensor(13, device='cuda:0'),\n",
       " tensor(16, device='cuda:0'),\n",
       " tensor(13, device='cuda:0'),\n",
       " tensor(15, device='cuda:0'),\n",
       " tensor(5, device='cuda:0'),\n",
       " tensor(2, device='cuda:0'),\n",
       " tensor(8, device='cuda:0'),\n",
       " tensor(11, device='cuda:0'),\n",
       " tensor(2, device='cuda:0'),\n",
       " tensor(7, device='cuda:0'),\n",
       " tensor(15, device='cuda:0'),\n",
       " tensor(9, device='cuda:0'),\n",
       " tensor(3, device='cuda:0'),\n",
       " tensor(10, device='cuda:0'),\n",
       " tensor(9, device='cuda:0'),\n",
       " tensor(9, device='cuda:0'),\n",
       " tensor(13, device='cuda:0'),\n",
       " tensor(10, device='cuda:0'),\n",
       " tensor(12, device='cuda:0'),\n",
       " tensor(15, device='cuda:0'),\n",
       " tensor(7, device='cuda:0'),\n",
       " tensor(14, device='cuda:0'),\n",
       " tensor(7, device='cuda:0'),\n",
       " tensor(9, device='cuda:0'),\n",
       " tensor(8, device='cuda:0'),\n",
       " tensor(16, device='cuda:0'),\n",
       " tensor(4, device='cuda:0'),\n",
       " tensor(5, device='cuda:0'),\n",
       " tensor(6, device='cuda:0'),\n",
       " tensor(14, device='cuda:0'),\n",
       " tensor(7, device='cuda:0'),\n",
       " tensor(3, device='cuda:0'),\n",
       " tensor(2, device='cuda:0'),\n",
       " tensor(5, device='cuda:0'),\n",
       " tensor(8, device='cuda:0'),\n",
       " tensor(1, device='cuda:0'),\n",
       " tensor(3, device='cuda:0'),\n",
       " tensor(3, device='cuda:0'),\n",
       " tensor(15, device='cuda:0'),\n",
       " tensor(11, device='cuda:0'),\n",
       " tensor(7, device='cuda:0'),\n",
       " tensor(3, device='cuda:0'),\n",
       " tensor(13, device='cuda:0'),\n",
       " tensor(9, device='cuda:0'),\n",
       " tensor(3, device='cuda:0'),\n",
       " tensor(11, device='cuda:0'),\n",
       " tensor(14, device='cuda:0'),\n",
       " tensor(9, device='cuda:0'),\n",
       " tensor(2, device='cuda:0'),\n",
       " tensor(0, device='cuda:0'),\n",
       " tensor(5, device='cuda:0'),\n",
       " tensor(15, device='cuda:0'),\n",
       " tensor(3, device='cuda:0'),\n",
       " tensor(10, device='cuda:0'),\n",
       " tensor(7, device='cuda:0'),\n",
       " tensor(14, device='cuda:0'),\n",
       " tensor(2, device='cuda:0'),\n",
       " tensor(6, device='cuda:0'),\n",
       " tensor(7, device='cuda:0'),\n",
       " tensor(0, device='cuda:0'),\n",
       " tensor(6, device='cuda:0'),\n",
       " tensor(2, device='cuda:0'),\n",
       " tensor(5, device='cuda:0'),\n",
       " tensor(13, device='cuda:0'),\n",
       " tensor(3, device='cuda:0'),\n",
       " tensor(14, device='cuda:0'),\n",
       " tensor(5, device='cuda:0'),\n",
       " tensor(10, device='cuda:0'),\n",
       " tensor(16, device='cuda:0'),\n",
       " tensor(15, device='cuda:0'),\n",
       " tensor(5, device='cuda:0'),\n",
       " tensor(6, device='cuda:0'),\n",
       " tensor(2, device='cuda:0'),\n",
       " tensor(4, device='cuda:0'),\n",
       " tensor(6, device='cuda:0'),\n",
       " tensor(4, device='cuda:0'),\n",
       " tensor(8, device='cuda:0'),\n",
       " tensor(16, device='cuda:0'),\n",
       " tensor(16, device='cuda:0'),\n",
       " tensor(7, device='cuda:0'),\n",
       " tensor(10, device='cuda:0'),\n",
       " tensor(0, device='cuda:0'),\n",
       " tensor(15, device='cuda:0'),\n",
       " tensor(3, device='cuda:0'),\n",
       " tensor(12, device='cuda:0'),\n",
       " tensor(3, device='cuda:0'),\n",
       " tensor(3, device='cuda:0'),\n",
       " tensor(4, device='cuda:0'),\n",
       " tensor(8, device='cuda:0'),\n",
       " tensor(12, device='cuda:0'),\n",
       " tensor(3, device='cuda:0'),\n",
       " tensor(12, device='cuda:0'),\n",
       " tensor(11, device='cuda:0'),\n",
       " tensor(7, device='cuda:0'),\n",
       " tensor(14, device='cuda:0'),\n",
       " tensor(12, device='cuda:0'),\n",
       " tensor(2, device='cuda:0'),\n",
       " tensor(14, device='cuda:0'),\n",
       " tensor(2, device='cuda:0'),\n",
       " tensor(6, device='cuda:0'),\n",
       " tensor(14, device='cuda:0'),\n",
       " tensor(10, device='cuda:0'),\n",
       " tensor(16, device='cuda:0'),\n",
       " tensor(5, device='cuda:0'),\n",
       " tensor(16, device='cuda:0'),\n",
       " tensor(2, device='cuda:0'),\n",
       " tensor(12, device='cuda:0'),\n",
       " tensor(2, device='cuda:0'),\n",
       " tensor(9, device='cuda:0'),\n",
       " tensor(10, device='cuda:0'),\n",
       " tensor(16, device='cuda:0'),\n",
       " tensor(16, device='cuda:0'),\n",
       " tensor(15, device='cuda:0'),\n",
       " tensor(12, device='cuda:0'),\n",
       " tensor(10, device='cuda:0'),\n",
       " tensor(9, device='cuda:0'),\n",
       " tensor(4, device='cuda:0'),\n",
       " tensor(2, device='cuda:0'),\n",
       " tensor(11, device='cuda:0'),\n",
       " tensor(4, device='cuda:0'),\n",
       " tensor(13, device='cuda:0'),\n",
       " tensor(16, device='cuda:0'),\n",
       " tensor(4, device='cuda:0'),\n",
       " tensor(7, device='cuda:0'),\n",
       " tensor(9, device='cuda:0'),\n",
       " tensor(0, device='cuda:0'),\n",
       " tensor(3, device='cuda:0'),\n",
       " tensor(7, device='cuda:0'),\n",
       " tensor(11, device='cuda:0'),\n",
       " tensor(3, device='cuda:0'),\n",
       " tensor(6, device='cuda:0'),\n",
       " tensor(3, device='cuda:0'),\n",
       " tensor(0, device='cuda:0'),\n",
       " tensor(9, device='cuda:0'),\n",
       " tensor(3, device='cuda:0'),\n",
       " tensor(2, device='cuda:0'),\n",
       " tensor(3, device='cuda:0'),\n",
       " tensor(2, device='cuda:0'),\n",
       " tensor(15, device='cuda:0'),\n",
       " tensor(3, device='cuda:0'),\n",
       " tensor(12, device='cuda:0'),\n",
       " tensor(1, device='cuda:0'),\n",
       " tensor(13, device='cuda:0'),\n",
       " tensor(16, device='cuda:0'),\n",
       " tensor(5, device='cuda:0'),\n",
       " tensor(2, device='cuda:0'),\n",
       " tensor(13, device='cuda:0'),\n",
       " tensor(3, device='cuda:0'),\n",
       " tensor(2, device='cuda:0'),\n",
       " tensor(15, device='cuda:0'),\n",
       " tensor(8, device='cuda:0'),\n",
       " tensor(11, device='cuda:0'),\n",
       " tensor(6, device='cuda:0'),\n",
       " tensor(12, device='cuda:0'),\n",
       " tensor(3, device='cuda:0'),\n",
       " tensor(5, device='cuda:0'),\n",
       " tensor(0, device='cuda:0'),\n",
       " tensor(2, device='cuda:0'),\n",
       " tensor(3, device='cuda:0'),\n",
       " tensor(6, device='cuda:0'),\n",
       " tensor(0, device='cuda:0'),\n",
       " tensor(4, device='cuda:0'),\n",
       " tensor(7, device='cuda:0'),\n",
       " tensor(6, device='cuda:0'),\n",
       " tensor(5, device='cuda:0'),\n",
       " tensor(8, device='cuda:0'),\n",
       " tensor(4, device='cuda:0'),\n",
       " tensor(2, device='cuda:0'),\n",
       " tensor(9, device='cuda:0'),\n",
       " tensor(10, device='cuda:0'),\n",
       " tensor(10, device='cuda:0'),\n",
       " tensor(4, device='cuda:0'),\n",
       " tensor(16, device='cuda:0'),\n",
       " tensor(2, device='cuda:0'),\n",
       " tensor(14, device='cuda:0'),\n",
       " tensor(1, device='cuda:0'),\n",
       " tensor(5, device='cuda:0'),\n",
       " tensor(12, device='cuda:0'),\n",
       " tensor(10, device='cuda:0'),\n",
       " tensor(9, device='cuda:0'),\n",
       " tensor(0, device='cuda:0'),\n",
       " tensor(12, device='cuda:0'),\n",
       " tensor(2, device='cuda:0'),\n",
       " tensor(5, device='cuda:0'),\n",
       " tensor(13, device='cuda:0'),\n",
       " tensor(11, device='cuda:0'),\n",
       " tensor(9, device='cuda:0'),\n",
       " tensor(4, device='cuda:0'),\n",
       " tensor(9, device='cuda:0'),\n",
       " tensor(5, device='cuda:0'),\n",
       " tensor(4, device='cuda:0'),\n",
       " tensor(8, device='cuda:0'),\n",
       " tensor(3, device='cuda:0'),\n",
       " tensor(13, device='cuda:0'),\n",
       " tensor(16, device='cuda:0'),\n",
       " tensor(5, device='cuda:0'),\n",
       " tensor(11, device='cuda:0'),\n",
       " tensor(14, device='cuda:0'),\n",
       " tensor(3, device='cuda:0'),\n",
       " tensor(12, device='cuda:0'),\n",
       " tensor(12, device='cuda:0'),\n",
       " tensor(1, device='cuda:0'),\n",
       " tensor(12, device='cuda:0'),\n",
       " tensor(5, device='cuda:0'),\n",
       " tensor(4, device='cuda:0'),\n",
       " tensor(5, device='cuda:0'),\n",
       " tensor(3, device='cuda:0'),\n",
       " tensor(8, device='cuda:0'),\n",
       " tensor(11, device='cuda:0'),\n",
       " tensor(11, device='cuda:0'),\n",
       " tensor(9, device='cuda:0'),\n",
       " tensor(4, device='cuda:0'),\n",
       " tensor(4, device='cuda:0'),\n",
       " tensor(3, device='cuda:0'),\n",
       " tensor(4, device='cuda:0'),\n",
       " tensor(9, device='cuda:0'),\n",
       " tensor(12, device='cuda:0'),\n",
       " tensor(9, device='cuda:0'),\n",
       " tensor(8, device='cuda:0'),\n",
       " tensor(16, device='cuda:0'),\n",
       " tensor(4, device='cuda:0'),\n",
       " tensor(1, device='cuda:0'),\n",
       " tensor(16, device='cuda:0'),\n",
       " tensor(14, device='cuda:0'),\n",
       " tensor(13, device='cuda:0'),\n",
       " tensor(5, device='cuda:0'),\n",
       " tensor(3, device='cuda:0'),\n",
       " tensor(3, device='cuda:0'),\n",
       " tensor(10, device='cuda:0'),\n",
       " tensor(6, device='cuda:0'),\n",
       " tensor(7, device='cuda:0'),\n",
       " tensor(16, device='cuda:0'),\n",
       " tensor(8, device='cuda:0'),\n",
       " tensor(8, device='cuda:0'),\n",
       " tensor(11, device='cuda:0'),\n",
       " tensor(10, device='cuda:0'),\n",
       " tensor(8, device='cuda:0'),\n",
       " tensor(8, device='cuda:0'),\n",
       " tensor(8, device='cuda:0'),\n",
       " tensor(7, device='cuda:0'),\n",
       " tensor(0, device='cuda:0'),\n",
       " tensor(12, device='cuda:0'),\n",
       " tensor(3, device='cuda:0'),\n",
       " tensor(12, device='cuda:0'),\n",
       " tensor(3, device='cuda:0'),\n",
       " tensor(9, device='cuda:0'),\n",
       " tensor(14, device='cuda:0'),\n",
       " tensor(2, device='cuda:0'),\n",
       " tensor(2, device='cuda:0'),\n",
       " tensor(3, device='cuda:0'),\n",
       " tensor(5, device='cuda:0'),\n",
       " tensor(1, device='cuda:0'),\n",
       " tensor(12, device='cuda:0'),\n",
       " tensor(2, device='cuda:0'),\n",
       " tensor(3, device='cuda:0'),\n",
       " tensor(7, device='cuda:0'),\n",
       " tensor(9, device='cuda:0'),\n",
       " tensor(4, device='cuda:0'),\n",
       " tensor(7, device='cuda:0'),\n",
       " tensor(9, device='cuda:0'),\n",
       " tensor(0, device='cuda:0'),\n",
       " tensor(13, device='cuda:0'),\n",
       " tensor(12, device='cuda:0'),\n",
       " tensor(10, device='cuda:0'),\n",
       " tensor(4, device='cuda:0'),\n",
       " tensor(8, device='cuda:0'),\n",
       " tensor(12, device='cuda:0'),\n",
       " tensor(13, device='cuda:0'),\n",
       " tensor(4, device='cuda:0'),\n",
       " tensor(6, device='cuda:0'),\n",
       " tensor(3, device='cuda:0'),\n",
       " tensor(2, device='cuda:0'),\n",
       " tensor(15, device='cuda:0'),\n",
       " tensor(15, device='cuda:0'),\n",
       " tensor(8, device='cuda:0'),\n",
       " tensor(3, device='cuda:0'),\n",
       " tensor(4, device='cuda:0'),\n",
       " tensor(12, device='cuda:0'),\n",
       " tensor(13, device='cuda:0'),\n",
       " tensor(13, device='cuda:0'),\n",
       " tensor(5, device='cuda:0'),\n",
       " tensor(3, device='cuda:0'),\n",
       " tensor(8, device='cuda:0'),\n",
       " tensor(12, device='cuda:0'),\n",
       " tensor(10, device='cuda:0'),\n",
       " tensor(13, device='cuda:0'),\n",
       " tensor(16, device='cuda:0'),\n",
       " tensor(12, device='cuda:0'),\n",
       " tensor(10, device='cuda:0'),\n",
       " tensor(6, device='cuda:0'),\n",
       " tensor(1, device='cuda:0'),\n",
       " tensor(16, device='cuda:0'),\n",
       " tensor(8, device='cuda:0'),\n",
       " tensor(3, device='cuda:0'),\n",
       " tensor(3, device='cuda:0'),\n",
       " tensor(4, device='cuda:0'),\n",
       " tensor(15, device='cuda:0'),\n",
       " tensor(1, device='cuda:0'),\n",
       " tensor(14, device='cuda:0'),\n",
       " tensor(9, device='cuda:0'),\n",
       " tensor(11, device='cuda:0'),\n",
       " tensor(10, device='cuda:0'),\n",
       " tensor(4, device='cuda:0'),\n",
       " tensor(8, device='cuda:0'),\n",
       " tensor(10, device='cuda:0'),\n",
       " tensor(16, device='cuda:0'),\n",
       " tensor(9, device='cuda:0'),\n",
       " tensor(15, device='cuda:0'),\n",
       " tensor(15, device='cuda:0'),\n",
       " tensor(7, device='cuda:0'),\n",
       " tensor(12, device='cuda:0'),\n",
       " tensor(11, device='cuda:0'),\n",
       " tensor(0, device='cuda:0'),\n",
       " tensor(0, device='cuda:0'),\n",
       " tensor(10, device='cuda:0'),\n",
       " tensor(7, device='cuda:0'),\n",
       " tensor(2, device='cuda:0'),\n",
       " tensor(8, device='cuda:0'),\n",
       " tensor(11, device='cuda:0'),\n",
       " tensor(16, device='cuda:0'),\n",
       " tensor(16, device='cuda:0'),\n",
       " tensor(1, device='cuda:0'),\n",
       " tensor(3, device='cuda:0'),\n",
       " tensor(9, device='cuda:0'),\n",
       " tensor(15, device='cuda:0'),\n",
       " tensor(11, device='cuda:0'),\n",
       " tensor(5, device='cuda:0'),\n",
       " tensor(15, device='cuda:0'),\n",
       " tensor(2, device='cuda:0'),\n",
       " tensor(0, device='cuda:0'),\n",
       " tensor(10, device='cuda:0'),\n",
       " tensor(1, device='cuda:0'),\n",
       " tensor(15, device='cuda:0'),\n",
       " tensor(1, device='cuda:0'),\n",
       " tensor(8, device='cuda:0'),\n",
       " tensor(11, device='cuda:0'),\n",
       " tensor(16, device='cuda:0'),\n",
       " tensor(11, device='cuda:0'),\n",
       " tensor(9, device='cuda:0'),\n",
       " tensor(8, device='cuda:0'),\n",
       " tensor(4, device='cuda:0'),\n",
       " tensor(1, device='cuda:0'),\n",
       " tensor(12, device='cuda:0'),\n",
       " tensor(10, device='cuda:0'),\n",
       " tensor(9, device='cuda:0'),\n",
       " tensor(7, device='cuda:0'),\n",
       " tensor(12, device='cuda:0'),\n",
       " tensor(4, device='cuda:0'),\n",
       " tensor(2, device='cuda:0'),\n",
       " tensor(15, device='cuda:0'),\n",
       " tensor(12, device='cuda:0'),\n",
       " tensor(11, device='cuda:0'),\n",
       " tensor(12, device='cuda:0'),\n",
       " tensor(12, device='cuda:0'),\n",
       " tensor(13, device='cuda:0'),\n",
       " tensor(13, device='cuda:0'),\n",
       " tensor(16, device='cuda:0'),\n",
       " tensor(16, device='cuda:0'),\n",
       " tensor(5, device='cuda:0'),\n",
       " tensor(8, device='cuda:0'),\n",
       " tensor(1, device='cuda:0'),\n",
       " tensor(11, device='cuda:0'),\n",
       " tensor(9, device='cuda:0'),\n",
       " tensor(12, device='cuda:0'),\n",
       " tensor(6, device='cuda:0'),\n",
       " tensor(15, device='cuda:0'),\n",
       " tensor(4, device='cuda:0'),\n",
       " tensor(8, device='cuda:0'),\n",
       " tensor(9, device='cuda:0'),\n",
       " tensor(16, device='cuda:0'),\n",
       " tensor(12, device='cuda:0'),\n",
       " tensor(6, device='cuda:0'),\n",
       " tensor(14, device='cuda:0'),\n",
       " tensor(10, device='cuda:0'),\n",
       " tensor(11, device='cuda:0'),\n",
       " tensor(16, device='cuda:0'),\n",
       " tensor(0, device='cuda:0'),\n",
       " tensor(12, device='cuda:0'),\n",
       " tensor(14, device='cuda:0'),\n",
       " tensor(7, device='cuda:0'),\n",
       " tensor(11, device='cuda:0'),\n",
       " tensor(10, device='cuda:0'),\n",
       " tensor(3, device='cuda:0'),\n",
       " tensor(3, device='cuda:0'),\n",
       " tensor(9, device='cuda:0'),\n",
       " tensor(0, device='cuda:0'),\n",
       " tensor(5, device='cuda:0'),\n",
       " tensor(11, device='cuda:0'),\n",
       " tensor(3, device='cuda:0'),\n",
       " tensor(13, device='cuda:0'),\n",
       " tensor(8, device='cuda:0'),\n",
       " tensor(10, device='cuda:0'),\n",
       " tensor(0, device='cuda:0'),\n",
       " tensor(2, device='cuda:0'),\n",
       " tensor(2, device='cuda:0'),\n",
       " tensor(14, device='cuda:0'),\n",
       " tensor(7, device='cuda:0'),\n",
       " tensor(15, device='cuda:0'),\n",
       " tensor(9, device='cuda:0'),\n",
       " tensor(4, device='cuda:0'),\n",
       " tensor(4, device='cuda:0'),\n",
       " tensor(8, device='cuda:0'),\n",
       " tensor(9, device='cuda:0'),\n",
       " tensor(9, device='cuda:0'),\n",
       " tensor(15, device='cuda:0'),\n",
       " tensor(4, device='cuda:0'),\n",
       " tensor(3, device='cuda:0'),\n",
       " tensor(3, device='cuda:0'),\n",
       " tensor(2, device='cuda:0'),\n",
       " tensor(0, device='cuda:0'),\n",
       " tensor(7, device='cuda:0'),\n",
       " tensor(16, device='cuda:0'),\n",
       " tensor(11, device='cuda:0'),\n",
       " tensor(15, device='cuda:0'),\n",
       " tensor(6, device='cuda:0'),\n",
       " tensor(4, device='cuda:0'),\n",
       " tensor(2, device='cuda:0'),\n",
       " tensor(16, device='cuda:0'),\n",
       " tensor(2, device='cuda:0'),\n",
       " tensor(3, device='cuda:0'),\n",
       " tensor(0, device='cuda:0'),\n",
       " tensor(10, device='cuda:0'),\n",
       " tensor(8, device='cuda:0'),\n",
       " tensor(11, device='cuda:0'),\n",
       " tensor(10, device='cuda:0'),\n",
       " tensor(16, device='cuda:0'),\n",
       " tensor(5, device='cuda:0'),\n",
       " tensor(12, device='cuda:0'),\n",
       " tensor(0, device='cuda:0'),\n",
       " tensor(6, device='cuda:0'),\n",
       " tensor(9, device='cuda:0'),\n",
       " tensor(5, device='cuda:0'),\n",
       " tensor(15, device='cuda:0'),\n",
       " tensor(16, device='cuda:0'),\n",
       " tensor(10, device='cuda:0'),\n",
       " tensor(13, device='cuda:0'),\n",
       " tensor(16, device='cuda:0'),\n",
       " tensor(11, device='cuda:0'),\n",
       " tensor(3, device='cuda:0'),\n",
       " tensor(13, device='cuda:0'),\n",
       " tensor(10, device='cuda:0'),\n",
       " tensor(9, device='cuda:0'),\n",
       " tensor(4, device='cuda:0'),\n",
       " tensor(6, device='cuda:0'),\n",
       " tensor(14, device='cuda:0'),\n",
       " tensor(0, device='cuda:0'),\n",
       " tensor(9, device='cuda:0'),\n",
       " tensor(3, device='cuda:0'),\n",
       " tensor(15, device='cuda:0'),\n",
       " tensor(1, device='cuda:0'),\n",
       " ...]"
      ]
     },
     "execution_count": 10,
     "metadata": {},
     "output_type": "execute_result"
    }
   ],
   "source": [
    "all_preds"
   ]
  },
  {
   "cell_type": "code",
   "execution_count": 11,
   "metadata": {},
   "outputs": [
    {
     "data": {
      "text/html": [
       "<div>\n",
       "<style scoped>\n",
       "    .dataframe tbody tr th:only-of-type {\n",
       "        vertical-align: middle;\n",
       "    }\n",
       "\n",
       "    .dataframe tbody tr th {\n",
       "        vertical-align: top;\n",
       "    }\n",
       "\n",
       "    .dataframe thead th {\n",
       "        text-align: right;\n",
       "    }\n",
       "</style>\n",
       "<table border=\"1\" class=\"dataframe\">\n",
       "  <thead>\n",
       "    <tr style=\"text-align: right;\">\n",
       "      <th></th>\n",
       "      <th>ID</th>\n",
       "      <th>target</th>\n",
       "    </tr>\n",
       "  </thead>\n",
       "  <tbody>\n",
       "    <tr>\n",
       "      <th>0</th>\n",
       "      <td>0008fdb22ddce0ce.jpg</td>\n",
       "      <td>0</td>\n",
       "    </tr>\n",
       "    <tr>\n",
       "      <th>1</th>\n",
       "      <td>00091bffdffd83de.jpg</td>\n",
       "      <td>0</td>\n",
       "    </tr>\n",
       "    <tr>\n",
       "      <th>2</th>\n",
       "      <td>00396fbc1f6cc21d.jpg</td>\n",
       "      <td>0</td>\n",
       "    </tr>\n",
       "    <tr>\n",
       "      <th>3</th>\n",
       "      <td>00471f8038d9c4b6.jpg</td>\n",
       "      <td>0</td>\n",
       "    </tr>\n",
       "    <tr>\n",
       "      <th>4</th>\n",
       "      <td>00901f504008d884.jpg</td>\n",
       "      <td>0</td>\n",
       "    </tr>\n",
       "    <tr>\n",
       "      <th>...</th>\n",
       "      <td>...</td>\n",
       "      <td>...</td>\n",
       "    </tr>\n",
       "    <tr>\n",
       "      <th>3135</th>\n",
       "      <td>ffb4b6f619fb60ea.jpg</td>\n",
       "      <td>0</td>\n",
       "    </tr>\n",
       "    <tr>\n",
       "      <th>3136</th>\n",
       "      <td>ffb54299b1ad4159.jpg</td>\n",
       "      <td>0</td>\n",
       "    </tr>\n",
       "    <tr>\n",
       "      <th>3137</th>\n",
       "      <td>ffc2c91dff8cf2c0.jpg</td>\n",
       "      <td>0</td>\n",
       "    </tr>\n",
       "    <tr>\n",
       "      <th>3138</th>\n",
       "      <td>ffc4e330a5353a2a.jpg</td>\n",
       "      <td>0</td>\n",
       "    </tr>\n",
       "    <tr>\n",
       "      <th>3139</th>\n",
       "      <td>ffc71fed753d90c1.jpg</td>\n",
       "      <td>0</td>\n",
       "    </tr>\n",
       "  </tbody>\n",
       "</table>\n",
       "<p>3140 rows × 2 columns</p>\n",
       "</div>"
      ],
      "text/plain": [
       "                        ID  target\n",
       "0     0008fdb22ddce0ce.jpg       0\n",
       "1     00091bffdffd83de.jpg       0\n",
       "2     00396fbc1f6cc21d.jpg       0\n",
       "3     00471f8038d9c4b6.jpg       0\n",
       "4     00901f504008d884.jpg       0\n",
       "...                    ...     ...\n",
       "3135  ffb4b6f619fb60ea.jpg       0\n",
       "3136  ffb54299b1ad4159.jpg       0\n",
       "3137  ffc2c91dff8cf2c0.jpg       0\n",
       "3138  ffc4e330a5353a2a.jpg       0\n",
       "3139  ffc71fed753d90c1.jpg       0\n",
       "\n",
       "[3140 rows x 2 columns]"
      ]
     },
     "execution_count": 11,
     "metadata": {},
     "output_type": "execute_result"
    }
   ],
   "source": [
    "sub_df = pd.read_csv('/data/ephemeral/home/data/sample_submission.csv')\n",
    "sub_df"
   ]
  },
  {
   "cell_type": "code",
   "execution_count": 12,
   "metadata": {},
   "outputs": [],
   "source": [
    "for i in range(3140):\n",
    "    sub_df.iloc[i, 1] = int(all_preds[i].cpu())"
   ]
  },
  {
   "cell_type": "code",
   "execution_count": 13,
   "metadata": {},
   "outputs": [
    {
     "data": {
      "text/plain": [
       "[199,\n",
       " 84,\n",
       " 200,\n",
       " 253,\n",
       " 177,\n",
       " 198,\n",
       " 175,\n",
       " 157,\n",
       " 201,\n",
       " 199,\n",
       " 208,\n",
       " 197,\n",
       " 226,\n",
       " 154,\n",
       " 107,\n",
       " 205,\n",
       " 200]"
      ]
     },
     "execution_count": 13,
     "metadata": {},
     "output_type": "execute_result"
    }
   ],
   "source": [
    "cnt_list = []\n",
    "for i in range(17):\n",
    "    cnt_list.append(sub_df[sub_df['target']==i].shape[0])\n",
    "\n",
    "cnt_list"
   ]
  },
  {
   "cell_type": "code",
   "execution_count": 14,
   "metadata": {},
   "outputs": [],
   "source": [
    "sub_df.to_csv('/data/ephemeral/home/preds/v10_preds.csv', index=False)"
   ]
  }
 ],
 "metadata": {
  "kernelspec": {
   "display_name": "base",
   "language": "python",
   "name": "python3"
  },
  "language_info": {
   "codemirror_mode": {
    "name": "ipython",
    "version": 3
   },
   "file_extension": ".py",
   "mimetype": "text/x-python",
   "name": "python",
   "nbconvert_exporter": "python",
   "pygments_lexer": "ipython3",
   "version": "3.10.13"
  }
 },
 "nbformat": 4,
 "nbformat_minor": 2
}
